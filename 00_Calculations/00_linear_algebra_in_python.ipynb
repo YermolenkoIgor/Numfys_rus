{
 "cells": [
  {
   "cell_type": "markdown",
   "metadata": {},
   "source": [
    "<style>\n",
    "@import url(https://www.numfys.net/static/css/nbstyle.css);\n",
    "</style>\n",
    "<a href=\"https://www.numfys.net\"><img class=\"logo\" /></a>\n",
    "\n",
    "# Линейная алгебра в Python\n",
    "\n",
    "### Modules - Basics\n",
    "<section class=\"post-meta\">\n",
    "By Henning G. Hugdal, Håkon W. Ånes and Jon Andreas Støvneng\n",
    "</section>\n",
    "Last edited: February 7th 2018 \n",
    "___"
   ]
  },
  {
   "cell_type": "markdown",
   "metadata": {},
   "source": [
    "Несмотря на то, что матричные операции могут быть не так естественно встроены в Python, как, например, в MATLAB, Python можно использовать для решения задач линейной алгебры. В дополнение к функциям в базовой библиотеке `numpy`, `numpy` также имеет свой собственный пакет линейной алгебры под названием `linalg`. В этом модуле мы рассмотрим, как `numpy` и `linalg` можно использовать для обработки матриц. Прежде всего, нам нужно импортировать `numpy` и `linalg`:"
   ]
  },
  {
   "cell_type": "code",
   "execution_count": 1,
   "metadata": {},
   "outputs": [],
   "source": [
    "import numpy as np\n",
    "import numpy.linalg as la"
   ]
  },
  {
   "cell_type": "markdown",
   "metadata": {},
   "source": [
    "### Основные операции\n",
    "\n",
    "Давайте сначала определим две матрицы $A$ и $B$ с помощью массивов `numpy`:"
   ]
  },
  {
   "cell_type": "code",
   "execution_count": 2,
   "metadata": {},
   "outputs": [],
   "source": [
    "A = np.array([[1, 2],\n",
    "              [1, 2]])\n",
    "B = np.array([[2, 1],\n",
    "             [1, 2]])"
   ]
  },
  {
   "cell_type": "markdown",
   "metadata": {},
   "source": [
    "Чтобы выполнить матричное умножение $A$ и $B$, мы используем функцию `numpy` `inner(A, B)`:"
   ]
  },
  {
   "cell_type": "code",
   "execution_count": 3,
   "metadata": {},
   "outputs": [
    {
     "name": "stdout",
     "output_type": "stream",
     "text": [
      "[[4 5]\n",
      " [4 5]]\n"
     ]
    }
   ],
   "source": [
    "print(np.inner(A, B))"
   ]
  },
  {
   "cell_type": "markdown",
   "metadata": {},
   "source": [
    "Степени матрицы могут быть вычислены с помощью `linalg.matrix_powers(A,n)`, где $n$ - целочисленная степень."
   ]
  },
  {
   "cell_type": "code",
   "execution_count": 4,
   "metadata": {},
   "outputs": [
    {
     "name": "stdout",
     "output_type": "stream",
     "text": [
      "[[3 6]\n",
      " [3 6]]\n"
     ]
    }
   ],
   "source": [
    "print(la.matrix_power(A, 2))"
   ]
  },
  {
   "cell_type": "markdown",
   "metadata": {},
   "source": [
    "### Решение линейных систем уравнений\n",
    "\n",
    "Линейные системы уравнений $A\\vec{x}=b$ могут быть решены с помощью функции `linalg.solve(A,b)`, которая возвращает вектор $\\vec{x}$. В качестве примера давайте решим систему уравнений\n",
    "$$\\begin{align}\n",
    "2x + y - z &= 8\\\\\n",
    "-3x - y + 2z &= -11\\\\\n",
    "-2x + y + 2z &= -3,\n",
    "\\end{align}$$"
   ]
  },
  {
   "cell_type": "code",
   "execution_count": 5,
   "metadata": {},
   "outputs": [
    {
     "name": "stdout",
     "output_type": "stream",
     "text": [
      "[ 2.  3. -1.]\n"
     ]
    }
   ],
   "source": [
    "A = np.array([[2, 1, -1],\n",
    "             [-3, -1, 2],\n",
    "             [-2, 1, 2]])\n",
    "b = np.array([8, -11, -3])\n",
    "\n",
    "x = la.solve(A, b)\n",
    "print(x)"
   ]
  },
  {
   "cell_type": "markdown",
   "metadata": {},
   "source": [
    "Мы видим, что решение $x=2$, $y=3$ и $z=-1$. Мы также могли бы решить СЛАУ, вычислив обратную величину $A$ и умножив ее на $b$. Обратная величина $A$ может быть вычислена с помощью `linalg.inv(A)`."
   ]
  },
  {
   "cell_type": "code",
   "execution_count": 6,
   "metadata": {},
   "outputs": [
    {
     "name": "stdout",
     "output_type": "stream",
     "text": [
      "[ 2.  3. -1.]\n"
     ]
    }
   ],
   "source": [
    "A_inv = la.inv(A)\n",
    "x = np.inner(A_inv, b)\n",
    "print(x)"
   ]
  },
  {
   "cell_type": "markdown",
   "metadata": {},
   "source": [
    "Совпало!"
   ]
  },
  {
   "cell_type": "markdown",
   "metadata": {},
   "source": [
    "### Задачи на собственные значения"
   ]
  },
  {
   "cell_type": "markdown",
   "metadata": {},
   "source": [
    "Пакет `linalg` также может быть использован для поиска собственных значений и собственных векторов матрицы, то есть вектора $\\vec{x}$ матрицы $A$, который удовлетворяет соотношению\n",
    "$$ A\\vec{x} = a \\vec{x},$$\n",
    "где $a$ - константа. Давайте определим собственные значения и собственные векторы матрицы $B$, определенной выше."
   ]
  },
  {
   "cell_type": "code",
   "execution_count": 7,
   "metadata": {},
   "outputs": [
    {
     "name": "stdout",
     "output_type": "stream",
     "text": [
      "Eigenvalues:\n",
      " [3. 1.]\n",
      "Eigenvectors:\n",
      "[0.70710678 0.70710678]\n",
      "[-0.70710678  0.70710678]\n"
     ]
    }
   ],
   "source": [
    "(a, x) = la.eig(B)\n",
    "print(\"Eigenvalues:\\n\", a)\n",
    "print(\"Eigenvectors:\")\n",
    "for i in range(len(x)):\n",
    "    print(x[:, i])"
   ]
  },
  {
   "cell_type": "markdown",
   "metadata": {},
   "source": [
    "Из вышесказанного мы видим, что $B$ имеет собственные значения $3$ и $1$ с собственными векторами $[1, 1]/\\sqrt{2}$ и $[-1,1]/\\sqrt{2}$ соответственно. Функция `eig` возвращает массив $a$ собственных значений и массив $x$ с нормализованными собственными векторами, так что вектор `x[:,i]` соответствует собственному значению `a[i]`."
   ]
  },
  {
   "cell_type": "markdown",
   "metadata": {},
   "source": [
    "Выше приведены лишь некоторые из различных функций, доступных в библиотеках `numpy` и `linalg`. Для получения дополнительной информации см. cсылку на документацию ниже."
   ]
  },
  {
   "cell_type": "markdown",
   "metadata": {},
   "source": [
    "### References\n",
    "[1] [Documentation](http://docs.scipy.org/doc/numpy/reference/routines.linalg.html) of the Numpy Linear Algebra package."
   ]
  }
 ],
 "metadata": {
  "kernelspec": {
   "display_name": "Python 3",
   "language": "python",
   "name": "python3"
  },
  "language_info": {
   "codemirror_mode": {
    "name": "ipython",
    "version": 3
   },
   "file_extension": ".py",
   "mimetype": "text/x-python",
   "name": "python",
   "nbconvert_exporter": "python",
   "pygments_lexer": "ipython3",
   "version": "3.7.4"
  }
 },
 "nbformat": 4,
 "nbformat_minor": 1
}
