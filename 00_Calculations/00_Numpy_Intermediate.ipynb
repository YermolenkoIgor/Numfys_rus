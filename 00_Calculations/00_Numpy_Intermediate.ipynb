{
 "cells": [
  {
   "cell_type": "markdown",
   "metadata": {},
   "source": [
    "<style>\n",
    "@import url(https://www.numfys.net/static/css/nbstyle.css);\n",
    "</style>\n",
    "<a href=\"https://www.numfys.net\"><img class=\"logo\" /></a>\n",
    "\n",
    "# Intermediate NumPy\n",
    "\n",
    "### Modules - Basics\n",
    "<section class=\"post-meta\">\n",
    "By Thorvald Ballestad, Niels Henrik Aase, Eilif Sommer Øyre and Jon Andreas Støvneng\n",
    "</section>\n",
    "Last edited: November 21th 2019\n",
    "\n",
    "---"
   ]
  },
  {
   "cell_type": "markdown",
   "metadata": {},
   "source": [
    "В этом блокноте мы рассмотрим некоторые из наиболее распространенных функций NumPy.\n",
    "Он задуман как продолжение основ NumPy ([ссылка](https://nbviewer.jupyter.org/urls/www.numfys.net/media/notebooks/introduction_to_numpy.ipynb)).\n",
    "Тетрадь довольно длинная.\n",
    "Различные разделы предназначены для самостоятельного чтения, поэтому не стесняйтесь переходить к разделу, который вас интересует."
   ]
  },
  {
   "cell_type": "code",
   "execution_count": null,
   "metadata": {},
   "outputs": [],
   "source": [
    "import numpy as np\n",
    "import matplotlib.pyplot as plt"
   ]
  },
  {
   "cell_type": "markdown",
   "metadata": {},
   "source": [
    "## Содержание\n",
    "\n",
    "- [Массивы различных форм](#Arrays-of-different-shapes)\n",
    "- [Нарезка и индексирование](#Slicing-and-indexing)\n",
    "- [Мешгрид](#Meshgrid)\n",
    "- [Комплексные числа](#Complex-numbers)\n",
    "- [Чтение и запись в файл](#Reading-and-writing-to-file)\n",
    "- [Полезные функции NumPy](#Useful-NumPy-functions-and-examples-of-usage)"
   ]
  },
  {
   "cell_type": "markdown",
   "metadata": {},
   "source": [
    "## Arrays of different shapes\n",
    "Массивы могут иметь любые размеры и форму, которые мы пожелаем. \n",
    "Давайте преобразуем\n",
    "$$\n",
    "(0, 1, 2, 3, 4, 5, 6, 7, 8)\n",
    "$$\n",
    "в\n",
    "$$\n",
    "\\begin{bmatrix}\n",
    "0 & 1 & 2\\\\\n",
    "3 & 4 & 5\\\\\n",
    "6 & 7 & 8\n",
    "\\end{bmatrix}.\n",
    "$$"
   ]
  },
  {
   "cell_type": "code",
   "execution_count": null,
   "metadata": {},
   "outputs": [],
   "source": [
    "# Создаем матрицу 3x3\n",
    "\n",
    "A = np.arange(9)  # Точки от 0 до 8, с интервалом 1\n",
    "print(\"A before reshape:\", A)\n",
    "A = A.reshape((3,3))  # Установливаем форму 3x3\n",
    "print(\"A after reshape:\")\n",
    "print(A)"
   ]
  },
  {
   "cell_type": "code",
   "execution_count": null,
   "metadata": {},
   "outputs": [],
   "source": [
    "# Мы также можем получить пустой массив с заданным размером с помощью np.zeros\n",
    "np.zeros((4, 2))"
   ]
  },
  {
   "cell_type": "markdown",
   "metadata": {},
   "source": [
    "Двумерные массивы можно использовать так же, как матрицы, что позволяет легко выражать наши математические выражения в коде. В NumPy символом для умножения матриц или векторов является @."
   ]
  },
  {
   "cell_type": "code",
   "execution_count": null,
   "metadata": {},
   "outputs": [],
   "source": [
    "x = np.array([0, 1, 2])\n",
    "print(A @ x)  # Print the result of A matrix multiplied with x"
   ]
  },
  {
   "cell_type": "markdown",
   "metadata": {},
   "source": [
    "Подробнее о линейной алгебре в NumPy читайте [блокнот](https://nbviewer.jupyter.org/urls/www.numfys.net/media/notebooks/linear_algebra_in_python.ipynb), который охватывает решение системы уравнений, задачи на собственные значения и многое другое.\n",
    "\n",
    "Наличие массивов в форме матрицы становится особенно полезным, как только мы научимся нарезке.\n",
    "\n",
    "## Slicing and indexing\n",
    "Когда у нас есть массивы, будь то одномерные или многомерные, полезно иметь возможность получать группы элементов, точно так же, как мы это делаем с индексацией в обычных списках.\n",
    "\n",
    "Давайте сначала рассмотрим обычные списки.\n",
    "Помните, что списки индексируются с 0."
   ]
  },
  {
   "cell_type": "code",
   "execution_count": null,
   "metadata": {},
   "outputs": [],
   "source": [
    "my_list = [1,2,3,4]  # Обычный список Python\n",
    "\n",
    "# Мы можем получить доступ к различным частям списка путем нарезки и индексирования:\n",
    "print(\"my_list[0]:\\t\", my_list[0])     # Первый элемент\n",
    "print(\"my_list[:2]:\\t\", my_list[:2])   # Два первых элемента\n",
    "print(\"my_list[-2:]:\\t\", my_list[-2:]) # Последние два элемента"
   ]
  },
  {
   "cell_type": "markdown",
   "metadata": {},
   "source": [
    "В общем случае синтаксис для нарезки списков выглядит как `my_list[start:end:step]`, где `start` - это первый элемент, который нам нужен, `end` - последний элемент (не включая), а `step` - размер шага.\n",
    "Обратите внимание, что если `начало` или `конец` пусты, они будут нарезаться от начала или до конца соответственно.\n",
    "Отрицательные значения отсчитываются с конца, так что -1 является последним элементом.\n",
    "\n",
    "Если вы совершенно не знакомы с подобным, вам рекомендуется поиграть с этим сейчас, прежде чем переходить к нарезке массива.\n",
    "\n",
    "Мы можем сделать то же самое с массивами, но у массивов есть еще больше способов нарезки!\n",
    "\n",
    "Синтаксис для нарезки в NumPy точно такой же, как и для списков, но мы можем сделать это для каждого измерения!\n",
    "Для двумерного массива синтаксис становится `my_array[start_1:end_1, start_2:end_2]`, где `start_1` и `end_1` - начальные и конечные значения для первой оси, и аналогично с `start_2` и `end_2` для второй оси.\n",
    "\n",
    "Давайте еще раз рассмотрим матрицу \n",
    "$$\n",
    "A = \n",
    "\\begin{bmatrix}\n",
    "0 & 1 & 2\\\\\n",
    "3 & 4 & 5\\\\\n",
    "6 & 7 & 8\n",
    "\\end{bmatrix}\n",
    "$$\n",
    "представленную в виде массива."
   ]
  },
  {
   "cell_type": "code",
   "execution_count": null,
   "metadata": {},
   "outputs": [],
   "source": [
    "# Формирует массив\n",
    "# A = [0, 1, 2]\n",
    "#     [3, 4, 5]\n",
    "#     [6, 7, 8]\n",
    "A = np.arange(9).reshape((3,3))"
   ]
  },
  {
   "cell_type": "code",
   "execution_count": null,
   "metadata": {},
   "outputs": [],
   "source": [
    "# Давайте обратимся к некоторым элементам\n",
    "\n",
    "# A_00, первая строка, первый столбец (помните индексация начинается с 0, в математической нотации будет A_11)\n",
    "print(\"A_00:\", A[0,0])\n",
    "\n",
    "# A_02, первая строка, третий столбец\n",
    "print(\"A_02:\", A[0,2])\n",
    "\n",
    "# A_21, третья строка, последний второй столбец\n",
    "print(\"A_21:\", A[2,1])"
   ]
  },
  {
   "cell_type": "code",
   "execution_count": null,
   "metadata": {},
   "outputs": [],
   "source": [
    "# Мы можем пойти еще дальше и получить целые столбцы и строки\n",
    "\n",
    "# Первый ряд А\n",
    "print(\"First row:\", A[0])\n",
    "\n",
    "# Первая колонка А\n",
    "print(\"First column:\", A[:,0])"
   ]
  },
  {
   "cell_type": "markdown",
   "metadata": {},
   "source": [
    "Как вы помните `:` означает все элементы, так как и `start`, и `end` не заданы.\n",
    "Например, `my_list[:]` просто дает нам `my_list`.\n",
    "В `A[:, 0]` мы имеем в виду \"все строки нулевого столбца\".\n",
    "Основываясь на этой нотации, мы помним, что `my_list[1:]` дает нам весь список, начиная со второго элемента.\n",
    "Мы можем использовать это в массивах, чтобы получить части столбца или строки."
   ]
  },
  {
   "cell_type": "code",
   "execution_count": null,
   "metadata": {},
   "outputs": [],
   "source": [
    "# Первый столбец A, начиная со второго элемента в столбце\n",
    "print(\"A[1:, 0]:\", A[1:, 0])\n",
    "\n",
    "# Конечно, мы можем получить и другие столбцы\n",
    "print(\"A[1:, 2]:\", A[1:, 2])"
   ]
  },
  {
   "cell_type": "markdown",
   "metadata": {},
   "source": [
    "Попробуйте разобраться, почему следующая строка дает нам тот результат, который она дает:"
   ]
  },
  {
   "cell_type": "code",
   "execution_count": null,
   "metadata": {},
   "outputs": [],
   "source": [
    "print(\"A[1:, 1:]:\")\n",
    "print(A[1:, 1:])"
   ]
  },
  {
   "cell_type": "markdown",
   "metadata": {},
   "source": [
    "## Meshgrid\n",
    "\n",
    "Поначалу Meshgrid может показаться запутанным, но он очень полезен.\n",
    "Прежде чем объяснить, что такое сетка, давайте объясним, зачем они нам нужны.\n",
    "Представьте, что вы должны построить тепловую карту, то есть 2D-график, где каждой точке на плоскости задается цвет, зависящий от значения функции, которую вы строите.\n",
    "Напомним, что при построении графика в \"matplotlib\", о котором вы можете прочитать подробнее [здесь](https://nbviewer.jupyter.org/urls/www.numfys.net/media/notebooks/basic_plotting.ipynb), нужно предоставить два списка, один с $x$-значениями и один с $y$-значениями.\n",
    "Это дает набор точек, в которых будет строиться функция.\n",
    "\n",
    "При построении графика на плоскости требуется три списка значений, координаты $x$ и $y$ и значения функций в каждой точке.\n",
    "Для каждого значения $x$ мы хотим перебрать все значения $y$, чтобы охватить каждую точку.\n",
    "Однако, если мы просто передадим наши массивы $x$- и $y$-напрямую, мы получим только одну точку для каждого значения $x$, а также для значений $y$.\n",
    "Вот тут-то и вступает в игру \"мешгрид\".\n",
    "Для двумерного случая это даст нам два массива, где каждое значение повторяется таким образом, что два списка образуют сетку.\n",
    "Это лучше продемонстрировать на примере."
   ]
  },
  {
   "cell_type": "code",
   "execution_count": null,
   "metadata": {},
   "outputs": [],
   "source": [
    "x = np.arange(0, 5)\n",
    "y = np.arange(2, 5)\n",
    "\n",
    "xx, yy = np.meshgrid(x, y)\n",
    "print('x =',x, ', y =', y, '\\n')\n",
    "print(xx, '\\n')\n",
    "print(yy)"
   ]
  },
  {
   "cell_type": "markdown",
   "metadata": {},
   "source": [
    "Обратите внимание, что если бы вы извлекли соответствующие элементы в `xx` и `yy`, то есть элементы с одинаковым положением в матрицах, вы получили бы пары значений $x$ и $y$. Таким образом, мы присвоили координаты каждой точке, как и хотели! Также стоит отметить, что `xx` и `yy` имеют одинаковую форму.\n",
    "Теперь мы можем построить график нашего результата."
   ]
  },
  {
   "cell_type": "code",
   "execution_count": null,
   "metadata": {},
   "outputs": [],
   "source": [
    "plt.pcolormesh(xx, yy, xx + yy)  # pcolormesh строит тепловую карту\n",
    "plt.show()"
   ]
  },
  {
   "cell_type": "markdown",
   "metadata": {},
   "source": [
    "**Соображения о скорости вычислений**:\n",
    "\n",
    "Мешгрид полезен не только для построения графиков.\n",
    "Это позволяет нам очень легко вычислять значения по нескольким значениям.\n",
    "Помните, что с помощью NumPy мы можем вычислить значение по массиву, просто передав массив в функцию.\n",
    "Это поможет избежать использование вложенных циклов `for`, что значительно ускоряет наши вычисления и облегчает написание и чтение кода."
   ]
  },
  {
   "cell_type": "markdown",
   "metadata": {},
   "source": [
    "Mehsgrid полезны для всех функций, которые являются функциями двух переменных. В качестве примера мы рассмотрим установившуюся амплитуду затухающего гармонического осциллятора известную в классической механике:\n",
    "$$\n",
    "\\Theta_0(q, \\omega_D) = \\frac{F_D}{(\\omega_0^2 + \\omega_D^2)^2 + (q\\omega_D)^2},\n",
    "$$\n",
    "где $F_D$ является движущей силой, $\\omega_0$ это собственная частота осциллятора, $q$ - коэффициент затухания, а $\\omega_D$ - частота возбуждения.\n",
    "\n",
    "Мы хотим посмотреть на эту амплитуду для разных $q$ и $\\omega_D$."
   ]
  },
  {
   "cell_type": "code",
   "execution_count": null,
   "metadata": {},
   "outputs": [],
   "source": [
    "def amplitude(omega, omega_drive, q):\n",
    "    \"\"\"Амплитуда управляемого гармонического осциллятора\n",
    "    с собственной частотой omega, внешней силой с\n",
    "частотой, заданной omega_drive, и демпфированой\n",
    "    постоянной q. Здесь движущая сила F_D равна 1.\"\"\"\n",
    "    \n",
    "    return 1/np.sqrt((omega**2-omega_drive**2)**2 + (q*omega_drive)**2)\n",
    "\n",
    "omega = 1\n",
    "q = np.linspace(0.5, 1.5, 20)\n",
    "omega_D = omega * np.linspace(0.5, 1.5, 40)\n",
    "\n",
    "qq, omega_DD = np.meshgrid(q, omega_D)"
   ]
  },
  {
   "cell_type": "code",
   "execution_count": null,
   "metadata": {},
   "outputs": [],
   "source": [
    "# Вычисляем амплитуду для каждого omega_D и q\n",
    "a = amplitude(omega, omega_DD, qq)\n",
    "# Если X и/или Y являются 1-D массивами, они будут расширены \n",
    "# по мере необходимости в соответствующие 2-D массивы.\n",
    "# Т. е. в этом случае нет необходимости в np.meshgrid.\n",
    "plt.pcolormesh(omega_D, q, a.T)  # a.T возвращает транспонированную а\n",
    "plt.colorbar(label='Amplitude')\n",
    "plt.ylabel(\"q\")\n",
    "plt.xlabel(\"$\\omega_D$\")\n",
    "plt.show()"
   ]
  },
  {
   "cell_type": "markdown",
   "metadata": {},
   "source": [
    "Теперь мы рассмотрим время расчета.\n",
    "Для этого мы будем использовать функцию Jupyter `%timeit`.\n",
    "Он вычисляет время, необходимое для выполнения команды или ячейки.\n",
    "Строки с префиксом `%timeit` будут синхронизированы сами по себе.\n",
    "`%%timeit` выдает время для всей ячейки."
   ]
  },
  {
   "cell_type": "code",
   "execution_count": null,
   "metadata": {},
   "outputs": [],
   "source": [
    "%timeit a = amplitude(omega, omega_DD, qq)"
   ]
  },
  {
   "cell_type": "code",
   "execution_count": null,
   "metadata": {},
   "outputs": [],
   "source": [
    "%%timeit\n",
    "# Эквивалентная калькуляция с использованием циклов for.\n",
    "a_python = []\n",
    "for oD in omega_D:\n",
    "    for q_val in q:\n",
    "        a_python.append(amplitude(omega, oD, q_val))"
   ]
  },
  {
   "cell_type": "markdown",
   "metadata": {},
   "source": [
    "При времени вычислений 9,0$\\mu$s и 2,2 мс очевидно, что разница во времени вычислений существенна!\n",
    "Скорость вычислений будет иметь большое значение по мере увеличения размера данных."
   ]
  },
  {
   "cell_type": "code",
   "execution_count": null,
   "metadata": {},
   "outputs": [],
   "source": [
    "# Greatly increase the number of points from previous example!\n",
    "omega = 1\n",
    "q = np.linspace(0.5, 1.5, 1000)\n",
    "omega_D = omega * np.linspace(0.5, 1.5, 2000)\n",
    "\n",
    "qq, omega_DD = np.meshgrid(q, omega_D)\n",
    "%timeit a = amplitude(omega, omega_DD, qq)"
   ]
  },
  {
   "cell_type": "code",
   "execution_count": null,
   "metadata": {},
   "outputs": [],
   "source": [
    "%%timeit\n",
    "a_python = []\n",
    "for oD in omega_D:\n",
    "    for q_val in q:\n",
    "        a_python.append(amplitude(omega, oD, q_val))"
   ]
  },
  {
   "cell_type": "markdown",
   "metadata": {},
   "source": [
    "Для любопытного читателя мы упомянем, что это также могло быть достигнуто с помощью функции вещания NumPy.\n",
    "Это более прямой метод, но менее интуитивный."
   ]
  },
  {
   "cell_type": "markdown",
   "metadata": {},
   "source": [
    "## Complex numbers\n",
    "\n",
    "NumPy имеет встроенную поддержку комплексных чисел.\n",
    "Они интуитивно понятны в работе и позволяют легко вводить математику в код.\n",
    "\n",
    "NumPy использует `j` в мкачестве мнимой единицы.\n",
    "Давайте посмотрим на это в действии."
   ]
  },
  {
   "cell_type": "code",
   "execution_count": null,
   "metadata": {},
   "outputs": [],
   "source": [
    "print(1j**2)  # Должно дать -1"
   ]
  },
  {
   "cell_type": "markdown",
   "metadata": {},
   "source": [
    "Чтобы NumPy понял, что мы хотим работать с комплексными числами, мы должны явно задать мнимую часть, даже если она равна нулю."
   ]
  },
  {
   "cell_type": "code",
   "execution_count": null,
   "metadata": {},
   "outputs": [],
   "source": [
    "# Fails\n",
    "print(np.sqrt(-1))\n",
    "\n",
    "# Works\n",
    "print(np.sqrt(-1+0j))"
   ]
  },
  {
   "cell_type": "code",
   "execution_count": null,
   "metadata": {},
   "outputs": [],
   "source": [
    "# Массив с мнимыми числами от 0 до 2pi j\n",
    "a = np.linspace(0+0j, 2*np.pi*1j, 50)"
   ]
  },
  {
   "cell_type": "code",
   "execution_count": null,
   "metadata": {},
   "outputs": [],
   "source": [
    "plt.plot(np.abs(a), np.real(np.exp(a)), label=r'Re$[e^{ia}]$')  # Plot real value of np.exp(a)\n",
    "plt.plot(np.abs(a), np.imag(np.exp(a)), label=r'Im$[e^{ia}]$')  # Plot imaginary value of np.exp(a)\n",
    "plt.legend()\n",
    "plt.xlabel('$a$')\n",
    "plt.show()"
   ]
  },
  {
   "cell_type": "markdown",
   "metadata": {},
   "source": [
    "Мы наблюдаем разность фаз $90^{\\circ}$ между действительной и мнимой частью, как и ожидалось."
   ]
  },
  {
   "cell_type": "markdown",
   "metadata": {},
   "source": [
    "## Reading and writing to file\n",
    "\n",
    "Использование только встроенных функций Python для чтения и записи в файлы может быть утомительным.\n",
    "NumPy имеет функции, разработанные специально для чтения и записи структурированных данных, `np.loadtxt` и `np.savetxt`.\n",
    "Функции очень мощные и имеют множество опций.\n",
    "Здесь мы сосредоточимся на базовом использовании и отсылаем читателя к документации NumPy для более углубленного использования.\n",
    "\n",
    "Файл данных, используемый в этом примере, можно найти [здесь](https://numfys.net/media/notebooks/files/intermediate_numpy_my_data.txt).\n",
    "\n",
    "`loadtxt` прочитает данные в файле, преобразует их в соответствующий тип данных и сохранит в массиве NumPy.\n",
    "Давайте посмотрим на это в действии."
   ]
  },
  {
   "cell_type": "code",
   "execution_count": null,
   "metadata": {},
   "outputs": [],
   "source": [
    "# From the header line in my_data.txt,\n",
    "# we know that the file is in the format\n",
    "# time  temperature  wind\n",
    "data = np.loadtxt('images/my_data.txt')\n",
    "print(data)"
   ]
  },
  {
   "cell_type": "markdown",
   "metadata": {},
   "source": [
    "Обратите внимание, что каждая строка в нашем массиве соответствует времени.\n",
    "Часто было бы удобнее иметь каждый ряд данных в своем собственном массиве, например, если бы мы хотели изобразить наши данные на графике.\n",
    "Мы могли бы достичь этого с помощью нарезки NumPy, но у `loadtxt` есть более прямой способ сделать это."
   ]
  },
  {
   "cell_type": "code",
   "execution_count": null,
   "metadata": {},
   "outputs": [],
   "source": [
    "t, temperature, wind = np.loadtxt('images/my_data.txt', unpack=True)"
   ]
  },
  {
   "cell_type": "markdown",
   "metadata": {},
   "source": [
    "`unpack=True` транспонирует наши данные так, чтобы каждая строка представляла одно поле, в данном примере время, температуру и скорость ветра.\n",
    "Таким образом, мы можем легко считать данные в наши переменные `t`, `temperature`, и `wind`."
   ]
  },
  {
   "cell_type": "code",
   "execution_count": null,
   "metadata": {},
   "outputs": [],
   "source": [
    "plt.plot(t, temperature, 'o-', label=\"Temperature\")\n",
    "plt.plot(t, wind, 'o-', label=\"Wind\")\n",
    "plt.legend();"
   ]
  },
  {
   "cell_type": "markdown",
   "metadata": {},
   "source": [
    "Теперь мы сгенерируем некоторые новые данные, которые мы можем сохранить в файл, `my_new_data.txt`."
   ]
  },
  {
   "cell_type": "code",
   "execution_count": null,
   "metadata": {},
   "outputs": [],
   "source": [
    "# Среднее значение температуры\n",
    "T_mean = np.mean(temperature)\n",
    "# Отклонение от среднего значения в каждый момент времени\n",
    "delta_temperature = temperature - T_mean\n",
    "# Сохранить в файл\n",
    "np.savetxt('my_new_data.txt', np.transpose((t, delta_temperature)))"
   ]
  },
  {
   "cell_type": "markdown",
   "metadata": {},
   "source": [
    "`savetxt` принимает данные для записи в файл в качестве второго аргумента, в данном примере это `np.transpose((t, delta_temperature))`.\n",
    "Можно спросить, зачем транспонирование; мы хотим, чтобы `t` и `delta_temperature` были столбцами, а не строками, чтобы новый файл имел тот же формат, что и наш входной файл."
   ]
  },
  {
   "cell_type": "markdown",
   "metadata": {},
   "source": [
    "## Useful NumPy functions and examples of usage\n",
    "В этом разделе вы найдете некоторые полезные функции с кратким объяснением.\n",
    "Для более подробного объяснения, пожалуйста, посетите документацию NumPy.\n",
    "После списка функций исследуйте некоторым примерам использования NumPy для решения различных проблем, с которыми можно столкнуться.\n",
    "\n",
    "**Некоторые полезные функции:**\n",
    "- `np.amin`, `np.amax`. Возвращает минимальное и максимальное значение массива.\n",
    "\n",
    "- `np.argmin`, `np.argmax`. Возвращает индекс минимального и максимального значения массива.\n",
    "- `np.argwhere`. Возвращает индексы, в которых условие истинно. Например\n",
    "```\n",
    "a = np.array([0,1,2,3,10])\n",
    "np.argwhere(a>1)\n",
    "```\n",
    "вернет `[2,3,4]`."
   ]
  },
  {
   "cell_type": "markdown",
   "metadata": {},
   "source": [
    "### Коэффициенты волновой функции\n",
    "Физика этого примера не важна для понимания NumPy.\n",
    "Если вы ее не понимаете, не волнуйтесь!\n",
    "\n",
    "Из линейной алгебры мы знаем, что при ортонормированном базисе $B$ из $V$ любой вектор $v\\in V$ может быть записан как линейная комбинация векторов $b \\in B$ .\n",
    "Мы также знаем, что коэффициент $b\\in B$ для некоторого $v\\in V$ задается\n",
    "$$\n",
    "c_b = \\langle b, v\\rangle.\n",
    "$$\n",
    "\n",
    "Это часто используется в физике, вероятно, наиболее примечательно в квантовой механике.\n",
    "Ниже приводится краткий пример использования NumPy для линейной алгебры, чтобы вычислить коэффициенты для различных волновых функций."
   ]
  },
  {
   "cell_type": "code",
   "execution_count": null,
   "metadata": {},
   "outputs": [],
   "source": [
    "x = np.linspace(0, 1, 5000)\n",
    "dx = x[1] - x[0]\n",
    "\n",
    "# Базисные волновые функции для потенциала частицы в ящике\n",
    "# Эти функции могут быть легко выведены с помощью базовой квантовой механики\n",
    "g1 = lambda x: np.sqrt(2)*np.sin(np.pi*x)\n",
    "g2 = lambda x: np.sqrt(2)*np.sin(2*np.pi*x)\n",
    "g3 = lambda x: np.sqrt(2)*np.sin(3*np.pi*x)\n",
    "\n",
    "# Создает несколько линейных комбинаций\n",
    "y1 = g1(x) + g2(x)\n",
    "y2 = g1(x) + 2*g2(x)\n",
    "y3 = 0.2*g1(x) + 10*g3(x)\n",
    "\n",
    "# Складывает функции вертикально, создавая матрицы\n",
    "basis_functions = np.vstack((g1(x), g2(x), g3(x)))\n",
    "my_functions = np.vstack((y1, y2, y3))\n",
    "\n",
    "# матричное умножение\n",
    "basis_functions*dx @ my_functions.T"
   ]
  },
  {
   "cell_type": "markdown",
   "metadata": {},
   "source": [
    "Теперь мы можем прочитать коэффициенты каждой функции `y1`, `y2` и `y3` из столбцов.\n",
    "Например, в первом столбце показано, что `y1` имеет коэффициенты 1, 1 и $1.7\\cdot 10^{-15}\\approx 0$, как и ожидалось."
   ]
  },
  {
   "cell_type": "markdown",
   "metadata": {},
   "source": [
    "### Найти минимумы функции\n",
    "Рассмотрим функцию \n",
    "$$\n",
    "f(x) = -\\frac{1}{6}x^3 + 2x.\n",
    "$$\n",
    "\n",
    "Найдите ее локальные минимумы."
   ]
  },
  {
   "cell_type": "code",
   "execution_count": null,
   "metadata": {},
   "outputs": [],
   "source": [
    "x = np.linspace(-5, 5, 50)\n",
    "\n",
    "def f(x):\n",
    "    return -x**3/6 + 2*x\n",
    "plt.plot(x, f(x))\n",
    "plt.show()"
   ]
  },
  {
   "cell_type": "markdown",
   "metadata": {},
   "source": [
    "Мы видим, что локальный минимумы слева от 0 и что есть меньшие значения, чем этот минимум справа от нуля.\n",
    "Поэтому разумно ограничить наш список $x$ отрицательными значениями.\n",
    "```\n",
    "x[x<0]\n",
    "```\n",
    "Теперь мы просто передаем этот массив в `f` и находим его минимумы, используя `np.min`."
   ]
  },
  {
   "cell_type": "code",
   "execution_count": null,
   "metadata": {},
   "outputs": [],
   "source": [
    "np.min(f(x[x<0]))\n",
    "y_min = np.min(f(x[x<0]))"
   ]
  },
  {
   "cell_type": "markdown",
   "metadata": {},
   "source": [
    "Это дает нам значение $y$ в локальных минимумах.\n",
    "Мы также хотим найти соответствующее значение $x$.\n",
    "`np.argmin` дает нам индекс значения $y$ с минимальным значением, использование этого индекса в массиве $x$ дает нам соответствующее значение."
   ]
  },
  {
   "cell_type": "code",
   "execution_count": null,
   "metadata": {},
   "outputs": [],
   "source": [
    "min_arg = np.argmin(f(x[x<0]))\n",
    "x_min = x[x<0][min_arg]\n",
    "print(f\"(x,y) = {x_min:.2f}, {y_min:.2f}\")"
   ]
  },
  {
   "cell_type": "markdown",
   "metadata": {},
   "source": [
    "#### Некоторые общие соображения, касающиеся скорости вычислений\n",
    "\n",
    "Основным преимуществом использования NumPy в вычислениях, в дополнение к простому и интуитивно понятному способу написания нашего кода, является значительно увеличенная скорость вычислений.\n",
    "Вот некоторые моменты, которые стоит запомнить, чтобы наилучшим образом воспользоваться этим.\n",
    "\n",
    "**Используйте массивы NumPy!**\n",
    "Самым важным шагом является фактическое использование массивов NumPy.\n",
    "За некоторыми исключениями, все списки, которые используются, должны быть массивами NumPy.\n",
    "\n",
    "**Используйте функциональность NumPy.**\n",
    "Неопытные пользователи NumPy имеют тенденцию решать свои проблемы, используя более традиционные питонические решения, когда было бы выгодно использовать функциональность NumPy.\n",
    "Например, очень редко нужно использовать циклы \"for\", так как они часто могут быть заменены операциями NumPy, которые намного быстрее.\n",
    "\n",
    "**Не добавляйте элементы в массивы NumPy.**\n",
    "Эта операция значительно медленнее, чем инициализация массива и последующая запись в него.\n",
    "Хорошим примером являются итерационные методы с фиксированным числом итераций, такие как метод Эйлера.\n",
    "Инициализация массива $y$ сначала нулями (`np.zeros`) или пустыми значениями (`np.empty`) выполняется быстрее, чем добавление на каждом временном шаге."
   ]
  }
 ],
 "metadata": {
  "kernelspec": {
   "display_name": "Python 3",
   "language": "python",
   "name": "python3"
  },
  "language_info": {
   "codemirror_mode": {
    "name": "ipython",
    "version": 3
   },
   "file_extension": ".py",
   "mimetype": "text/x-python",
   "name": "python",
   "nbconvert_exporter": "python",
   "pygments_lexer": "ipython3",
   "version": "3.7.4"
  }
 },
 "nbformat": 4,
 "nbformat_minor": 4
}
