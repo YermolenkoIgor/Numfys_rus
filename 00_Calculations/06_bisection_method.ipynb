{
 "cells": [
  {
   "cell_type": "markdown",
   "metadata": {},
   "source": [
    "<style>\n",
    "@import url(https://www.numfys.net/static/css/nbstyle.css);\n",
    "</style>\n",
    "<a href=\"https://www.numfys.net\"><img class=\"logo\" /></a>\n",
    "\n",
    "# Алгоритм деления пополам\n",
    "\n",
    "### Modules - Root Finding\n",
    "<section class=\"post-meta\">\n",
    "By Magnus A. Gjennestad, Vegard Hagen, Aksel Kvaal, Morten Vassvik, Trygve B. Wiig and Peter Berg\n",
    "</section>\n",
    "Last edited: February 23th 2018 \n",
    "___"
   ]
  },
  {
   "cell_type": "markdown",
   "metadata": {},
   "source": [
    "### Задача"
   ]
  },
  {
   "cell_type": "markdown",
   "metadata": {},
   "source": [
    "Как мы можем найти корень $x_0$ для функции $f(x)$, т.e.\n",
    "$$f(x_0) = 0,$$\n",
    "если недоступно аналитическое решение?\n",
    "\n",
    "Обратите внимание, что может быть несколько корней, и мы хотели бы иметь некоторый контроль над тем, какой корень вычисляется."
   ]
  },
  {
   "cell_type": "markdown",
   "metadata": {},
   "source": [
    "### Пример"
   ]
  },
  {
   "cell_type": "markdown",
   "metadata": {},
   "source": [
    "Мы хотели бы знать, где функция $g(x) = x$ пересекает функцию $h(x) = e^{-x}$. Другими словами, нам нужно решить\n",
    "$$x = e^{-x}.$$\n",
    "Это эквивалентно нахождению корня $f(x) = e^{-x} − x = 0:$\n",
    "$$f(x_0)=e^{−x_0} −x_0 =0.$$\n",
    "Давайте построим график двух функций g и h, чтобы определить, может ли быть корень и, если да, то где приблизительно."
   ]
  },
  {
   "cell_type": "code",
   "execution_count": 1,
   "metadata": {},
   "outputs": [],
   "source": [
    "%matplotlib inline\n",
    "import numpy as np\n",
    "import matplotlib.pyplot as plt\n",
    "\n",
    "# Set common figure parameters\n",
    "newparams = {'figure.figsize': (16, 6), 'axes.grid': True,\n",
    "             'lines.linewidth': 1.5, 'lines.markersize': 10,\n",
    "             'font.size': 14}\n",
    "plt.rcParams.update(newparams)"
   ]
  },
  {
   "cell_type": "code",
   "execution_count": 4,
   "metadata": {},
   "outputs": [
    {
     "data": {
      "text/plain": [
       "Text(0, 0.5, '$g(x)$, $h(x)$')"
      ]
     },
     "execution_count": 4,
     "metadata": {},
     "output_type": "execute_result"
    },
    {
     "data": {
      "image/png": "[encoded data removed]",
      "text/plain": [
       "<Figure size 432x288 with 1 Axes>"
      ]
     },
     "metadata": {
      "needs_background": "light"
     },
     "output_type": "display_data"
    }
   ],
   "source": [
    "x = np.linspace(-1, 2, 100)\n",
    "g = x\n",
    "h = np.exp(-x)\n",
    "\n",
    "plt.plot(x, g, x, h)\n",
    "plt.legend([r'$g(x)$', r'$h(x)$'])\n",
    "plt.xlabel(r'$x$')\n",
    "plt.ylabel(r'$g(x)$, $h(x)$')"
   ]
  },
  {
   "cell_type": "markdown",
   "metadata": {},
   "source": [
    "Мы видим, что пересечение появляется около $x = 0.6$. Поскольку и $g$, и $h$ являются монотонными функциями, они пересекаются только один раз. Соответственно, f должна иметь один уникальный корень вблизи x = 0.6, как показано на графике ниже."
   ]
  },
  {
   "cell_type": "code",
   "execution_count": 5,
   "metadata": {},
   "outputs": [
    {
     "data": {
      "text/plain": [
       "Text(0, 0.5, '$f(x)$')"
      ]
     },
     "execution_count": 5,
     "metadata": {},
     "output_type": "execute_result"
    },
    {
     "data": {
      "image/png": "[encoded data removed]",
      "text/plain": [
       "<Figure size 432x288 with 1 Axes>"
      ]
     },
     "metadata": {
      "needs_background": "light"
     },
     "output_type": "display_data"
    }
   ],
   "source": [
    "f = np.exp(-x) - x\n",
    "\n",
    "plt.plot(x, f)\n",
    "plt.xlabel(r'$x$')\n",
    "plt.ylabel(r'$f(x)$')\n",
    "#plt.grid();"
   ]
  },
  {
   "cell_type": "markdown",
   "metadata": {},
   "source": [
    "Как мы можем найти этот корень?\n",
    "\n",
    "Ну, мы знаем, что корень определенно лежит между $x = 0$ и $x = 1$, так как $f(x)$ монотонно уменьшается, а\n",
    "$$f(0) = 1$$\n",
    "и, следовательно, она положительна, и\n",
    "$$f(1) = \\frac{1}{e} − 1 = −0.6321,$$\n",
    "следовательно, в единице она отрицательна. Корень должен лежать где-то посередине.\n",
    "\n",
    "Стратегия теперь заключается в том, чтобы \"обнулить\" значение функции, проверяя ее все ближе и ближе к (неизвестному) корню."
   ]
  },
  {
   "cell_type": "markdown",
   "metadata": {},
   "source": [
    "Для этого давайте разделим интервал $[0, 1]$, граничные точки которого мы только что изучили, на две половины, выбрав среднюю точку $x = 0.5$. Значение $f$ в средней точке равно\n",
    "$$f (0.5) = 0.1065,$$\n",
    "число положительное. Поскольку $f(1) < 0$, теперь мы знаем, что корень лежит где-то между $x = 0.5$ и $x = 1$. Аналогично последнему шагу, теперь мы выбираем среднюю точку интервала $[0.5, 1]$, чтобы проверить значение функции:\n",
    "$$f(0.75) = -0.2776$$\n",
    "Очевидно, корень должен находиться в интервале $[0.5, 0.75]$."
   ]
  },
  {
   "cell_type": "markdown",
   "metadata": {},
   "source": [
    "Мы можем продолжать повторять эти шаги, в результате чего интервалы, в которых должен лежать корень, будут все меньше. Может случиться, хотя это маловероятно, что одна из средних точек, которую мы в конце концов выберем, совпадет с корнем. Однако это весьма необычный случай.\n",
    "Мы заканчиваем поиск, когда удовлетворены точностью, с которой мы определили корень. Она просто задается шириной последнего интервала. Обратите внимание, что мы не можем превышать машинную точность нашего компьютера, устанавливая ограничение на наше разделение интервалов.\n",
    "Описанный выше метод называется алгоритмом __деления пополам (бисекции)__."
   ]
  },
  {
   "cell_type": "markdown",
   "metadata": {},
   "source": [
    "Теперь мы можем систематически описать алгоритм деления пополам.\n",
    "Для непрерывной функции $f(x)$, корень, если он существует, может быть аппроксимирован следующим образом:\n",
    "Нужно найти два значения $x_p$ и $x_m$ такие что $f(x_p) > 0$ и $f(x_m) < 0$. Затем выполните следующие действия:\n",
    "1. Выбрать среднюю точку $x_\\mathrm{next} = \\frac{x_p+x_m}{2}.$\n",
    "2. Если $f(x_\\mathrm{next})$ имеет тот же знак, что и $f(x_p)$, то мы устанавливаем $x_p = x_\\mathrm{next}$.\n",
    "3. В противном случае мы устанавливаем $x_m = x_\\mathrm{next}$.\n",
    "4. Повторять предыдущие три шага до тех пор, пока не будет достигнута желаемая точность.\n",
    "\n",
    "Все очень просто. Давайте определим корень из $f(x)$ с заданной точностью."
   ]
  },
  {
   "cell_type": "code",
   "execution_count": 6,
   "metadata": {},
   "outputs": [
    {
     "name": "stdout",
     "output_type": "stream",
     "text": [
      "Корень f(x) равен 0.567143.\n"
     ]
    }
   ],
   "source": [
    "acc = 1e-15  # Точность\n",
    "\n",
    "x_p = 1      # Начальное значение x_p\n",
    "x_m = 0      # Начальное значение x_m\n",
    "diff = abs(x_p - x_m)  # Длина интервала\n",
    "\n",
    "while diff > acc:\n",
    "    x_next = (x_p+x_m)/2  # Деление интервала пополам\n",
    "    \n",
    "    f_p = np.exp(-x_p) - x_p          # значение f при x_p\n",
    "    f_next = np.exp(-x_next) - x_next # Значение f в средней точке\n",
    "    \n",
    "    if (f_p*f_next) > 0:\n",
    "        x_p = x_next\n",
    "    else:\n",
    "        x_m = x_next\n",
    "        \n",
    "    diff = abs(x_p - x_m)\n",
    "\n",
    "print(r'Корень f(x) равен %f.' % x_p)"
   ]
  },
  {
   "cell_type": "markdown",
   "metadata": {},
   "source": [
    "### Заключительные замечания"
   ]
  },
  {
   "cell_type": "markdown",
   "metadata": {},
   "source": [
    "Мы не делаем различия между $x_p < x_m$ или $x_m < x_p$. Это не имеет никакого отношения к результату.\n",
    "Если есть несколько корней, наше первоначальное предположение для $x_p$ и $x_m$ определит, какой конкретно корень мы находим.\n",
    "Однако необходимо иметь ввиду случаи, когда более одного корня лежит в нашем начальном интервале $[x_p,x_m]$ или $[x_m,x_p]$ соответственно."
   ]
  }
 ],
 "metadata": {
  "kernelspec": {
   "display_name": "Python 3",
   "language": "python",
   "name": "python3"
  },
  "language_info": {
   "codemirror_mode": {
    "name": "ipython",
    "version": 3
   },
   "file_extension": ".py",
   "mimetype": "text/x-python",
   "name": "python",
   "nbconvert_exporter": "python",
   "pygments_lexer": "ipython3",
   "version": "3.7.4"
  }
 },
 "nbformat": 4,
 "nbformat_minor": 1
}
