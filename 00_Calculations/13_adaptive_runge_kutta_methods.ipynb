{
 "cells": [
  {
   "cell_type": "markdown",
   "metadata": {},
   "source": [
    "<style>\n",
    "@import url(https://www.numfys.net/static/css/nbstyle.css);\n",
    "</style>\n",
    "<a href=\"https://www.numfys.net\"><img class=\"logo\" /></a>\n",
    "\n",
    "# Адаптивные методы Рунге-Кутты\n",
    "\n",
    "### Modules - Ordinary Differential Equations\n",
    "<section class=\"post-meta\">\n",
    "By Jonas Tjemsland, Andreas Krogen, Håkon Ånes and Jon Andreas Støvneng\n",
    "</section>\n",
    "Last edited: February 7th 2018 \n",
    "___"
   ]
  },
  {
   "cell_type": "markdown",
   "metadata": {},
   "source": [
    "Этот модуль дает краткое введение в концепцию \"методов с адаптивным размером шага\" для решения обыкновенных дифференциальных уравнений (ОДУ). Мы собираемся решить ОДУ первого порядка формы\n",
    "\n",
    "$$\n",
    "\\frac{\\text{d}}{\\text{d}t}y(t) = f(y(t), t).\n",
    "$$\n",
    "\n",
    "Удобно рассматривать параметр $t$ как \"время\", а $y$ как \"положение\" в момент времени $t$. Концепция адаптивного размера шага легко обобщается, например, на ОДУ более высокого порядка, во многом так же, как менее сложный явный метод Эйлера может быть обобщен на метод Рунге-Кутты (четвертого порядка).\n",
    "\n",
    "### Основная идея адаптивных методов Рунге-Кутты\n",
    "\n",
    "Адаптивный метод Рунге-Кутты - это метод, который использует два различных порядка аппроксимации (часто один с порядком $p$ и один с порядком $p+1$) для получения оценки локальной ошибки усечения. Таким образом, можно более или менее решить, какую точность мы хотим, чтобы размер шага менялся для каждой итерации. Еще одним преимуществом методов адаптивного размера шага является то, что мы можем иметь больше шагов там, где это необходимо, и меньше шагов в других местах (пример будет приведен ниже). Однако, как видно, эти методы часто требуют дополнительных вычислений.\n",
    "\n",
    "Следуя этой идее, мы можем легко разработать пару методов Рунге-Кутты (RK) (один с порядком $p$ и один с порядком $p+1$), которые разделяют некоторые необходимые вычисления. Это позволяет нам оценить локальную ошибку усечения почти без дополнительных вычислений. Такие пары называются $\\textbf{встроенные пары Рунге-Кутта}$.\n",
    "\n",
    "Во-первых, мы импортируем необходимые библиотеки и устанавливаем некоторые общие параметры рисунка."
   ]
  },
  {
   "cell_type": "code",
   "execution_count": 9,
   "metadata": {},
   "outputs": [],
   "source": [
    "# Import libraries\n",
    "import numpy as np\n",
    "import matplotlib.pyplot as plt\n",
    "import time\n",
    "%matplotlib inline\n",
    "\n",
    "# Set common figure parameters\n",
    "newparams = {'figure.figsize': (10, 4), 'axes.grid': True,\n",
    "             'lines.linewidth': 1.5, 'lines.markersize': 10,\n",
    "             'font.size': 14}\n",
    "plt.rcParams.update(newparams)"
   ]
  },
  {
   "cell_type": "markdown",
   "metadata": {},
   "source": [
    "### Реализация функций\n",
    "\n",
    "Пришло время определить некоторые функции, которые будут вычислять два разных порядка аппроксимации для правой части (RHS) ОДУ, а именно $f(y(t), t)$. Следующие функции являются некоторыми примерами адаптивных методов Рунге-Кутты. Алгоритм получения этих методов приведен в [2]."
   ]
  },
  {
   "cell_type": "code",
   "execution_count": 4,
   "metadata": {},
   "outputs": [],
   "source": [
    "def odesolver12(f, t, y, h):\n",
    "    \n",
    "    \"\"\"Вычислит следующий шаг задачи начального значения (IVP)\n",
    "    ОДУ с RHS, описываемой f, в первом порядке точности\n",
    "    (Метод Эйлера) и втором (Правило Средней точки). Это\n",
    "    самая простая встроенная пара RK.\n",
    "    Параметры:\n",
    "        f: функция. RHS из ОДУ.\n",
    "        t: float. Текущее время.\n",
    "        y: float. Текущая позиция.\n",
    "        h: float. Длина шага.\n",
    "    Возвращается:\n",
    "        q: float. первый порядок точности\n",
    "        w: float. второй порядок точности\n",
    "    \"\"\"\n",
    "    s1 = f(t, y)\n",
    "    s2 = f(t+h, y+h*s1)\n",
    "    w = y + h*s1\n",
    "    q = y + h/2.0*(s1+s2)\n",
    "    return w, q\n",
    "\n",
    "def odesolver23(f, t, y, h):\n",
    "    \"\"\"Вычислит следующий шаг IVP ОДУ с RHS, \n",
    "    описанной f, с порядком прибл. 2 (Явный метод трапеций) \n",
    "    и порядка 3 (РК третьего порядка).\n",
    "    Параметры:\n",
    "        f: функция. RHS из ОДУ.\n",
    "        t: float. Текущее время.\n",
    "        y: float. Текущая позиция.\n",
    "        h: float. Длина шага.\n",
    "    Возвращается:\n",
    "        q: float. второй порядок точности\n",
    "        w: float. третий порядок точности\n",
    "    \"\"\"\n",
    "    s1 = f(t, y)\n",
    "    s2 = f(t+h, y+h*s1)\n",
    "    s3 = f(t+h/2.0, y+h*(s1+s2)/4.0)\n",
    "    w = y + h*(s1+s2)/2.0\n",
    "    q = y + h*(s1+4.0*s3+s2)/6.0\n",
    "    return w, q\n",
    "\n",
    "def odesolver45(f, t, y, h):\n",
    "    \"\"\"Вычислит следующий шаг IVP ОДУ с RHS, описанным f, \n",
    "    с порядком точности 4 и 5.\n",
    "    Параметры:\n",
    "        f: функция. RHS из ОДУ.\n",
    "        t: float. Текущее время.\n",
    "        y: float. Текущая позиция.\n",
    "        h: float. Длина шага.\n",
    "    Возвращается:\n",
    "        q: float. второй порядок точности\n",
    "        w: float. третий порядок точности\n",
    "    \"\"\"\n",
    "    s1 = f(t, y)\n",
    "    s2 = f(t+h/4.0, y+h*s1/4.0)\n",
    "    s3 = f(t+3.0*h/8.0, y+3.0*h*s1/32.0+9.0*h*s2/32.0)\n",
    "    s4 = f(t+12.0*h/13.0, y+1932.0*h*s1/2197.0-7200.0*h*s2/2197.0+7296.0*h*s3/2197.0)\n",
    "    s5 = f(t+h, y+439.0*h*s1/216.0-8.0*h*s2+3680.0*h*s3/513.0-845.0*h*s4/4104.0)\n",
    "    s6 = f(t+h/2.0, y-8.0*h*s1/27.0+2*h*s2-3544.0*h*s3/2565+1859.0*h*s4/4104.0-11.0*h*s5/40.0)\n",
    "    w = y + h*(25.0*s1/216.0+1408.0*s3/2565.0+2197.0*s4/4104.0-s5/5.0)\n",
    "    q = y + h*(16.0*s1/135.0+6656.0*s3/12825.0+28561.0*s4/56430.0-9.0*s5/50.0+2.0*s6/55.0)\n",
    "    return w, q"
   ]
  },
  {
   "cell_type": "markdown",
   "metadata": {},
   "source": [
    "### Выбираем адаптивный размер шага\n",
    "\n",
    "В приведенных выше определениях функций $w$ представляет приближение самого низкого порядка, а $q$ - приближение более высокого порядка. Когда $h$ мал, хорошая оценка ошибки для $w$ \n",
    "\n",
    "$$\n",
    "e_{i+1}\\approx \\left|q_{i+1}-w_ {i+1}\\right|.\n",
    "$$\n",
    "\n",
    "Идея заключается в том, что можно выполнить один шаг вычисления, а затем проверить оценку ошибки $e_i$ или относительную ошибку $e_i/\\left|w_i\\right|$. Если ошибка превышает выбранную точность, $TOL$, размер шага уменьшается на заданную величину, часто выбирается удваивание шага или сокращение его в два раза. \n",
    "\n",
    "Мы всегда хотим минимизировать использование вычислительных ресурсов, но в то же время оставаться в пределах заданной точности. Поэтому было бы неплохо изменить размер шага для следующего шага, только если, например, ошибка текущего шага меньше $TOL/20$. Однако существуют более сложные способы изменения размера шага. \n",
    "\n",
    "Если мы допустим, что точность задается относительной ошибкой, $TOL > e_i/\\left|w_i\\right|$, и предположим, что $w$ имеет порядок $p$, ошибка задается $e_i = \\mathcal{O}(h^{p+1})$. Предполагая, что\n",
    "\n",
    "$$\n",
    "e_i\\approx \\xi h_i^{p+1},\n",
    "$$\n",
    "\n",
    "для константы $\\xi$ размер шага, наиболее близкий к требуемой точности, задается\n",
    "\n",
    "$$\n",
    "TOL\\cdot \\left|w_i\\right| = \\xi h^{p+1}.\n",
    "$$\n",
    "\n",
    "Это дает\n",
    "\n",
    "$$\n",
    "\\tilde h = \\left(\\frac{TOL\\cdot |w_i|}{e_i}\\right)^{1/{p+1}}h_i,\n",
    "$$\n",
    "\n",
    "где $\\tilde h$ - идеальное значение для размера следующего шага. Однако часто добавляется фактор безопасности, так что размер следующего шага становится, например, $h_{i+1}=0.8 \\cdot\\tilde h$. Более того, мы часто используем $e_i/\\max(w_i, \\theta)$ $(\\theta>0)$ вместо относительной ошибки для защиты от небольших $w_i$.\n",
    "\n",
    "Этот алгоритм для изменения размера шага выведен для $w_i$, приближения самого низкого порядка. Однако, поскольку аппроксимация более высокого порядка $q_i$ доступна (без дополнительных вычислений), это часто используется для оценки следующего шага.\n",
    "\n",
    "Самый простой способ визуализировать метод адаптивного размера шага - это примеры."
   ]
  },
  {
   "cell_type": "markdown",
   "metadata": {},
   "source": [
    "### Пример 1\n",
    "Сначала мы задаем правую часть ОДУ,\n",
    "\n",
    "$$\n",
    "f(y(t),t) = t - 2ty,\n",
    "$$\n",
    "\n",
    "которая имеет аналитическое решение $\\frac{1}{2}(1-e^{-t^2})$. Давайте определим функции и приступим к решению ОДУ с использованием простейшего встроенного метода РК с приближениями 1 и 2 порядка. Мы обобщаем реализацию адаптивного метода РК, чтобы не повторяться."
   ]
  },
  {
   "cell_type": "code",
   "execution_count": 5,
   "metadata": {},
   "outputs": [],
   "source": [
    "def RHS1(t, y):\n",
    "    return t - 2*t*y\n",
    "\n",
    "def analytical(t, y):\n",
    "    return 0.5*(1-np.exp(-t**2))\n",
    "\n",
    "def rk_adaptive(ode, rhs, y0=0.0, t0=0.0, TOL=1e-04, theta=1e-02, tmax=1.0):\n",
    "    \"\"\"Perform an adaptive RK method.\n",
    "    Parameters:\n",
    "        ode:   функция. ODE solver.\n",
    "        rhs:   функция. правая часть ОДУ.\n",
    "        y0:    float, optional. Исходное положение.\n",
    "        t0:    float, optional. Начальное время.\n",
    "        TOL:   float, optional. Допустимая погрешность.\n",
    "        theta: float, optional. \"Защитная\" константа.\n",
    "        tmax:  float, optional. Конец расчетного интервала.\n",
    "    Возвращается:\n",
    "        y:     list. Позиция.\n",
    "        t:     list. Время.\n",
    "        i:     int. Количество итераций\n",
    "    \"\"\"\n",
    "    \n",
    "    # Выделит списки для хранения позиции и времени и установит\n",
    "    # начальные условия.\n",
    "    y = []\n",
    "    t = []\n",
    "    y.append(y0)\n",
    "    t.append(t0)\n",
    "    \n",
    "    # Установит начальный размер шага и объявит целое число итерации\n",
    "    h = 1.0\n",
    "    i = 0\n",
    "    \n",
    "    while (t[i] < tmax):\n",
    "        # Получим два разных приближения\n",
    "        w, q = ode(rhs, t[i], y[i], h)\n",
    "        # Ошибка оценки\n",
    "        e = abs((w-q)/max(w, theta))\n",
    "        # Если e больше, чем TOL, уменьшить длину шага\n",
    "        if (e > TOL):\n",
    "            h = 0.8*(TOL*e)**(1/5)*h\n",
    "            # Получить два новых приближения\n",
    "            w, q = ode(rhs, t[i], y[i], h)\n",
    "            # Оценка новой ошибки\n",
    "            e = abs((w-q)/max(w, theta))\n",
    "            # Если e все еще больше, чем TOL, уменьшить длину шага вдвое\n",
    "            while (e > TOL):\n",
    "                h = h/2.0\n",
    "                # Новые приближения\n",
    "                w, q = ode(rhs, t[i], y[i], h)\n",
    "                # Новая оценка ошибок\n",
    "                e = abs((w-q)/max(w, theta))\n",
    "        # Сохранить аппроксимацию высшего порядка в качестве следующего значения y\n",
    "        y.append(q)\n",
    "        # Сохранить текущее время + размер шага в следующий раз\n",
    "        t.append(t[i] + h)\n",
    "        # Номер шага инкрементируется\n",
    "        i += 1\n",
    "        # Проверим, не слишком ли мала e, если да, то удвоить размер шага\n",
    "        if (e < 0.1*TOL):\n",
    "            h = h*2.0\n",
    "    \n",
    "    return y, t, i"
   ]
  },
  {
   "cell_type": "code",
   "execution_count": 6,
   "metadata": {},
   "outputs": [],
   "source": [
    "# Вычислить положение в зависимости от времени с помощью адаптивного\n",
    "# Рунге-Кутта odesolver12, определенного выше\n",
    "pos, times, iterations = rk_adaptive(odesolver12, RHS1, y0=0.0, t0=0.0, TOL=1e-02, theta=1e-03, tmax=1.0)"
   ]
  },
  {
   "cell_type": "code",
   "execution_count": 10,
   "metadata": {},
   "outputs": [
    {
     "data": {
      "image/png": "[encoded data removed]",
      "text/plain": [
       "<Figure size 720x288 with 1 Axes>"
      ]
     },
     "metadata": {
      "needs_background": "light"
     },
     "output_type": "display_data"
    }
   ],
   "source": [
    "plt.figure()\n",
    "\n",
    "# Аналитическое решение\n",
    "ta = np.linspace(0, times[iterations])\n",
    "ya = analytical(ta, 0)\n",
    "plt.plot(ta, ya , label='Analytical solution.')\n",
    "\n",
    "# RK1/2 plot\n",
    "plt.plot(times, pos, '-o' , label='RK1/2. %i steps.' % (iterations+1))\n",
    "plt.ylabel(r'$y(t)$')\n",
    "plt.xlabel(r'$t$')\n",
    "plt.legend(loc=\"best\");"
   ]
  },
  {
   "cell_type": "markdown",
   "metadata": {
    "collapsed": true
   },
   "source": [
    "Мы наблюдаем, что метод RK хорошо использует 68 шагов, следующих за кривой, используя увеличивающийся размер шага $h$ по мере увеличения $t$.\n",
    "### Example 2\n",
    "Теперь мы хотим решить \n",
    "\n",
    "$$\n",
    "y'(t)=\\cos(y(t)\\cdot t^2),\\quad y(1)=3,\n",
    "$$\n",
    "\n",
    "опробовав все три встроенные функции, определенные выше."
   ]
  },
  {
   "cell_type": "code",
   "execution_count": 11,
   "metadata": {},
   "outputs": [],
   "source": [
    "def RHS2(t, y):\n",
    "    return np.cos(y*t**2)"
   ]
  },
  {
   "cell_type": "code",
   "execution_count": 12,
   "metadata": {},
   "outputs": [
    {
     "name": "stdout",
     "output_type": "stream",
     "text": [
      "RK1/2 run time: 0.01000 s. Iterations: 453.\n",
      "RK2/3 run time: 0.00400 s. Iterations: 110.\n",
      "RK4/5 run time: 0.00200 s. Iterations: 20.\n"
     ]
    }
   ],
   "source": [
    "start12 = time.time()\n",
    "pos12, time12, iterations12 = rk_adaptive(odesolver12, RHS2, y0=3.0, t0=1.0, tmax=3.0)\n",
    "print(\"RK1/2 run time: %.5f s. Iterations: %i.\" % (time.time() - start12, iterations12 + 1))\n",
    "\n",
    "start23 = time.time()\n",
    "pos23, time23, iterations23 = rk_adaptive(odesolver23, RHS2, y0=3.0, t0=1.0, tmax=3.0)\n",
    "print(\"RK2/3 run time: %.5f s. Iterations: %i.\" % (time.time() - start23, iterations23 + 1))\n",
    "\n",
    "start45 = time.time()\n",
    "pos45, time45, iterations45 = rk_adaptive(odesolver45, RHS2, y0=3.0, t0=1.0, tmax=3.0)\n",
    "print(\"RK4/5 run time: %.5f s. Iterations: %i.\" % (time.time() - start45, iterations45 + 1))"
   ]
  },
  {
   "cell_type": "code",
   "execution_count": 13,
   "metadata": {},
   "outputs": [
    {
     "data": {
      "image/png": "[encoded data removed]",
      "text/plain": [
       "<Figure size 720x288 with 1 Axes>"
      ]
     },
     "metadata": {
      "needs_background": "light"
     },
     "output_type": "display_data"
    }
   ],
   "source": [
    "plt.figure()\n",
    "plt.plot(time12, pos12, '-o', label='RK1/2. %i steps.' % (iterations12+1))\n",
    "plt.plot(time23, pos23, '-o', label='RK2/3. %i steps.' % (iterations23+1))\n",
    "plt.plot(time45, pos45, '-o', label='RK4/5. %i steps.' % (iterations45+1))\n",
    "plt.ylabel(r'$y(t)$')\n",
    "plt.xlabel(r'$t$')\n",
    "plt.legend(loc=\"best\");"
   ]
  },
  {
   "cell_type": "markdown",
   "metadata": {},
   "source": [
    "Мы наблюдаем, что метод RK4/5 аппроксимирует значения функций одинаково, а метод RK1/2 делает на 433 шага меньше и затрачивает примерно 1/5 времени.\n",
    "\n",
    "### Ссылки и дальнейшее чтение\n",
    "\n",
    "[1] Sauer, T.: *Numerical Analysis international edition*, 2nd, Pearson 2014\n",
    "\n",
    "[2] *Runge-Kutta methods*, Wikipedia, https://en.wikipedia.org/wiki/Runge%E2%80%93Kutta_methods (Acquired: 10.03.16)"
   ]
  },
  {
   "cell_type": "code",
   "execution_count": null,
   "metadata": {},
   "outputs": [],
   "source": []
  }
 ],
 "metadata": {
  "kernelspec": {
   "display_name": "Python 3",
   "language": "python",
   "name": "python3"
  },
  "language_info": {
   "codemirror_mode": {
    "name": "ipython",
    "version": 3
   },
   "file_extension": ".py",
   "mimetype": "text/x-python",
   "name": "python",
   "nbconvert_exporter": "python",
   "pygments_lexer": "ipython3",
   "version": "3.7.4"
  }
 },
 "nbformat": 4,
 "nbformat_minor": 1
}
