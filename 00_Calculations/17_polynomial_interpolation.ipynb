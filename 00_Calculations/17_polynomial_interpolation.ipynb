{
 "cells": [
  {
   "cell_type": "markdown",
   "metadata": {},
   "source": [
    "<style>\n",
    "@import url(https://www.numfys.net/static/css/nbstyle.css);\n",
    "</style>\n",
    "<a href=\"https://www.numfys.net\"><img class=\"logo\" /></a>\n",
    "\n",
    "# Полиномиальная интерполяция\n",
    "\n",
    "### Modules - Curve Fitting\n",
    "<section class=\"post-meta\">\n",
    "By Jonas Tjemsland, Andreas Krogen, Håkon Ånes and Jon Andreas Støvneng\n",
    "</section>\n",
    "Last edited: January 26th 2018 \n",
    "___"
   ]
  },
  {
   "cell_type": "markdown",
   "metadata": {},
   "source": [
    "В численном анализе интерполяция - это метод (повторного) построения функции между заданным набором точек данных. В физике и науке в целом часто можно получить ряд точек данных из выборок или экспериментов. Если мы знаем (или предполагаем), что эти точки данных верны, мы можем использовать интерполяцию для оценки новых данных в диапазоне этих заданных дискретных точек данных. \n",
    "\n",
    "Интерполяция также может использоваться для представления сложных в вычислительном отношении функций в виде более простых функций. Затем, с помощью таблицы из нескольких оценок функций, можно легко аппроксимировать истинную функцию с высокой степенью точности.\n",
    "\n",
    "Если функция проходит через набор точек данных, считается, что эта функция интерполирует эти точки. В этом модуле мы обсудим интерполяцию многочленами.\n",
    "\n",
    "Сначала мы импортируем необходимые библиотеки и задаем некоторые общие параметры рисунка."
   ]
  },
  {
   "cell_type": "code",
   "execution_count": null,
   "metadata": {
    "scrolled": true
   },
   "outputs": [],
   "source": [
    "# Import libraries\n",
    "import numpy as np\n",
    "import matplotlib.pyplot as plt\n",
    "import random as rnd\n",
    "from mpl_toolkits.mplot3d import Axes3D\n",
    "%matplotlib inline"
   ]
  },
  {
   "cell_type": "code",
   "execution_count": null,
   "metadata": {
    "scrolled": false
   },
   "outputs": [],
   "source": [
    "# Set common figure parameters\n",
    "newparams = {\n",
    "    # Figure\n",
    "    'figure.figsize': (16, 6), 'axes.grid': True,\n",
    "    # Lines and points\n",
    "    'lines.linewidth': 1.5, 'lines.markersize': 10,\n",
    "    # Fonts\n",
    "    'font.size': 20, 'mathtext.fontset': 'stix', 'font.family': 'STIXGeneral'\n",
    "}\n",
    "plt.rcParams.update(newparams)"
   ]
  },
  {
   "cell_type": "markdown",
   "metadata": {},
   "source": [
    "## Интерполяция Лагранжа\n",
    "Для заданного набора точек данных $(x_1,y_1), (x_2,y_2),\\cdots, (x_n,y_n)$ легко проверить, что полином степени $n-1$\n",
    "$$P_{n-1}(x) = \\sum_{j=1}^ny_jL_j(x),$$\n",
    "где\n",
    "$$L_j(x)=\\prod_{i = 0, i\\neq j}^n\\frac{x-x_i}{x_j-x_i},$$\n",
    "проходит через все заданные точки данных. $P_{n-1}$ называется интерполирующим полиномом Лагранжа, а $L_j$ - базисными полиномами Лагранжа.\n",
    "\n",
    "Например, полином Лагранжа второго порядка равен\n",
    "$$P_2(x)=y_1\\frac{(x-x_2)(x-x_3)}{(x_1-x_2)(x_1-x_3)}+y_2\\frac{(x-x_1)(x-x_3)}{(x_2-x_1)(x_2-x_3)}+y_3\\frac{(x-x_1)(x-x_2)}{(x_3-x_1)(x_3-x_2)}.$$\n",
    "\n",
    "Можно показать, что если точки данных имеют различные значения $x$, то существует один и только один полином $P$ степени $n-1$ или меньше, такой, что $P(x_i)=y_i$ для $i=1,\\cdots,n$. Другими словами, $\\textbf{интерполирующий полином уникален}$.\n",
    "\n",
    "Это можно показать, например, предположив, что $P(x)$ и $Q(x)$ имеют степень $n-1$ и оба интерполируют заданный набор $n$ различных точек данных. Пусть $r(x)=P(x)-Q(x)$. Тогда $r(x)$ является многочленом степени не более $n-1$, и поскольку $P(x_i)-Q(x_i)=0$, $r(x)$ имеет корни $n$. Но, как мы все знаем, многочлен степени $n-1$ имеет не более $n-1$ корней. Таким образом, единственный вывод состоит в том, что $P(x)=Q(x)$.\n",
    "\n",
    "После того, как все улажено, давайте определим некоторые функции, которые вычисляют интерполяционный полином Лагранжа из заданного набора точек данных."
   ]
  },
  {
   "cell_type": "code",
   "execution_count": null,
   "metadata": {
    "scrolled": true
   },
   "outputs": [],
   "source": [
    "def lagrangeBasisPolynomials(x_data,x):\n",
    "    \"\"\"Вычисляет базисные полиномы Лагранжа.\n",
    "    Параметры:\n",
    "        x_data: float arr. Все x-значения набора данных.\n",
    "        x: float arr. значения по оси x.\n",
    "    Возвращается:\n",
    "        L: float arr. Базисные многочлены Лагранжа. \n",
    "    \"\"\"\n",
    "    n = len(x_data)\n",
    "    L = [1]*n\n",
    "    for i in range(0,n):\n",
    "        for j in range(0,n):\n",
    "            if (j != i):\n",
    "                L[j] = L[j]*(x - x_data[i])/(x_data[j] - x_data[i])\n",
    "    return L\n",
    "\n",
    "def lagrangeInterpolation(x_data,y_data,x):\n",
    "    \"\"\"Вычисляет интерполяционные полиномы Лагранжа из n точек данных.\n",
    "    Параметры:\n",
    "        x_data: float arr. Все x-значения набора данных.\n",
    "        y_data: float arr. Все y-значения набора данных.\n",
    "                x_data и y_data должны быть одинакового размера.\n",
    "        x: float arr. значения по оси x.\n",
    "    Возвращается:\n",
    "        P: float arr. Базисные многочлены Лагранжа. \n",
    "    \"\"\"\n",
    "    L = lagrangeBasisPolynomials(x_data, x)\n",
    "    P = x*0;\n",
    "    for i in range(0, len(x_data)):\n",
    "        P = P + y_data[i]*L[i]\n",
    "    return P"
   ]
  },
  {
   "cell_type": "markdown",
   "metadata": {},
   "source": [
    "Давайте попробуем на примере."
   ]
  },
  {
   "cell_type": "code",
   "execution_count": null,
   "metadata": {
    "scrolled": true
   },
   "outputs": [],
   "source": [
    "# Определим некоторые точки данных.\n",
    "x_data = [1.0, 4.0, 7.0, 10.0, 11.0, 2.0]\n",
    "y_data = [1.2, 1.1,-9.1,  1.0,  1.0, 0.0]\n",
    "\n",
    "# Определим ось x.\n",
    "x = np.linspace(min(x_data), max(x_data),100)\n",
    "\n",
    "# Выполним интерполяцию Лагранжа.\n",
    "P = lagrangeInterpolation(x_data, y_data, x)\n",
    "\n",
    "# Построим график результатов.\n",
    "plt.plot(x, P, label='Interpolation polynomial')\n",
    "plt.plot(x_data, y_data, '*', label='Data points')\n",
    "plt.legend(), plt.xlabel('$x$'), plt.ylabel('$y$');"
   ]
  },
  {
   "cell_type": "markdown",
   "metadata": {},
   "source": [
    "Если бы мы добавили еще одну точку к нашим данным, все вычисления нужно было бы выполнить снова. Это одна из причин того, что интерполяция Лагранжа часто не используется в вычислениях, но она очень интуитивно понятна и проста в реализации."
   ]
  },
  {
   "cell_type": "markdown",
   "metadata": {},
   "source": [
    "## Интерполяционные формулы Ньютона\n",
    "**Newton's divided differences**  \n",
    "Обозначим уникальный интерполяционный полином для набора точек данных $(x_1,y_1), (x_2,y_2),\\cdots, (x_n,y_n)$ как\n",
    "$$P_{n-1}=f[x_1] + f[x_1\\ x_2](x-x_1)+f[x_1\\ x_2\\ x_3](x-x_1)(x-x_2)+\\cdots+f[x_1\\ \\cdots\\ x_n](x-1)\\cdots(x-x_{n-1}),$$\n",
    "где $f[\\cdots]$ являются различными коэффициентами многочлена. Эти коэффициенты находятся по формуле [1]\n",
    "$$f[x_k]=y_k,$$\n",
    "$$f[x_k \\ x_{k+1}]=\\frac{f[x_{k+1}]-f[x_k]}{x_{k+1}-x_k},$$\n",
    "$$f[x_k \\ x_{k+1} \\ x_{k+2}]=\\frac{f[x_{k+1} \\ x_{k+2}]-f[x_k \\ x_{k+1}]}{x_{k+2}-x_k},$$\n",
    "$$\\vdots$$\n",
    "Этот алгоритм можно отобразить в таблице, с которой легко обращаться. Для трех точек данных эта таблица\n",
    "\n",
    "$\\qquad\\qquad f[x_1]$\n",
    "\n",
    "$\\qquad\\qquad\\qquad\\quad f[x_1 \\ x_2]$\n",
    "\n",
    "$\\qquad\\qquad f[x_2]\\qquad\\qquad\\quad f[x_1 \\ x_2 \\ x_3]$\n",
    "\n",
    "$\\qquad\\qquad\\qquad\\quad f[x_2 \\ x_3]$\n",
    "\n",
    "$\\qquad\\qquad f[x_3]$\n",
    "\n",
    "Теперь мы можем прочитать коэффициент из первой строки. Когда добавляется еще одна точка данных, нам нужно вычислить только одну новую \"строку\" треугольника. Теперь определим некоторые функции, которые вычисляют интерполяционный полином с использованием формул Ньютона, а затем снова выполним приведенный выше пример, используя этот метод."
   ]
  },
  {
   "cell_type": "code",
   "execution_count": null,
   "metadata": {
    "scrolled": true
   },
   "outputs": [],
   "source": [
    "def newtonsDividedDifference(x_data,y_data):\n",
    "    \"\"\"Вычисляет коэффициенты интерполяционного полинома\n",
    "        из n точек данных, используя Интерполяционные формулы Ньютона.\n",
    "    Parameters:\n",
    "        x_data: float arr. Все x-значения набора данных.\n",
    "        y_data: float arr. Все y-значения набора данных.\n",
    "                x_data и y_data должна быть одинакового размера.\n",
    "    Возвращается:\n",
    "        c:      float arr. Коэффициенты интерполяционного полинома.\n",
    "    \"\"\"\n",
    "    n = len(x_data) - 1\n",
    "    c = y_data.copy()\n",
    "    for i in range(1, n + 1):\n",
    "        for j in range(n, i - 1 , -1):\n",
    "            c[j] = (c[j] - c[j - 1])/(x_data[j] - x_data[j - i])\n",
    "    return c\n",
    "\n",
    "def polyCoeff(x,x_data,c):\n",
    "    \"\"\"Возвращает многочлен в форме c_0+c_1*(x-x_1)+c_2*(x-x_1)(x-x_2)...,\n",
    "    где c_i = c[i] и x_i = x_data[i].\n",
    "    Параметры:\n",
    "        x_data: float arr. Все x-значения набора данных.\n",
    "        c:      float arr. Коэффициенты многочлена.\n",
    "        x:      float arr. ось x.\n",
    "    Возвращается:\n",
    "        P:      float arr. Полином, вычисленный в x.\n",
    "    \"\"\"\n",
    "    n = len(c) - 1\n",
    "    P = c[n]\n",
    "    for i in range( n - 1, -1, -1 ):\n",
    "        P = P*(x - x_data[i]) + c[i]\n",
    "    return P"
   ]
  },
  {
   "cell_type": "code",
   "execution_count": null,
   "metadata": {
    "scrolled": true
   },
   "outputs": [],
   "source": [
    "# Perform Newton's divided difference.\n",
    "c = newtonsDividedDifference(x_data, y_data)\n",
    "# Write out the interpolating polynomial.\n",
    "P = polyCoeff(x, x_data, c)\n",
    "\n",
    "# Plot the results.\n",
    "plt.figure()\n",
    "plt.plot(x, P, label='Interpolation polynomial')\n",
    "plt.plot(x_data, y_data, '*', label='Data points')\n",
    "plt.legend(), plt.xlabel('$x$'), plt.ylabel('$y$');"
   ]
  },
  {
   "cell_type": "markdown",
   "metadata": {},
   "source": [
    "## Аппроксимация сложной функции. Оценка ошибок\n",
    "Мы можем легко применить предыдущие обсуждения для аппроксимации (сложной) функции. Поскольку эта функция известна, мы можем вычислить ошибку.\n",
    "\n",
    "Попробуем создать приближение к тригонометрической функции\n",
    "$$f(x)=\\cos(x),$$\n",
    "с использованием набора равномерно распределенных оценок функций в качестве набора данных."
   ]
  },
  {
   "cell_type": "code",
   "execution_count": null,
   "metadata": {
    "scrolled": true
   },
   "outputs": [],
   "source": [
    "n = 6 # Количество точек.\n",
    "\n",
    "# Определит аппроксимируемую функцию.\n",
    "def f(x): return np.cos(x)\n",
    "# Определит значения по оси x.\n",
    "x = np.linspace(-np.pi,np.pi,500)\n",
    "# Постройт график функции.\n",
    "plt.plot(x,f(x),'--',label=r'$f(x)=\\cos(x)$.')\n",
    "\n",
    "# Оценки функций.\n",
    "x_data = np.linspace(-np.pi,np.pi,n)\n",
    "y_data = f(x_data)\n",
    "\n",
    "# Выполняет интерполяцию. Можно выбрать любой из предшествующих методов.\n",
    "# --Интерполяция Лагранжа.\n",
    "#P = lagrangeInterpolation(x_data,y_data,x)\n",
    "# --Интерполяционные формулы Ньютона\n",
    "c = newtonsDividedDifference(x_data,y_data)\n",
    "P = polyCoeff(x,x_data,c)\n",
    "\n",
    "# Построение графиков результатов и запись максимальной абсолютной ошибки.\n",
    "plt.plot(x,P,label='Interpolation polynomial.')\n",
    "plt.plot(x_data,y_data,'*',label='Data points.')\n",
    "plt.legend(), plt.xlabel('$x$'), plt.ylabel('$y$');\n",
    "E = max(abs(f(x)-P)), \n",
    "print(\"Максимальная абсолютная погрешность: E = %.3e.\" % (E))"
   ]
  },
  {
   "cell_type": "markdown",
   "metadata": {},
   "source": [
    "## Феномен Рунге.\n",
    "Попробуем аппроксимировать функцию\n",
    "$$f(x) = 20\\exp\\left(-20 x^2\\right)$$\n",
    "в интервале $x\\in [-1,1]$ полиномиальной интерполяцией. Начнем с интерполяции из равномерно распределенных оценок функций."
   ]
  },
  {
   "cell_type": "code",
   "execution_count": null,
   "metadata": {
    "scrolled": true
   },
   "outputs": [],
   "source": [
    "n = 13 # Количество оценочных точек.\n",
    "\n",
    "# Определит аппроксимируемую функцию.\n",
    "def f(x): return 20*np.exp(-20*x**2)\n",
    "\n",
    "# Определит значения по оси x.\n",
    "x = np.linspace(-1,1,500)\n",
    "# Постройт график функции.\n",
    "plt.plot(x, f(x), '--', label=r'$f(x) = 20\\exp\\left(-20 x^2\\right)$')\n",
    "\n",
    "# Оценки функций.\n",
    "x_data = np.linspace(-1, 1, n)\n",
    "y_data = f(x_data)\n",
    "\n",
    "# Выполняет интерполяцию. Можно выбрать любой из предшествующих методов.\n",
    "P = lagrangeInterpolation(x_data, y_data, x)\n",
    "#c = newtonsDividedDifference(x_data,y_data)\n",
    "#P = polyCoeff(x,x_data,c)\n",
    "\n",
    "# Построение графиков результатов и запись максимальной абсолютной ошибки.\n",
    "plt.plot(x, P, label='Interpolation polynomial')\n",
    "plt.plot(x_data, y_data, '*', label='Data points')\n",
    "plt.legend(), plt.xlabel('$x$'), plt.ylabel('$y$');\n",
    "E = max(abs(f(x)-P)); print(\"Максимальная абсолютная погрешность: E = %.3e.\" % (E))"
   ]
  },
  {
   "cell_type": "markdown",
   "metadata": {},
   "source": [
    "Из приведенного выше рисунка видно, что интерполяционный полином является хорошим приближением к функции, близкой к началу координат. Однако ближе к концу интервала интерполяции мы наблюдаем так называемый феномен Рунге. Чем больше используется оценка функции, тем выше становится ошибка. Попробуйте сами!\n",
    "\n",
    "Феномена Рунге можно избежать, более разумно выбрав оценку функции (интерполяция Чебышева) или используя так называемую сплайн-интерполяцию (см. Наш блокнот на [Cubic Splines](https://nbviewer.jupyter.org/urls/www.numfys.net/media/notebooks/cubic_splines.ipynb))."
   ]
  },
  {
   "cell_type": "markdown",
   "metadata": {},
   "source": [
    "## Многочлены Чебышева. Интерполяция Чебышева\n",
    "Для более полного обсуждения и выводов мы отсылаем вас к учебнику [1], который был использован в качестве основного источника в этом подразделе.\n",
    "\n",
    "Многочлен Чебышева $n$-го порядка на интервале $x\\in [-1,1]$ определяется как\n",
    "$$T_n(x)=\\cos(n \\arccos x).$$\n",
    "Используя некоторые тригонометрические соотношения, можно показать, что\n",
    "$$T_0 = 1$$\n",
    "$$T_1 = x$$\n",
    "$$T_2 = 2x^2-1$$\n",
    "$$T_3 = 4x^3-3x$$\n",
    "$$\\vdots$$\n",
    "На самом деле, можно вывести рекурсивную формулу\n",
    "$$T_{n+1}(x)=2xT_n(x)-T_{n-1}(x).$$\n",
    "Заметим, что корни многочленов Чебышева\n",
    "$$x_k = \\cos\\frac{\\pi \\left(2k-1\\right)}{2n},\\quad k=1,2,...,n.$$\n",
    "и что ведущий коэффициент равен $2^{n-1}$.\n",
    "Давайте визуализируем эти многочлены."
   ]
  },
  {
   "cell_type": "code",
   "execution_count": null,
   "metadata": {
    "scrolled": true
   },
   "outputs": [],
   "source": [
    "n = 5 # Число многочленов.\n",
    "x = np.linspace(-1,1,100) # ось x.\n",
    "\n",
    "# Построение многочленов Чебышева.\n",
    "# --- Используя рекурсивную формулу.\n",
    "T0 = [1]*len(x)\n",
    "T1 = x\n",
    "plt.plot(x, T0, label=r'$n = 0$')\n",
    "plt.plot(x, T1, label=r'$n = 1$')\n",
    "for i in range(2, n):\n",
    "    T2 = 2*x*T1 - T0\n",
    "    plt.plot(x, T2, label=r\"$n = %d$\"%(i))\n",
    "    T0 = T1; T1 = T2\n",
    "# --- Используя определение.\n",
    "#for i in range(0,n):\n",
    "#    plt.plot(x,np.cos(i*np.arccos(x)),label = r\"$n = %d$\" % i)\n",
    "\n",
    "# Установит текст рисунка.\n",
    "plt.legend(), plt.title('Chebyshev polynomials.'), plt.ylim([-1.1, 1.1]);"
   ]
  },
  {
   "cell_type": "markdown",
   "metadata": {},
   "source": [
    "Для простоты предположим, что мы имеем дело с интерполирующим полиномом на фиксированном интервале $x\\in[-1,1]$ (который легко обобщается). \n",
    "\n",
    "Можно показать, что если $f(x)$ является $n$ раз непрерывно дифференцируемой, то ошибка интерполяции задается\n",
    "$$f(x)-P(x)=\\frac{(x-x_1)(x-x_2)\\cdots (x-x_n)}{n!}f^{(n)}(c),$$\n",
    "где $c\\in [\\min(x,x_1,\\cdots,x_n),\\max(x,x_1,\\cdots,x_n)]$ [1].\n",
    "\n",
    "Ошибка интерполяции сама по себе является полиномом степени $n$ с некоторым максимальным значением на заданном интервале. Наша цель состоит в том, чтобы минимизировать эту ошибку, выбрав точки интерполяции определенным образом. К счастью, **теорема Чебышева** дает ответ.\n",
    "\n",
    "Точки интерполяции, которые минимизируют $\\max_{x\\in[-1,1]}|(x-x_1)(x-x_2)\\cdots (x-x_n)|$ это  \n",
    "$$x_i = \\cos\\frac{(2i-1)\\pi}{2n},\\quad i = 1,2,\\cdots, n,$$\n",
    "с минимальным значением $1/2^{n-1}$. На самом деле, можно показать, что минимальное значение\n",
    "$$(x-x_1)(x-x_2)\\cdots (x-x_n) = \\frac{1}{2^{n-1}}T_n(x).$$\n",
    "\n",
    "Давайте сделаем набросок доказательства. Пусть $P_n(x)$ - монический многочлен (коэффициент высшей степени равен 1). Предположим, что этот многочлен имеет меньший абсолютный максимум, чем $T_n(x)/2^{n-1}$, который также является моническим многочленом. Другими словами, $|P_n(x)|<|1/2^{n-1}|$, $x\\in[-1,1]$. Поскольку $T_n(x)$ чередуется между $-1$ и $1$ $n$ раз, $P_n(x)-T_n(x)/2^{n-1}$ имеет по крайней мере $n$ корней, что означает, что $P_n(x)-T_n(x)/2^{n-1}$ имеет степень не менее $n$. Это противоречие, так как $P_n(x)-T_n(x)/2^{n-1}$ должно иметь степень $n-1$ или меньше, потому что и $P_n(x)$, и $T_n(x)/2^{n-1}$ являются моническими полиномами степени $n$.\n",
    "\n",
    "Используя узлы Чебышева в качестве баз для интерполяции, ошибка интерполяции будет равномерно распределена по всему интервалу. Следующий код визуализирует обсуждение в этом разделе."
   ]
  },
  {
   "cell_type": "code",
   "execution_count": null,
   "metadata": {
    "scrolled": true
   },
   "outputs": [],
   "source": [
    "# Определит аппроксимируемую функцию.\n",
    "def f(x): return 20*np.exp(-20*x**2)\n",
    "\n",
    "x = np.linspace(-1, 1, 500) # ось x.\n",
    "n = 11 # Количество базовых точек.\n",
    "\n",
    "# Настройка подзаголовка с той же осью x.\n",
    "# Один для интерполяций и один для соответствующих ошибок.\n",
    "figs = newparams['figure.figsize']\n",
    "fig,(interpax,errorax) = plt.subplots(2, 1, sharex=True, figsize=(figs[0], figs[1]*2))\n",
    "interpax.plot(x, f(x), 'b--',label=r'$f(x) = 20\\exp\\left(-20 x^2\\right)$') # Построение графика функции.\n",
    "\n",
    "# Интерполяция с использованием равномерно распределенных базовых точек.\n",
    "x_data = np.linspace(-1,1,n); y_data = f(x_data)\n",
    "P = lagrangeInterpolation(x_data,y_data,x)\n",
    "interpax.plot(x, P, 'g', label='Uniformly disturbuted base points')\n",
    "interpax.plot(x_data, y_data, 'g*', label=' ')\n",
    "errorax.plot(x, P - f(x), 'g', label='Uniformly disturbuted base points')\n",
    "\n",
    "# Интерполяция с использованием узлов Чебышева в качестве базовых точек.\n",
    "x_data = np.cos((2*np.linspace(1, n, n) - 1)*np.pi/(2*n))\n",
    "y_data = f(x_data)\n",
    "P = lagrangeInterpolation(x_data, y_data,x)\n",
    "interpax.plot(x, P, 'm', label='Chebyshev nodes as base points')\n",
    "interpax.plot(x_data, y_data, 'm*', label=' ')\n",
    "errorax.plot(x, P - f(x), 'm', label='Chebyshev nodes as base points')\n",
    "interpax.legend()\n",
    "\n",
    "# Figure texts.\n",
    "interpax.set_title('Interpolations.'); errorax.set_title('Absolute interpolation error.')\n",
    "errorax.set_xlabel('$x$'); interpax.set_ylabel('$y$'); errorax.set_ylabel('Absolute error'); "
   ]
  },
  {
   "cell_type": "markdown",
   "metadata": {},
   "source": [
    "Если мы хотим использовать базовые точки Чебышева для общего интервала $x\\in[a,b]$, точки интерполяции \n",
    "$$x_i = \\frac{b+a}{2}+\\frac{b-a}{2}\\cos\\frac{(2i-1)\\pi}{2n},\\quad i = 1,2,\\cdots, n.$$"
   ]
  },
  {
   "cell_type": "markdown",
   "metadata": {},
   "source": [
    "## Интерполяция параметризованных кривых.\n",
    "Предыдущие обсуждения можно легко обобщить. Например, если мы хотим интерполировать кривую $\\vec C(t),\\; 0\\leq t \\leq 1$ по набору данных $(x_1,y_1,z_2), (x_2,y_2,z_2),..., (x_n,y_n,z_n)$, то можно использовать\n",
    "$$\\vec P_{n-1}(t) = \\sum_{j=1}^n\\vec x_jL_j(t),$$\n",
    "где\n",
    "$$L_j(t)=\\prod_{i = 0, i\\neq j}^n\\frac{t-t_i}{t_j-t_i}.$$\n",
    "Дискуссии о феномене Рунге и узлах Чебышева справедливы для значения параметра $t$, но тогда мы должны выбрать $a$ и $b$ как\n",
    "$$a = \\frac{\\cos\\left(\\frac{\\pi}{2n}\\right)-1}{2\\cos\\left(\\frac{\\pi}{2n}\\right)},\\quad b = \\frac{\\cos\\left(\\frac{\\pi}{2n}\\right)+1}{2\\cos\\left(\\frac{\\pi}{2n}\\right)},$$\n",
    "(а не 0 и 1, как можно было подумать).\n",
    "В следующем коде как равномерно распределенные узлы параметров, так и узлы параметров Чебышева ($t_i$) используются для интерполяции двух заданных наборов (произвольных) точек данных."
   ]
  },
  {
   "cell_type": "code",
   "execution_count": null,
   "metadata": {
    "scrolled": true
   },
   "outputs": [],
   "source": [
    "# Определит некоторые точки данных.\n",
    "x_data = [-0.5,-1.0,-0.5, 0.2, 1.5, 2.0, 1.0]\n",
    "y_data = [ 5.0, 3.7, 1.0, 1.0,-0.5, 1.5, 4.0]\n",
    "n = len(x_data) # Количество точек данных.\n",
    "\n",
    "# Значения параметра\n",
    "t = np.linspace(0, 1, 100)\n",
    "\n",
    "# Интерполяция кривой с использованием равномерно распределенных узлов параметров.\n",
    "t_i = np.linspace(0, 1, n) # Равномерно распределенные узлы параметров.\n",
    "Px = lagrangeInterpolation(t_i, x_data, t)\n",
    "Py = lagrangeInterpolation(t_i, y_data, t)\n",
    "plt.plot(Px, Py, 'g', label='Uniformly disturbuted nodes') # Построит график результата.\n",
    "\n",
    "# Интерполяция кривой с использованием узлов Чебышева в качестве узлов параметров.\n",
    "a = (np.cos(np.pi/(2*n)) - 1)/(2*np.cos(np.pi/(2*n)))\n",
    "b = (np.cos(np.pi/(2*n)) + 1)/(2*np.cos(np.pi/(2*n)))\n",
    "t_i = (b + a)/2 + (b - a)/2*np.cos((2*n - 2*np.linspace(1, n, n) + 1)*np.pi/(2*n)) # Узлы Чебышева.\n",
    "Px = lagrangeInterpolation(t_i, x_data, t)\n",
    "Py = lagrangeInterpolation(t_i, y_data, t)\n",
    "plt.plot(Px, Py, 'm', label='Chebyshev nodes') # Построит график результата.\n",
    "\n",
    "# Построит точки данных и установит текст рисунка.\n",
    "plt.plot(x_data, y_data, 'r*', label='Data points')\n",
    "plt.title('Polynomial curve interpolation of a set data points')\n",
    "plt.legend(), plt.xlabel('$x$'), plt.ylabel('$y$');"
   ]
  },
  {
   "cell_type": "markdown",
   "metadata": {},
   "source": [
    "Как и ранее, мы также можем аппроксимировать (сложную) кривую. Попробуем аппроксимировать кривую\n",
    "$$\\vec C(t)=\\left(\\frac{r^2-3}{r^2+1},\\frac{r^3-3r}{r^2+1}\\right), \\quad r\\in[-5/2,5/2],$$\n",
    "используя как равномерно распределенные базовые узлы, так и базовые узлы Чебышева."
   ]
  },
  {
   "cell_type": "code",
   "execution_count": null,
   "metadata": {
    "scrolled": true
   },
   "outputs": [],
   "source": [
    "# Определит аппроксимируемую кривую.\n",
    "# В качестве небольшого трюка мы рассчитаем с 0<t<1 и в определении функции преобразуем в r.\n",
    "def C(t):\n",
    "    r = 5*(t - 0.5)\n",
    "    return (r**2 - 3)/(r**2 + 1), (r**3 - 3*r)/(r**2 + 1)\n",
    "\n",
    "n = 15 # Количество точек данных.\n",
    "t = np.linspace(0, 1, 1000) # Значение параметра.\n",
    "\n",
    "# рисует f(x).\n",
    "x,y = C(t)\n",
    "plt.plot(x, y,\n",
    " label=r'$\\vec C(t)=\\left(\\frac{r^2-3}{r^2+1},\\frac{r^3-3r}{r^2+1}\\right), \\quad r\\in[-5/2,5/2]$')\n",
    "\n",
    "# Интерполяция кривой с использованием равномерно распределенных узлов параметров.\n",
    "t_i = np.linspace(0, 1, n) # Равномерно распределенные узлы параметров.\n",
    "x_data,y_data = C(t_i)\n",
    "Px = lagrangeInterpolation(t_i, x_data, t)\n",
    "Py = lagrangeInterpolation(t_i, y_data, t)\n",
    "plt.plot(Px, Py, 'g', label='Uniformly disturbuted nodes')\n",
    "plt.plot(x_data, y_data, 'g*', label=' ')\n",
    "# Вычисление максимальной абсолютной ошибки.\n",
    "E = max(abs(((Px - x)**2 + (Py - y)**2)**0.5))\n",
    "print(\"Равномерно распределенные узлы: E = %.3e.\" % (E))\n",
    "\n",
    "# Интерполяция кривой с использованием узлов Чебышева в качестве узлов параметров.\n",
    "a = (np.cos(np.pi/(2*n))-1)/(2*np.cos(np.pi/(2*n)))\n",
    "b = (np.cos(np.pi/(2*n))+1)/(2*np.cos(np.pi/(2*n)))\n",
    "t_i = (b + a)/2 + (b - a)/2*np.cos((2*n-2*np.linspace(1, n, n) + 1)*np.pi/(2*n))\n",
    "x_data,y_data = C(t_i)\n",
    "Px = lagrangeInterpolation(t_i, x_data, t)\n",
    "Py = lagrangeInterpolation(t_i, y_data, t)\n",
    "plt.plot(Px, Py, 'm', label='Chebyshev nodes')\n",
    "plt.plot(x_data, y_data, 'm*', label=' ')\n",
    "# Вычисление максимальной абсолютной ошибки.\n",
    "E = max(abs(((Px-x)**2+(Py-y)**2)**0.5))\n",
    "print(\"Chebyshev nodes: E = %.3e.\"%(E))\n",
    "\n",
    "# Установит текст рисунка.\n",
    "plt.title('Approximation of a curve using polynomial interpolation')\n",
    "plt.legend(), plt.xlabel('$x$'), plt.ylabel('$y$'), plt.axis('equal');"
   ]
  },
  {
   "cell_type": "markdown",
   "metadata": {},
   "source": [
    "### Источники для дальнейшего чтения\n",
    "[1] Sauer, T.: Numerical Analysis international edition, second edition, Pearson 2014\n",
    "\n",
    "[2] Weisstein, Eric W. \"Newton's Divided Difference Interpolation Formula.\" From MathWorld--A Wolfram Web Resource. http://mathworld.wolfram.com/NewtonsDividedDifferenceInterpolationFormula.html (acquired March 28. 2016)\n",
    "\n",
    "[3] Archer, Branden and Weisstein, Eric W. \"Lagrange Interpolating Polynomial.\" From MathWorld--A Wolfram Web Resource. http://mathworld.wolfram.com/LagrangeInterpolatingPolynomial.html (acquired March 28. 2016)\n",
    "\n",
    "Scipy has a number of different interpolation functions. Check it out:\n",
    "http://docs.scipy.org/doc/scipy/reference/tutorial/interpolate.html (acquired March 18. 2016)"
   ]
  }
 ],
 "metadata": {
  "kernelspec": {
   "display_name": "Python 3",
   "language": "python",
   "name": "python3"
  },
  "language_info": {
   "codemirror_mode": {
    "name": "ipython",
    "version": 3
   },
   "file_extension": ".py",
   "mimetype": "text/x-python",
   "name": "python",
   "nbconvert_exporter": "python",
   "pygments_lexer": "ipython3",
   "version": "3.7.4"
  }
 },
 "nbformat": 4,
 "nbformat_minor": 1
}
