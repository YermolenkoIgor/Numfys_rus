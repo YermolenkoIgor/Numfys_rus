{
 "cells": [
  {
   "cell_type": "markdown",
   "metadata": {},
   "source": [
    "<style>\n",
    "@import url(https://www.numfys.net/static/css/nbstyle.css);\n",
    "</style>\n",
    "<a href=\"https://www.numfys.net\"><img class=\"logo\" /></a>\n",
    "\n",
    "# Базовое построение графиков в Python с использованием Matplotlib\n",
    "\n",
    "### Modules - Basics\n",
    "<section class=\"post-meta\">\n",
    "By Magnus A. Gjennestad, Vegard Hagen, Aksel Kvaal, Morten Vassvik,<br />\n",
    "Trygve B. Wiig, Peter Berg, Thorvald Ballestad, Niels Henrik Aase, Eilif Sommer Øyre and Jon Andreas Støvneng.\n",
    "</section>\n",
    "Last edited: October 15th 2019\n",
    "\n",
    "___"
   ]
  },
  {
   "cell_type": "markdown",
   "metadata": {},
   "source": [
    "Ниже приводится краткое введение в построение графиков на Python с использованием библиотеки matplotlib.\n",
    "Как сказано на [домашней странице matplotlib](http://matplotlib.org): \n",
    ">\"matplotlib пытается сделать легкие вещи легкими, а сложные - возможными.\"\n",
    "\n",
    "Давайте начнем!"
   ]
  },
  {
   "cell_type": "code",
   "execution_count": null,
   "metadata": {},
   "outputs": [],
   "source": [
    "import matplotlib.pyplot as plt\n",
    "# Tего команда импортирует pyplot-пакет matplotlib и определяет plt как псевдоним для pyplot\n",
    "import numpy as np\n",
    "# Это импортирует пакет NumPy (Числовой Python), псевдоним которого - np."
   ]
  },
  {
   "cell_type": "markdown",
   "metadata": {},
   "source": [
    "Выше мы импортировали \"pyplot\" (пакет \"matplotlib\", содержащий все полезные функции для построения графиков) и \"numpy\", пакет для научных вычислений в Python.\n",
    "Вы можете узнать больше о \"numpy\" [здесь](https://nbviewer.jupyter.org/urls/www.numfys.net/media/notebooks/introduction_to_numpy.ipynb).\n",
    "Кроме того, обратите внимание, как мы дали более короткие псевдонимы как для импорта \"numpy\", так и для импорта \"pyplot\", чтобы сэкономить немного текста."
   ]
  },
  {
   "cell_type": "markdown",
   "metadata": {},
   "source": [
    "### Самые основы построения графиков\n",
    "Мы используем функцию `plt.plot` для построения графика.\n",
    "Эта команда принимает два аргумента: список значений $x$ и список значений $y$.\n",
    "Каждая пара значений $x$- и $y$ - будет точкой, и между этими точками будет проведена линия."
   ]
  },
  {
   "cell_type": "code",
   "execution_count": null,
   "metadata": {},
   "outputs": [],
   "source": [
    "# Построим некоторые произвольные значения x и y\n",
    "x = [1, 2, 4, 6]  # Список значений x\n",
    "y = [0, 4, -2, 8] # Список соответствующих значений y\n",
    "plt.plot(x, y)    # Функция для построения точек x и y\n",
    "plt.show()        # Не требуется в блокноте, но требуется при запуске python'а из командной строки"
   ]
  },
  {
   "cell_type": "markdown",
   "metadata": {},
   "source": [
    "### Построение функции"
   ]
  },
  {
   "cell_type": "markdown",
   "metadata": {},
   "source": [
    "__Задание:__ \n",
    "\n",
    "Построить график функции $f$\n",
    "$$y=f(x)$$\n",
    "на интервале\n",
    "$$x=[a,b].$$"
   ]
  },
  {
   "cell_type": "markdown",
   "metadata": {},
   "source": [
    "__Пример:__\n",
    "\n",
    "Мы хотели бы построить график функции\n",
    "$$f(x)=3x^2+x-1$$\n",
    "для интервала\n",
    "$$x=[-1,2].$$\n",
    "\n",
    "__Шаг 1: Определение диапазона $x$__\n",
    "\n",
    "Мы используем команду"
   ]
  },
  {
   "cell_type": "code",
   "execution_count": null,
   "metadata": {},
   "outputs": [],
   "source": [
    "x = np.linspace(-1, 2, 301)  # Массив из 301 равномерно распределенных точек между -1 и 2"
   ]
  },
  {
   "cell_type": "markdown",
   "metadata": {},
   "source": [
    "__Шаг 2: Использование команды `plt.plot`__\n",
    "\n",
    "Как и выше, мы используем `plt.plot` для построения функции.\n",
    "\n",
    "В нашем случае нам нужно написать"
   ]
  },
  {
   "cell_type": "code",
   "execution_count": null,
   "metadata": {},
   "outputs": [],
   "source": [
    "plt.plot( x, 3*np.power(x,2) + x - 1 )  # Помните, что первый аргумент - это значения x, второй - значения y\n",
    "plt.show()"
   ]
  },
  {
   "cell_type": "markdown",
   "metadata": {},
   "source": [
    "__Дальнейшие шаги: добавление меток осей, легенды, названия участка и т. д.__\n",
    "\n",
    "Мы часто хотим добавить метки осей, легенду, заголовок, сетку и т. д.\n",
    "Это делается с помощью следующих команд:"
   ]
  },
  {
   "cell_type": "code",
   "execution_count": null,
   "metadata": {},
   "outputs": [],
   "source": [
    "plt.plot(x, 3*np.power(x,2)+x-1, label=\"$f(x)$\") # label - это текст, который появится в легенде\n",
    "plt.ylabel('$f(x)$')                    # Подпись на оси y.\n",
    "                                        # Символы доллара означают использование латеха\n",
    "plt.xlabel('$x$')                       # Подпись на оси x\n",
    "plt.title('Plot of $f(x)=3x^2+x-1$')    # Название графика\n",
    "plt.legend()                            # добавить обозначения\n",
    "plt.grid()                              # Добавить сетку\n",
    "plt.show()"
   ]
  },
  {
   "cell_type": "markdown",
   "metadata": {},
   "source": [
    "Прокомментируйте и раскомментируйте различные команды, чтобы увидеть, как они влияют на сюжет. Также обратите внимание, как мы использовали синтаксис $\\LaTeX$ для математики в метках и заголовках, инкапсулируя текст в знаках \"$\".\n",
    "\n",
    "Вы также можете быстро изменить размер фигуры с помощью следующей команды:"
   ]
  },
  {
   "cell_type": "code",
   "execution_count": null,
   "metadata": {},
   "outputs": [],
   "source": [
    "plt.figure(figsize=(16, 8))            # Create figure and change size\n",
    "\n",
    "plt.plot(x, 3*np.power(x,2)+x-1, label=\"$f(x)$\") # label - это текст, который появится в легенде\n",
    "plt.ylabel('$f(x)$')                    # Подпись на оси y.\n",
    "plt.xlabel('$x$')                       # Подпись на оси x\n",
    "plt.title('Plot of $f(x)=3x^2+x-1$')    # Название графика\n",
    "plt.legend()                            # добавить обозначения\n",
    "plt.grid()                              # Добавить сетку\n",
    "plt.show()"
   ]
  },
  {
   "cell_type": "markdown",
   "metadata": {},
   "source": [
    "Команда `plt.figure()` также позволяет задать другие параметры, связанные с внешним видом фигуры.\n",
    "В большинстве других модулей и примеров в NumFys мы установили общие параметры рисунка в начале модуля/примера, используя следующие строки кода:"
   ]
  },
  {
   "cell_type": "code",
   "execution_count": null,
   "metadata": {},
   "outputs": [],
   "source": [
    "# Устанавливает параметры рисунка для всех экземпляров\n",
    "newparams = {'axes.labelsize': 11, 'axes.linewidth': 1, 'savefig.dpi': 300,\n",
    "             'lines.linewidth': 1.0, 'figure.figsize': (16, 8),\n",
    "             'ytick.labelsize': 10, 'xtick.labelsize': 10,\n",
    "             'ytick.major.pad': 5, 'xtick.major.pad': 5,}\n",
    "plt.rcParams.update(newparams)"
   ]
  },
  {
   "cell_type": "markdown",
   "metadata": {},
   "source": [
    "### Несколько функций на одном графике\n",
    "\n",
    "Построим график\n",
    "$$g(x)=3x^3+1$$\n",
    "в дополнение к нашей предыдущей функции:"
   ]
  },
  {
   "cell_type": "code",
   "execution_count": null,
   "metadata": {},
   "outputs": [],
   "source": [
    "plt.plot(x, 3*np.power(x,2)+x-1, label=\"$f(x)$\")\n",
    "plt.plot(x, 3*np.power(x,3)+1, label=\"$g(x)$\")\n",
    "# Create legend\n",
    "plt.legend()\n",
    "plt.show()"
   ]
  },
  {
   "cell_type": "markdown",
   "metadata": {},
   "source": [
    "## Заключительное примечание\n",
    "Существует гораздо больше команд и опций для построения функций, чем представлено в этом модуле.\n",
    "Однако мы рассмотрели самые важные из них.\n",
    "\n",
    "Мы советуем вам использовать ссылки [matplotlib](https://matplotlib.org/) и [pyplot](https://matplotlib.org/users/pyplot_tutorial.html), когда требуются дополнительные функции построения графиков."
   ]
  }
 ],
 "metadata": {
  "kernelspec": {
   "display_name": "Python 3",
   "language": "python",
   "name": "python3"
  },
  "language_info": {
   "codemirror_mode": {
    "name": "ipython",
    "version": 3
   },
   "file_extension": ".py",
   "mimetype": "text/x-python",
   "name": "python",
   "nbconvert_exporter": "python",
   "pygments_lexer": "ipython3",
   "version": "3.7.4"
  }
 },
 "nbformat": 4,
 "nbformat_minor": 4
}
