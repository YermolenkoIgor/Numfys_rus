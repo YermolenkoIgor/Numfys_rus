{
 "cells": [
  {
   "cell_type": "markdown",
   "metadata": {},
   "source": [
    "<style>\n",
    "@import url(https://www.numfys.net/static/css/nbstyle.css);\n",
    "</style>\n",
    "<a href=\"https://www.numfys.net\"><img class=\"logo\" /></a>\n",
    "\n",
    "# Тригонометрическая интерполяция\n",
    "\n",
    "### Modules - Curve Fitting\n",
    "<section class=\"post-meta\">\n",
    "By Jonas Tjemsland, Andreas Krogen, Håkon Ånes and Jon Andreas Støvneng\n",
    "</section>\n",
    "Last edited: January 26th 2018 \n",
    "\n",
    "___"
   ]
  },
  {
   "cell_type": "markdown",
   "metadata": {},
   "source": [
    "### Вступление\n",
    "\n",
    "Тригонометрический полином степени $K$ может быть записан как сумма синусов и косинусов заданных периодов\n",
    "\n",
    "$$\n",
    "P_K(t)=a_0 + \\sum_{k=1}^Ka_k\\cos(kt)+\\sum_{k=1}^Kb_k\\sin(kt).\n",
    "$$\n",
    "\n",
    "Эта форма интерполяции особенно подходит для периодических функций. Цель тригонометрической интерполяции состоит в вычислении коэффициентов $2n+1$ $a_0,a_1,...,a_K,b_1,b_2,...,b_K$, таких, что функция $P_K(t)$ проходит через заданный набор точек данных. Здесь мы предполагаем, что точки данных расположены на равном расстоянии друг от друга. Одним из способов решения этой проблемы является выполнение полиномиальной интерполяции на единичной окружности в комплексной плоскости, т.е. выполнение полиномиальной интерполяции на\n",
    "\n",
    "$$\n",
    "P(t)=\\sum c_kz^t,\n",
    "$$\n",
    "\n",
    "где $c_k=a_k+ib_k$ и $z=e^{it}$. Этот подход используется в работе [1]. Таким образом, обсуждение полиномиальной интерполяции в некоторой степени может быть рассмотрено с использованием тригонометрической интерполяции. Однако тригонометрическая интерполирующая функция $P(t)$, очевидно, не уникальна, поскольку $e^{it} = e^{i(t + 2\\pi)} = e^{i(t + 4\\pi)} =$ ..., что требует дальнейших манипуляций.\n",
    "\n",
    "Для обсуждения полиномиальной интерполяции (Лагранжа, Чебышева, Ньютона, явления Рунге и т.д.) Мы предлагаем заглянуть в нашу записную книжку [Polynomial Interpolation](https://nbviewer.jupyter.org/urls/www.numfys.net/media/notebooks/polynomial_interpolation.ipynb). Здесь мы подходим к решению с использованием дискретных преобразований Фурье (DFT), как в [2]. Следовательно, некоторые базовые знания о DFT будут полезны, которые, например, можно просмотреть в другой записной книжке под названием [Discrete Fourier Transform and Fast Fourier Transform](https://nbviewer.jupyter.org/urls/www.numfys.net/media/notebooks/discrete_fourier_transform.ipynb).\n",
    "\n",
    "Тогда ладно. Как всегда, мы начинаем с импорта необходимых библиотек и устанавливаем общие параметры рисунка."
   ]
  },
  {
   "cell_type": "code",
   "execution_count": null,
   "metadata": {},
   "outputs": [],
   "source": [
    "# Import libraries\n",
    "import numpy as np\n",
    "import matplotlib.pyplot as plt\n",
    "import scipy.fftpack as fft\n",
    "%matplotlib inline"
   ]
  },
  {
   "cell_type": "code",
   "execution_count": null,
   "metadata": {},
   "outputs": [],
   "source": [
    "# Приведение унитарных чисел к действительным числам приведет к ошибкам\n",
    "# из-за ошибок числового округления. Поэтому мы отключаем \n",
    "# предупреждающие сообщения.\n",
    "import warnings\n",
    "warnings.filterwarnings('ignore')\n",
    "\n",
    "# Set common figure parameters\n",
    "newparams = {'figure.figsize': (16, 6), 'axes.grid': True,\n",
    "             'lines.linewidth': 1.5, 'lines.markersize': 10,\n",
    "             'font.size': 14}\n",
    "plt.rcParams.update(newparams)"
   ]
  },
  {
   "cell_type": "markdown",
   "metadata": {},
   "source": [
    "### Обобщение интерполяции\n",
    "\n",
    "Предположим,что заданный набор $n$ точек данных $(t_i, x_i)$, где $i=0,1,..., n-1$, и пусть $f_0(t), f_1(t),...,f_{n-1}(t)$ заданы функции $t$. Теперь мы требуем, чтобы матрица $n\\times n$ \n",
    "\n",
    "$$\n",
    "A=\\begin{bmatrix}\n",
    "f_0(t_0)&\\cdots&f_0(t_{n-1})\\\\\n",
    "\\vdots&\\ddots&\\vdots\\\\\n",
    "f_{n-1}(t_0)&\\cdots&f_{n-1}(t_{n-1})\n",
    "\\end{bmatrix},\n",
    "$$\n",
    "\n",
    "была унитарной. То есть, $A^{-1}=\\overline{A}^T$. Если $A$ вещественная, то $A^{-1}=A^T$ и матрица ортогональна. Теперь мы определяем $\\vec y=A\\vec x$, что подразумевает, что $\\vec x=\\overline A^T \\vec y$. Записываем в терминах сумм $x_j=\\sum_{k=0}^{n-1}y_k\\overline{f_k(t_j)}.$\n",
    "Таким образом, функция\n",
    "\n",
    "$$\n",
    "F(t)=\\sum_{k=0}^{n-1}y_k\\overline{f_k(t)},\n",
    "$$\n",
    "\n",
    "интерполирует заданный набор данных! Если $A$ является вещественной $n\\times n$ ортогональной матрицей, то\n",
    "\n",
    "$$\n",
    "F(t)=\\sum_{k=0}^{n-1}y_kf_k(t).\n",
    "$$\n",
    "\n",
    "Поскольку DFT можно записать в виде унитарной матрицы $F_n$, мы можем использовать ее для интерполяции заданного набора данных."
   ]
  },
  {
   "cell_type": "markdown",
   "metadata": {},
   "source": [
    "### От дискретного преобразования Фурье к тригонометрической интерполяции\n",
    "\n",
    "Из ранее упомянутой записной книжки по DFT у нас есть отличный алгоритм быстрого преобразования Фурье (FFT) для вычисления\n",
    "\n",
    "$$\n",
    "x_j = \\frac{1}{n}\\sum_{k=0}^{n-1}y_ke^{i2\\pi kj/n},\n",
    "$$\n",
    "\n",
    "который легко можно переписать как\n",
    "\n",
    "$$\n",
    "x_j=\\sum_{k=0}^{n-1}y_k\\frac{\\exp\\left[\\frac{i2\\pi k(t_j-c)}{d-c}\\right]}{n},\n",
    "$$\n",
    "\n",
    "где $t_j=c+j(d-c)/n$ для $j = 0, 1, ..., n-1$ для заданного интервала $[c,d]$. Предположим, что $\\vec x = (x_0,x_1,...,x_{n-1})$ - это известный набор точек данных. Затем сложная функция\n",
    "\n",
    "$$\n",
    "Q(t)=\\frac{1}{n}\\sum_{k=0}^{n-1}y_k\\exp\\left[\\frac{i2\\pi k(t-c)}{d-c}\\right]\n",
    "$$\n",
    "\n",
    "удовлетворяет $Q(t_j)=x_j$ для $j=0,1,...,n-1$. Другими словами, $Q(t)$ интерполирует множество $\\{(x_j,t_j); \\,j=0,1,...,n-1\\}$, а коэффициенты интерполяции определяются преобразованием Фурье! Обратите внимание, что $t_i$ должен располагаться на равном расстоянии друг от друга. Как правило, это не требуется, но это упрощает дело."
   ]
  },
  {
   "cell_type": "code",
   "execution_count": null,
   "metadata": {},
   "outputs": [],
   "source": [
    "def trigInterp(x, c=0, d=1, N=100):\n",
    "    \"\"\"Вычисляет тригонометрический полином степени n-1, который интерполирует\n",
    "    набор из n комплексных (или реальных) точек данных. Точки данных могут быть записаны\n",
    "    как (t_i,x_i), i=0,1,2,..., где t_i равномерно распределены на интервале\n",
    "    [c,d].\n",
    "    \n",
    "    :x: complex or float numpy array. Data points.\n",
    "    :c: float. Start value t-axis. t[0].\n",
    "    :d: float. End value t-axis. t[N-1].\n",
    "    :N: int. Количество оценок функции интерполирующей функции.\n",
    "    :returns: complex64 numpy array. Вторая ось интерполирующей функции.\n",
    "    \"\"\"\n",
    "    t = np.linspace(c, d, N)  # t-values, first axis\n",
    "    n = len(x)  # Number of data points\n",
    "    y = fft.fft(x)  # Interpolating coefficients\n",
    "    \n",
    "    # Evaluate sum\n",
    "    Q = np.zeros(N, np.complex64)\n",
    "    for k in range(0, n):\n",
    "        Q = Q + y[k]*np.exp(2j*np.pi*k*(t-c)/(d-c))\n",
    "        \n",
    "    return Q/n"
   ]
  },
  {
   "cell_type": "markdown",
   "metadata": {},
   "source": [
    "Давайте попробуем на примере. Для простоты мы позволяем точкам данных $\\vec x$ быть вещественными, хотя приведенная выше функция может использоваться и для еомплексных точек данных."
   ]
  },
  {
   "cell_type": "code",
   "execution_count": null,
   "metadata": {},
   "outputs": [],
   "source": [
    "x = np.random.randint(-10, 10, 10)  # Data points\n",
    "c, d = 1, 2  # Interval for t\n",
    "N = 200  # Number of function evaluations\n",
    "\n",
    "# Вычислит кривую интерполяции\n",
    "Q = trigInterp(x, c, d, N)\n",
    "\n",
    "# Plot results\n",
    "plt.figure()\n",
    "plt.plot(np.linspace(c, d, len(Q)), Q, label=r'Interpolation curve, $Q(t)$')\n",
    "plt.plot(np.linspace(c, d, len(x), False), x, 'mo', label='Data points, $x_k$')\n",
    "plt.xlabel('$t$'), plt.ylabel('$x$'), plt.title('Trigonometric interpolation')\n",
    "plt.legend();"
   ]
  },
  {
   "cell_type": "markdown",
   "metadata": {},
   "source": [
    "### Улучшаем алгоритм – используем периодичность и удаление высоких частот\n",
    "\n",
    "Используя формулу Эйлера, мы можем записать $Q(t)=P(t)+iI(t)$. В следующих обсуждениях мы будем предполагать, что элементы $x_j$ вещественны, так что $Q(t)=P(t)$, и пусть $y_k=a_k+ib_k$. Следующее обсуждение может быть применено и к $I(t)$. Из определения DFT ясно, что $y_0$ должен быть вещественным и $y_{n-k} = \\overline{ y_k}$, если каждый элемент в $x$ вещественен. Кроме того, мы можем использовать периодичность $\\cos(2\\pi n-r)=\\cos(r)$ и $\\sin(2\\pi n-r)=-\\sin(r)$, чтобы сделать более эффективный алгоритм вычисления интерполяционной кривой. К настоящему времени должно быть ясно, что тригонометрический интерполирующий полином не уникален, как объясняется во введении.\n",
    "\n",
    "Кривая интерполяции становится\n",
    "\n",
    "$$\n",
    "Q(t)=P_n(t)=\\frac{1}{n}\\sum_{k=0}^{n-1}\\left(a_k \\cos\\frac{2\\pi k(t-c)}{d-c}-b_k \\sin\\frac{2\\pi k(t-c)}{d-c}\\right).\n",
    "$$\n",
    "\n",
    "Если $n$ четно, мы можем упростить ее\n",
    "\n",
    "$$\n",
    "P_{n,\\text{even}}(t)=\\frac{a_0}{n}+\\frac{2}{n}\\sum_{k=1}^{n/2-1}\\left(a_k \\cos\\frac{2\\pi k(t-c)}{d-c}-b_k \\sin\\frac{2\\pi k(t-c)}{d-c}\\right)+\\frac{a_{n/2}}{\\sqrt n}\\cos \\frac{n\\pi(t-c)}{d-c},\n",
    "$$\n",
    "\n",
    "таким образом, вдвое сокращается количество необходимых вычислений. Обратите внимание, что этот интерполирующий полином не такой, как в предыдущем разделе. Все более короткие периоды не включены, и, таким образом, результат будет несколько более плавным. Если $n$ нечетно, кривая интерполяции становится\n",
    "\n",
    "$$\n",
    "P_{n,\\text{odd}}(t)=\\frac{a_0}{n}+\\frac{2}{n}\\sum_{k=1}^{(n-1)/2}\\left(a_k \\cos\\frac{2\\pi k(t-c)}{d-c}-b_k \\sin\\frac{2\\pi k(t-c)}{d-c}\\right).\n",
    "$$\n",
    "\n",
    "Эти выражения могут быть вычислены и нанесены на график, как и раньше. Однако мы можем сделать еще лучше. Мы будем рассматривать коэффициенты $P(t)$ как коэффициенты тригонометрического полинома порядка $N\\geq n$. Другими словами, $P_n(t)=P_N(t)$, где мы устанавливаем $a_k=b_k=0$ для $k=n/2+1,n/2+1,...,N/2$ и $a_k+ib_k=y_k$ для $k=0,1,...,n/2$. Если мы выполним обратное преобразование Фурье $\\frac{N}{n}P_N(t)$, мы получим $N$ точек данных, лежащих на $P(t)$! Давайте сделаем это и посмотрим, как оно работает."
   ]
  },
  {
   "cell_type": "code",
   "execution_count": null,
   "metadata": {},
   "outputs": [],
   "source": [
    "def fastTrigInterp(x,c,d,N=100):\n",
    "    \"\"\" Вычисляет тригонометрический полином степени n/2 (n четно) или\n",
    "    (n-1)/2 (n нечетно) , который интерполирует набор из n реальных точек данных. Точки\n",
    "    данных могут быть записаны как (t_i,x_i), i=0,1,2,..., где t_i\n",
    "    равномерно расположены на интервале [c,d].\n",
    "    \n",
    "    :x: complex or float numpy array. Data points.\n",
    "    :c: float. Start value t-axis. t[0].\n",
    "    :d: float. End value t-axis. t[N-1].\n",
    "    :N: int. Number of function evaluations of the interpolating function.\n",
    "    :returns: float numpy array. Second axis of the interpolating function.\n",
    "    \"\"\"\n",
    "    n = len(x)  # Number of data points\n",
    "    y = fft.fft(x)  # Interpolating coefficients\n",
    "    \n",
    "    # Interpolating coefficients as viewed as a\n",
    "    # trigonometric polynomial of order N.\n",
    "    yp = np.zeros(N, np.complex64)\n",
    "    yp[0:int(n/2)] = y[0:int(n/2)]\n",
    "    yp[N - int(n/2):N] = y[int(n/2):n]\n",
    "\n",
    "    return np.real(fft.ifft(yp))*N/n"
   ]
  },
  {
   "cell_type": "markdown",
   "metadata": {},
   "source": [
    "Давайте опробуем нашу новую функцию интерполяции на том же наборе данных, что и выше."
   ]
  },
  {
   "cell_type": "code",
   "execution_count": null,
   "metadata": {},
   "outputs": [],
   "source": [
    "# Calculate interpolation curve\n",
    "xp = fastTrigInterp(x, c, d, N)\n",
    "\n",
    "# Plot results\n",
    "plt.figure()\n",
    "plt.plot(np.linspace(c, d, N, False), xp, label=r'Interpolation curve, $Q(t)$')\n",
    "plt.plot(np.linspace(c, d, len(x), False), x, 'mo', label='Data points, $x_k$')\n",
    "plt.xlabel('$t$'), plt.ylabel('$x$'), plt.title('Trigonometric interpolation')\n",
    "plt.legend();"
   ]
  },
  {
   "cell_type": "markdown",
   "metadata": {},
   "source": [
    "Используя периодичность точек данных и исключая более высокие частоты, мы ясно видим, что кривая интерполяции $Q(t)$ является более гладкой и, следовательно, соответствует точкам данных \"лучше\", чем наша предыдущая кривая $Q(t)$.\n",
    "\n",
    "### Подгонка по методу наименьших квадратов\n",
    "\n",
    "Когда количество точек данных становится большим, бесполезно подгонять модель в поисках избыточной сложности. Мы часто вместо этого заинтересованы в подгонке аппроксимированной кривой. Это часто делается при анализе измерений.\n",
    "\n",
    "Задача наименьших квадратов [4] для этой установки может быть сформулирована следующим образом. Учитывая линейную систему $A_m\\vec x=\\vec y$ уравнений $m$, нужно найти вектор $\\vec x$, который минимизирует $||\\vec y-A\\vec x||$. Другими словами, у нас есть противоречивая система уравнений $m$, которую мы хотим решить \"как можно лучше\". Можно показать, что для каждой линейной системы $A_m\\vec x=\\vec y$ соответствующая нормальная система $A_m^TA_m\\vec x = A_m^T \\vec y$ согласована. Более того, все решения нормальной системы являются решениями наименьших квадратов $A_m\\vec x=\\vec y$.\n",
    "\n",
    "Давайте применим это к приведенной выше обобщенной интерполяции. $A_m$ - это матрица первых $m$ строк $A$. Поскольку $A$ унитарна (и ортогональна, если $A$ вещественна), векторы столбцов и векторы строк $A$ образуют ортонормированные множества. Аналогично, векторы столбцов и векторы строк $A_m$ будут образовывать ортонормированные множества. Таким образом, нормальное уравнение становится\n",
    "\n",
    "$$\n",
    "A_m^TA_m\\vec x = I\\vec x = \\vec x = A_m^T \\vec y.\n",
    "$$\n",
    "\n",
    "Это означает, что решение наименьших квадратов для $F_n(t)=\\sum_{k=0}^{n-1}y_kf_k(t)$, использующее только первые $m$ уравнений, является\n",
    "\n",
    "$$\n",
    "F_m(t)=\\sum_{k=0}^{m-1}y_kf_k(t).\n",
    "$$\n",
    "\n",
    "Для случая тригонометрической интерполяции это означает, что решение наименьших квадратов степени $m$ просто выполняется путем фильтрации членов $n-m$ самых высоких частот. Эти аргументы справедливы как для функций `trigInterp`, так и для функций `fastTrigInterp` выше. Теперь мы собираемся создать функцию, вычисляющую решение наименьших квадратов, основанное на последнем."
   ]
  },
  {
   "cell_type": "code",
   "execution_count": null,
   "metadata": {},
   "outputs": [],
   "source": [
    "def leastSquaresTrig(x, m, c=0, d=1, N=100):\n",
    "    \"\"\"Вычисляет соответствие степени тригонометрического полинома наименьших квадратов\n",
    "    около m/2 из n реальных точек данных. Точки данных могут быть записаны в виде\n",
    "    (t_i,x_i), i=0,1,2,..., где t_i равномерно распределены на интервале\n",
    "    [c,d].\n",
    "    \n",
    "    :x: complex or float numpy array. Data points.\n",
    "    :c: float. Start value t-axis. t[0].\n",
    "    :d: float. End value t-axis. t[N-1].\n",
    "    :N: int. Number of function evaluations of the fitted function.\n",
    "    :returns: float numpy array. Second axis of the fitted function.\n",
    "    \"\"\"\n",
    "    n = len(x)  # Number of data points\n",
    "    if not 0<=m<=n<=N:\n",
    "        raise ValueError('Is 0<=m<=n<=N??')\n",
    "    y = fft.fft(x)  # Interpolating coefficients\n",
    "    \n",
    "    # Interpolating coefficients viewed as a\n",
    "    # trigonometric polynomial of order N.\n",
    "    yp = np.zeros(N, np.complex64)\n",
    "    \n",
    "    # Use only m lowest frequencies\n",
    "    yp[0:int(m/2)] = y[0:int(m/2)]\n",
    "    yp[N - int(m/2) + 1:N] = y[n - int(m/2) + 1:n]\n",
    "    \n",
    "    # If odd m, terms corresponding to m/2 has both a sine\n",
    "    # and a cosine term\n",
    "    if (m % 2):\n",
    "        yp[int(m/2)] = y[int(m/2)]\n",
    "    # If even m, terms corresponding to m/2 has only a cosine term\n",
    "    else:\n",
    "        yp[int(m/2)] = np.real(y[int(m/2)])\n",
    "    if m<n and m>0:\n",
    "        yp[N - int(m/2)] = yp[int(m/2)]\n",
    "    \n",
    "    return np.real(fft.ifft(yp))*N/n"
   ]
  },
  {
   "cell_type": "markdown",
   "metadata": {},
   "source": [
    "Теперь мы выполняем тригонометрическую интерполяцию на тех же случайных точках данных, что и ранее, исключая увеличение числа частот. Как мы видели, это означает, что мы находим решения наименьших квадратов для тригонометрического полинома убывающей степени."
   ]
  },
  {
   "cell_type": "code",
   "execution_count": null,
   "metadata": {},
   "outputs": [],
   "source": [
    "plt.figure()\n",
    "for m in [0, 2, 5, 8, 10]:\n",
    "    # Calculate interpolation curve\n",
    "    xp = leastSquaresTrig(x, m, c, d, N)\n",
    "    # Plot results\n",
    "    plt.plot(np.linspace(c, d, len(xp), False), xp, label=r'$m=%d$' % m)\n",
    "\n",
    "plt.plot(np.linspace(c, d, len(x), False), x, 'mo')\n",
    "plt.xlabel('$t$'), plt.ylabel('$x$')\n",
    "plt.title('Least squares trigonometric fit to %d data points' % len(x))\n",
    "plt.legend();"
   ]
  },
  {
   "cell_type": "markdown",
   "metadata": {},
   "source": [
    "Итак, используя принципы, представленные в этой тетради, довольно легко создать алгоритм наименьших квадратов для подгонки тригонометрической функции с произвольными частотами.\n",
    "\n",
    "### Ссылки\n",
    "[1] Wikipedia: Trigonometric interpolation, https://en.wikipedia.org/wiki/Trigonometric_interpolation, 02.28.2016, Acquired May 4th 2016.  \n",
    "[2] T. Sauer: Numerical Analysis, 2nd edition, Pearson 2013.  \n",
    "[3] H. Anton, C. Rorres: Elementary Linear Algebra with Supplemental Applications, 11th edition, Wiley 2015.  \n",
    "[4] Wikipedia: Least squares, https://en.wikipedia.org/wiki/Least_squares, Acquired May 6th 2016."
   ]
  },
  {
   "cell_type": "code",
   "execution_count": null,
   "metadata": {},
   "outputs": [],
   "source": []
  }
 ],
 "metadata": {
  "kernelspec": {
   "display_name": "Python 3",
   "language": "python",
   "name": "python3"
  },
  "language_info": {
   "codemirror_mode": {
    "name": "ipython",
    "version": 3
   },
   "file_extension": ".py",
   "mimetype": "text/x-python",
   "name": "python",
   "nbconvert_exporter": "python",
   "pygments_lexer": "ipython3",
   "version": "3.7.4"
  }
 },
 "nbformat": 4,
 "nbformat_minor": 1
}
