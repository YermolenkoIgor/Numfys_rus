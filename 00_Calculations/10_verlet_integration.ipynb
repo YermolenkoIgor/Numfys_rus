{
 "cells": [
  {
   "cell_type": "markdown",
   "metadata": {},
   "source": [
    "<style>\n",
    "@import url(https://www.numfys.net/static/css/nbstyle.css);\n",
    "</style>\n",
    "<a href=\"https://www.numfys.net\"><img class=\"logo\" /></a>\n",
    "\n",
    "# Интегрирование Верле\n",
    "\n",
    "### Modules - Ordinary Differential Equations\n",
    "<section class=\"post-meta\">\n",
    "By Magnus A. Gjennestad, Vegard Hagen, Aksel Kvaal, Morten Vassvik, Trygve B. Wiig and Peter Berg\n",
    "</section>\n",
    "Last edited: March 11th 2018 \n",
    "___"
   ]
  },
  {
   "cell_type": "markdown",
   "metadata": {},
   "source": [
    "Можем ли мы решить ОДУ второго порядка (например, из второго закона Ньютона) \n",
    "\\begin{equation}\n",
    "m\\frac{d^2}{dt^2}x(t)=F(x(t),t),\n",
    "\\label{eq:1} \\quad (1)\n",
    "\\end{equation}\n",
    "не прибегая к методу Эйлера, который переформулирует проблему в два связанных ОДУ первого порядка?\n",
    "\n",
    "Здесь мы используем начальное условие $x(t_0)=x_0$ и $v(t_0)=v_0$ и ограничиваем наш анализ одним измерением. \n",
    "Кроме того, на данный момент мы предполагаем, что сила $F$ не зависит от скорости $v$."
   ]
  },
  {
   "cell_type": "markdown",
   "metadata": {},
   "source": [
    "Мы можем разделить уравнение (1) на массу $m$ и написать вместо этого\n",
    "$$\n",
    "\\frac{d^2}{dt^2}x(t)=a(x(t),t),\n",
    "$$\n",
    "где $a(x,t)$ - ускорение.\n",
    "\n",
    "__Пример 1:__\n",
    "\\begin{equation}\n",
    "\\frac{d^2x}{dt^2}=-x+x^3+0.1\\cos(t),\n",
    "\\label{eq:2} \\quad (2)\n",
    "\\end{equation}\n",
    "с начальными условиями $x(t_0)=0$ и $v(t_0)=0$."
   ]
  },
  {
   "cell_type": "markdown",
   "metadata": {},
   "source": [
    "Довольно грубым способом мы теперь приближаем вторую производную $x(t)$ по времени, т.е. ускорение, как\n",
    "\\begin{equation}\n",
    "\\begin{aligned}\n",
    "\\frac{d^2x}{dt^2}\\bigg|_{t=t_n}=\\frac{dv}{dt}\\bigg|_{t=t_n}&\n",
    "\\approx&\\frac{v(t_n+h/2)-v(t_n-h/2)}{h} \\\\\n",
    "&\\approx&\\frac{\n",
    " \\frac{x(t_n+h)-x(t_n)}{h}\n",
    "-\\frac{x(t_n)-x(t_n-h)}{h}\n",
    "}{h},\n",
    "\\end{aligned}\n",
    "\\label{eq:3} \\quad (3)\n",
    "\\end{equation}\n",
    "где мы использовали __приближение центральной разности__\n",
    "$$\n",
    "\\frac{dv}{dt}\\bigg|_{t=t_n}\\approx\\frac{v(t_n+h/2)-v(t_n-h/2)}{h}\n",
    "$$\n",
    "где\n",
    "$$v(t_n+h/2)\\approx \\frac{x(t_n+h)-x(t_n)}{h},\\\\\n",
    "v(t_n-h/2)\\approx \\frac{x(t_n)-x(t_n-h)}{h}.$$\n"
   ]
  },
  {
   "cell_type": "markdown",
   "metadata": {},
   "source": [
    "Приведенная выше формулировка следует обычной дискретизации\n",
    "$$\n",
    "t_n=t_0+n\\cdot h~~~\\mathrm{with}~~~n=0,1,2,3,...,N.\n",
    "$$\n",
    "Опять же, предполагается следующее обозначение: $x_n=x(t_n)$.\n",
    "\n",
    "Имея это в виду, подстановка выражения (3) в уравнение (2)\n",
    "и последующее умножение на $h^2$ дает\n",
    "$$\n",
    "x_{n+1}-2x_n+x_{n-1}=h^2\\left[-x_n+x_n^3+0.1\\cos(t_n)\\right],\n",
    "$$\n",
    "где мы оценили уравнение (2) при $t=t_n$. Это приводит к следующей\n",
    "рекурсивной формулировке решения\n",
    "\\begin{equation}\n",
    "x_{n+1}=2x_n-x_{n-1}+h^2\\left[-x_n+x_n^3+0.1\\cos(t_n)\\right]\n",
    "\\label{eq:4} \\quad (4)\n",
    "\\end{equation}\n",
    "with $x_0=0$ and $v_0=0$."
   ]
  },
  {
   "cell_type": "markdown",
   "metadata": {},
   "source": [
    "### Интегрирование Верле"
   ]
  },
  {
   "cell_type": "markdown",
   "metadata": {},
   "source": [
    "Более строго можно вывести обобщенную версию рекурсивной формулы (4), а именно \n",
    "\n",
    "\\begin{equation}\n",
    "\\boxed{x_{n+1}=2x_n-x_{n-1}+h^2 a(x_n,t_n),}\n",
    "\\label{eq:5} \\quad (5)\n",
    "\\end{equation}\n",
    "\n",
    "с помощью разложений Тейлора в окрестности $x(t_n)$ (см. Приложение). \n",
    "Метод разложения Тейлора говорит нам, что локальная ошибка, которую мы допускаем при использовании аппроксимации (5), масштабируется как $h^4$. Это, пожалуй, удивительно хорошо.\n",
    "\n",
    "Метод (5) называется __интегрированием Верле__.\n",
    "Часто он включает в себя ускорение, которое явно не зависит от времени:\n",
    "$a=a(x(t))$. "
   ]
  },
  {
   "cell_type": "markdown",
   "metadata": {},
   "source": [
    "Оставшаяся проблема теперь состоит в том, чтобы использовать уравнение (4) при $t=t_0$, т.е. при $n=0$, поскольку мы не знаем значения $x$ для $t<0$, в частности $x_{-1}$.\n",
    "Здесь можно оценить первое значение $x_1$ после начальной точки $t_0$ путем разложения в ряд $x(t)$ в $t=t_0$:\n",
    "$$\n",
    "x_1=x_0+h v_0 + \\frac{h^2}{2}a(x_0,t_0)+\\mathcal{O}(h^3).\n",
    "$$\n",
    "В нашем примере получается ($x_0=0$, $v_0=0$, $t_0=0$)\n",
    "\\begin{equation}\n",
    "x_1=x_0+h v_0 + \\frac{h^2}{2}a(x_0,t_0)=\\frac{h^2}{20}.\n",
    "\\label{eq:6} \\quad (6)\n",
    "\\end{equation}\n",
    "После этого мы можем придерживаться соотношения (4), чтобы найти все остальные $x_n$.\n",
    "\n",
    "(<u>Примечание</u>: Погрешность аппроксимации (6) масштабируется следующим образом $h^3$.)"
   ]
  },
  {
   "cell_type": "markdown",
   "metadata": {},
   "source": [
    "Давайте использовать (4) и (6) для решения (2):"
   ]
  },
  {
   "cell_type": "code",
   "execution_count": null,
   "metadata": {},
   "outputs": [],
   "source": [
    "%matplotlib inline\n",
    "import numpy as np\n",
    "import matplotlib.pyplot as plt\n",
    "\n",
    "# Set common figure parameters\n",
    "\n",
    "newparams = {'figure.figsize': (16, 6), 'axes.grid': True,\n",
    "             'lines.linewidth': 1.5, 'lines.linewidth': 2,\n",
    "             'font.size': 14}\n",
    "plt.rcParams.update(newparams)\n"
   ]
  },
  {
   "cell_type": "code",
   "execution_count": null,
   "metadata": {},
   "outputs": [],
   "source": [
    "N = 100000 # количество шагов\n",
    "h = 0.001  # размер шага\n",
    "\n",
    "t = np.zeros(N+1)\n",
    "x = np.zeros(N+1)\n",
    "\n",
    "# начальные значения\n",
    "t_0 = 0\n",
    "x_0 = 0\n",
    "t[0] = t_0\n",
    "x[0] = x_0\n",
    "\n",
    "for n in range(N):\n",
    "    # Вторая точка сетки:\n",
    "    if n==0:\n",
    "        t[n+1] = h\n",
    "        x[n+1] = h**2/20.0\n",
    "    # Интегрирование Верле\n",
    "    else:\n",
    "        t[n+1] = t[n] + h\n",
    "        x[n+1] = 2.0*x[n] - x[n-1] + h**2*(-x[n]+x[n]**3+0.1*np.cos(t[n]))\n",
    "\n",
    "# Построит график решения\n",
    "plt.plot(t,x)\n",
    "plt.ylabel(r'$x(t)$')\n",
    "plt.xlabel(r'$t$')\n",
    "plt.grid();"
   ]
  },
  {
   "cell_type": "markdown",
   "metadata": {},
   "source": [
    "Здесь мы выбрали $h=0.001$ и $N=100\\,000$,\n",
    "и поэтому $t_N=100$.\n",
    "На графике $x(t)$ дискретные точки были соединены\n",
    "прямыми линиями."
   ]
  },
  {
   "cell_type": "markdown",
   "metadata": {},
   "source": [
    "#### Вопрос"
   ]
  },
  {
   "cell_type": "markdown",
   "metadata": {},
   "source": [
    "Что, если сила и, следовательно, ускорение также зависят от скорости $v$?\n",
    "Другими словами, давайте посмотрим на\n",
    "$$\n",
    "\\frac{d^2}{dt^2}x(t)=a(x(t),v(t),t),\n",
    "$$\n",
    "с начальными условиями $x(t_0)=x_0$ и $v(t_0)=v_0$.\n",
    "\n",
    "Мы приближаем левую сторону к $t=t_n$, как и раньше, и приближаем правую сторону к\n",
    "$$\n",
    "a(x_n,v_n,t_n)\\approx a\\left( x_n, \\frac{x_{n+1}-x_{n-1}}{2h}, t_n \\right),\n",
    "$$\n",
    "где мы снова использовали приближение центральной разности для $v_n$ :\n",
    "$$\n",
    "\\frac{dv}{dt}\\bigg|_{t=t_n}\\approx\\frac{v(t_n+h)-v(t_n-h)}{2h}.\n",
    "\\label{eq:7} \\quad (7)\n",
    "$$"
   ]
  },
  {
   "cell_type": "markdown",
   "metadata": {},
   "source": [
    "Однако ошибка аппроксимации (7) масштабируется как $h^2$, тем самым снижая общую точность метода.\n",
    "\n",
    "Опять же, мы оцениваем\n",
    "$$\n",
    "x_1=x_0+h v_0 + \\frac{h^2}{2}a(x_0,v_0,t_0).\n",
    "$$\n",
    "После этого мы теперь используем\n",
    "$$\n",
    "x_{n+1}=2x_n-x_{n-1}+h^2 a\\left( x_n, \\frac{x_{n+1}-x_{n-1}}{2h}, t_n \\right) .\n",
    "$$\n",
    "Обратите внимание, что нам нужно решить это уравнение для $x_{n+1}$, что не всегда возможно в аналитической форме. "
   ]
  },
  {
   "cell_type": "markdown",
   "metadata": {},
   "source": [
    "Давайте сосредоточимся на задаче, которая является линейной по $v$.\n",
    "\n",
    "__Пример 2__:\n",
    "$$\n",
    "\\frac{d^2x}{dt^2}=-v-x^3\n",
    "$$\n",
    "с начальными условиями $x_0=x(0)=10$ и $v_0=v(0)=0$. \n",
    "Используя наш приведенный выше формализм, уравнение читается в дискретизированной форме\n",
    "\\begin{align*}\n",
    "x_{n+1}&=2x_n-x_{n-1}+h^2 \\left( -\\frac{x_{n+1}-x_{n-1}}{2h}-x_n^3 \\right) \\\\\n",
    "\\Rightarrow x_{n+1}&=\\frac{2x_n-(1-h/2)\\,x_{n-1}-h^2 x_n^3}{1+h/2}.\n",
    "\\end{align*}\n",
    "В сочетании с $x_0=10$ и\n",
    "$$\n",
    "x_1=x_0+h v_0 + \\frac{h^2}{2}a(x_0,v_0,t_0)=10-500 h^2,\n",
    "$$\n",
    "получаем полностью формализованную задачу. Она реализована в приведенном ниже коде. В коде мы выбираем $h=0.001$ и \n",
    "$N=3\\,000$, и поэтому $t_N=3.0$"
   ]
  },
  {
   "cell_type": "code",
   "execution_count": null,
   "metadata": {},
   "outputs": [],
   "source": [
    "N = 3000 # количество шагов\n",
    "h = 0.001 # размер шага\n",
    "\n",
    "t = np.zeros(N+1)\n",
    "x = np.zeros(N+1)\n",
    "\n",
    "# начальные значения\n",
    "t_0 = 0\n",
    "x_0 = 10\n",
    "t[0] = t_0\n",
    "x[0] = x_0\n",
    "\n",
    "for n in range(N):\n",
    "    # Вторая точка сетки:\n",
    "    if n==0:\n",
    "        t[n+1] = h\n",
    "        x[n+1]= 10.0-500.0*h**2\n",
    "    # Интегрирование Верле\n",
    "    else:\n",
    "        t[n+1] = t[n] + h\n",
    "        x[n+1] = (2.0*x[n]-(1.0-h/2)*x[n-1]-h**2*x[n]**3)/(1+h/2.0)\n",
    "\n",
    "        \n",
    "# Построит график решения\n",
    "plt.plot(t,x)\n",
    "plt.ylabel(r'$x(t)$')\n",
    "plt.xlabel(r'$t$')\n",
    "plt.grid();"
   ]
  },
  {
   "cell_type": "markdown",
   "metadata": {},
   "source": [
    "### Выводы"
   ]
  },
  {
   "cell_type": "markdown",
   "metadata": {},
   "source": [
    "Мы видели, что существует несколько методов для решения ОДУ.\n",
    "Интегрирование Верле часто используется для решения уравнений из второго закона Ньютона. \n",
    "1. Оно обеспечивает более высокую точность, чем метод Эйлера.\n",
    "2. Оно более стабильно, чем метод Эйлера, и\n",
    "3. может осилить нелинейное решение для $x_{n+1}$. \n",
    "4. Его можно легко обобщить на трехмерное движение."
   ]
  },
  {
   "cell_type": "markdown",
   "metadata": {},
   "source": [
    "### Приложение: Вывод формулы Верле используя ряды Тейлора"
   ]
  },
  {
   "cell_type": "markdown",
   "metadata": {},
   "source": [
    "Учитывая динамику $x(t)$ при $t=t_n$, давайте аппроксимируем значения \n",
    "$x_{n-1}=x(t_n-h)$ и $x_{n+1}=x(t_n+h)$ с помощью рядов Тейлора \n",
    "at $x_{n}=x(t_n)$:\n",
    "\\begin{eqnarray*}\n",
    "x(t_n-h)&=&x(t_n)+v(t_n) \\cdot (-h)+\\frac{a(t_n)}{2}\\cdot (-h)^2+\\frac{b(t_n)}{6}\\cdot \n",
    "(-h)^3+\\mathcal{O}(h^4), \\\\ \n",
    "x(t_n+h)&=&x(t_n)+v(t_n)\\,h+\\frac{a(t_n)}{2}h^2+\\frac{b(t_n)}{6}h^3+\\mathcal{O}(h^4),\n",
    "\\end{eqnarray*}\n",
    "где \n",
    "\\begin{align*}\n",
    "v(t_n)=\\frac{dx}{dt}\\bigg|_{t=t_n}, \\quad \n",
    "a(t_n)=\\frac{d^2x}{dt^2}\\bigg|_{t=t_n}, \\quad \\text{and} \\quad\n",
    "b(t_n)=\\frac{d^3x}{dt^3}\\bigg|_{t=t_n}.\n",
    "\\end{align*}\n",
    "Сложение этих уравнений и последующая перестановка слагаемых дает \n",
    "$$ \n",
    "x(t_n+h)=2x(t_n)-x(t_n-h)+a(t_n)\\,h^2+\\mathcal{O}(h^4)\n",
    "$$\n",
    "или, в другой нотации,\n",
    "$$\n",
    "x_{n+1}=2 x_n-x_{n-1}+h^2\\,a(t_n)+\\mathcal{O}(h^4).\n",
    "$$\n",
    "Это наша формула Верле (5), если мы отбросим слагаемые более высокого порядка $\\mathcal{O}(h^4)$\n",
    "и напишем $a(x(t_n), t_n)=a(x_n, t_n)$ вместо просто $a(t_n)$."
   ]
  }
 ],
 "metadata": {
  "kernelspec": {
   "display_name": "Python 3",
   "language": "python",
   "name": "python3"
  },
  "language_info": {
   "codemirror_mode": {
    "name": "ipython",
    "version": 3
   },
   "file_extension": ".py",
   "mimetype": "text/x-python",
   "name": "python",
   "nbconvert_exporter": "python",
   "pygments_lexer": "ipython3",
   "version": "3.7.4"
  }
 },
 "nbformat": 4,
 "nbformat_minor": 1
}
