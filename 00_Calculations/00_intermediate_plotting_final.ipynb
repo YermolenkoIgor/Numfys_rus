{
 "cells": [
  {
   "cell_type": "markdown",
   "metadata": {},
   "source": [
    "<style>\n",
    "@import url(https://www.numfys.net/static/css/nbstyle.css);\n",
    "</style>\n",
    "<a href=\"https://www.numfys.net\"><img class=\"logo\" /></a>\n",
    "\n",
    "# Intermediate plotting\n",
    "\n",
    "### Modules - Basics\n",
    "<section class=\"post-meta\">\n",
    "Eilif Sommer Øyre, Thorvald Ballestad, Niels Henrik Aase, and Jon Andreas Støvneng.\n",
    "</section>\n",
    "Last edited: December 21th 2019\n",
    "\n",
    "___"
   ]
  },
  {
   "cell_type": "markdown",
   "metadata": {},
   "source": [
    "## Scope of this notebook\n",
    "Этот блокнот можно использовать в качестве справочного материала для базового/промежуточного построения графиков на Python с использованием библиотеки *Matplotlib*. Контент, скорее всего, будет полезен для начинающего и среднего пользователя matplotlib. Мы будем использовать функции из библиотеки Python NumPy. См. [здесь](https://nbviewer.jupyter.org/urls/www.numfys.net/media/notebooks/introduction_to_numpy.ipynb). Сюжеты Colormesh, contour, quiver и stream будут использовать некоторые функции NumPy промежуточного уровня.\n",
    "\n",
    "Оглавление\n",
    "* [Формирование рисунка](#ff)\n",
    "   - [Стиль рисунка](#ff:1)\n",
    "   - [Размер и разрешение рисунка](#ff:2)\n",
    "   - [Размер шрифта, значения и границы осей](#ff:3)\n",
    "   - [Настройка общих параметров фигуры](#ff:4)\n",
    "   - [Предопределенные таблицы стилей](#ff:5)\n",
    "* [Subplots](#sp)\n",
    "* [Colourmesh, contour, quiver and stream plots](#cc)\n",
    "* [3D plots](#3d)\n",
    "\n",
    "## Краткий обзор основ\n",
    "В приведенной ниже ячейке кода кратко излагаются методы построения графиков, представленные в блокноте \"[Основное построение графиков](https://nbviewer.jupyter.org/urls/www.numfys.net/media/notebooks/basic_plotting.ipynb)\" с комментариями к каждой строке. Если вы хотите получить более подробное объяснение этого основного сюжета, обратитесь к вышеупомянутому блокноту."
   ]
  },
  {
   "cell_type": "code",
   "execution_count": null,
   "metadata": {},
   "outputs": [],
   "source": [
    "import matplotlib.pyplot as plt  # Эта команда импортирует библиотеку построения графиков и присваивает ей псевдоним plt\n",
    "%matplotlib inline               \n",
    "# Это эксклюзивная команда jupyter notebook для отображения графиков,\n",
    "# которую можно игнорировать, если вы не работаете в ноутбуке jupyter.\n",
    "import numpy as np               # Импорт числового набора инструментов python NumPy\n",
    "\n",
    "xValuesOfData = [-3, -2, -1, 0, 1, 2, 3]    # Список значений x\n",
    "xValuesOfData = np.array(xValuesOfData)     # Преобразует список python в массив NumPy. Чтобы облегчить\n",
    "                                            # использование математических операций.\n",
    "yValuesOfData1 = xValuesOfData**2\n",
    "yValuesOfData2 = xValuesOfData**3\n",
    "\n",
    "plt.plot(xValuesOfData, yValuesOfData1, label='$y = x^2$')\n",
    "# Линия выше строит 2D-линию (f(x) = x^2) и помечает ее.\n",
    "# plt.plot(listOfX-valuesOfDataPoints, listOfY-valuesOfDataPoints, label=nameOfPlot)\n",
    "plt.plot(xValuesOfData, yValuesOfData2, label='$y = x^3$')\n",
    "plt.grid()                       # Активирует сетку\n",
    "plt.title('A simple example')    # Задает заголовок текущего рисунка\n",
    "plt.xlabel('x')                  # Подписывает ось Х\n",
    "plt.ylabel('y')                  # Подписывает ось У\n",
    "plt.legend()                     # Активирует легенду\n",
    "plt.show()                       # Отображает результат (не обязательно в записной книжке jupyter)"
   ]
  },
  {
   "cell_type": "markdown",
   "metadata": {},
   "source": [
    "<a id='ff'></a>\n",
    "## Формирование рисунка\n",
    "`matplotlib.pyplot` позволяет вносить широкий спектр изменений в графики и рисунки. В этом разделе мы рассмотрим некоторые из наиболее полезных способов, которые помогут передать ваши данные желаемым образом и сделать ваши графики хорошими.\n",
    "\n",
    "<a id='ff:1'></a>\n",
    "### Стиль рисунка\n",
    "Стиль графика по умолчанию с использованием `plt.plot` - это прямая линия между каждой точкой данных. Каждому участку автоматически присваивается уникальный цвет с высокой контрастностью по сравнению с предыдущими и последующими участками. Однако вы можете настроить стиль, добавив строковый параметр после значений точек данных; `plt.plot(xValues, yValues, 'style')`. Конкретная строка соответствует определенному стилю строки/маркера. Ниже приведены некоторые примеры."
   ]
  },
  {
   "cell_type": "code",
   "execution_count": null,
   "metadata": {},
   "outputs": [],
   "source": [
    "plt.plot(xValuesOfData, yValuesOfData1, 'o')\n",
    "plt.plot(xValuesOfData, yValuesOfData2, '*')\n",
    "plt.plot(xValuesOfData, yValuesOfData2, ':')\n",
    "plt.plot(xValuesOfData, yValuesOfData1, '--') \n",
    "plt.show()"
   ]
  },
  {
   "cell_type": "markdown",
   "metadata": {},
   "source": [
    "Попытайтесь разобраться, какая строка создает какой стиль? Полный список различных маркеров и стилей линий см. в документации [`matplotlib.pyplot.plot`](https://matplotlib.org/3.1.1/api/_as_gen/matplotlib.pyplot.plot.html). \n",
    "\n",
    "**Цвет** участка можно выбрать вручную, назначив параметр `color`. Он распознает несколько форматов, таких как кортежи RGB с плавающими значениями (например, (1, 1, 1) - это максимально красно-зелено-сений, т.е. белый!), шестнадцатеричные строки RGB или единичные символы {'b', 'g', 'r', 'c', 'm', 'y', 'k', 'w'} (все они представляют определенный цвет). Смотрите [документацию](https://matplotlib.org/3.1.1/api/colors_api.html#module-matplotlib.colors) для получения дополнительных опций."
   ]
  },
  {
   "cell_type": "code",
   "execution_count": null,
   "metadata": {},
   "outputs": [],
   "source": [
    "# Использует функции numpy для создания массива из 100 элементов, равномерно распределенных от -3 до 3.\n",
    "x = np.linspace(-3, 3, 100)   \n",
    "plt.plot(x, x**2, color=(0, 0, 0)) # RBG кортеж значений с плавающей точкой\n",
    "plt.plot(x, x**3, color='#3f9faa') # Шестнадцатеричная строка RBG. #ffffff белый, #000000 черный.\n",
    "plt.plot(x, x**4, color='b')       # Строка из одного символа. \"b\" в данном случае означает синий цвет.\n",
    "plt.show()"
   ]
  },
  {
   "cell_type": "markdown",
   "metadata": {},
   "source": [
    "Markerstyle, linestyle и color также могут быть объединены в одном строковом аргументе. **Ширина линии** и **Размер маркера** настраиваются путем присвоения плавающего значения параметрам `linewidth`/`lw` и `markersize`/`ms`, соответственно."
   ]
  },
  {
   "cell_type": "code",
   "execution_count": null,
   "metadata": {},
   "outputs": [],
   "source": [
    "plt.plot(xValuesOfData, yValuesOfData1, 'r-*', linewidth=0.1) # Красные звездочки\n",
    "plt.plot(xValuesOfData, yValuesOfData2, 'g:o', markersize=10) # Зеленые круги с пунктирной линией между ними.\n",
    "plt.show()"
   ]
  },
  {
   "cell_type": "markdown",
   "metadata": {},
   "source": [
    "<a id='ff:2'></a>\n",
    "### Размер и разрешение рисунка\n",
    "**Размер фигуры** можно задать, назначив кортеж из двух вещественных чисел необязательному параметру `figsize` в функции `plt.figure`. Эти чсла соответствуют ширине и высоте фигуры в дюймах. Разрешение в пересчете на точки на дюйм (DPI) может быть присвоено необязательному параметру `dpi`. По умолчанию значение DPI равно 100."
   ]
  },
  {
   "cell_type": "code",
   "execution_count": null,
   "metadata": {},
   "outputs": [],
   "source": [
    "plt.figure(figsize=(12, 2), dpi=200) # Создает новую фигуру шириной 12, высотой 2 и разрешением 200 точек на дюйм.\n",
    "plt.plot(x, np.sin(x))\n",
    "plt.plot(x, np.cos(x + np.pi/2))\n",
    "plt.show()"
   ]
  },
  {
   "cell_type": "markdown",
   "metadata": {},
   "source": [
    "<a id='ff:3'></a>\n",
    "### Размер шрифта, значения и пределы осей\n",
    "Ограничения по осям устанавливаются с помощью `plt.xlim` и `plt.ylim`."
   ]
  },
  {
   "cell_type": "code",
   "execution_count": null,
   "metadata": {},
   "outputs": [],
   "source": [
    "plt.figure(figsize=(12, 2), dpi=200)\n",
    "plt.plot(x, np.sin(x))\n",
    "plt.plot(x, np.cos(x + np.pi/2))\n",
    "plt.xlim(-1, 1)       # Set the left x-axis limit to -1 and the right to 1.\n",
    "plt.ylim(-0.5, 0.5)   # Set the left y-axis limit to -0.5 and the right to 0.5.\n",
    "plt.show()"
   ]
  },
  {
   "cell_type": "markdown",
   "metadata": {},
   "source": [
    "Используя `plt.xticks` и `plt.yticks`, мы можем настроить значения на оси. Первый параметр - это список позиций, на которых должны быть размещены тики. Второй параметр является необязательным и присваивает метки тикам. Размер шрифта может быть задан с помощью необязательного аргумента `fontsize`. Пример см. Ниже."
   ]
  },
  {
   "cell_type": "code",
   "execution_count": null,
   "metadata": {},
   "outputs": [],
   "source": [
    "plt.figure(figsize=(12, 2), dpi=200)\n",
    "plt.plot(x, np.sin(x))\n",
    "plt.plot(x, np.cos(x))\n",
    "\n",
    "xticks = [-np.pi/2, 0, np.pi/2]    # x-axis ticks positions\n",
    "yticks = [0, 1]                    # y-axis ticks positions\n",
    "xticksLabels = [r'$-\\frac{\\pi}{2}$', 0, r'$\\frac{\\pi}{2}$'] # x-axis ticks labels\n",
    "yticksLabels = [0, 'Amplitude']                             # y-axis ticks positions\n",
    "\n",
    "# Set ticks and labels\n",
    "plt.xticks(xticks, xticksLabels, fontsize=20) \n",
    "plt.yticks(yticks, yticksLabels)\n",
    "# Activate grid, which is defined by the tick positions.\n",
    "plt.grid() \n",
    "plt.show()"
   ]
  },
  {
   "cell_type": "markdown",
   "metadata": {},
   "source": [
    "<a id='ff:4'></a>\n",
    "### Настройка общих параметров фигуры\n",
    "Общие параметры рисунка по умолчанию можно обновить, назначив словарь Python `plt.rcParams.update`."
   ]
  },
  {
   "cell_type": "code",
   "execution_count": null,
   "metadata": {},
   "outputs": [],
   "source": [
    "newParams = {'figure.figsize'  : (12, 6),  # Figure size\n",
    "             'figure.dpi'      : 200,      # figure resolution\n",
    "             'axes.titlesize'  : 20,       # fontsize of title\n",
    "             'axes.labelsize'  : 11,       # fontsize of axes labels\n",
    "             'axes.linewidth'  : 2,        # width of the figure box lines\n",
    "             'lines.linewidth' : 1,        # width of the plotted lines\n",
    "             'savefig.dpi'     : 200,      # resolution of a figured saved using plt.savefig(filename)\n",
    "             'ytick.labelsize' : 11,       # fontsize of tick labels on y axis\n",
    "             'xtick.labelsize' : 11,       # fontsize of tick labels on x axis\n",
    "             'legend.fontsize' : 12,       # fontsize of labels in legend\n",
    "             'legend.frameon'  : True,     # activate frame on lengend?\n",
    "            }\n",
    "plt.rcParams.update(newParams) # Set new plotting parameters"
   ]
  },
  {
   "cell_type": "markdown",
   "metadata": {},
   "source": [
    "Дополнительные свойства для изменения см. в разделе [здесь](https://matplotlib.org/3.1.1/tutorials/introductory/customizing.html). Обновление общих параметров рисунка удобно, чтобы избежать написания одного и того же кода для нескольких рисунков."
   ]
  },
  {
   "cell_type": "code",
   "execution_count": null,
   "metadata": {},
   "outputs": [],
   "source": [
    "plt.plot(x, x**3*np.sin(10*x), 'm:', label='$f(x) = x^3\\sin{10x}$')\n",
    "plt.plot(x, x**3, label='$f(x) = x^3$')\n",
    "plt.title('An example')\n",
    "plt.xlabel('$x$')\n",
    "plt.ylabel('$f(x)$')\n",
    "plt.legend()\n",
    "plt.show()"
   ]
  },
  {
   "cell_type": "markdown",
   "metadata": {},
   "source": [
    "<a id='ff:5'></a>\n",
    "### Предопределенные таблицы стилей\n",
    "Matplotlib имеет несколько предопределенных таблиц стилей, которые изменяют стиль и свойства рисунка. Они активируются путем присвоения определенной строки команде `plt.style.use`. Они также предоставляют таблицу стилей [ссылка](https://matplotlib.org/3.1.1/gallery/style_sheets/style_sheets_reference.html). Ниже приведены три примера."
   ]
  },
  {
   "cell_type": "code",
   "execution_count": null,
   "metadata": {},
   "outputs": [],
   "source": [
    "# В ячейке кода выше мы вручную обновили параметры по умолчанию. \n",
    "# Таким образом, нам нужно повторно активировать параметры по умолчанию \n",
    "# перед активацией определенного стиля, чтобы увидеть, как он обычно выглядит.\n",
    "plt.style.use('default')\n",
    "\n",
    "# Активация таблицы стилей 'bmh'.\n",
    "plt.style.use('bmh')\n",
    "plt.plot(x, x**3*np.sin(10*x), ':', label='$f(x) = x^3\\sin{10x}$')\n",
    "plt.plot(x, x**3, label='$f(x) = x^3$')\n",
    "plt.title('Style sheet \"bmh\"')\n",
    "plt.xlabel('$x$')\n",
    "plt.ylabel('$f(x)$')\n",
    "plt.legend()\n",
    "plt.show()"
   ]
  },
  {
   "cell_type": "code",
   "execution_count": null,
   "metadata": {},
   "outputs": [],
   "source": [
    "# Активирует параметры defualt matplotlib\n",
    "plt.style.use('default')\n",
    "# Активация таблицы стилей 'dark_background'\n",
    "plt.style.use('dark_background')\n",
    "plt.plot(x, x**3*np.sin(10*x), ':', label='$f(x) = x^3\\sin{10x}$')\n",
    "plt.plot(x, x**3, label='$f(x) = x^3$')\n",
    "plt.title('Style sheet \"dark_background\"')\n",
    "plt.xlabel('$x$')\n",
    "plt.ylabel('$f(x)$')\n",
    "plt.legend()\n",
    "plt.show()"
   ]
  },
  {
   "cell_type": "code",
   "execution_count": null,
   "metadata": {},
   "outputs": [],
   "source": [
    "# Activate defualt matplotlib parameters\n",
    "plt.style.use('default')\n",
    "# Activate the style sheet 'classic'\n",
    "plt.style.use('classic')\n",
    "plt.plot(x, x**3*np.sin(10*x), ':', label='$f(x) = x^3\\sin{10x}$')\n",
    "plt.plot(x, x**3, label='$f(x) = x^3$')\n",
    "plt.title('Style sheet \"classic\"')\n",
    "plt.xlabel('$x$')\n",
    "plt.ylabel('$f(x)$')\n",
    "plt.legend()\n",
    "plt.show()"
   ]
  },
  {
   "cell_type": "markdown",
   "metadata": {},
   "source": [
    "<a id=\"cc\"></a>\n",
    "## Colourmesh, contour, quiver and streamplots\n",
    "Ниже приведены методы построения графиков, особенно полезные, когда у вас есть набор точек данных, связанных с координатами в 2D-сетке.\n",
    "\n",
    "### Colourmesh\n",
    "Функция `plt.pcolormesh` создает прямоугольную сетку цветных ячеек. Цвет каждой ячейки задается входной матрицей $C$. Зададим \n",
    "$$\n",
    "C =\n",
    "\\begin{bmatrix}\n",
    "0 & 3 & 0 \\\\\n",
    "1 & 2 & 1 \\\\\n",
    "0 & 1 & 0 \n",
    "\\end{bmatrix}.\n",
    "$$"
   ]
  },
  {
   "cell_type": "code",
   "execution_count": null,
   "metadata": {},
   "outputs": [],
   "source": [
    "# Activate defualt matplotlib parameters\n",
    "plt.style.use('default')\n",
    "\n",
    "# Create 2D-array values to be colormapped.\n",
    "C = np.array([[0, 3, 0], \n",
    "              [1, 2, 1], \n",
    "              [0, 1, 0]])\n",
    "\n",
    "plt.pcolormesh(C)\n",
    "plt.colorbar()  # Adds bar to relate colour to value\n",
    "plt.show()"
   ]
  },
  {
   "cell_type": "markdown",
   "metadata": {},
   "source": [
    "Без указания пользователя Matplotlib автоматически определяет координаты вершин квадратиков. В этом случае они выбирают \"первую\" строку $C$, $[\\text{ }0\\text{ }3\\text{ } 0\\text{ }]$, чтобы иметь самые низкие значения $y$ в сетке, поэтому график переворачивается вверх ногами.\n",
    "\n",
    "Как правило, $C$ задается функцией, зависящей от значений оси, $f = f(x, y)$. В этом случае мы скорее хотим указать диапазон значений $x$ и $y$, а затем вычислить матрицу $C$.  \n",
    "\n",
    "$$ f(x, y) = \\sin(xy),$$\n",
    "\n",
    "и мы хотим сделать цветной график с ограничениями $x\\in[0, \\pi]$, $y\\in[0, \\pi]$."
   ]
  },
  {
   "cell_type": "code",
   "execution_count": null,
   "metadata": {},
   "outputs": [],
   "source": [
    "# Функция f(x, y)\n",
    "def f(x, y):\n",
    "    return np.sin(x*y)\n",
    "\n",
    "x = np.linspace(-np.pi, np.pi, 100) # x-values\n",
    "y = np.linspace(-np.pi, np.pi, 100) # y-values"
   ]
  },
  {
   "cell_type": "markdown",
   "metadata": {},
   "source": [
    "Однако мы не можем получить желаемую матрицу $C$, просто отправив наши массивы `x` и `y` в `f`. Это просто вернет массив 1D. Для каждого элемента в `x` нам нужно перебрать все значения в `y` и вызвать `f`. К счастью, у NumPy есть функция \"np.meshgrid\", которая принимает `x` и `y` и возвращает две соответствующие матрицы:"
   ]
  },
  {
   "cell_type": "code",
   "execution_count": null,
   "metadata": {},
   "outputs": [],
   "source": [
    "xx, yy = np.meshgrid([0, 1, 2], [0, 1, 2])\n",
    "print(xx, '\\n')\n",
    "print(yy)"
   ]
  },
  {
   "cell_type": "markdown",
   "metadata": {},
   "source": [
    "Подробнее о функции meshgrid читайте в нашей [промежуточной записной книжке NumPy](). Используя это, мы можем, наконец, построить нашу цветовую карту."
   ]
  },
  {
   "cell_type": "code",
   "execution_count": null,
   "metadata": {},
   "outputs": [],
   "source": [
    "xx, yy = np.meshgrid(x, y)\n",
    "C2 = f(xx, yy)\n",
    "plt.pcolormesh(xx, yy, C2)\n",
    "plt.colorbar()\n",
    "plt.title('Color plot of $\\sin(xy)$')\n",
    "plt.xlabel('$x$')\n",
    "plt.ylabel('$y$')"
   ]
  },
  {
   "cell_type": "markdown",
   "metadata": {},
   "source": [
    "Если `X` и `Y` являются 2D-матрицами координат, то углы ячеек `C[i, j]` и `C[i, j+1]` задаются, как показано на рисунке:\n",
    "$$ $$\n",
    "<a name=\"fig:1\"></a>\n",
    "<img src=\"images/pcolormesh_2.png\" width=\"600\">\n",
    "**Рисунок 1:** *Как `pcolormesh` выбирает углы цветных ячеек на основе значений матриц `X` и `Y`.*\n",
    "\n",
    "Таким образом, `X` и `Y` должны иметь на одну строку и столбец больше, чем `C`. Если они имеют одинаковую форму, последняя строка и столбец в `C` будут опущены."
   ]
  },
  {
   "cell_type": "markdown",
   "metadata": {},
   "source": [
    "### Контур\n",
    "В двух словах, функция `plt.contour` строит контуры. Она рисует линии, в которых функция/матрица $f$/$C$ имеет одно и то же значение. `plt.contour` имеет те же параметры, что и `plt.pcolormesh`, 2D-матрицу $C$ со значениями, по которым рисуются линии, и необязательные матрицы координат $x$ и $y$ (сделанные с использованием `plt.meshgrid`). `plt.contourf` рисует заполненные контуры. Необязательный параметр `levels` определяет количество нарисованных контурных линий."
   ]
  },
  {
   "cell_type": "code",
   "execution_count": null,
   "metadata": {},
   "outputs": [],
   "source": [
    "# Example function g\n",
    "def g(x, y):\n",
    "    return (x**2 + y**2)**(-1/300)\n",
    "\n",
    "# Generate C-matrix\n",
    "C3 = g(xx, yy)\n",
    "# Draw contour lines\n",
    "plt.contour(xx, yy, C3, 30)\n",
    "plt.colorbar()\n",
    "plt.show()\n",
    "\n",
    "# Draw filled contours\n",
    "plt.contourf(xx, yy, C3, 30)\n",
    "plt.colorbar()\n",
    "plt.show()"
   ]
  },
  {
   "cell_type": "markdown",
   "metadata": {},
   "source": [
    "### Линии поля\n",
    "`plt.quiver` идеально подходит, если вы строите 2D векторное поле. Учитывая компоненты $x$ и $y$ векторов, он строит стрелки в соответствующем направлении."
   ]
  },
  {
   "cell_type": "code",
   "execution_count": null,
   "metadata": {},
   "outputs": [],
   "source": [
    "xComponents = np.random.rand(3, 3) # a 3x3 matrix of random number between (0, 1)\n",
    "yComponents = np.random.rand(3, 3)\n",
    "\n",
    "plt.quiver(xComponents, yComponents)\n",
    "plt.show()"
   ]
  },
  {
   "cell_type": "markdown",
   "metadata": {},
   "source": [
    "Положения стрелок также могут быть назначены 2D-координатными матрицами, созданными с помощью `np.meshgrid`. Кроме того, стрелки могут быть закодированы цветом с помощью параметра \"C\"."
   ]
  },
  {
   "cell_type": "code",
   "execution_count": null,
   "metadata": {},
   "outputs": [],
   "source": [
    "x2 = np.linspace(-np.pi, np.pi, 30) # x-values\n",
    "y2 = np.linspace(-np.pi, np.pi, 30) # y-values\n",
    "xx2, yy2 = np.meshgrid(x2, y2)      # x and y grid point coordinates\n",
    "\n",
    "U = np.sin(xx2) # x-component of arrows\n",
    "V = np.cos(yy2) # y-component of arrows\n",
    "C4 = np.linalg.norm(np.array([U, V]), axis=0) # the absolute magnitude of the arrows\n",
    "# Plot quivers (arrows) specified coordinates with colourcoding\n",
    "plt.quiver(xx2, yy2, U, V, C4)\n",
    "# Colourbar reflecting the magnitude of each colour\n",
    "plt.colorbar()\n",
    "plt.show()"
   ]
  },
  {
   "cell_type": "markdown",
   "metadata": {},
   "source": [
    "### Streamplot\n",
    "График потока можно использовать для отображения векторного потока 2D. "
   ]
  },
  {
   "cell_type": "code",
   "execution_count": null,
   "metadata": {},
   "outputs": [],
   "source": [
    "xValues = np.linspace(-1, 1, 100)\n",
    "yValues = np.linspace(-1, 1, 100)\n",
    "xx, yy = np.meshgrid(xValues, yValues) # x and y grid point coordinates\n",
    "xComponents = xx**2 + yy # Define x-components of the vectors\n",
    "yComponents = xx - yy**2 # Define y-components of the vectors\n",
    "plt.streamplot(xx, yy, xComponents, yComponents)\n",
    "plt.show()"
   ]
  },
  {
   "cell_type": "markdown",
   "metadata": {},
   "source": [
    "Несколько параметров могут быть изменены, чтобы содержать дополнительную информацию в потоковой диаграмме, такую как плотность потока, цвет и ширина линии (см. этот [пример](https://matplotlib.org/3.1.1/gallery/images_contours_and_fields/plot_streamplot.html#sphx-glr-gallery-images-contours-and-fields-plot-streamplot-py))."
   ]
  },
  {
   "cell_type": "markdown",
   "metadata": {},
   "source": [
    "<a id='sp'></a>\n",
    "## Subplots\n",
    "Subplots позволяет создавать несколько фрэймов на одном рисунке, но по разным осям"
   ]
  },
  {
   "cell_type": "code",
   "execution_count": null,
   "metadata": {},
   "outputs": [],
   "source": [
    "plt.style.use('default')\n",
    "x = np.linspace(-3, 3, 100)\n",
    "\n",
    "# Create subplot indexed 1 in a figure with a grid of 2 rows 2 columns.\n",
    "plt.subplot(231)\n",
    "plt.plot(x, x)\n",
    "plt.title('Subplot 1')\n",
    "\n",
    "# Create subplot with index position 2\n",
    "plt.subplot(232)\n",
    "plt.plot(x, x**2)\n",
    "plt.title('Subplot 2')\n",
    "\n",
    "# Create subplot with index position 3\n",
    "plt.subplot(233)\n",
    "plt.plot(x, x**3)\n",
    "plt.title('Subplot 3')\n",
    "\n",
    "# Create subplot with index position 4\n",
    "plt.subplot(234)\n",
    "plt.plot(x, x**4)\n",
    "plt.title('Subplot 4')\n",
    "\n",
    "# Create subplot with index position 5\n",
    "plt.subplot(235)\n",
    "plt.plot(x, x**5)\n",
    "plt.title('Subplot 5')\n",
    "\n",
    "# Create subplot with index position 5\n",
    "plt.subplot(236)\n",
    "plt.plot(x, x**6)\n",
    "plt.title('Subplot 6')\n",
    "\n",
    "plt.show()"
   ]
  },
  {
   "cell_type": "markdown",
   "metadata": {},
   "source": [
    "Из приведенного выше примера мы видим, что первая и вторая цифры в аргументе `subplot` задают количество строк и столбцов таблицы из графиков. Третья цифра указывает, на какой график вы ссылаетесь по индексу положения сетки. Мы также видим, что требуется некоторое заполнение между фреймами и осями. Это можно исправить несколькими способами, например, определив больший размер фигуры с помощью `plt.figure(figsize=figsize)` перед созданием таблицы графиков или с помощью `plt.tight_layout` после.\n",
    "\n",
    "И `plt.figure ()`, и `plt.subplot` возвращают объект (экземпляр класса Python), который может быть полезен для определения. Используя эти объекты, возможности модификации фигуры безграничны. Настоятельно рекомендуется искать примеры в документации Matplotlib. Ниже приведен пример, показывающий некоторые функции."
   ]
  },
  {
   "cell_type": "code",
   "execution_count": null,
   "metadata": {},
   "outputs": [],
   "source": [
    "fig = plt.figure(figsize=(12, 6))  # Create figure and determine size\n",
    "ax1 = plt.subplot(2, 3, (1, 2))    # Create an elongated subplot using two grid indicies\n",
    "ax2 = plt.subplot(234)         \n",
    "ax3 = plt.subplot(235)\n",
    "ax4 = plt.subplot(2, 3, (3, 6))\n",
    "\n",
    "# Create two sets of 1D x and y values\n",
    "x = np.linspace(-3, 3, 100)\n",
    "y = np.linspace(-3, 3, 100)\n",
    "x2 = np.linspace(-np.pi/2, np.pi/2, 10)\n",
    "y2 = np.linspace(-np.pi/2, np.pi/2, 10)\n",
    "# Create two sets of 2D coordinates\n",
    "xx, yy = np.meshgrid(x, y)\n",
    "xx2, yy2 = np.meshgrid(x2, y2)\n",
    "\n",
    "# Make plots on elongated subplot\n",
    "# Subplot 1 and 2 (axis 1)\n",
    "ax1.plot(x, x**3*np.sin(10*x), ':', label='$f(x) = x^3\\sin{10x}$')\n",
    "ax1.plot(x, x**3, label='$f(x) = x^3$')\n",
    "ax1.set_xlabel('$x$') # This is how you set the label on an axis object\n",
    "ax1.set_ylabel('$y$')\n",
    "ax1.legend()\n",
    "ax1.grid()\n",
    "\n",
    "# Subplot 4 (axis 2)\n",
    "# Plotting the electric potential produced by two point charges \n",
    "# using contour plot\n",
    "e1 = 2       # Charge of point charge 1\n",
    "e2 = -0.5    \n",
    "e1PosX = 2   # X position of point charge 1\n",
    "e1PosY = 2\n",
    "e2PosX = -1\n",
    "e2PosY = -1.5\n",
    "# Define a function that returns the electric potential at a coordinate\n",
    "def E_potential(x, y):\n",
    "    r1 = np.sqrt((e1PosX - x)**2 + (e1PosY - y)**2) # Distance to point charge 1\n",
    "    r2 = np.sqrt((e2PosX - x)**2 + (e2PosY - y)**2)\n",
    "    return e1/r1 + e2/r2\n",
    "V = E_potential(xx, yy) # Create a 2D matric containing the potential at each coordinate\n",
    "# The potential approaches +/- infinite close to the charges.\n",
    "# Need to mask out those values.\n",
    "levels  = np.linspace(np.min(V)*0.05, np.max(V)*0.05, 20)\n",
    "# Plot the contours and decleare an object\n",
    "contour = ax2.contour(xx, yy, V, levels)\n",
    "# Add colobar\n",
    "cbar    = fig.colorbar(contour, ax=ax2)\n",
    "ax2.set_xlabel('$x$')\n",
    "ax2.set_ylabel('$y$')\n",
    "# Add description to the colorbar\n",
    "cbar.ax.set_ylabel('Electric potential, $V$')\n",
    "ax2.set_title('Two point charges') # This is how you set the title to an axis object\n",
    "\n",
    "# Subplot 5 (axis 3)\n",
    "# Plot a streamplot of the electric field around the point charges\n",
    "Ey, Ex  = np.gradient(-V)\n",
    "ax3.streamplot(xx, yy, Ex, Ey)\n",
    "ax2.set_xlabel('$x$')\n",
    "ax2.set_ylabel('$y$')\n",
    "ax3.set_title('Field lines of two point charges')\n",
    "\n",
    "# Subplot 3 and 6 (axis 4)\n",
    "# Plot a pretty figure using pcolormesh\n",
    "Qx = np.cos(yy2) - np.cos(xx2)   # Redefine coordinates for the color cells\n",
    "Qz = np.sin(yy2) + np.sin(xx2)\n",
    "C = np.sqrt(xx2**2 + yy2**2)     \n",
    "ax4.pcolormesh(Qx, Qz, C, cmap='cool') # Changed the colors\n",
    "# Remove x ticks\n",
    "ax4.set_xticks([])\n",
    "ax4.set_yticks([])\n",
    "ax4.set_title('Art')\n",
    "\n",
    "fig.suptitle('A few subplots', fontsize=16)\n",
    "fig.tight_layout()  # Adjusts suplots to avoid overlapping titles etc.\n",
    "fig.subplots_adjust(top=0.9) # increase space between top of figure and first subplots.\n",
    "plt.show()"
   ]
  },
  {
   "cell_type": "markdown",
   "metadata": {},
   "source": [
    "В качестве заключительного замечания можно использовать функцию `plt.subplots` для создания одномерного или двумерного массива осей, как показано ниже."
   ]
  },
  {
   "cell_type": "code",
   "execution_count": null,
   "metadata": {},
   "outputs": [],
   "source": [
    "figure, axes = plt.subplots(2, 2)\n",
    "axes[0, 0].plot(x, x)\n",
    "axes[0, 1].plot(x, x**2)\n",
    "axes[1, 0].plot(x, x**3)\n",
    "axes[1, 1].plot(x, x**4)\n",
    "plt.show()"
   ]
  },
  {
   "cell_type": "markdown",
   "metadata": {},
   "source": [
    "<a id=\"3d\"></a>\n",
    "## 3D plots\n",
    "3D-графики легко получить, добавив параметр проекции к созданию подзаголовка, хотя для его включения нам необходимо импортировать определенную библиотеку. Для приведенного ниже примера и более продвинутых из них см. [mplot3d tutorial](https://matplotlib.org/mpl_toolkits/mplot3d/tutorial.html)."
   ]
  },
  {
   "cell_type": "code",
   "execution_count": null,
   "metadata": {},
   "outputs": [],
   "source": [
    "from mpl_toolkits.mplot3d import axes3d\n",
    "%matplotlib notebook\n",
    "plt.figure()\n",
    "# Adding the projection '3d' to get a 3d suplot\n",
    "plt.subplot(projection='3d')\n",
    "theta = np.linspace(-4*np.pi, 4*np.pi, 100)\n",
    "z = np.linspace(-2, 2, 100)\n",
    "r = z**2 + 1\n",
    "x = r * np.sin(theta)\n",
    "y = r * np.cos(theta)\n",
    "plt.plot(x, y, z, label='parametric curve')\n",
    "plt.legend()\n",
    "plt.show()"
   ]
  },
  {
   "cell_type": "markdown",
   "metadata": {},
   "source": [
    "___\n",
    "## Дальнейшее чтение\n",
    "Широкий спектр простых и причудливых фигур и графиков доступен в Matplotlib [документация](https://matplotlib.org/contents.html#). У них также есть вводные, промежуточные и продвинутые [учебные пособия](https://matplotlib.org/tutorials/index.html)."
   ]
  }
 ],
 "metadata": {
  "kernelspec": {
   "display_name": "Python 3",
   "language": "python",
   "name": "python3"
  },
  "language_info": {
   "codemirror_mode": {
    "name": "ipython",
    "version": 3
   },
   "file_extension": ".py",
   "mimetype": "text/x-python",
   "name": "python",
   "nbconvert_exporter": "python",
   "pygments_lexer": "ipython3",
   "version": "3.7.4"
  }
 },
 "nbformat": 4,
 "nbformat_minor": 2
}
