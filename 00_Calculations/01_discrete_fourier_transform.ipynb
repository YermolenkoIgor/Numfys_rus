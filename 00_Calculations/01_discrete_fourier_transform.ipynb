{
 "cells": [
  {
   "cell_type": "markdown",
   "metadata": {},
   "source": [
    "<style>\n",
    "@import url(https://www.numfys.net/static/css/nbstyle.css);\n",
    "</style>\n",
    "<a href=\"https://www.numfys.net\"><img class=\"logo\" /></a>\n",
    "\n",
    "# Дискретное преобразование Фурье и быстрое преобразование Фурье\n",
    "\n",
    "### Examples - Astrophysics\n",
    "<section class=\"post-meta\">\n",
    "By Jonas Tjemsland, Andreas Krogen, Håkon Ånes and Jon Andreas Støvneng\n",
    "</section>\n",
    "Last edited: March 11th 2018 \n",
    "___"
   ]
  },
  {
   "cell_type": "markdown",
   "metadata": {},
   "source": [
    "В этом блокноте дается краткое введение в дискретное преобразование Фурье (DFT, ДПФ) и быстрое преобразование Фурье (FFT, БПФ). Реализован алгоритм БПФ radix-2 Cooley-Tukey, и ближе к концу объясняется физический смысл.\n",
    "\n",
    "Эти концепции имеют широкую область применения во многих различных областях физики и математики, таких как обработка сигналов, фильтрация звука и изображений, сжатие данных, уравнения в частных производных и умножение больших целых чисел.\n",
    "\n",
    "Прежде чем читать данный материал, нужно иметь представление о том, что такое [преобразование Фурье и ряд Фурье](https://habr.com/ru/post/196374/). \n",
    "\n",
    "Мы начинаем с импорта необходимых пакетов."
   ]
  },
  {
   "cell_type": "code",
   "execution_count": null,
   "metadata": {},
   "outputs": [],
   "source": [
    "import numpy as np\n",
    "from numpy import random as rnd\n",
    "import timeit\n",
    "from scipy import fftpack as fft"
   ]
  },
  {
   "cell_type": "markdown",
   "metadata": {},
   "source": [
    "## Дискретное Преобразование Фурье (DFT)"
   ]
  },
  {
   "cell_type": "markdown",
   "metadata": {},
   "source": [
    "Пусть $\\vec x = [x_0,x_1,...,x_{n-1}]$ - вектор $n$ комплексных (или вещественных) элементов. DFT $\\vec x$ - это комплексный вектор $\\vec y = [y_0,y_1,...,y_{n-1}]$, где элементы определяются как\n",
    "$$y_k=\\sum_{j=0}^{n-1}x_j\\omega^{k\\cdot j},$$\n",
    "где $\\omega = \\exp(-2\\pi i /n)$ ($i$ - мнимая единица) [1]. "
   ]
  },
  {
   "cell_type": "code",
   "execution_count": null,
   "metadata": {},
   "outputs": [],
   "source": [
    "def DFT(x):\n",
    "    \"\"\" Вычисляет одномерное дискретное преобразование Фурье вектора.\n",
    "    \n",
    "    :x: double arr. Вектор, который преобразуется.\n",
    "    :returns: double arr. Преобразование Фурье x.\n",
    "    \"\"\"\n",
    "    n = len(x)\n",
    "    y = [0]*n\n",
    "    omega = np.exp(-2.0j*np.pi/n)\n",
    "    for k in range(0,n):\n",
    "        y[k] = np.sum(x*omega**(np.arange(0,n)*k))\n",
    "    return y"
   ]
  },
  {
   "cell_type": "markdown",
   "metadata": {},
   "source": [
    "Очевидно, что обратное DFT задается\n",
    "$$x_k = \\sum_{j=0}^{n-1} y_j\\omega^{k\\cdot j},$$\n",
    "где $\\omega = \\exp(2\\pi i/n)$."
   ]
  },
  {
   "cell_type": "code",
   "execution_count": null,
   "metadata": {},
   "outputs": [],
   "source": [
    "def inverseDFT(y):\n",
    "    \"\"\" Вычисляет обратное одномерное дискретное Фурье преобразование вектора.\n",
    "    \n",
    "    :y: double arr. Вектор, который преобразуется.\n",
    "    :returns: double arr. Обратное преобразование Фурье y.\n",
    "    \"\"\"\n",
    "    n = len(y)\n",
    "    x = [0]*n\n",
    "    omega = np.exp(2.0j*np.pi/n)\n",
    "    for k in range(0,n):\n",
    "        x[k] = np.sum(y*omega**(np.arange(0,n)*k))/float(n)\n",
    "    return x"
   ]
  },
  {
   "cell_type": "markdown",
   "metadata": {},
   "source": [
    "Давайте попробуем на небольшом примере, где мы просто преобразуем туда и обратно произвольный вектор."
   ]
  },
  {
   "cell_type": "code",
   "execution_count": null,
   "metadata": {},
   "outputs": [],
   "source": [
    "# Определение массива, который преобразуется.\n",
    "x = rnd.randint(8,size=8)\n",
    "print('x =', x)\n",
    "# Преобразование Фурье\n",
    "y = DFT(x)\n",
    "print('y =', np.round(y,2))\n",
    "# Обратное преобразование Фурье. \n",
    "x = inverseDFT(y)\n",
    "print('x =', np.round(x,2))"
   ]
  },
  {
   "cell_type": "markdown",
   "metadata": {},
   "source": [
    "Как вы уже могли заметить, этот DFT-алгоритм довольно неэффективен. Существует множество шагов, которые выполняются более одного раза, и, как следствие, сложность этого алгоритма составляет $\\mathcal O(n^2)$. "
   ]
  },
  {
   "cell_type": "markdown",
   "metadata": {},
   "source": [
    "## Быстрое преобразование Фурье (FFT)\n",
    "Алгоритмы БПФ используют симметрии и схожесть некоторых операций. Далее мы обсудим алгоритм Кули–Тьюки [2].\n",
    "\n",
    "Предположим, что $N$ является составным. Это означает, что $N=n_1\\cdot n_2$, где $N$, $n_1$ и $n_2$ - целые числа. Перепишем эти два показателя следующим образом \n",
    "$$k=n_2k_1+k_2,$$\n",
    "$$j = n_1j_2 + j_1,$$\n",
    "где $k_{1,2} = 0,1,...,n_{1,2}-1$ и $j_{1,2} = 0,1,...,j_{1,2}-1$. Если мы подставим эти новые показатели в DFT, некоторые перекрестные слагаемые исчезнут, и конечный результат будет\n",
    "$$y_{n_2k_1+k_2}=\\sum_{j_1=0}^{n_1-1}\\sum_{j_2=0}^{n_2-1}x_{n_1j_2+n_1}\\exp\\left[\\frac{-2\\pi i}{n_1n_2}(n_1j_2+j_1)(n_2k_1+k_2)\\right]$$\n",
    "$$=\\sum_{j_1=0}^{n_1-1}\\exp\\left[-\\frac{2\\pi i}{n}j_1k_2\\right]\\left(\\sum_{j_2=0}^{n_2-1}x_{n_1j_2+j_1}\\exp\\left[-\\frac{2\\pi i}{n_2}j_2k_2\\right]\\right)\\exp\\left[-\\frac{2\\pi i}{n_1}j_1k_1\\right].$$\n",
    "В этом уравнении каждая внутренняя сумма является DFT размером $n_2$, а каждая внешняя сумма-DFT размером $n_1$. Это дает рекурсивную формулу для вычисления DFT, которая более подробно описана в [1] и [4]. Для простоты воспользуемся алгоритмом *radix-2*. Сложность алгоритма FFT составляет $\\mathcal O (n\\log n)$, что делает его почти линейным для больших наборов данных!"
   ]
  },
  {
   "cell_type": "code",
   "execution_count": null,
   "metadata": {},
   "outputs": [],
   "source": [
    "def CooleyTukeyRadix2FFT(x):\n",
    "    \"\"\" Вычисляет одномерное дискретное преобразование Фурье вектора с использованием \n",
    "    алгоритма БПФ Кули-Тьюки radix-2. \n",
    "    Преобразуемый вектор должен иметь степень 2 числа элементов.\n",
    "    \n",
    "    :x: double arr. Вектор, который преобразуется.\n",
    "    :returns: double arr. Преобразование Фурье x.\n",
    "    \"\"\"\n",
    "    # Проверим, является ли n степенью 2.\n",
    "    if ( len(x) & (len(x) - 1)):\n",
    "        raise Exception(\"Число элементов в x должно быть степенью 2!\")\n",
    "    # Рекурсивная формула для вычисления БПФ.\n",
    "    def foo(x):\n",
    "        n = len(x)\n",
    "        if n == 1:\n",
    "            y = x\n",
    "        else:\n",
    "            y2 = foo(x[0:n:2])\n",
    "            y1 = foo(x[1:n + 1:2])\n",
    "            d = np.exp(-2j*np.pi/n)**np.arange(0,n/2)\n",
    "            y = np.append(y2 + d*y1,y2 - d*y1)\n",
    "        return y\n",
    "    return foo(x)\n",
    "\n",
    "def inverseCooleyTukeyRadix2FFT(y):\n",
    "    \"\"\" Вычисляет одномерное обратное дискретное преобразование Фурье\n",
    "    вектора с использованием алгоритма БПФ Кули-Тьюки radix-2. Размер вектора\n",
    "    должен быть степенью 2.\n",
    "    Parameters:\n",
    "        x: double arr. Вектор, который преобразуется.\n",
    "    Returns:\n",
    "        y: double arr. Преобразование Фурье x.\n",
    "    \"\"\"\n",
    "    # CПроверим, является ли n степенью 2.\n",
    "    if (len(y) & (len(y) - 1)):\n",
    "        raise Exception(\"Число элементов в x должно быть степенью 2!\")\n",
    "    # Rэкурсивная формула для расчета БПФ.\n",
    "    def foo(y):\n",
    "        n = len(y)\n",
    "        if n == 1:\n",
    "            x = y\n",
    "        else:\n",
    "            x2 = foo(y[0:n:2])\n",
    "            x1 = foo(y[1:n + 1:2])\n",
    "            d = np.exp(2j*np.pi/n)**np.arange(0,n/2)\n",
    "            x = np.append(x2 + d*x1,x2 - d*x1)\n",
    "        return x\n",
    "    return foo(y)/len(y)"
   ]
  },
  {
   "cell_type": "markdown",
   "metadata": {},
   "source": [
    "Давайте попробуем на небольшом примере, где мы просто преобразуем туда и обратно произвольный вектор, как и раньше."
   ]
  },
  {
   "cell_type": "code",
   "execution_count": null,
   "metadata": {},
   "outputs": [],
   "source": [
    "# Определение преобразуемого массива.\n",
    "x = rnd.randint(10,size=8)\n",
    "print('x =', x)\n",
    "# Преобразование Фурье.\n",
    "y = CooleyTukeyRadix2FFT(x)\n",
    "print('y =', np.round(y,2))\n",
    "# Обратное преобразование Фурье. \n",
    "x = inverseCooleyTukeyRadix2FFT(y)\n",
    "print('x =', np.round(x,2))"
   ]
  },
  {
   "cell_type": "markdown",
   "metadata": {},
   "source": [
    "Чтобы продемонстрировать превосходство БПФ, мы вычисляем преобразование Фурье для гораздо большего набора данных. Давайте также сравним с функцией fft из scipy.fftpack."
   ]
  },
  {
   "cell_type": "code",
   "execution_count": null,
   "metadata": {},
   "outputs": [],
   "source": [
    "x = rnd.rand(2048)\n",
    "# Время цикла для DFT, CooleyTukeyRadix2FFT и scipy.fftpack.fft.\n",
    "%timeit y = DFT(x)\n",
    "%timeit y = CooleyTukeyRadix2FFT(x)\n",
    "%timeit y = fft.fft(x)"
   ]
  },
  {
   "cell_type": "markdown",
   "metadata": {},
   "source": [
    "## Физический смысл\n",
    "\n",
    "Прямое дискретное преобразование Фурье ставит в соответствие временной функции, которая определена N-точками измерений на заданном временном интервале, другую функцию, которая определена на частотном интервале. Таким образом, физический смысл дискретного преобразования Фурье состоит в том, чтобы представить некоторый дискретный сигнал в виде суммы гармоник. Параметры каждой гармоники вычисляются прямым преобразованием, а сумма гармоник - обратным.\n",
    "\n",
    "Чтобы проиллюстрировать это, нам нужно выяснить, что физически означает формула DFT. Мы начнем с того, что перепишем ее как\n",
    "$$x_k=\\sum_{j=0}^{n-1}y_j\\exp\\left(2\\pi i\\frac{k}{n\\Delta t}j\\Delta t\\right).$$\n",
    "Выражение говорит нам просто о том, что $\\vec x$ - это суперпозиция экспоненциальных функций с различными частотами $f_j = \\frac{j}{n\\Delta t}$ и амплитудами $y_j$. Поэтому мы можем рассматривать величину амплитуды $|y_k|^2$ как меру \"веса частоты $f_j$\" в $\\vec x$!"
   ]
  },
  {
   "cell_type": "markdown",
   "metadata": {},
   "source": [
    "## Многомерное DFT\n",
    "Положим $\\vec j = (j_1,j_2,...,j_d)$ и $\\vec k = (k_1,k_2,...,k_d)$ являются $d$-мерными векторами с индексацией от $\\vec 0$ до $\\vec n-1 = (n_1-1,n_2,...,n_d-1)$. Тогда $d$-мерное DFT задается\n",
    "$$y_\\vec{k}=\\sum_{\\vec j=\\vec 0}^{\\vec n-1}x_\\vec{j}\\exp\\left[-2\\pi\\vec k\\cdot\\vec \\xi\\right],$$\n",
    "где $\\vec \\xi$ является поэлементным делением $(j_1/n_1,...,j_d/n_d)$ [4]. Например, двумерный DFT задается\n",
    "$$\\vec y_{k_1,k_2}=\\sum_{j_1=0}^{n_1-1}\\sum_{j_2=0}^{n_2-1}x_{j_1,j_2}\\exp\\left[-2\\pi i\\left(\\frac{ k_1j_1}{n_1}+\\frac{k_2j_2}{n_2}\\right)\\right].$$"
   ]
  },
  {
   "cell_type": "markdown",
   "metadata": {
    "collapsed": true
   },
   "source": [
    "Ссылки:  \n",
    "[1] T. Sauer: Numerical Analysis, second edition, Pearson 2014  \n",
    "[2] James W. Cooley and John W. Tukey: An Algorithm for the Machine Calculation of Complex Fourier Series, Math. Comp. 19 (1965), p. 297-301  \n",
    "[3] Wikipedia: https://en.wikipedia.org/wiki/Cooley%E2%80%93Tukey_FFT_algorithm, 03.28.2016 (acquired: April 2016)  \n",
    "[4] Wikipedia: https://en.wikipedia.org/wiki/Discrete_Fourier_transform, 04.28.2016 (acquired: April 2016)\n",
    "\n",
    "Check out the FFT pack in SciPy:\n",
    "http://docs.scipy.org/doc/scipy/reference/fftpack.html  "
   ]
  }
 ],
 "metadata": {
  "kernelspec": {
   "display_name": "Python 3",
   "language": "python",
   "name": "python3"
  },
  "language_info": {
   "codemirror_mode": {
    "name": "ipython",
    "version": 3
   },
   "file_extension": ".py",
   "mimetype": "text/x-python",
   "name": "python",
   "nbconvert_exporter": "python",
   "pygments_lexer": "ipython3",
   "version": "3.7.4"
  }
 },
 "nbformat": 4,
 "nbformat_minor": 1
}
