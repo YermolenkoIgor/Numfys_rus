{
 "cells": [
  {
   "cell_type": "markdown",
   "metadata": {},
   "source": [
    "<style>\n",
    "@import url(https://www.numfys.net/static/css/nbstyle.css);\n",
    "</style>\n",
    "<a href=\"https://www.numfys.net\"><img class=\"logo\" /></a>\n",
    "\n",
    "# Введение в NumPy\n",
    "\n",
    "### Modules - Basics\n",
    "<section class=\"post-meta\">\n",
    "By Thorvald Ballestad, Niels Henrik Aase, Eilif Sommer Øyre and Jon Andreas Støvneng.\n",
    "</section>\n",
    "Last edited: October 14th 2019\n",
    "\n",
    "___"
   ]
  },
  {
   "cell_type": "markdown",
   "metadata": {},
   "source": [
    "## Вступление\n",
    "\n",
    "NumPy - это пакет Python, который вездесущ в вычислительной физике.\n",
    "Он значительно увеличивает скорость вычислений и предлагает более интуитивно понятный способ работы с данными.\n",
    "\n",
    "Этот блокнот охватывает самые основы использования NumPy в вычислительной физике, предполагая, что читатель обладает базовыми знаниями Python.\n",
    "\n",
    "Во-первых, мы должны включить пакет `numpy`, чтобы нам было разрешено его использовать.\n",
    "Если вы не знакомы с концепцией импорта пакетов в Python, вы можете думать об этом как о включении файла с функциями, которые мы хотим использовать."
   ]
  },
  {
   "cell_type": "code",
   "execution_count": 1,
   "metadata": {},
   "outputs": [],
   "source": [
    "import numpy as np  # 'as np' говорит питону переименовать NumPy в np\n",
    "\n",
    "# Построение графиков\n",
    "import matplotlib.pyplot as plt"
   ]
  },
  {
   "cell_type": "markdown",
   "metadata": {},
   "source": [
    "Выше мы также импортировали `matplotlib` для построения графиков.\n",
    "\n",
    "NumPy представляет новый контейнер данных, известный как _array_. Массивы являются наиболее важной функцией NumPy, и все функции пакета NumPy основаны на этом контейнере данных. Он очень похож на список, но имеет некоторые важные функции, которых нет в списках. Мы рассмотрим это на примерах:"
   ]
  },
  {
   "cell_type": "code",
   "execution_count": 2,
   "metadata": {},
   "outputs": [
    {
     "name": "stdout",
     "output_type": "stream",
     "text": [
      "[0, 1, 2, 3, 4]\n",
      "[0 1 2 3 4]\n"
     ]
    }
   ],
   "source": [
    "my_list = [0, 1, 2, 3, 4]  # Обычный список Python\n",
    "my_array = np.array([0, 1, 2, 3, 4])  # NumPy массив\n",
    "\n",
    "# Давайте посмотрим, как они выглядят:\n",
    "print(my_list)\n",
    "print(my_array)"
   ]
  },
  {
   "cell_type": "markdown",
   "metadata": {},
   "source": [
    "Обратите внимание, что они выглядят почти одинаково, с той лишь разницей, что массивы не имеют запятых между элементами (при печати).\n",
    "\n",
    "Давайте познаем мощь массивов!"
   ]
  },
  {
   "cell_type": "code",
   "execution_count": 4,
   "metadata": {},
   "outputs": [
    {
     "name": "stdout",
     "output_type": "stream",
     "text": [
      "my_list*2:\t [0, 1, 2, 3, 4, 0, 1, 2, 3, 4]\n"
     ]
    }
   ],
   "source": [
    "# Помните, как ведут себя списки, когда мы хотим выполнить над ними математические операции:\n",
    "print(\"my_list*2:\\t\", my_list*2)"
   ]
  },
  {
   "cell_type": "markdown",
   "metadata": {},
   "source": [
    "Мы получаем повторение нашего списка, явно не то, что мы планировали!"
   ]
  },
  {
   "cell_type": "code",
   "execution_count": 5,
   "metadata": {},
   "outputs": [
    {
     "name": "stdout",
     "output_type": "stream",
     "text": [
      "my_array*2:\t [0 2 4 6 8]\n"
     ]
    }
   ],
   "source": [
    "print(\"my_array*2:\\t\", my_array*2)"
   ]
  },
  {
   "cell_type": "markdown",
   "metadata": {},
   "source": [
    "Каждый элемент умножается на два, именно такое поведение мы используем в векторном исчислении.\n",
    "\n",
    "На самом деле мы можем сделать это с большинством математических операторов и функций."
   ]
  },
  {
   "cell_type": "code",
   "execution_count": 7,
   "metadata": {},
   "outputs": [
    {
     "name": "stdout",
     "output_type": "stream",
     "text": [
      "my_array**2:\t\t [ 0  1  4  9 16]\n",
      "my_array**2 - 3/2:\t [-1.5 -0.5  2.5  7.5 14.5]\n",
      "my_function(my_array):\t [ 1  4  9 16 25]\n"
     ]
    }
   ],
   "source": [
    "# помните, что x**y - это синтаксис python для x^y, то есть x в степени y\n",
    "print(\"my_array**2:\\t\\t\", my_array**2)\n",
    "print(\"my_array**2 - 3/2:\\t\", my_array**2 - 3/2)\n",
    "\n",
    "# We can even do this with functions!\n",
    "def my_function(x):\n",
    "    y = x + 1\n",
    "    return y**2\n",
    "\n",
    "print(\"my_function(my_array):\\t\", my_function(my_array))"
   ]
  },
  {
   "cell_type": "markdown",
   "metadata": {},
   "source": [
    "Последний пример демонстрирует мощь работы с массивами по элементам. Если вы используете обычный список Python вместо NumPy-массива, вам придется перебирать все элементы \"x\", используя цикл \"for\", а затем добавлять результаты в новый список, чтобы получить тот же результат! Это показано ниже."
   ]
  },
  {
   "cell_type": "code",
   "execution_count": 8,
   "metadata": {},
   "outputs": [
    {
     "name": "stdout",
     "output_type": "stream",
     "text": [
      "my_function2(my_list):\t [1, 4, 9, 16, 25]\n"
     ]
    }
   ],
   "source": [
    "def my_function2(x):\n",
    "    y = [] # Создание пустого списка python\n",
    "    for i in range(len(x)):\n",
    "        y_element = x[i] + 1\n",
    "        y.append(y_element**2)\n",
    "    return y\n",
    "\n",
    "print(\"my_function2(my_list):\\t\", my_function2(my_list))"
   ]
  },
  {
   "cell_type": "markdown",
   "metadata": {},
   "source": [
    "Урок таков: используйте массивы NumPy, а не списки Python.\n",
    "\n",
    "NumPy включает в себя множество математических функций, таких как $\\sin, \\cos, \\cosh,\\exp, \\log$.\n",
    "Обычно они имеют интуитивные имена, такие как `np.sin`, `np.exp` и так далее.\n",
    "Часто можно попробовать математическое имя и надеяться, что у NumPy есть функция."
   ]
  },
  {
   "cell_type": "code",
   "execution_count": 9,
   "metadata": {},
   "outputs": [
    {
     "name": "stdout",
     "output_type": "stream",
     "text": [
      "sin(x) =\t [-0.84147098 -0.47942554  0.          0.47942554  0.84147098]\n",
      "arccos(x) =\t [3.14159265 2.0943951  1.57079633 1.04719755 0.        ]\n",
      "log(x+10) = \t [2.19722458 2.2512918  2.30258509 2.35137526 2.39789527]\n",
      "log10(x+10) =\t [0.95424251 0.97772361 1.         1.0211893  1.04139269]\n"
     ]
    }
   ],
   "source": [
    "# Some mathematical functions\n",
    "x = np.array([-1, -0.5, 0, 0.5, 1])\n",
    "print(\"sin(x) =\\t\", np.sin(x))\n",
    "print(\"arccos(x) =\\t\", np.arccos(x))\n",
    "print(\"log(x+10) = \\t\", np.log(x+10))\n",
    "print(\"log10(x+10) =\\t\", np.log10(x+10))"
   ]
  },
  {
   "cell_type": "markdown",
   "metadata": {},
   "source": [
    "Возможно, вы уже поняли, насколько это практично. Например, если мы хотим построить график $y=f(x)$, мы можем просто передать весь массив $x$ в нашу функцию, вместо того, чтобы использовать цикл \"for\", как мы обычно делаем с Python."
   ]
  },
  {
   "cell_type": "code",
   "execution_count": 10,
   "metadata": {},
   "outputs": [
    {
     "name": "stdout",
     "output_type": "stream",
     "text": [
      "x:\t [ 1  2  3  4  5  6  7  8  9 10]\n",
      "y:\t [ 0.84147098  0.90929743  0.14112001 -0.7568025  -0.95892427 -0.2794155\n",
      "  0.6569866   0.98935825  0.41211849 -0.54402111]\n"
     ]
    },
    {
     "data": {
      "image/png": "[encoded data removed]",
      "text/plain": [
       "<Figure size 432x288 with 1 Axes>"
      ]
     },
     "metadata": {
      "needs_background": "light"
     },
     "output_type": "display_data"
    }
   ],
   "source": [
    "x = np.array([1, 2, 3, 4, 5, 6, 7, 8, 9, 10])\n",
    "y = np.sin(x)  # находит sin(x) для каждого из элементов в x\n",
    "\n",
    "print(\"x:\\t\", x)\n",
    "print(\"y:\\t\", y)\n",
    "\n",
    "plt.plot(x, y)  \n",
    "# Построение графиков не является частью этого блокнота, мы используем его здесь только в демонстрационных целях\n",
    "plt.show()"
   ]
  },
  {
   "cell_type": "markdown",
   "metadata": {},
   "source": [
    "Со скучными старыми списками Python нам пришлось бы перебирать `x` и вычислять $y(x)$ для каждого значения, как было показано выше.\n",
    "Это не только больше кода для написания, но и значительно медленнее, когда количество точек становится большим.\n",
    "\n",
    "Все это хорошо и замечательно, но немного утомительно писать `np.array([1,2,3,4,5,6,7,8,9,10])`. А что, если нам понадобится еще более длинный массив, скажем, сто чисел? К счастью, NumPy имеет встроенные методы для получения различных массивов.\n",
    "\n",
    "## Генерация массивов\n",
    "Две наиболее распространенные функции для генерации массивов - это `np.linspace` и `np.arange`.\n",
    "Обе функции дают нам точки на интервале.\n",
    "`np.linspace` позволяет нам решить, сколько точек мы хотим, а `np.arange` позволяет нам определить расстояние между точками.\n",
    "Давайте приведем несколько примеров, чтобы сделать это более ясным."
   ]
  },
  {
   "cell_type": "code",
   "execution_count": 11,
   "metadata": {},
   "outputs": [
    {
     "name": "stdout",
     "output_type": "stream",
     "text": [
      "[0.         0.04081633 0.08163265 0.12244898 0.16326531 0.20408163\n",
      " 0.24489796 0.28571429 0.32653061 0.36734694 0.40816327 0.44897959\n",
      " 0.48979592 0.53061224 0.57142857 0.6122449  0.65306122 0.69387755\n",
      " 0.73469388 0.7755102  0.81632653 0.85714286 0.89795918 0.93877551\n",
      " 0.97959184 1.02040816 1.06122449 1.10204082 1.14285714 1.18367347\n",
      " 1.2244898  1.26530612 1.30612245 1.34693878 1.3877551  1.42857143\n",
      " 1.46938776 1.51020408 1.55102041 1.59183673 1.63265306 1.67346939\n",
      " 1.71428571 1.75510204 1.79591837 1.83673469 1.87755102 1.91836735\n",
      " 1.95918367 2.        ]\n"
     ]
    }
   ],
   "source": [
    "# Получите массив из 50 значений в диапазоне от 0 до 2\n",
    "x_lin = np.linspace(0, 2, 50)\n",
    "print(x_lin)"
   ]
  },
  {
   "cell_type": "markdown",
   "metadata": {},
   "source": [
    "`np.linspace` полезен, если мы, например, хотим построить функцию $f(x)$.\n",
    "Затем нам нужен список $x$, для которых мы можем вычислить значения $y=f(x)$.\n",
    "Обратите внимание, что расстояние между точками одинаковое, точки *lin* распределены в *пространстве*.\n",
    "Иногда мы хотим иметь больший контроль над расстоянием между точками, а не над количеством точек. Для этого мы используем `np.arange`."
   ]
  },
  {
   "cell_type": "code",
   "execution_count": 12,
   "metadata": {},
   "outputs": [
    {
     "name": "stdout",
     "output_type": "stream",
     "text": [
      "[0.  0.1 0.2 0.3 0.4 0.5 0.6 0.7 0.8 0.9 1.  1.1 1.2 1.3 1.4 1.5 1.6 1.7\n",
      " 1.8 1.9]\n"
     ]
    }
   ],
   "source": [
    "# Получите массив значений от 0 до 2 с интервалом 0,1\n",
    "x_range = np.arange(0, 2, 0.1)\n",
    "print(x_range)"
   ]
  },
  {
   "cell_type": "markdown",
   "metadata": {},
   "source": [
    "Обратите внимание, что конечная точка 2 не включена, как и во встроенной функции Python `range`.\n",
    "\n",
    "Выбор между `linspace` и `arange` зависит от наших потребностей.\n",
    "Часто нам просто нужно несколько точек на интервале, и точное расстояние на самом деле не имеет значения.\n",
    "В этой ситуации мы, очевидно, хотим использовать `linspace`.\n",
    "Однако иногда расстояние важнее, чем количество точек, тогда используется `arange`."
   ]
  },
  {
   "cell_type": "markdown",
   "metadata": {},
   "source": [
    "Можно также сгенерировать массив из существующего списка, используя `np.array ()`, как это было сделано во введении в этом блокноте."
   ]
  },
  {
   "cell_type": "markdown",
   "metadata": {},
   "source": [
    "Есть еще много функций, которые дают нам массивы различных форм и размеров, мы не будем рассматривать их все здесь. Но следует упомянуть еще две функции: `np.zeros` и `np.ones`, которые дают нам список нулей и единиц соответственно."
   ]
  },
  {
   "cell_type": "code",
   "execution_count": 13,
   "metadata": {},
   "outputs": [
    {
     "name": "stdout",
     "output_type": "stream",
     "text": [
      "[0. 0. 0. 0. 0. 0. 0. 0. 0. 0. 0. 0. 0. 0. 0. 0. 0. 0. 0. 0.]\n",
      "[1. 1. 1. 1. 1. 1. 1. 1. 1. 1. 1. 1. 1. 1. 1. 1. 1. 1. 1. 1.]\n"
     ]
    }
   ],
   "source": [
    "# Создает два списка, один с нулями и один с единицами, оба длиной 20\n",
    "zeros = np.zeros(20)\n",
    "ones = np.ones(20)\n",
    "\n",
    "# Let us see how they look\n",
    "print(zeros)\n",
    "print(ones)"
   ]
  },
  {
   "cell_type": "markdown",
   "metadata": {},
   "source": [
    "`np.zeros` и `np.ones` часто полезны для инициализации массивов, которые будут использоваться позже."
   ]
  },
  {
   "cell_type": "markdown",
   "metadata": {},
   "source": [
    "## Срезы и индексация\n",
    "В массивах полезно ссылаться только на те элементы, которые нам нужны, точно так же, как мы делаем с индексацией в обычных списках.\n",
    "\n",
    "Давайте сначала рассмотрим обычные списки.\n",
    "Помните, что списки индексируются 0, то есть первый элемент - это элемент 0, второй-1 и так далее."
   ]
  },
  {
   "cell_type": "code",
   "execution_count": 14,
   "metadata": {},
   "outputs": [
    {
     "name": "stdout",
     "output_type": "stream",
     "text": [
      "my_list[0]:\t 1\n",
      "my_list[:2]:\t [1, 2]\n",
      "my_list[-2:]:\t [3, 4]\n"
     ]
    }
   ],
   "source": [
    "my_list = [1, 2, 3, 4]  # Обычный список Python\n",
    "\n",
    "# Мы можем получить доступ к различным частям списка путем нарезки и индексирования:\n",
    "print(\"my_list[0]:\\t\", my_list[0])     # Первый элемент\n",
    "print(\"my_list[:2]:\\t\", my_list[:2])   # Два первых элемента\n",
    "print(\"my_list[-2:]:\\t\", my_list[-2:]) # Последние два элемента"
   ]
  },
  {
   "cell_type": "markdown",
   "metadata": {},
   "source": [
    "В общем случае синтаксис для нарезки списков - это `my_list[start:end:step]`, где `start` - это первый элемент, который нам нужен, `end` - последний элемент (не включенный), а `step` - размер шага.\n",
    "Обратите внимание, что если `start` или `end` пусты, мы получаем от начала или до конца соответственно.\n",
    "Отрицательные значения отсчитываются с конца, так что -1 является последним элементом.\n",
    "\n",
    "Если вы совершенно не знакомы с этим, вам рекомендуется поиграть с этим сейчас, прежде чем переходить к нарезке \"массива\"."
   ]
  },
  {
   "cell_type": "markdown",
   "metadata": {},
   "source": [
    "Мы можем сделать то же самое с массивами, но у массивов есть еще больше способов нарезки!\n",
    "\n",
    "Синтаксис для нарезки (сплайсинга) в NumPy точно такой же, как и для списков, но мы можем делать это для каждого измерения!\n",
    "Для двумерного массива синтаксис становится `my_array[start_1:end_1, start_2:end_2]`, где `start_1` и `end_1` - начальные и конечные значения для первой оси, и аналогично с `start_2` и `end_2` для второй оси."
   ]
  },
  {
   "cell_type": "markdown",
   "metadata": {},
   "source": [
    "## Final note\n",
    "О NumPy можно сказать гораздо больше, это были только самые основы.\n",
    "\n",
    "NumPy очень хорошо документирован, и в Интернете есть много полезной информации.\n",
    "См. [Официальную документацию](https://docs.scipy.org/doc/numpy).\n",
    "\n",
    "Некоторые примечательные функции, которые были опущены в этом ноутбуке:\n",
    " - `np.loadtxt` и `np.savetxt` для легкого сохранения и чтения значений из файлов.\n",
    " - `numpy.linalg` библиотека: полезные функции линейной алгебры, такие как решение матричных уравнений и декомпозиция.\n",
    " - Многомерные массивы, аналогичные матрицам."
   ]
  }
 ],
 "metadata": {
  "kernelspec": {
   "display_name": "Python 3",
   "language": "python",
   "name": "python3"
  },
  "language_info": {
   "codemirror_mode": {
    "name": "ipython",
    "version": 3
   },
   "file_extension": ".py",
   "mimetype": "text/x-python",
   "name": "python",
   "nbconvert_exporter": "python",
   "pygments_lexer": "ipython3",
   "version": "3.7.4"
  }
 },
 "nbformat": 4,
 "nbformat_minor": 4
}
