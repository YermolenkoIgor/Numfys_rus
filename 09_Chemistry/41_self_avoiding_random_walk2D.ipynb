{
 "cells": [
  {
   "cell_type": "markdown",
   "metadata": {},
   "source": [
    "<style>\n",
    "@import url(https://www.numfys.net/static/css/nbstyle.css);\n",
    "</style>\n",
    "<a href=\"https://www.numfys.net\"><img class=\"logo\" /></a>\n",
    "\n",
    "# Случайное блуждание в 2D\n",
    "\n",
    "### Examples - Chemistry\n",
    "\n",
    "<section class=\"post-meta\">\n",
    "By Håkon Ånes, Jonas Tjemsland, Andreas Krogen and Jon Andreas Støvneng\n",
    "</section>\n",
    "Last edited: March 22nd 2018 \n",
    "___"
   ]
  },
  {
   "cell_type": "markdown",
   "metadata": {},
   "source": [
    "## Вступление\n",
    "\n",
    "Линейные *полимеры* - это молекулы, которые образуют длинные цепочки основных звеньев, называемых *мономерами*, и цепи могут достигать $10^{5}$ мономеров. Реальные линейные полимерные цепи можно увидеть на рис. 1. Ученые хотят знать, сколько различных конфигураций может принимать цепь из $n$-мономеров, а также как далеко друг от друга обычно находятся конечные точки полимера, предполагая, что каждая конфигурация одинаково вероятна [[1]](#rsc). Эти вопросы переводятся в вопросы о *произвольных блужданиях*, которые мы рассмотрим в этом блокноте.\n",
    "\n",
    "<a title=\"By Yurko (Own work) [CC BY-SA 3.0 (http://creativecommons.org/licenses/by-sa/3.0)], via Wikimedia Commons\" href=\"https://commons.wikimedia.org/wiki/File%3ASingle_Polymer_Chains_AFM.jpg\"><img width=\"175\" alt=\"Single Polymer Chains AFM\" src=\"https://upload.wikimedia.org/wikipedia/commons/0/03/Single_Polymer_Chains_AFM.jpg\"/></a>\n",
    "\n",
    "**Рисунок 1:** Внешний вид реальных линейных полимерных цепей, записанных с помощью атомно-силового микроскопа, на поверхности в жидкой среде. Длина контура цепи для этого полимера составляет ~204 нм; толщина ~0.4 нм. Взято из [[2]](rsc#).\n",
    "\n",
    "Произвольные блуждания - это путь по решетке, который не посещает один и тот же агент более одного раза. Несмотря на простоту, на многие вопросы, касающиеся этой модели, трудно ответить строгим математическим способом. В частности, возникают вопросы о том, как далеко обычно проходит ходок сделавший $n$ шагов. Отец и сын П. С. Хеммер и С. Хеммер опубликовали в 1984 году краткую статью с понятным названием *Среднее случайное блуждание, избегающее себя, по квадратной решетке длится 71 шаг* [[3]](#rsc). В следующем мы всего несколькими строками кода покажем, как они пришли к своему выводу."
   ]
  },
  {
   "cell_type": "markdown",
   "metadata": {},
   "source": [
    "## Произвольные блуждания с избежанием самопересечения\n",
    "\n",
    "На квадратной решетке в двух измерениях ходок может попасть в ловушку. Примером этого являются прогулки, показанные на рис. 2. На рисунке показаны все возможные произвольные блуждания, состоящие из семи, восьми или девяти шагов.\n",
    "\n",
    "<img width=\"400\" alt=\"Self-trapped walks with seven, eight or nine steps.\" src=\"images/self_trapped_walks.png\" />\n",
    "\n",
    "**Рисунок 2:** Произвольные блуждания с семью, восемью или девятью шагами. Адаптировано из [[3]](#rsc).\n",
    "\n",
    "Скажем, что на каждом шаге дается равная вероятность перехода на соседние сайты, которые ранее не посещались. Для низких $n$ вероятность того, что $t(n)$ произойдет самозахват после $n$ шагов в течение 1-9 шагов, равна:\n",
    "\n",
    "$$\n",
    "t(1) = ... = t(6) = 0; \\:\\: t(7) = \\frac{2}{729}; \\\\\n",
    "t(8) = \\frac{5}{2187}; \\:\\: t(9) = \\frac{31}{6561}.\n",
    "$$\n",
    "\n",
    "Эти распределения $t(n)$ могут быть вычислены путем выполнения достаточно большого числа самоустраняющихся случайных блужданий по решетке. Для каждого шага, на какой сайт в конечном итоге перемещается ходок, определяется случайной выборкой."
   ]
  },
  {
   "cell_type": "markdown",
   "metadata": {},
   "source": [
    "## Реализация функции случайного ходока\n",
    "\n",
    "Мы сохраняем два массива. Количество шагов каждой прогулки записывается в массив `walk_lengths`, в то время как расстояние $R$ между ходоком и его начальной точкой записывается в массив `displacements`."
   ]
  },
  {
   "cell_type": "code",
   "execution_count": null,
   "metadata": {},
   "outputs": [],
   "source": [
    "%matplotlib inline\n",
    "import numpy as np\n",
    "import matplotlib.pyplot as plt\n",
    "import progressbar\n",
    "import warnings\n",
    "warnings.filterwarnings('ignore')"
   ]
  },
  {
   "cell_type": "code",
   "execution_count": null,
   "metadata": {},
   "outputs": [],
   "source": [
    "newparams = {'font.size': 20, 'lines.linewidth': 2, 'figure.figsize': (14, 7) }\n",
    "plt.rcParams.update(newparams)"
   ]
  },
  {
   "cell_type": "code",
   "execution_count": null,
   "metadata": {},
   "outputs": [],
   "source": [
    "def random_walk2D(m, walks):\n",
    "    \"\"\"Perform self-avoiding random walks on an m-by-m (square) lattice.\n",
    "    \n",
    "    Parameters:\n",
    "        m:       int. Dimension of lattice.\n",
    "        walks:   int. Number of walks to perform.\n",
    "    \n",
    "    Returns:\n",
    "        walk_lengths:  list. List of lengths of each walk.\n",
    "        displacements: list. List of displacement from starting point of each walk.\n",
    "    \"\"\"\n",
    "    \n",
    "    walk_lengths = [0]*walks\n",
    "    displacements = [0]*walks\n",
    "    # Create a progress bar for the for loop\n",
    "    bar = progressbar.ProgressBar()\n",
    "    for i in bar(range(walks)):\n",
    "        # Create an m-by-m array (lattice) with all elements set to zero\n",
    "        a = np.zeros([m, m])\n",
    "        # Index the array using integer numbers. Walker starts in the\n",
    "        # middle of the array.\n",
    "        x = int(m/2)\n",
    "        y = int(m/2)\n",
    "        steps = 0\n",
    "        while (x > 0) and (x < m-1) and (y > 0) and (y < m-1):\n",
    "            # Check if trapped. If not, make a random move.\n",
    "            a[x][y] = 1\n",
    "            if a[x-1][y] and a[x+1][y] and a[x][y-1] and a[x][y+1]:\n",
    "                walk_lengths[i] = steps\n",
    "                # Calculate displacement from starting point\n",
    "                displacements[i] = np.sqrt((x - int(m/2))**2 + (y - int(m/2))**2)\n",
    "                break\n",
    "            # Random sampling\n",
    "            r = np.random.randint(1, 5)\n",
    "            if (r == 1) and (not a[x+1][y]):\n",
    "                x += 1\n",
    "                steps += 1\n",
    "            elif (r == 2) and (not a[x-1][y]):\n",
    "                x -= 1\n",
    "                steps += 1\n",
    "            elif (r == 3) and (not a[x][y+1]):\n",
    "                y += 1\n",
    "                steps += 1\n",
    "            elif (r == 4) and (not a[x][y-1]):\n",
    "                y -= 1\n",
    "                steps += 1\n",
    "    return walk_lengths, displacements"
   ]
  },
  {
   "cell_type": "markdown",
   "metadata": {},
   "source": [
    "Достаточно большая квадратная решетка необходима для того, чтобы случайный ходок не сошел с нее. Но более крупная решетка приведет к увеличению времени вычислений. Предыдущие прогоны показали, что наибольшие смещения обычно находятся в радиусе 100 точек решетки. Таким образом, будет достаточно определить решетку $m \\times m$, $200\\times 200$. Если ходок *должен* отклониться от этой решетки, он получит длину нулевых шагов. Как показано на рис. 2, наименьшее количество шагов, на которые может попасть случайный ходок, - это семь. Чтобы проверить, достаточно ли велика наша решетка, мы можем, таким образом, проверить кратчайший путь и увеличить размер решетки, если кратчайший путь равен нулю."
   ]
  },
  {
   "cell_type": "markdown",
   "metadata": {},
   "source": [
    "## Запуск проходов\n",
    "\n",
    "В своей статье Хеммеры выполнили 60 000 проходов и построили график распределения вероятности $t(n)$ для самозахвата, который произойдет после $n$ шагов. Давайте сделаем то же самое и сравним наши результаты с их."
   ]
  },
  {
   "cell_type": "code",
   "execution_count": null,
   "metadata": {},
   "outputs": [],
   "source": [
    "m = 200\n",
    "walks = 60000\n",
    "walk_lengths, displacements = random_walk2D(m, walks)\n",
    "np.min(walk_lengths)"
   ]
  },
  {
   "cell_type": "code",
   "execution_count": null,
   "metadata": {},
   "outputs": [],
   "source": [
    "# Plot the probability distribution\n",
    "plt.hist(walk_lengths, bins=np.max(walk_lengths), color='k', label='Probabilities');\n",
    "plt.xlabel('$n$');\n",
    "plt.ylabel('$t(n)$');\n",
    "plt.xlim([0, 300]);\n",
    "\n",
    "# Plot the gross features of the distribution in an approximate formula\n",
    "n = np.linspace(0, 300, 1000)\n",
    "plt.plot(n, 0.37e-2*(n - 6)**(3/5)*np.exp(-n/40), label='Approximation');\n",
    "plt.legend();"
   ]
  },
  {
   "cell_type": "markdown",
   "metadata": {},
   "source": [
    "Общие характеристики нашего распределения могут быть выражены приближенными формулами, например [[3]](#rsc)\n",
    "\n",
    "$$\n",
    "t(n) \\propto (n-6)^{3/5}e^{-n/40}.\n",
    "$$\n",
    "\n",
    "Добавление коэффициента масштабирования $0.37\\cdot10^{-2}$ соответствует приближению к нашим данным. Приближение показано на графике выше.\n",
    "\n",
    "Теперь мы можем из массивов `walk_lenghts` и `displacements` рассчитать среднюю длину ходьбы со стандартным отклонением, наиболее вероятную длину, максимальную длину, среднее смещение от начальной точки и максимальное смещение от начальной точки."
   ]
  },
  {
   "cell_type": "code",
   "execution_count": null,
   "metadata": {},
   "outputs": [],
   "source": [
    "# Calculate parameters\n",
    "mean_len = np.mean(walk_lengths)\n",
    "std_len = np.std(walk_lengths)/np.sqrt(walks)\n",
    "most_prob_len = np.bincount(walk_lengths).argmax()\n",
    "max_len = np.max(walk_lengths)\n",
    "\n",
    "mean_dis = np.mean(displacements)\n",
    "std_dis = np.std(displacements)/np.sqrt(walks)\n",
    "max_dis = np.max(displacements)\n",
    "\n",
    "print('An average self-avoiding random walk on the square lattice lasts %.1f ± %.1f steps (70.7 ± 0.2).' \n",
    "      % (mean_len, std_len))\n",
    "print('Most probable length: %i (33).' % most_prob_len)\n",
    "print('Maximum length: ', (max_len))\n",
    "print('Average displacement R = %.2f ± %.2f (11.87 ± 0.05).' % (mean_dis, std_dis))\n",
    "print('Maximum displacement: %.2f.' % (max_dis))"
   ]
  },
  {
   "cell_type": "markdown",
   "metadata": {},
   "source": [
    "Результаты Хеммерса приведены в приведенных выше параграфах. Наши результаты довольно близки к результатам, приведенным в статье."
   ]
  },
  {
   "cell_type": "markdown",
   "metadata": {},
   "source": [
    "### Дополнительные вопросы\n",
    "* Как выглядит распределение вероятностей для смещения?\n",
    "* Какие еще свойства можно изучить?\n",
    "* Как самоизбегающий случайный ходок ведет себя на гексагональной решетке?\n",
    "* Или в трех измерениях?"
   ]
  },
  {
   "cell_type": "markdown",
   "metadata": {},
   "source": [
    "<a id=\"rsc\"></a>\n",
    "### References\n",
    "\n",
    "[1] Neal, M and Slade, G. [The self-avoiding walk](https://books.google.no/books?hl=no&lr=&id=JsoFCAAAQBAJ&oi=fnd&pg=PR11&dq=gordon+slade+self-avoiding+walk&ots=ov8bIRDCbL&sig=TzPF_P_V1cB_-6apq2tPPhPYZlw&redir_esc=y#v=onepage&q=gordon%20slade%20self-avoiding%20walk&f=false). Springer Science & Business Media, 2013. \n",
    "\n",
    "[2] Roiter, Y and Minko, S. [AFM Single Molecule Experiments at the Solid-Liquid Interface: In Situ Conformation of Adsorbed Flexible Polyelectrolyte Chains](http://pubs.acs.org/doi/abs/10.1021/ja0558239), Journal of the American Chemical Society, vol. 127, iss. 45, pp. 15688-15689 (2005).\n",
    "\n",
    "[3] Hemmer, S and Hemmer, P C. [An average self-avoiding random walk on the square lattice lasts 71 steps](http://scitation.aip.org/content/aip/journal/jcp/81/1/10.1063/1.447349). J. Chem. Phys **81** (1), 1 July 1984."
   ]
  }
 ],
 "metadata": {
  "anaconda-cloud": {},
  "kernelspec": {
   "display_name": "Python 3",
   "language": "python",
   "name": "python3"
  },
  "language_info": {
   "codemirror_mode": {
    "name": "ipython",
    "version": 3
   },
   "file_extension": ".py",
   "mimetype": "text/x-python",
   "name": "python",
   "nbconvert_exporter": "python",
   "pygments_lexer": "ipython3",
   "version": "3.7.4"
  }
 },
 "nbformat": 4,
 "nbformat_minor": 1
}
