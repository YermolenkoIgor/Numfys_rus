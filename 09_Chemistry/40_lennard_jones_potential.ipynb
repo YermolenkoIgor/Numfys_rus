{
 "cells": [
  {
   "cell_type": "markdown",
   "metadata": {},
   "source": [
    "<style>\n",
    "@import url(https://www.numfys.net/static/css/nbstyle.css);\n",
    "</style>\n",
    "<a href=\"https://www.numfys.net\"><img class=\"logo\" /></a>\n",
    "\n",
    "# Потенциал Леннарда-Джонса\n",
    "\n",
    "### Example - Chemistry\n",
    "<section class=\"post-meta\">\n",
    "By Magnus A. Gjennestad, Vegard Hagen, Aksel Kvaal, Morten Vassvik, Trygve B. Wiig and Peter Berg\n",
    "</section>\n",
    "Last edited: March 22nd 2018\n",
    "___"
   ]
  },
  {
   "cell_type": "markdown",
   "metadata": {},
   "source": [
    "### Вступление\n",
    "Потенциал Леннарда-Джонса (также называемый потенциалом L-J или потенциалом 12-6) представляет собой простую физическую модель, которая аппроксимирует взаимодействие между парой нейтральных атомов или молекул.\n",
    "\n",
    "Наиболее распространенными выражениями для потенциала L-J являются:\n",
    "\n",
    "\\begin{equation}\n",
    "V_\\mathrm{LJ} = 4\\epsilon \\left[\\left(\\frac{\\sigma}{r}\\right)^{12} - \\left(\\frac{\\sigma}{r}\\right)^6\\right]=\\epsilon \\left[\\left(\\frac{r_m}{r}\\right)^{12} - 2\\left(\\frac{r_m}{r}\\right)^6\\right],\n",
    "\\label{potential} \\quad (1)\n",
    "\\end{equation}\n",
    "\n",
    "где r - расстояние между частицами. Здесь $\\epsilon$ - это глубина (т.е. минимум) потенциальной ямы, достигаемый при $r = r_m$, а $\\sigma$ - расстояние, на котором межчастичный потенциал равен нулю. Можно показать, что $r_m = 2^{1/6}\\sigma$."
   ]
  },
  {
   "cell_type": "code",
   "execution_count": null,
   "metadata": {},
   "outputs": [],
   "source": [
    "%matplotlib inline\n",
    "import numpy as np\n",
    "import matplotlib.pyplot as plt\n",
    "from matplotlib import rc"
   ]
  },
  {
   "cell_type": "code",
   "execution_count": null,
   "metadata": {},
   "outputs": [],
   "source": [
    "newparams = {'figure.figsize': (12, 4), 'axes.grid': False,\n",
    "             'lines.markersize': 6, 'lines.linewidth': 3,\n",
    "             'font.size': 20, 'mathtext.fontset': 'stix',\n",
    "             'font.family': 'STIXGeneral'}\n",
    "plt.rcParams.update(newparams)"
   ]
  },
  {
   "cell_type": "markdown",
   "metadata": {},
   "source": [
    "После импорта необходимых пакетов мы получаем следующий график для $\\epsilon = \\sigma = 1$:"
   ]
  },
  {
   "cell_type": "code",
   "execution_count": null,
   "metadata": {},
   "outputs": [],
   "source": [
    "def plotV(r, eps, sig, xlim, ylim):\n",
    "    \"\"\" Function for plotting the Lennard-Jones potantial with given parameter values. \"\"\"\n",
    "\n",
    "    V_LJ = 4*eps*((sig/r)**12-(sig/r)**6)\n",
    "\n",
    "    plt.plot(r, V_LJ)\n",
    "    plt.ylim(ylim)\n",
    "    plt.xlim(xlim)\n",
    "    plt.ylabel(r\"$V_{LJ}(r)$\")\n",
    "    plt.xlabel(r\"$r$\")\n",
    "    \n",
    "\n",
    "xlim = [0.8, 2]\n",
    "ylim = [-1.5, 2]\n",
    "r = np.linspace(0.5, 2, 100)\n",
    "eps = 1\n",
    "sig = 1\n",
    "plotV(r, eps, sig, xlim, ylim)"
   ]
  },
  {
   "cell_type": "markdown",
   "metadata": {},
   "source": [
    "Как мы видим, есть выраженный глобальный минимум и ожидаемы колебания относительно этого равновесия до тех пор, пока общая энергия, $E_\\mathrm{total} = E_\\mathrm{kin} + E_\\mathrm{pot}$, не превышает нуля."
   ]
  },
  {
   "cell_type": "markdown",
   "metadata": {},
   "source": [
    "### Параметры для нашего конкретного примера\n",
    "В этом примере мы рассмотрим потенциал Леннарда-Джонса для двух молекул H2O. Параметры таковы:\n",
    "- $\\sigma=0.326 \\times 10^{-9}$ m\n",
    "- $\\epsilon=1.08\\times 10^{-21}$ J\n",
    "\n",
    "Обратите внимание, что зависящее от ориентации взаимодействие между диполями воды здесь явно не включено. Мы получаем следующий график:"
   ]
  },
  {
   "cell_type": "code",
   "execution_count": null,
   "metadata": {},
   "outputs": [],
   "source": [
    "r = np.linspace(3e-10, 7e-10, 100)\n",
    "eps = 1.08e-21\n",
    "sig = 0.32e-9\n",
    "ylim = [-1.5e-21, 1.5e-21]\n",
    "xlim = [2.5e-10, 7e-10]\n",
    "\n",
    "plotV(r, eps, sig, xlim, ylim)"
   ]
  },
  {
   "cell_type": "markdown",
   "metadata": {},
   "source": [
    "### Задача\n",
    "Теперь мы проанализируем колебания относительно равновесия классическим способом.\n",
    "- Во-первых, мы хотим изучить частоту малых колебаний вблизи $r = r_m$.\n",
    "- Для этого мы аппроксимируем силу в окрестности $r = r_m$.\n",
    "- После этого мы хотим вычислить период колебаний для больших возмущений, когда линеаризация является плохим приближением."
   ]
  },
  {
   "cell_type": "markdown",
   "metadata": {},
   "source": [
    "#### Получение силы из Потенциала\n",
    "Давайте вычислим силу из потенциала, взяв производную:\n",
    "\n",
    "\\begin{equation}\n",
    "F = -\\frac{\\mathrm{d}V}{\\mathrm{d}r} = \\frac{12\\epsilon}{r_m}\\left[\\left(\\frac{r_m}{r}\\right)^{13} - \\left(\\frac{r_m}{r}\\right)^7\\right].\n",
    "\\label{force} \\quad (2)\n",
    "\\end{equation}\n",
    "\n",
    "Обратите внимание, что $F(r_m)=0$, следовательно, $r=r_m$ является точкой равновесия. Теперь мы можем аппроксимировать силу в окрестности этой точки."
   ]
  },
  {
   "cell_type": "markdown",
   "metadata": {},
   "source": [
    "Запишем\n",
    "$$F(r_m + \\Delta r) = F(r_m) + F'(r_m)\\Delta r + \\mathcal{O}(\\Delta r^2) = 0 + F'(r_m)\\Delta r + \\mathcal{O}(\\Delta r^2).$$\n",
    "\n",
    "Теперь нам нужно определить $F'(r)=\\frac{\\mathrm{d}F}{\\mathrm{d}r}$:\n",
    "\n",
    "\\begin{equation}\n",
    "F'(r) = \\frac{12\\epsilon}{r_m^2}\\left[-13\\left(\\frac{r_m}{r}\\right)^{14} + 7\\left(\\frac{r_m}{r}\\right)^8\\right].\n",
    "\\label{forcederivative}\n",
    "\\end{equation}\n",
    "\n",
    "Подстановка $r=r_m$ дает\n",
    "$$F'(r_m) = -\\frac{72\\epsilon}{r_m^2}.$$\n",
    "Используя этот результат, мы находим силу вблизи $r_m$,\n",
    "$$F(r_m + \\Delta r) \\approx -\\frac{72\\epsilon}{r_m^2}\\Delta r.$$"
   ]
  },
  {
   "cell_type": "markdown",
   "metadata": {},
   "source": [
    "#### Частота $f$ малых колебаний\n",
    "Теперь мы можем вычислить частоту малых колебаний относительно равновесия, записав\n",
    "$$m\\frac{\\mathrm{d^2}\\Delta r}{\\mathrm{d}t^2}= F(r_m + \\Delta r) \\approx -\\frac{72\\epsilon}{r_m^2}\\Delta r,$$\n",
    "где $m$ - эффективная масса системы молекула вода-вода. Гармонические колебания происходят с частотой\n",
    "$$\\omega^2 = (2\\pi f)^2 = \\frac{72\\epsilon}{mr_m^2}$$\n",
    "Мы используем значения для $\\epsilon$ and $r_m = 2^{1/6}\\sigma$ и $m\\approx 9m_\\mathrm{proton}$ для расчета частоты:"
   ]
  },
  {
   "cell_type": "code",
   "execution_count": null,
   "metadata": {},
   "outputs": [],
   "source": [
    "m = 9*1.67e-27\n",
    "r_m = 2**(1/6)*sig\n",
    "\n",
    "f = np.sqrt(72*eps/(m*r_m**2))/(2*np.pi)\n",
    "print(\"f = %.4e\" % (f))"
   ]
  },
  {
   "cell_type": "markdown",
   "metadata": {},
   "source": [
    "В результате получается\n",
    "$$f = \\frac{\\omega}{2\\pi} = \\frac{1}{2\\pi}\\sqrt{\\frac{72\\epsilon}{mr_m^2}}=1.01 \\times 10^{12}\\,\\mathrm{Hz}.$$"
   ]
  },
  {
   "cell_type": "markdown",
   "metadata": {},
   "source": [
    "### Обобщение задачи\n",
    "До сих пор мы исследовали частоту вблизи $r = r_m$, где динамика может быть аппроксимирована динамикой гармонического осциллятора.\n",
    "Это было просто, и нам не требовались никакие вычислительные инструменты.\n",
    "Однако, что произойдет, если мы посмотрим на колебания дальше от $r = r_m$?\n",
    "Если мы посмотрим на наш график потенциала L-J, мы увидим, что график не симметричен относительно равновесия. Во время колебаний мы ожидали бы, что молекулы будут проводить больше времени справа от равновесия $(r > r_m)$, чем слева от него. Давайте изучим это явление численно."
   ]
  },
  {
   "cell_type": "markdown",
   "metadata": {},
   "source": [
    "#### Нелинейные Колебания\n",
    "Теперь мы решим точное динамическое уравнение\n",
    "$$m\\ddot{r}=F(r),$$\n",
    "где точки указывают производные по времени.\n",
    "\n",
    "Мы преобразуем это ОДУ в набор ОДУ первого порядка и используем метод Эйлера для ее решения. Мы делаем это, вводя новые переменные $v$ и $w$, с $v = r$ и $w = \\dot{r}$. Подстановка в уравнение (2) дает\n",
    "$$\\dot{w} = \\ddot{r} = \\frac{F(r)}{m} = \\frac{12\\epsilon}{mr_m}\\left[\\left(\\frac{r_m}{v}\\right)^{13} - \\left(\\frac{r_m}{v}\\right)^7\\right]$$"
   ]
  },
  {
   "cell_type": "markdown",
   "metadata": {},
   "source": [
    "#### Метод Эйлера: система уравнений\n",
    "Это дает следующую систему уравнений\n",
    "\n",
    "\\begin{align}\n",
    "\\dot{v} &= w,\\\\\n",
    "\\dot{w} &= \\frac{12\\epsilon}{mr_m}\\left[\\left(\\frac{r_m}{v}\\right)^{13} - \\left(\\frac{r_m}{v}\\right)^7\\right].\n",
    "\\end{align}\n",
    "\n",
    "В качестве начальных условий выбираем $v(0) = r_m$ и $w(0)>0$. Следуя обозначениям из модуля [Метод Эйлера](https://nbviewer.jupyter.org/urls/www.numfys.net/media/notebooks/eulers_method.ipynb), теперь мы можем записать метод Эйлера следующим образом (с $v_1 = v(0), w_1 = w(0)$)\n",
    "\n",
    "$$\n",
    "\\begin{align}\n",
    "v_{n+1} &= v_n + h\\cdot w_n,\\\\\n",
    "w_{n+1} &= w_n + h\\cdot \\frac{12\\epsilon}{mr_m}\\left[\\left(\\frac{r_m}{v_n}\\right)^{13} - \\left(\\frac{r_m}{v_n}\\right)^7\\right],\n",
    "\\end{align}\n",
    "$$\n",
    "\n",
    "где $h$ - шаг по времени.\n",
    "\n",
    "Он может быть реализован следующим образом:"
   ]
  },
  {
   "cell_type": "code",
   "execution_count": null,
   "metadata": {},
   "outputs": [],
   "source": [
    "def euler_oscil(w0, h, n_tot):\n",
    "    \"\"\" A function which uses euler's method to calculate oscillations and then plots it.\n",
    "    \n",
    "    Arguments:\n",
    "    w           initial value of w\n",
    "    h           time step\n",
    "    n_tot       total number of time steps\n",
    "    \"\"\"\n",
    "    v = np.zeros(n_tot)\n",
    "    w = np.zeros(n_tot)\n",
    "\n",
    "    v[0] = r_m\n",
    "    w[0] = w0\n",
    "\n",
    "    for n in range(n_tot-1):\n",
    "        v[n+1] = v[n] + h*w[n]\n",
    "        w[n+1] = w[n] + h*12*eps/(r_m*m)* ( (r_m/v[n])**13 - (r_m/v[n])**7 )\n",
    "\n",
    "    plt.plot(v)\n",
    "    plt.plot([0, n_tot], [r_m, r_m],'--')\n",
    "    plt.legend([r\"$v(t)$\", \"$r_m$\"])\n",
    "    plt.ylabel(r\"Position of Molecule, $v$\")\n",
    "    plt.xlabel(r\"Number of Time Steps\")\n",
    "    plt.grid();"
   ]
  },
  {
   "cell_type": "markdown",
   "metadata": {},
   "source": [
    "#### Колебания вблизи $r=r_m$\n",
    "\n",
    "Мы выбираем размер шага $h=10^{-15}\\,\\mathrm{s}$ и устанавливаем $\\frac{1}{2}m\\omega^2 = 0,001\\epsilon$. Это соответствует очень малым колебаниям, потому что кинетическая энергия намного меньше, чем $\\epsilon$\n",
    ", и, следовательно, мы находимся глубоко в потенциальной яме, где колебания являются гармоническими. Мы строим вектор $v$, который представляет положение молекулы в зависимости от временных шагов."
   ]
  },
  {
   "cell_type": "code",
   "execution_count": null,
   "metadata": {},
   "outputs": [],
   "source": [
    "w0 = np.sqrt(2*0.001*eps/m)  # Initial value for w\n",
    "h = 1e-15  # Time step\n",
    "n_tot = 1100  # Total number of time steps\n",
    "\n",
    "euler_oscil(w0, h, n_tot)"
   ]
  },
  {
   "cell_type": "markdown",
   "metadata": {},
   "source": [
    "Мы находим следующие особенности:\n",
    "- Колебания в окрестности равновесия $r = r_m$ кажутся гармоническими.\n",
    "\n",
    "- Один период, по-видимому, составляет примерно 1000 временных шагов, каждый из которых имеет длину $10^{-15}$, т.е.  $T\\approx 1000\\cdot 10^{-15} = 10^{-12}$, что в хорошем согласии с результатом линейного анализа."
   ]
  },
  {
   "cell_type": "markdown",
   "metadata": {},
   "source": [
    "#### Колебания далее вверх по потенциальной яме\n",
    "Теперь давайте посмотрим, как выглядят колебания, когда мы добавляем кинетическую энергию. Мы устанавливаем $\\frac{1}{2}m\\omega^2 = 0,3\\epsilon$ и $n_\\mathrm{тот} = 1270$. Мы должны увеличить количество временных шагов $n_\\mathrm{tot}$, потому что мы ожидаем, что период будет длиннее."
   ]
  },
  {
   "cell_type": "code",
   "execution_count": null,
   "metadata": {},
   "outputs": [],
   "source": [
    "w0 = np.sqrt(2*0.3*eps/m)  # Initial value for w\n",
    "h = 1e-15  # Time step\n",
    "n_tot = 1270  # Total number of time steps\n",
    "\n",
    "euler_oscil(w0, h, n_tot)"
   ]
  },
  {
   "cell_type": "markdown",
   "metadata": {},
   "source": [
    "- Можно заметить, как молекула проводит больше времени на правой стороне $(r > r_m)$ потенциальной ямы.\n",
    "- В этом случае период составляет около $T=1270\\cdot10^{-15}$ s. Поскольку $T$ увеличивается с амплитудой, у нас больше нет гармонических колебаний.\n",
    "- Обратите внимание, что мы рассматриваем эту микроскопическую систему классически, а не квантово-механически. Однако это дает нам некоторые идеи о том, как полная квантово-механическая обработка будет отличаться от квантово-механического гармонического осциллятора."
   ]
  },
  {
   "cell_type": "markdown",
   "metadata": {},
   "source": [
    "#### Повторяющиеся Колебания\n",
    "До сих пор мы рассматривали колебания только за один период. Если мы увеличим число колебаний, мы не будем ожидать ни уменьшения, ни увеличения амплитуд, поскольку энергия сохраняется. К сожалению, метод Эйлера содержит ошибки, которые могут быть достаточно большими, чтобы явно нарушить сохранение энергии в нашем решении. Следовательно, амплитуда может быть непостоянной."
   ]
  },
  {
   "cell_type": "code",
   "execution_count": null,
   "metadata": {},
   "outputs": [],
   "source": [
    "w0 = np.sqrt(2*0.3*eps/m)  # Initial value for w\n",
    "h = 1e-15  # Time step\n",
    "n_tot = 10000  # Total number of time steps\n",
    "\n",
    "euler_oscil(w0, h, n_tot)"
   ]
  },
  {
   "cell_type": "markdown",
   "metadata": {},
   "source": [
    "По мере увеличения числа колебаний молекулы удаляются все дальше от равновесия с каждым колебанием, которое соответствовало бы увеличению энергии."
   ]
  },
  {
   "cell_type": "markdown",
   "metadata": {},
   "source": [
    "### Ошибка в методе Эйлера\n",
    "Помните, что этот метод является приближением решения. Каждый раз, когда мы вычисляем новый шаг, мы совершаем ошибку. Эта ошибка приводит к увеличению амплитуды каждого нового колебания. Ошибку можно уменьшить, используя лучшие, но более\n",
    "сложные приближения, или уменьшив размер шага $h$.\n",
    "\n",
    "На следующем графике мы уменьшили размер шага до $h = 10^{-16}$ s. Мы должны увеличить количество вычислений до $n_\\mathrm{tot} = 100 000$, чтобы получить такое же количество колебаний. Это требует больше вычислительного времени, но уменьшает ошибку."
   ]
  },
  {
   "cell_type": "code",
   "execution_count": null,
   "metadata": {},
   "outputs": [],
   "source": [
    "w0 = np.sqrt(2*0.3*eps/m)  # Initial value for w\n",
    "h = 1e-16  # Time step\n",
    "n_tot = 100000  # Total number of time steps\n",
    "\n",
    "euler_oscil(w0, h, n_tot)"
   ]
  }
 ],
 "metadata": {
  "kernelspec": {
   "display_name": "Python 3",
   "language": "python",
   "name": "python3"
  },
  "language_info": {
   "codemirror_mode": {
    "name": "ipython",
    "version": 3
   },
   "file_extension": ".py",
   "mimetype": "text/x-python",
   "name": "python",
   "nbconvert_exporter": "python",
   "pygments_lexer": "ipython3",
   "version": "3.7.4"
  }
 },
 "nbformat": 4,
 "nbformat_minor": 1
}
