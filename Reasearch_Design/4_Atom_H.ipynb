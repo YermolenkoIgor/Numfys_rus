{
 "cells": [
  {
   "cell_type": "code",
   "execution_count": null,
   "metadata": {
    "scrolled": true
   },
   "outputs": [],
   "source": [
    "using Plots\n",
    "cd(s\"C:\\Users\\User\\Desktop\\Mycop\\plots\")"
   ]
  },
  {
   "cell_type": "markdown",
   "metadata": {},
   "source": [
    "https://ru.wikipedia.org/wiki/Водородоподобный_атом\n",
    "\n",
    "https://ru.wikipedia.org/wiki/Атом_водорода"
   ]
  },
  {
   "cell_type": "markdown",
   "metadata": {},
   "source": [
    "\\begin{cases}r={\\sqrt {x^{2}+y^{2}+z^{2}}},\\\\\\theta =\\arccos {\\dfrac {z}{\\sqrt {x^{2}+y^{2}+z^{2}}}}=\\mathrm {arctg} {\\dfrac {\\sqrt {x^{2}+y^{2}}}{z}},\\\\\\varphi =\\mathrm {arctg} {\\dfrac {y}{x}}.\\end{cases}\n"
   ]
  },
  {
   "cell_type": "markdown",
   "metadata": {},
   "source": [
    "$$ \\psi _{nlm}(r,\\theta ,\\varphi )={\\sqrt {\\frac {(n-l-1)!}{2n{\\cdot }(n+l)!}}}{\\cdot }{\\left({\\frac {2}{na_{0}}}\\right)}^{\\frac {3}{2}}{\\cdot }\\exp {\\left({-{\\frac {r}{na_{0}}}}\\right)}{\\cdot }{\\left({\\frac {2r}{na_{0}}}\\right)}^{l}L_{n-l-1}^{2l+1}{\\left({\\frac {2r}{na_{0}}}\\right)}\\cdot Y_{l,m}(\\theta ,\\varphi )$$\n",
    "\n",
    "$$ L_{n}^{(\\alpha )}(x)=\\sum _{i=0}^{n}(-1)^{i}{n+\\alpha \\choose n-i}{\\frac {x^{i}}{i!}}$$\n",
    "\n",
    "$$ Y_{\\ell }^{m}(\\theta ,\\varphi )=(-1)^{m}{\\sqrt {{(2\\ell +1) \\over 4\\pi }{(\\ell -m)! \\over (\\ell +m)!}}}\\,P_{\\ell m}(\\cos {\\theta })\\,e^{im\\varphi }$$\n",
    "\n",
    "$$P_{l}^{m}(x)=2^{l}\\cdot (1-x^{2})^{m/2}\\cdot \\sum _{k=m}^{l}{\\frac {k!}{(k-m)!}}\\cdot x^{k-m}\\cdot {\\binom {l}{k}}{\\binom {\\frac {l+k-1}{2}}{l}}$$\n",
    "\n",
    "\n",
    "$$ {\\binom {\\alpha }{k}}={\\frac {\\alpha ^{\\underline {k}}}{k!}}={\\frac {\\alpha (\\alpha -1)(\\alpha -2)\\cdots (\\alpha -k+1)}{k(k-1)(k-2)\\cdots 1}}\\quad {\\text{for }}k\\in \\mathbb {N} {\\text{ and arbitrary }}\\alpha $$"
   ]
  },
  {
   "cell_type": "code",
   "execution_count": null,
   "metadata": {},
   "outputs": [],
   "source": [
    "bino(a, k) = k>0 ? prod(i-> a-i, 0:k-1) / factorial(k) : k<0 ? 0.0 : 1.0\n",
    "\n",
    "P(x::Float64, m::Int64, l::Int64) = (-1)^m * 2^l * sqrt(1-x^2)^m * \n",
    "        sum( k-> factorial(k)/factorial(k-m) * x^(k-m) * binomial(l, k)*bino( 0.5(l+k-1), l ), m:l )\n",
    "\n",
    "Y(θ::Float64, ϕ::Float64, m::Int64, l::Int64) = \n",
    "        sqrt( (2l+1)/(4π) * factorial(l-m)/factorial(l+m) ) * P( cos(θ), m, l ) * exp(im*m*ϕ)\n",
    "\n",
    "L(x::Float64, a::Int64, n::Int64) = sum( i-> (-1)^i * binomial(n+a, n-i)*x^i / factorial(i), 0:n );"
   ]
  },
  {
   "cell_type": "code",
   "execution_count": null,
   "metadata": {},
   "outputs": [],
   "source": [
    "bino(17 / 2, 2), binomial(17 ÷ 2, 2)"
   ]
  },
  {
   "cell_type": "code",
   "execution_count": null,
   "metadata": {},
   "outputs": [],
   "source": []
  },
  {
   "cell_type": "code",
   "execution_count": null,
   "metadata": {},
   "outputs": [],
   "source": []
  },
  {
   "cell_type": "markdown",
   "metadata": {},
   "source": [
    "1. Разобраться в отличии обобщенной формулы вычисления биномиальных коэффициентов от обычной.\n",
    "1. Построить графики для полиномов Лагерра и Лежандра и сферических гармоник различных степеней. Сравнить с примерами в Википедии\n",
    "1. Дописать программу построения собственных функций для атома водорода и изобразить все атомные орбитали до n = 4 включительно\n",
    "1. - Обобщить функцию на трехмерный случай"
   ]
  },
  {
   "cell_type": "code",
   "execution_count": null,
   "metadata": {},
   "outputs": [],
   "source": [
    "function ψ(n, l, m, bounds) # квантовые числа и границы в борах\n",
    "    \n",
    "    a₀ = 1.0 # Bohr radius\n",
    "    X = range(-bounds, stop = bounds, length = 200)\n",
    "\n",
    "    # some code\n",
    "    \n",
    "    R(r, θ, ϕ) = \n",
    "    R(x, z) = \n",
    "    \n",
    "    Sol = [ abs2( A*R(x, z) ) for x in X, z in X ] # y = 0\n",
    "    \n",
    "    Sol /= (sum(Sol)*step(X)) # нормировка\n",
    "    \n",
    "    return X, Sol\n",
    "end;"
   ]
  },
  {
   "cell_type": "code",
   "execution_count": null,
   "metadata": {},
   "outputs": [],
   "source": [
    "X, Z = ψ(4, 3, 0, 40);\n",
    "heatmap(X, X, Z, xaxis=\"a₀\", yaxis=\"a₀\")"
   ]
  },
  {
   "cell_type": "code",
   "execution_count": null,
   "metadata": {},
   "outputs": [],
   "source": [
    "Ps = Plots.Plot{Plots.GRBackend}[] # пустой массив специально под картинки\n",
    "\n",
    "for n in 1:4, l in 0:n-1, m in 0:l # перебираем квантовые числа\n",
    "    X, Z = ψ(n, l, m, 5n)\n",
    "    p0 = heatmap(X, X, Z, title = \"$n $l $m\",\n",
    "        legend = false, ticks = nothing, border = :none)\n",
    "    push!(Ps, p0)\n",
    "end;"
   ]
  },
  {
   "cell_type": "code",
   "execution_count": null,
   "metadata": {},
   "outputs": [],
   "source": [
    "plot(Ps..., size = (600, 400))"
   ]
  },
  {
   "cell_type": "code",
   "execution_count": null,
   "metadata": {},
   "outputs": [],
   "source": [
    "savefig(\"My_pretty_atom_Hydrogen.png\")"
   ]
  },
  {
   "cell_type": "code",
   "execution_count": null,
   "metadata": {},
   "outputs": [],
   "source": []
  }
 ],
 "metadata": {
  "kernelspec": {
   "display_name": "Julia 1.5.4",
   "language": "julia",
   "name": "julia-1.5"
  },
  "language_info": {
   "file_extension": ".jl",
   "mimetype": "application/julia",
   "name": "julia",
   "version": "1.5.4"
  }
 },
 "nbformat": 4,
 "nbformat_minor": 2
}
