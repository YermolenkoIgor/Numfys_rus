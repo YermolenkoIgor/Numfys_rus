{
 "cells": [
  {
   "cell_type": "code",
   "execution_count": null,
   "metadata": {},
   "outputs": [],
   "source": [
    "using Plots, LinearAlgebra"
   ]
  },
  {
   "cell_type": "code",
   "execution_count": null,
   "metadata": {},
   "outputs": [],
   "source": [
    "cd(s\"C:\\Users\\User\\Desktop\\Mycop\\plots\")"
   ]
  },
  {
   "cell_type": "markdown",
   "metadata": {},
   "source": [
    "https://doi.org/10.1119/10.0000189\n",
    "\n",
    "$$\n",
    "\\vec \\lambda = \\frac{\\vec n + (\\gamma-1)(\\vec n\\cdot\\vec\\beta)\\vec \\beta + \\gamma\\vec\\beta}{\\gamma(1 + \\vec\\beta\\cdot\\vec n)}\n",
    "$$\n",
    "\n",
    "$$\n",
    "\\vec E = \\frac{\\Delta\\vec r/\\gamma^2 + \\Delta\\vec r(\\vec R\\cdot\\vec a) - \\vec a(\\vec R\\cdot\\Delta\\vec r)}{\\left((t-t^\\prime)-\\vec R\\cdot\\vec\\beta\\right)^3}\n",
    "$$\n",
    "\n",
    "$\\Delta\\vec r = \\vec R - \\vec r_0 - (t-t^\\prime)\\vec\\beta$  \n",
    "$t - t^\\prime = r = \\sqrt{x^2+y^2}$  \n",
    "$t^\\prime = t - \\sqrt{x^2+y^2}$"
   ]
  },
  {
   "cell_type": "code",
   "execution_count": null,
   "metadata": {},
   "outputs": [],
   "source": [
    "function E(r, t)\n",
    "    r -= x₀(t)\n",
    "    t′ = t - hypot(r...)\n",
    "    β = v₀ₓ(t′)\n",
    "    a = a₀ₓ(t′)\n",
    "    γ = 1/sqrt(1 - β ⋅ β)\n",
    "    Δr = r - (t-t′)*β\n",
    "    vec_E =  ( Δr/γ^2 + Δr*(r ⋅ a) - a*(r ⋅ Δr) ) / ( t-t′ - r ⋅ β )^3\n",
    "    hypot(vec_E...)\n",
    "end\n",
    "\n",
    "function λ(t, t′, ϕ)\n",
    "    n = [cos(ϕ) sin(ϕ)]\n",
    "    β = v₀ₓ(t′) \n",
    "    nβ = n ⋅ β\n",
    "    γ = 1/sqrt(1-β ⋅ β)\n",
    "    vec_λ = ( n + (γ-1)*nβ*β + γ*β ) / ( γ*(1+nβ) )\n",
    "    return x₀(t′) + (t-t′)*vec_λ\n",
    "end;"
   ]
  },
  {
   "cell_type": "markdown",
   "metadata": {},
   "source": [
    "### Bremsstrahlung"
   ]
  },
  {
   "cell_type": "code",
   "execution_count": null,
   "metadata": {},
   "outputs": [],
   "source": [
    "# двукомпонентные вектора\n",
    "x₀(t) = begin\n",
    "    [t<=0 ? t/√2 :\n",
    "    0<t<=1 ? 1 + t/√2 - sqrt(1+t^2) :\n",
    "    1 - 1/√2 0.0]\n",
    "end\n",
    "\n",
    "v₀ₓ(t) = begin\n",
    "    [t<=0 ? 1.0/√2 :\n",
    "    0<t<=1 ? 1.0/√2 - t/sqrt(1+t^2) : 0.0 0.0]\n",
    "end\n",
    "\n",
    "a₀ₓ(t) = begin\n",
    "    [0<t<=1 ? -1.0/sqrt(1+t^2)^3 : 0.0 0.0]\n",
    "end;"
   ]
  },
  {
   "cell_type": "markdown",
   "metadata": {},
   "source": [
    "### Oscillator"
   ]
  },
  {
   "cell_type": "code",
   "execution_count": null,
   "metadata": {},
   "outputs": [],
   "source": [
    "x₀(t)  = [ 0.0 t<0 ? 0.0 : 0.8/π * sin(π*t) ]\n",
    "v₀ₓ(t) = [ 0.0 t<0 ? 0.0 : 0.8cos(π*t) ]\n",
    "a₀ₓ(t) = [ 0.0 t<0 ? 0.0 : -0.8π * sin(π*t) ];"
   ]
  },
  {
   "cell_type": "code",
   "execution_count": null,
   "metadata": {},
   "outputs": [],
   "source": [
    "tt = -1:0.01:2\n",
    "ploter(fun) = plot(tt, vcat(fun.(tt)...), lab = \"$(fun)\")\n",
    "\n",
    "plot(ploter(x₀), ploter(v₀ₓ), ploter(a₀ₓ), line = 3 )"
   ]
  },
  {
   "cell_type": "code",
   "execution_count": null,
   "metadata": {},
   "outputs": [],
   "source": [
    "t = 3.0\n",
    "X = range(-4, stop = 4, length = 128)\n",
    "Y = range(-4, stop = 4, length = 128)  \n",
    "Z = [ E([x y], t ) for y in Y, x in X ];"
   ]
  },
  {
   "cell_type": "code",
   "execution_count": null,
   "metadata": {},
   "outputs": [],
   "source": [
    "maximum(Z)"
   ]
  },
  {
   "cell_type": "code",
   "execution_count": null,
   "metadata": {},
   "outputs": [],
   "source": [
    "heatmap(X, Y, log10.(Z))"
   ]
  },
  {
   "cell_type": "code",
   "execution_count": null,
   "metadata": {},
   "outputs": [],
   "source": [
    "heatmap(X, Y, clamp.(log10.(Z), -2, 2))"
   ]
  },
  {
   "cell_type": "code",
   "execution_count": null,
   "metadata": {
    "scrolled": false
   },
   "outputs": [],
   "source": [
    "heatmap(X, Y, clamp.(log10.(Z), -2, 2), # oбрезание\n",
    "    legend = false, ticks = nothing, border = :none, size = (512, 256), c = :devon  ) # :grays\n",
    "\n",
    "for fi in π/6:π/6:2π\n",
    "    zz = vcat( [λ(t, tt, fi) for tt in t-10:0.1:t ]... );\n",
    "    plot!(zz[:,1], zz[:,2], line = (1, :yellow), )\n",
    "end\n",
    "scatter!([x₀(t)[1]],[x₀(t)[2]], c = :red)\n",
    "vline!([0.0], c = :green, line = (1, :dash))\n",
    "yaxis!((Y[1], Y[end]))\n",
    "xaxis!((X[1], X[end]))"
   ]
  },
  {
   "cell_type": "code",
   "execution_count": null,
   "metadata": {},
   "outputs": [],
   "source": [
    "@time for (i, t) in enumerate(range(0, stop = 8, length = 64)) # картинки для гифки\n",
    "    Z = [ E([x y], t) for y in Y, x in X ];\n",
    "    heatmap(X, Y, clamp.(log10.(Z), -2, 2), \n",
    "        legend = false, ticks = nothing, border = :none, size = (512, 256)  ) # , c = :grays\n",
    "\n",
    "    for fi in π/6:π/6:2π # t-10 на сколько назад во времени\n",
    "        zz = vcat( [λ(t, tt, fi) for tt in t-10:0.01:t ]... )  # 0.01 четкость линий поля\n",
    "        plot!(zz[:,1], zz[:,2], line = (1, :yellow), )\n",
    "    end\n",
    "    scatter!([x₀(t)[1]],[x₀(t)[2]], c = :red #= , title = \"t = $(round(t, digits = 1))\" =# )\n",
    "    #vline!([0.0], c = :green, line = (1, :dash))\n",
    "    yaxis!((Y[1], Y[end]))\n",
    "    xaxis!((X[1], X[end]))\n",
    "\n",
    "    savefig(\"img$i.png\")\n",
    "end"
   ]
  },
  {
   "cell_type": "markdown",
   "metadata": {},
   "source": [
    "http://docs.juliaplots.org/latest/animations/\n",
    "\n",
    "## Синхротрон\n",
    "\n",
    "https://cyberleninka.ru/article/n/problemy-teorii-atoma-vodoroda-i-fotonnoe-vzaimodeystvie-elektrona-i-protona\n",
    "\n",
    "https://cyberleninka.ru/article/n/sinhrotron-kak-makroatom"
   ]
  },
  {
   "cell_type": "code",
   "execution_count": null,
   "metadata": {},
   "outputs": [],
   "source": [
    "function λ₂(t, t′, ϕ)\n",
    "    β = radi*omeg\n",
    "    γ = 1/sqrt(1-β^2)\n",
    "    ψt = omeg*t′ + 2atan( β-tan( 0.5γ*omeg*t′ + atan( γ*( β-tan(0.5ϕ) ) ) )/γ )\n",
    "    \n",
    "    return x₀(t′) + (t-t′)*[cos(ψt) sin(ψt)]\n",
    "end;\n",
    "\n",
    "radi = 0.2\n",
    "omeg = 0.4/radi\n",
    "peri = 2π/omeg\n",
    "\n",
    "x₀(t) = radi*[cos(omeg*t) sin(omeg*t)]\n",
    "v₀ₓ(t) = radi*omeg*[-sin(omeg*t) cos(omeg*t)]\n",
    "a₀ₓ(t) = -omeg^2 * x₀(t);"
   ]
  },
  {
   "cell_type": "code",
   "execution_count": null,
   "metadata": {},
   "outputs": [],
   "source": [
    "X = range(-4, stop = 4, length = 128)\n",
    "Y = range(-4, stop = 4, length = 128) \n",
    "\n",
    "t = 3.0\n",
    "Z = [ E([x y], t ) for y in Y, x in X ];\n",
    "heatmap(X, Y, log10.(Z))"
   ]
  },
  {
   "cell_type": "code",
   "execution_count": null,
   "metadata": {},
   "outputs": [],
   "source": [
    "V₀ = v₀ₓ(0)\n",
    "V² = V₀ ⋅ V₀\n",
    "Vn = normalize(V₀)\n",
    "\n",
    "heatmap(X, Y, clamp.(log10.(Z), -1, 4), # oбрезание\n",
    "    legend = false, ticks = nothing, border = :none, size = (600, 400), c = :devon  ) # :grays\n",
    "\n",
    "for alph in π/6:π/6:2π\n",
    "    nn = [cos(alph) sin(alph)]\n",
    "    fvec = (sqrt(1-V²)-1) * (Vn ⋅ nn) * Vn + nn\n",
    "    fi = angle(fvec[1] + im*fvec[2])\n",
    "    \n",
    "    Vv = V₀ ⋅ [cos(fi) sin(fi)]\n",
    "    μ = Vv + sqrt( 1-V² + Vv^2 )\n",
    "    fvec = V₀ - μ*[cos(fi) sin(fi)]\n",
    "    fi = angle(fvec[1] + im*fvec[2])\n",
    "    \n",
    "    zz = vcat( [λ(t, tt, fi) for tt in t-6:0.01:t ]... );\n",
    "    plot!(zz[:,1], zz[:,2], line = (1, :yellow), )\n",
    "end\n",
    "scatter!([x₀(t)[1]],[x₀(t)[2]], c = :red)\n",
    "yaxis!((Y[1], Y[end]))\n",
    "xaxis!((X[1], X[end]))"
   ]
  },
  {
   "cell_type": "code",
   "execution_count": null,
   "metadata": {},
   "outputs": [],
   "source": [
    "@time for (i, t) in enumerate(range(0, stop = 3, length = 16)) # картинки для гифки\n",
    "    Z = [ E([x y], t) for y in Y, x in X ];\n",
    "    heatmap(X, Y, clamp.(log10.(Z), -1, 4), # oбрезание\n",
    "        legend = false, ticks = nothing, border = :none, size = (600, 400)  )\n",
    "\n",
    "    for alph in π/4:π/4:2π\n",
    "        nn = [cos(alph) sin(alph)]\n",
    "        fvec = (sqrt(1-V²)-1) * (Vn ⋅ nn) * Vn + nn\n",
    "        fi = angle(fvec[1] + im*fvec[2])\n",
    "\n",
    "        Vv = V₀ ⋅ [cos(fi) sin(fi)]\n",
    "        μ = Vv + sqrt( 1-V² + Vv^2 )\n",
    "        fvec = V₀ - μ*[cos(fi) sin(fi)]\n",
    "        fi = angle(fvec[1] + im*fvec[2])\n",
    "\n",
    "        zz = vcat( [λ(t, tt, fi) for tt in t-6:0.005:t ]... );\n",
    "        plot!(zz[:,1], zz[:,2], line = (1, :yellow), )\n",
    "    end\n",
    "    scatter!([x₀(t)[1]],[x₀(t)[2]], c = :red)\n",
    "    yaxis!((Y[1], Y[end]))\n",
    "    xaxis!((X[1], X[end]))\n",
    "\n",
    "    savefig(\"img$i.png\")\n",
    "end"
   ]
  },
  {
   "cell_type": "code",
   "execution_count": null,
   "metadata": {},
   "outputs": [],
   "source": []
  },
  {
   "cell_type": "markdown",
   "metadata": {},
   "source": [
    "## Задания\n",
    "\n",
    "1. Разобрать приведенные листинги и создать анимации для останавливающейся, осциллирующей и движущейся по окружности заряженной частицы.\n",
    "1. Визуализироваль силовые линии и волны в ЭП для ускоряющегося заряда и ондулятора.\n",
    "1. Визуализироваль силовые линии и волны в ЭП для произвольного нетривиального движения.\n",
    "1. * Создать интерактивный визуализатор с управлением мышью (Произвольные средства разработки или пакет [Makie.jl](https://github.com/JuliaPlots/Makie.jl))."
   ]
  }
 ],
 "metadata": {
  "kernelspec": {
   "display_name": "Julia 1.5.4",
   "language": "julia",
   "name": "julia-1.5"
  },
  "language_info": {
   "file_extension": ".jl",
   "mimetype": "application/julia",
   "name": "julia",
   "version": "1.5.4"
  }
 },
 "nbformat": 4,
 "nbformat_minor": 2
}
