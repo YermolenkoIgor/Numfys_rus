{
 "cells": [
  {
   "cell_type": "code",
   "execution_count": null,
   "metadata": {},
   "outputs": [],
   "source": [
    "using Plots, LinearAlgebra"
   ]
  },
  {
   "cell_type": "code",
   "execution_count": null,
   "metadata": {},
   "outputs": [],
   "source": [
    "cd(s\"C:\\Users\\User\\Desktop\\Mycop\\plots\")"
   ]
  },
  {
   "cell_type": "markdown",
   "metadata": {},
   "source": [
    "### Атом Резерфорда"
   ]
  },
  {
   "cell_type": "code",
   "execution_count": null,
   "metadata": {},
   "outputs": [],
   "source": [
    "function rk4(f, x, y, h) #  метод Рунге-Кутты 4-го порядка\n",
    "    k1 = h * f(x       , y        )\n",
    "    k2 = h * f(x + 0.5h, y + 0.5k1)\n",
    "    k3 = h * f(x + 0.5h, y + 0.5k2)\n",
    "    k4 = h * f(x +    h, y +    k3)\n",
    "\n",
    "    return y + (k1 + 2*(k2 + k3) + k4)/6.0\n",
    "end"
   ]
  },
  {
   "cell_type": "markdown",
   "metadata": {},
   "source": [
    "Задать константы:"
   ]
  },
  {
   "cell_type": "code",
   "execution_count": null,
   "metadata": {},
   "outputs": [],
   "source": [
    "const nm = 1e-9 # m\n",
    "const ps = 1e-12 # s\n",
    "const fs = 1e-15 # s\n",
    "\n",
    "const c =  # m/s - скорость света в вакууме\n",
    "const ħ =  # J*s - постоянная Дирака\n",
    "const e =  # Kl - заряд электрона\n",
    "const mₑ =  # kg - масса электрона\n",
    "const ε₀ =  # F/m - электрическая постоянная\n",
    "const a₀ =  # m - боровская орбита\n",
    "\n",
    "const k = 1/(4π*ε₀) # 8.987552e9 # N*m^2/q^2\n",
    "const rₑ = k*e^2 / (mₑ*c^2) # 2.81794e-15 # m - радиус электрона\n",
    "const α = 1/137.036 # e^2/(ħ*c) - постоянная тонкой структуры\n",
    "const vₑ = α*c # 2187 km/c - скорость электрона"
   ]
  },
  {
   "cell_type": "markdown",
   "metadata": {},
   "source": [
    "Посчитать время падения (в пикосекундах):\n",
    "$$\n",
    "t_{\\mathrm{fall}} = \\frac{a_0^3}{4cr_e^2}\n",
    "$$"
   ]
  },
  {
   "cell_type": "code",
   "execution_count": null,
   "metadata": {},
   "outputs": [],
   "source": [
    "tfall = "
   ]
  },
  {
   "cell_type": "markdown",
   "metadata": {},
   "source": [
    "Решить систему ДУ:\n",
    "$$\n",
    "\\dot r = - \\frac 4 3 \\frac{r_0^2}{r^2} c \\\\\n",
    "\\dot\\theta = \\sqrt{\\frac{r_0}{r^3}}c\n",
    "$$"
   ]
  },
  {
   "cell_type": "code",
   "execution_count": null,
   "metadata": {},
   "outputs": [],
   "source": [
    "function solver(cron, r_θ::Array{Float64,2})\n",
    "    \n",
    "    st = step(cron)\n",
    "    syst(t, r) = begin\n",
    "        [ -4c/3 * (rₑ/r[1])^2    c*sqrt(abs(rₑ/r[1]^3)) ]\n",
    "    end\n",
    "    \n",
    "    vcat( [ r_θ = rk4(syst, t, r_θ, st) for t in cron ]... ) \n",
    "end;"
   ]
  },
  {
   "cell_type": "code",
   "execution_count": null,
   "metadata": {},
   "outputs": [],
   "source": [
    "tgrid = range(0, stop = tfall-0.1ps, length = 256);\n",
    "Z = solver(tgrid, [a₀ 0.0]) # начальные радиус и угол"
   ]
  },
  {
   "cell_type": "code",
   "execution_count": null,
   "metadata": {},
   "outputs": [],
   "source": [
    "Z[end]/2π # число полных оборотов"
   ]
  },
  {
   "cell_type": "code",
   "execution_count": null,
   "metadata": {},
   "outputs": [],
   "source": [
    "R, Θ = Z[:, 1]/a₀, Z[:, 2]/5e4 # радиус нормировать на бора, а углы спресовать\n",
    "plot(Θ, R, proj = :polar, line = 2 )"
   ]
  },
  {
   "cell_type": "code",
   "execution_count": null,
   "metadata": {},
   "outputs": [],
   "source": [
    "R, Θ = Z[:, 1]/a₀, Z[:, 2]/5e4\n",
    "Xs = R.*cos.(Θ)\n",
    "Ys = R.*sin.(Θ);"
   ]
  },
  {
   "cell_type": "code",
   "execution_count": null,
   "metadata": {},
   "outputs": [],
   "source": [
    "i = 10\n",
    "plot(Xs[1:i], Ys[1:i], line = 2, leg = false, ticks = nothing, border = :none, size = (780, 440) )\n",
    "xaxis!((-1.0,1.0)); yaxis!((-1.0,1.0));\n",
    "scatter!( [Xs[i]], [Ys[i]], m = (4, :blue) )\n",
    "scatter!( [0.0], [0.0],  m = (60, :red) )"
   ]
  },
  {
   "cell_type": "markdown",
   "metadata": {},
   "source": [
    "* Создать анимацию процесса падения электрона на ядро\n",
    "* Построить график зависимости радиуса орбиты от времени\n",
    "* Построить графики зависимости числа оборотов от массы и заряда частицы."
   ]
  },
  {
   "cell_type": "code",
   "execution_count": null,
   "metadata": {},
   "outputs": [],
   "source": []
  },
  {
   "cell_type": "code",
   "execution_count": null,
   "metadata": {},
   "outputs": [],
   "source": []
  },
  {
   "cell_type": "code",
   "execution_count": null,
   "metadata": {},
   "outputs": [],
   "source": []
  },
  {
   "cell_type": "code",
   "execution_count": null,
   "metadata": {},
   "outputs": [],
   "source": []
  }
 ],
 "metadata": {
  "kernelspec": {
   "display_name": "Julia 1.5.4",
   "language": "julia",
   "name": "julia-1.5"
  },
  "language_info": {
   "file_extension": ".jl",
   "mimetype": "application/julia",
   "name": "julia",
   "version": "1.5.4"
  }
 },
 "nbformat": 4,
 "nbformat_minor": 2
}
