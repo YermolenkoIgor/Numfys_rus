{
 "cells": [
  {
   "cell_type": "markdown",
   "metadata": {},
   "source": [
    "<style>\n",
    "@import url(https://www.numfys.net/static/css/nbstyle.css);\n",
    "</style>\n",
    "<a href=\"https://www.numfys.net\"><img class=\"logo\" /></a>\n",
    "\n",
    "# Марсианская атмосфера\n",
    "\n",
    "### Examples - Thermodynamics\n",
    "<section class=\"post-meta\">\n",
    "By Magnus A. Gjennestad, Vegard Hagen, Aksel Kvaal, Morten Vassvik, Trygve B. Wiig and Peter Berg\n",
    "</section>\n",
    "Last edited: March 15th 2018 \n",
    "___"
   ]
  },
  {
   "cell_type": "markdown",
   "metadata": {},
   "source": [
    "В этом блокноте мы вычислим профиль давления по профилю температуры с данными для марсианской атмосферы."
   ]
  },
  {
   "cell_type": "markdown",
   "metadata": {},
   "source": [
    "### Температурный Профиль"
   ]
  },
  {
   "cell_type": "markdown",
   "metadata": {},
   "source": [
    "На рисунке ниже представлена комбинация измерений дневной температуры (в Кельвинах) с марсианского орбитального аппарата (линии), т. е. с поверхности атмосферы, и с марсохода (точки), т. е. с земли. Марсоход измеряет точно до высоты около 6 км, орбитальный аппарат измеряет точно выше высоты около 3 км.\n",
    "\n",
    "<img src=\"images/3td_mars_temperature.jpg\" alt=\"3td_mars_temperature. NASA/JPL/Goddard/ASU/Cornell \" style=\"width: 400px;\"/>\n",
    "\n",
    "Image Credit: NASA/JPL/Goddard/ASU/Cornell "
   ]
  },
  {
   "cell_type": "markdown",
   "metadata": {},
   "source": [
    "### Профиль Давления"
   ]
  },
  {
   "cell_type": "markdown",
   "metadata": {},
   "source": [
    "Давайте сначала выведем ключевое уравнение, которое позволяет нам вычислить профиль давления. \n",
    "Мы знаем, что давление, $p(z)$, изменяется с высотой в соответствии с \"местным весом\" атмосферы\n",
    "\\begin{equation}\n",
    "\\frac{dp}{dz}=-\\rho(z)\\,g,\n",
    "\\label{eq:1} \\quad(1)\n",
    "\\end{equation}\n",
    "где $z$ - высота над землей, $\\rho$ - локальная плотность, а $g$ - гравитационная постоянная.\n",
    "Мы предполагаем, что $g$ не сильно меняется для рассматриваемых здесь высот. Другими словами, $z$ намного меньше радиуса планеты.   "
   ]
  },
  {
   "cell_type": "markdown",
   "metadata": {},
   "source": [
    "Используя закон идеального газа, мы можем произвести замену\n",
    "\n",
    "\\begin{equation}\n",
    "\\rho(z)=\\frac{p(z)\\,M}{R\\,T(z)}\n",
    "\\label{eq:2} \\quad(2)\n",
    "\\end{equation}\n",
    "\n",
    "Здесь $M$ - молекулярная масса (локальной) атмосферы, предполагаемой хорошо перемешанной и, следовательно, постоянной по высоте, $R$ - постоянная идеального газа и $T$ - температура.\n",
    "Подстановка (2) в (1) дает обыкновенное дифференциальное уравнение\n",
    "\n",
    "\\begin{equation}\n",
    "\\frac{dp}{dz}=-\\frac{p(z)\\,M}{R\\,T(z)}g.\n",
    "\\end{equation}\n",
    "\n",
    "Разделение переменных и интегрирование с нуля до высоты $z$ дает\n",
    "\n",
    "\\begin{equation}\n",
    "p(z)=p_0\\,\\exp\\left[ -\\int_0^z \\frac{d\\hat z}{H(\\hat z)} \\right]\n",
    "\\label{eq:3} \\quad(3)\n",
    "\\end{equation}\n",
    "\n",
    "с высотной шкалой $H(z)=RT(z)/(gM)$."
   ]
  },
  {
   "cell_type": "markdown",
   "metadata": {},
   "source": [
    "Для постоянной $T$ высота шкалы $H$ дает длину, на которой давление уменьшается в $e$ раз. НАСА утверждает, что $H=11,1$ км, но зависит от времени суток.\n",
    "\n",
    "Затем мы приближаем точки данных о температуре на рисунке выше следующим образом\n",
    "($z$ in km)\n",
    "\\begin{equation}\n",
    "T(z)=234.0-2.25z+14e^{-2z}.\n",
    "\\end{equation}\n",
    "\n",
    "Вычисление давления на заданной высоте $z$ относительно давления на земле затем сводится к вычислению интеграла (3). Этот интеграл не может быть решен аналитически. Поэтому мы прибегаем к правилу Симпсона. По сути, нам нужно рассчитать\n",
    "\\begin{equation}\n",
    "\\int_0^z \\frac{d\\hat z}{T(\\hat z)} \n",
    "\\end{equation}\n",
    "для некоторого заданного значения $z$."
   ]
  },
  {
   "cell_type": "markdown",
   "metadata": {},
   "source": [
    "Мы используем значения для $g$ и $M$, найденные на [веб-сайте НАСА](http://nssdc.gsfc.nasa.gov/planetary/factsheet/marsfact.html)\n",
    "и нас интересует давление относительно земли на высоте $15$ км. Расчет с использованием правила Симпсона приведен ниже."
   ]
  },
  {
   "cell_type": "code",
   "execution_count": null,
   "metadata": {},
   "outputs": [],
   "source": [
    "import numpy as np"
   ]
  },
  {
   "cell_type": "code",
   "execution_count": null,
   "metadata": {},
   "outputs": [],
   "source": [
    "R = 8.314    # universal gas constant\n",
    "g = 3.71     # gravitational constant on Mars (at ground)\n",
    "M = 0.04334  # mean molecular weight near ground (on Mars) in kg/mole\n",
    "\n",
    "z0 = 0.0     # defining the interval (ground level)\n",
    "z1 = 15.0    # defining the interval (height; in km)\n",
    "N = 100      # defining the amount of points for Simpson's rule\n",
    "h = (z1-z0)/(N-1)    # defining the length of each interval\n",
    "\n",
    "# computing the integral\n",
    "F=0; \n",
    "\n",
    "for i in range(N):\n",
    "    z = z0 + i*h\n",
    "    f = 1/(234.0-2.25*z+14.0*np.exp(-2.0*z))\n",
    "    if (i==0) or (i==N-1):     # if we are at the left or right end of the main\n",
    "                              # interval\n",
    "        F = F + f\n",
    "    else:\n",
    "        if i%2==0:          # if we are at an \"even\" point\n",
    "            F = F + 4*f\n",
    "        else:               # if we are at an \"odd\" point\n",
    "            F = F + 2*f\n",
    "\n",
    " \n",
    "integral = (1000.0*h/3)*(-g*M/R)*F   # evaluating the integral \n",
    "                                     # (factor 1000 due to km to m conversion) \n",
    "\n",
    "# computing the change in pressure \n",
    "percentage = 100*np.exp(integral) # pressure at z1 compared to z0 in percent\n",
    "\n",
    "print(\"Integral value %f, change in pressure in percent is %f\" % (integral, percentage))"
   ]
  }
 ],
 "metadata": {
  "kernelspec": {
   "display_name": "Python 3",
   "language": "python",
   "name": "python3"
  },
  "language_info": {
   "codemirror_mode": {
    "name": "ipython",
    "version": 3
   },
   "file_extension": ".py",
   "mimetype": "text/x-python",
   "name": "python",
   "nbconvert_exporter": "python",
   "pygments_lexer": "ipython3",
   "version": "3.7.4"
  }
 },
 "nbformat": 4,
 "nbformat_minor": 1
}
