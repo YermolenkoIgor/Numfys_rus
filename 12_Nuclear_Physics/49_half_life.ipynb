{
 "cells": [
  {
   "cell_type": "markdown",
   "metadata": {},
   "source": [
    "<style>\n",
    "@import url(https://www.numfys.net/static/css/nbstyle.css);\n",
    "</style>\n",
    "<a href=\"https://www.numfys.net\"><img class=\"logo\" /></a>\n",
    "\n",
    "# Оценка периода полураспада Ba-137m\n",
    "\n",
    "### Examples – Particle and Nuclear Physics\n",
    "<section class=\"post-meta\">\n",
    "By Jonas Tjemsland, Andreas S. Krogen and Jon Andreas Støvneng.\n",
    "</section>\n",
    "Last edited: January 21st 2019\n",
    "___\n",
    "\n",
    "## Вступление\n",
    "Cs-137, как и ряд других радиоактивных изотопов, был выброшен в окружающую среду почти во время всех испытаний ядерного оружия и некоторых ядерных аварий, наиболее заметных из которых была Чернобыльская катастрофа (1986) и катастрофа на АЭС \"Фукусима-Дайити\".(2011) [[1]](#rsc). Исходный изотоп Cs-137 с периодом полураспада 30.1 года бета распадается на Ba-137m. Это метастабильное состояние, которое далее распадается при гамма-излучении 662 кэВ с периодом полураспада приблизительно 2.55 минуты до стабильного изотопа Ba-137 [[2]](#rsc).\n",
    "\n",
    "В этом блокноте мы будем использовать подгонку кривой для оценки периода полураспада изотопа Ba-137m. Основная цель этого блокнота - представить несколько функций подгонки кривых от SciPy и NumPy. Данные основаны на наборе измерений, проведенных в лабораторных условиях в NTNU в 2016 году.\n",
    "\n",
    "## Экспоненциальный закон радиоактивного распада\n",
    "\n",
    "Радиоактивность - это спонтанный процесс, при котором ядро нестабильного изотопа теряет энергию, испуская излучение. Это излучение включает альфа-частицы, бета-частицы (электрон или позитрон), захват электронов и гамма-излучение.\n",
    "\n",
    "Основное предположение статистической теории радиоактивного распада состоит в том, что вероятность в единицу времени распада атома постоянна, независимо от возраста атома [[3]](#rsc). То есть,\n",
    "\n",
    "\\begin{equation}\n",
    "    \\lambda=-\\frac{\\text{d}N/\\text{d}t}{N},\n",
    "\\end{equation}\n",
    "\n",
    "где $N$ - количество ядер, присутствующих в момент времени $t$. $\\lambda$ часто называют константой распада. Решение этого дифференциального уравнения дает экспоненциальный закон радиоактивного распада,\n",
    "\n",
    "\\begin{equation}\n",
    "    N(t)=N_0e^{-\\lambda t},\n",
    "\\end{equation}\n",
    "\n",
    "где $N_0=N(t=0)$. Период полураспада $t_{1/2}$ - это время, необходимое для того, чтобы активность данного количества радиоактивного вещества распалась до половины его первоначального значения. Поскольку активность пропорциональна количеству радиоактивных ядер, период полураспада становится\n",
    "\n",
    "\\begin{equation}\n",
    "   t_{1/2}=\\frac{\\ln(2)}{\\lambda}.\n",
    "\\end{equation}\n",
    "\n",
    "Экспоненциальный закон радиоактивного распада не учитывает систематические ошибки и фоновое излучение. Простой способ ввести это в нашу модель - наложить наше уравнение на постоянный фон. То есть,\n",
    "\n",
    "\\begin{equation}\n",
    "\\tilde N(t)=N_0e^{-\\lambda t} + c,\n",
    "\\end{equation}\n",
    "\n",
    "для некоторой постоянной $c$.\n",
    "\n",
    "## Несколько замечаний по измерениям\n",
    "\n",
    "При измерениях использовался NaI-сцинтиллятор. Кристалл NaI-сцинтиллятора поглощает излучение гамма-фотонов, образующееся при распаде Ba-137m, и излучает видимый свет, пропорциональный энергии гамма-фотона. Трубка для умножения фотонов поглощает световые фотоны и испускает импульс напряжения, пропорциональный количеству видимого света. Измерения состояли в определении количества отсчетов (каждого события гамма-поглощения) за заданный промежуток времени. Каждое измерение длилось 10 секунд. Обратите внимание, что на самом деле мы измеряем активность $A(t)$ (количество отсчетов в секунду), но общая формула, приведенная выше, не меняется.\n",
    "\n",
    "Измеренные значения приведены в следующем фрагменте кода."
   ]
  },
  {
   "cell_type": "code",
   "execution_count": null,
   "metadata": {},
   "outputs": [],
   "source": [
    "# Number of counts in each measurement (10 seconds)\n",
    "counts_Ba = [ \n",
    " 80412., 76400., 73071., 69203., 65735., 62529., 59948., 56926.,\n",
    " 54243., 51490., 49255., 46256., 44152., 42339., 40003., 38525.,\n",
    " 36419., 35059., 33011., 31439., 29971., 28300., 27179., 25554.,\n",
    " 24475., 23143., 22187., 21279., 19845.\n",
    "            ]\n",
    "# Start time of measurement\n",
    "times_Ba  = [\n",
    "     0.,    12.,    23.,    34.,    45.,    57.,    68.,    79.,\n",
    "     91.,  102.,   113.,   124.,   136.,   147.,   158.,   169.,\n",
    "    181.,   192.,  203.,   214.,   226.,   237.,   248.,   259.,\n",
    "    271.,   282.,  293.,   305.,   316.\n",
    "            ]"
   ]
  },
  {
   "cell_type": "markdown",
   "metadata": {},
   "source": [
    "## Оценка периода полураспада\n",
    "\n",
    "Чтобы оценить период полураспада $\\lambda_\\text{Ba}$ Ba-137m, нам нужно сопоставить экспоненциальный закон радиоактивности с нашими данными. Мы начинаем с импорта некоторых необходимых пакетов, установки общих параметров фигуры и определения функции экспоненциального закона распада."
   ]
  },
  {
   "cell_type": "code",
   "execution_count": null,
   "metadata": {},
   "outputs": [],
   "source": [
    "import numpy as np\n",
    "import matplotlib.pyplot as plt\n",
    "\n",
    "# Set some figure parameters\n",
    "newparams = {'figure.figsize': (12, 6), 'axes.grid': True,\n",
    "             'lines.markersize': 8, 'lines.linewidth': 3,\n",
    "             'font.size': 15, 'mathtext.fontset': 'stix',\n",
    "             'font.family': 'STIXGeneral'}\n",
    "plt.rcParams.update(newparams)\n",
    "\n",
    "def func(t, N0, lambd, c):\n",
    "    \"\"\" Callable model function to be used by the curve fitting\n",
    "    functions. It must take the independent variable as the\n",
    "    first argument and the parameters to fit as separate remaining\n",
    "    arguments.\n",
    "    \"\"\"\n",
    "    return N0 * np.exp(-lambd * np.array(t)) + c"
   ]
  },
  {
   "cell_type": "markdown",
   "metadata": {},
   "source": [
    "### curve_fit()\n",
    "Мы начнем с использования [scipy.optimize.curve_fit()](https://docs.scipy.org/doc/scipy/reference/generated/scipy.optimize.curve_fit.html), который использует нелинейные наименьшие квадраты для подгонки произвольной функции к данным. Функция имеет три входных параметра: функция модели, измеренные $x$-данные (*times_Ba*) и измеренные $y$-данные (*counts_Ba*). Есть также несколько необязательных аргументов, но это не относится к данному уроку. Функция возвращает массив оптимальных значений параметров (*popt*) и соответствующую ковариационную матрицу (*pcov*). Диагонали матрицы ковариации обеспечивают дисперсию оценок параметров. Стандартное отклонение - это квадратный корень из дисперсии."
   ]
  },
  {
   "cell_type": "code",
   "execution_count": null,
   "metadata": {},
   "outputs": [],
   "source": [
    "from scipy.optimize import curve_fit"
   ]
  },
  {
   "cell_type": "markdown",
   "metadata": {},
   "source": [
    "Обратите внимание, что нам нужно взять экспоненту от $\\lambda\\cdot t$, где $\\lambda\\approx 150\\;\\text{s}^{-1}$ и $t\\leq 316\\;\\text{s}$. Другими словами, нам нужно вычислить $\\exp(150\\cdot 316)=\\exp(47400)\\sim 10^{20585}$ численно. Это большое число, и мы, скорее всего, получим ошибку переполнения. Есть несколько способов обойти это, например, взяв логарифм и выполнив линейную подгонку, или нормализовав данные. Мы нормализуем так, чтобы максимальное время и максимальное количество отсчетов стали единицей."
   ]
  },
  {
   "cell_type": "code",
   "execution_count": null,
   "metadata": {},
   "outputs": [],
   "source": [
    "max_time = np.max(times_Ba)\n",
    "max_counts = np.max(counts_Ba)"
   ]
  },
  {
   "cell_type": "markdown",
   "metadata": {},
   "source": [
    "И вызовем *curve_fit()*!"
   ]
  },
  {
   "cell_type": "code",
   "execution_count": null,
   "metadata": {},
   "outputs": [],
   "source": [
    "# Perform the curve fit on normalized data\n",
    "popt, pcov = curve_fit(func, times_Ba/max_time, counts_Ba/max_counts)\n",
    "\n",
    "# Standard deviation\n",
    "perr = np.sqrt(np.diag(pcov))\n",
    "\n",
    "# Parameter estimates reexpressed in ordinary units\n",
    "lambd = popt[1]/max_time\n",
    "lambd_err = perr[1]/max_time # Standard deviation in lambd\n",
    "c = popt[2]*max_counts\n",
    "N0 = popt[0]*max_counts\n",
    "\n",
    "# Calculate half life with error\n",
    "half_life = np.log(2)/lambd\n",
    "half_life_err = half_life*lambd_err/lambd\n",
    "\n",
    "print(\"Half life: %.1fs +- %.1fs\"%(half_life, half_life_err))"
   ]
  },
  {
   "cell_type": "markdown",
   "metadata": {},
   "source": [
    "Предполагаемый период полураспада Ba-137m составляет $t_{1/2}=(159.5\\pm 2.0)\\;\\text{s}$. Реальный период распада $153.12\\;\\text{s}$  не находится в границах ошибок. Существует множество ошибок, которые могли бы объяснить это несоответствие, например, чистота источника и ошибка в обнаружении. Более того, данные были измерены во время короткого лабораторного занятия.\n",
    "\n",
    "Давайте визуализируем подгонку!"
   ]
  },
  {
   "cell_type": "code",
   "execution_count": null,
   "metadata": {},
   "outputs": [],
   "source": [
    "plt.plot(times_Ba, func(times_Ba, N0, lambd, c)/10,\n",
    "    label=r'Best fit on the form $N(t)=a\\cdot \\exp(-\\lambda\\cdot t) + c$')\n",
    "plt.plot(times_Ba, np.array(counts_Ba)/10, 'o', label='Measured data')\n",
    "plt.xlabel(r'$t$, [s]')\n",
    "plt.ylabel(r'Activity, $A(t)$, [1/s]')\n",
    "plt.legend()\n",
    "plt.show()"
   ]
  },
  {
   "cell_type": "markdown",
   "metadata": {},
   "source": [
    "### polyfit()\n",
    "Давайте выполним те же вычисления, что и выше, используя линейную регрессию и [numpy.polyfit()](https://docs.scipy.org/doc/numpy/reference/generated/numpy.polyfit.html), который выполняет полиномиальную подгонку по методу наименьших квадратов. Функция имеет три входных параметра: измеренные $x$-данные (*times_Ba*), измеренные $y$-данные (*counts_Ba*) и степень полинома (*1*). Функция возвращает полиномиальные коэффициенты, сначала наивысшая степень. Кроме того, мы будем использовать необязательный аргумент *cov=True*, который указывает функции возвращать матрицу ковариации."
   ]
  },
  {
   "cell_type": "code",
   "execution_count": null,
   "metadata": {},
   "outputs": [],
   "source": [
    "from numpy import polyfit"
   ]
  },
  {
   "cell_type": "markdown",
   "metadata": {},
   "source": [
    "Взяв логарифм по экспоненциальному закону радиоактивного распада и допустив $c=0$, мы получим\n",
    "\n",
    "\\begin{equation}\n",
    "\\log(\\tilde N(t))=\\log(N_0) -\\lambda t.\n",
    "\\end{equation}\n",
    "\n",
    "Таким образом, мы можем выполнить линейную подгонку к логарифму наших данных!"
   ]
  },
  {
   "cell_type": "code",
   "execution_count": null,
   "metadata": {},
   "outputs": [],
   "source": [
    "# Perform linear fit on the logarithm of the measurements\n",
    "popt, pcov = np.polyfit(times_Ba, np.log(np.array(counts_Ba)/10), 1, cov=True)\n",
    "perr = np.sqrt(np.diag(pcov))\n",
    "\n",
    "# Calculate lambda with error\n",
    "lambd = -popt[0]\n",
    "lambd_err = perr[0]\n",
    "# Calculate half life with error\n",
    "half_life = np.log(2)/lambd\n",
    "half_life_err = half_life*lambd_err/lambd\n",
    "# Print results\n",
    "print(\"Half life: %.1fs +- %.1fs\"%(half_life, half_life_err))"
   ]
  },
  {
   "cell_type": "markdown",
   "metadata": {},
   "source": [
    "Этот результат примерно такой же, какой мы получили ранее. Однако в данном случае мы не учли систематические ошибки (фон). Давайте визуализируем результаты."
   ]
  },
  {
   "cell_type": "code",
   "execution_count": null,
   "metadata": {},
   "outputs": [],
   "source": [
    "plt.plot(times_Ba, np.array(times_Ba)*popt[-2] + popt[-1],\n",
    "        label=r'Best fit')\n",
    "plt.plot(times_Ba, np.log(np.array(counts_Ba)/10), 'o', label='Measured data')\n",
    "plt.xlabel(r'$t$, [s]')\n",
    "plt.ylabel(r'$\\log(A(t)/A_0)$')\n",
    "plt.legend()\n",
    "plt.show()"
   ]
  },
  {
   "cell_type": "markdown",
   "metadata": {},
   "source": [
    "___\n",
    "## Дальнейшая Работа\n",
    "\n",
    "- Как можно оценить период полураспада изотопа, который распадается на другой нестабильный изотоп? (см., например, ссылку [[4]](#rsc))\n",
    "\n",
    "<a id=\"rsc\"></a>\n",
    "## Ресурсы и дальнейшее чтение:\n",
    "\n",
    "[[1]](): Caesium-137: https://en.wikipedia.org/wiki/Caesium-137, 2016, [Acquired 09.2017]\n",
    "\n",
    "[[2]](): NATS: Isotope Generator, http://nats-usa.com/wp-content/uploads/2012/11/Isotope-Generator.pdf, [Acquired 09.2017]\n",
    "\n",
    "[[3]](): Krane, K.: Introductory Nuclear Physics, John Wiley & Sons, 1988\n",
    "\n",
    "[[4]](): Pommé, S.: The uncertainty of the half-life,  BIPM & IOP Publishing Ltd,  http://iopscience.iop.org/article/10.1088/0026-1394/52/3/S51, 2015, [Acquired 09.2017]"
   ]
  },
  {
   "cell_type": "code",
   "execution_count": null,
   "metadata": {},
   "outputs": [],
   "source": []
  }
 ],
 "metadata": {
  "kernelspec": {
   "display_name": "Python 3",
   "language": "python",
   "name": "python3"
  },
  "language_info": {
   "codemirror_mode": {
    "name": "ipython",
    "version": 3
   },
   "file_extension": ".py",
   "mimetype": "text/x-python",
   "name": "python",
   "nbconvert_exporter": "python",
   "pygments_lexer": "ipython3",
   "version": "3.7.4"
  }
 },
 "nbformat": 4,
 "nbformat_minor": 2
}
