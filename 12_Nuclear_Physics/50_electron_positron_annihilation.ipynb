{
 "cells": [
  {
   "cell_type": "markdown",
   "metadata": {},
   "source": [
    "<style>\n",
    "@import url(https://www.numfys.net/static/css/nbstyle.css);\n",
    "</style>\n",
    "<a href=\"https://www.numfys.net\"><img class=\"logo\" /></a>\n",
    "\n",
    "# Электрон-позитронная аннигиляция\n",
    "\n",
    "### Examples - Particle and Nuclear Physics\n",
    "<section class=\"post-meta\">\n",
    "By Jonas Tjemsland, Eilif Sommer Øyre and Jon Andreas Støvneng\n",
    "</section>\n",
    "Last edited: April 15th 2018 \n",
    "___\n",
    "\n",
    "На этом уроке мы обсудим рассеяние электронов на позитронах при $Z$-резонансе. В частности, мы будем использовать генератор событий для запуска моделирования Монте-Карло для процесса аннигиляции $e^++e^ - \\to Z\\to?$, а затем визуализируем результаты в виде энергетических спектров. Генератор событий позаботится о каскадировании и адронизации. На эту тему были проведены физические эксперименты. Электрон-позитронное рассеяние в Z-резонансе было изучено в рамках сотрудничества ALEPH на Большом электрон-позитронном коллайдере (LEP) в ЦЕРНЕ [1]. \n",
    "\n",
    "Будет использоваться генератор событий Pythia 8.2 [2, 3, 4]. Это стандартный инструмент для генерации высокоэнергетических столкновений, и считается точным для $>10\\;\\mathrm{GeV}$. Программа работает для коллизий адрон-адрон и лептон-лептон. Pythia 8 написана на C++, но существует оболочка для Python.\n",
    "\n",
    "В дальнейшем мы всегда ссылаемся на Стандартную модель. Мы начинаем с импорта необходимых пакетов. Установка оболочки Python для Pythia описана в конце этой записной книжки. Установка Pythia содержит несколько примеров, с которыми вы можете поиграть."
   ]
  },
  {
   "cell_type": "code",
   "execution_count": null,
   "metadata": {},
   "outputs": [],
   "source": [
    "# Import Pythia\n",
    "import sys\n",
    "cfg = open(\"Makefile.inc\")\n",
    "lib = \"\"\n",
    "for line in cfg:\n",
    "    if line.startswith(\"PREFIX_LIB=\"): lib = line[11:-1]; break\n",
    "sys.path.insert(0, lib)\n",
    "import pythia8\n",
    "\n",
    "# Import other packages\n",
    "import numpy as np\n",
    "import matplotlib.pyplot as plt\n",
    "import progressbar\n",
    "%matplotlib inline"
   ]
  },
  {
   "cell_type": "code",
   "execution_count": 2,
   "metadata": {},
   "outputs": [],
   "source": [
    "# Set common figure parameters\n",
    "fontSize = 14\n",
    "newparams = {'figure.figsize': (15, 6),\n",
    "             'font.size': fontSize, 'mathtext.fontset': 'stix',\n",
    "             'font.family': 'STIXGeneral',\n",
    "             'lines.linewidth': 2.0}\n",
    "plt.rcParams.update(newparams)\n",
    "\n",
    "# Set constants\n",
    "me = 0.000511 # GeV. Electron mass\n",
    "mp = 0.93827  # GeV. Proton mass\n",
    "mZ = 91.1876  # GeV. Z mass"
   ]
  },
  {
   "cell_type": "markdown",
   "metadata": {},
   "source": [
    "## Настройка процесса, $e^+ + e^- \\rightarrow Z \\rightarrow ?$\n",
    "\n",
    "#### Настройки\n",
    "\n",
    "Мы будем моделировать рассеяние позитрона и электрона. То есть мы столкнем позитрон и электрон с некоторой энергией центра масс $E_\\mathrm{CM}$ и посмотрим, какие частицы образуются после адронизации и каскадов.\n",
    "\n",
    "Нам нужно определить `Pythia`-объект, который будет обрабатывать моделирование процесса."
   ]
  },
  {
   "cell_type": "code",
   "execution_count": 3,
   "metadata": {},
   "outputs": [],
   "source": [
    "# Initialise a pythia object\n",
    "pythia = pythia8.Pythia()"
   ]
  },
  {
   "cell_type": "markdown",
   "metadata": {},
   "source": [
    "Настройки генератора событий можно сохранить в файле и загрузить с помощью `pythia.ReadFile()`. Однако здесь мы будем использовать `pythia.ReadString()` для чтения отдельных настроек.\n",
    "\n",
    "Значение энергии центра масс называется `Beams:eCM` и задается в единицах $\\mathrm{ГэВ}$. Мы выбираем, чтобы частицы сталкивались в $Z$-резонансе, $E_\\mathrm{CM}=91.1876\\;\\mathrm{GeV}$.\n",
    "\n",
    "Исходные частицы определяются с помощью настроек `Beams:idA` и `Beams:idB`, и рассчитываются с помощью [Схемы Нумерации Частиц Монте-Карло](http://pdg.lbl.gov/2017/reviews/rpp2017-rev-monte-carlo-numbering.pdf) [5]. В этой схеме каждой частице присваивается целое число. Частицам присваиваются положительные числа, а античастицам - отрицательные. Некоторые значения приведены в таблице ниже (полный список и подробные сведения о схеме см. в [5]).\n",
    "\n",
    "<center> Таблица 1. Список некоторых элементарных частиц и их нумерация частиц по методу Монте-Карло [5]\n",
    "\n",
    "| Quarks |    | Leptons    |    | Gauge Bosons |    | Hadrons |      |\n",
    "|:------:|:--:|:----------:|:--:|:------------:|:--:|:-------:|:----:|\n",
    "| $d$    | 1  | $e^-$      | 11 | $\\gamma$     | 22 | $p$     | 2212 |\n",
    "| $u$    | 2  | $\\nu_e$    | 12 | $Z^0$        | 23 | $n$     | 2112 |\n",
    "| $s$    | 3  | $\\mu^-$    | 13 | $W^+$        | 24 | $\\pi^0$ | 111  |\n",
    "| $c$    | 4  | $\\nu_\\mu$  | 14 | $h^0$        | 25 | $\\pi^+$ | 211  |\n",
    "| $b$    | 5  | $\\tau^-$   | 15 |              |    | $K^0_L$ | 130  |\n",
    "| $t$    | 6  | $\\nu_\\tau$ | 16 |              |    | $K^+$   | 321  |"
   ]
  },
  {
   "cell_type": "code",
   "execution_count": 4,
   "metadata": {},
   "outputs": [],
   "source": [
    "# Set collision properties\n",
    "pythia.readString(\"Beams:idA = 11\")\n",
    "pythia.readString(\"Beams:idB = -11\")\n",
    "pythia.readString(\"Beams:eCM = 91.1876\");"
   ]
  },
  {
   "cell_type": "markdown",
   "metadata": {},
   "source": [
    "В Pythia частицы с (номинальным) временем жизни $\\tau_0 < 10^3\\;\\mathrm{mm/}c$ распадаются по умолчанию. Однако мы будем рассматривать только стабильные частицы. Таким образом, мы позволяем даже долгоживущим частицам $\\mu^{\\pm}$, $\\pi^\\pm$, $K^\\pm$, $K^0_L$ и $n$ распадаться. Это достигается с помощью настройки `???:mayDecay`. Нейтроны $n$, например, имеют время жизни $\\tau= 880\\;\\mathrm{s}\\approx 3\\times10^8\\;\\mathrm{km}/c$, и они в большинстве приложений могут рассматриваться как стабильные. Однако, когда нейтроны имеют происхождение от астрочастиц, они распадутся, не достигнув Земли."
   ]
  },
  {
   "cell_type": "code",
   "execution_count": 5,
   "metadata": {},
   "outputs": [],
   "source": [
    "pythia.readString(\"13:mayDecay   = true\")\n",
    "pythia.readString(\"211:mayDecay  = true\")\n",
    "pythia.readString(\"321:mayDecay  = true\")\n",
    "pythia.readString(\"130:mayDecay  = true\")\n",
    "pythia.readString(\"2112:mayDecay = true\");"
   ]
  },
  {
   "cell_type": "markdown",
   "metadata": {},
   "source": [
    "#### Возможные процессы и взаимодействия\n",
    "\n",
    "Наконец, нам нужно выбрать, какие процессы включить. В природе существуют четыре фундаментальные силы, показанные в таблице 2.\n",
    "\n",
    "<br></br>\n",
    "<center> Таблица 2. Четыре фундаментальные силы (взяты из [6]).</center>\n",
    "    \n",
    "| Взаимодействие | Порядок величины | Теория | Посредник |\n",
    "|:-----:|:--------:|:------:|:--------:|\n",
    "| Сильное | 10 | Хромодинамика | Глюон, $g$ |\n",
    "| Электромагнитное | $10^{-2}$ | Электродинамика | Фотон, $\\gamma$ |\n",
    "| Слабое | $10^{-13}$ | Ароматодинамика | $W^\\pm$ и $Z$ |\n",
    "| Гравитационное | $10^{-42}$ | Геометродинамика | Гравитон |\n",
    "<br>\n",
    "\n",
    "Начальное состояние $e^+ + e^-$ нейтрально к заряду. Таким образом, электрон и позитрон могут распадаться на промежуточный фотон (электромагнетизм) или промежуточный $Z$ бозон (слабое взаимодействие) (мы пренебрегаем связью с Хиггсом). Соответствующие фундаментальные вершины показаны на рисунке 2. Более полный список вершин в квантовой электродинамике (QED), квантовой хромодинамике (QCD) и теории электрослабого взаимодействия (GWS) приведен в конце этого урока.\n",
    "\n",
    "<br>\n",
    "![Possible fundamental vertices](images/vertices_z_gamma.png)\n",
    "**Рисунок 1.** *Диаграмы для электрослабого взаимодействия с нейтральным зарядом.*\n",
    "\n",
    "Обратите внимание, что процессы, показанные на рисунке 1, не могут быть физическими из-за сохранения импульса. Чтобы получить физический процесс, две или более таких диаграм должны быть объединены в соответствии с набором правил (например, сохранение заряда и числа барионов для всех взаимодействий и сохранение цвета при электромагнитных и слабых взаимодействиях; см. [6] для получения дополнительной информации и более глубокого понимания). Это известно как диаграмма Фейнмана. Все взаимодействия элементарных частиц могут быть описаны таким образом. Обратите внимание, что промежуточные $\\gamma$ и $Z$ являются виртуальными частицами, что означает, что их нельзя наблюдать напрямую.\n",
    "\n",
    "Каждая вершина взаимодействия вносит вклад с коэффициентом $\\propto \\lambda$ в конечную амплитуду. Предполагается, что этот фактор, называемый константой связи, мал, так что проблему можно рассматривать как возмущение. То есть диаграммы с небольшим количеством вершин вносят наибольший вклад. В качестве примера рассмотрим процесс $e^++e^-\\to e^++e^-$. Это известно как \"рассеяние Бабхи\". Диаграммы Фейнмана первого порядка для этого процесса показаны на рисунке 2 для фотона. \n",
    "\n",
    "![Babha scattering](images/bhabha.png)\n",
    "\n",
    "**Рисунок 2** *Диаграммы Фейнмана первого порядка для рассеяния Бабхи. Верхняя диаграмма называется $t$-каналом, а $s$-канал показан внизу. Канал $u$ не отображается. Как выглядит $u$-канал?*\n",
    "\n",
    "Теперь мы готовы выбрать, какие процессы включить. Полный список процессов и настроек, которым они соответствуют, показан в [Pythia 8.2](http://home.thep.lu.se/Pythia/pythia82html/ProcessSelection.html). Как мы видели, электрон и позитрон могут аннигилировать либо до $Z$ бозона, либо до фотона. То есть мы должны включить некоторые электрослабые процессы, которые приводят два фермиона либо к $Z$, либо к $\\gamma$. Именно это и делает `WeakSingleBoson:ffbar2gmZ = on`. Обратите внимание, что фотонная ветвь будет подавлена при $Z$-резонансе, что мы и рассматриваем. Позже мы сможем проверить, так ли это на самом деле."
   ]
  },
  {
   "cell_type": "code",
   "execution_count": 6,
   "metadata": {},
   "outputs": [],
   "source": [
    "pythia.readString(\"WeakSingleBoson:ffbar2ffbar(s:gmZ) = on\");\n",
    "pythia.readString(\"WeakSingleBoson:all = on\");"
   ]
  },
  {
   "cell_type": "markdown",
   "metadata": {},
   "source": [
    "Наконец, мы инициализируем генератор событий."
   ]
  },
  {
   "cell_type": "code",
   "execution_count": 7,
   "metadata": {},
   "outputs": [],
   "source": [
    "pythia.init();"
   ]
  },
  {
   "cell_type": "markdown",
   "metadata": {},
   "source": [
    "## Запуск моделирования\n",
    "\n",
    "Теперь мы готовы запустить моделирование. Мы будем использовать $10^5$ событий для Монте-Карло. Это может быть немного чересчур для наших целей, но позже это даст плавные энергетические спектры. Класс pythia содержит все, что известно о текущем событии ($e^++e^-$ рассеяние). Он включает, например, начальные, промежуточные и конечные частицы, идентификатор частиц и четыре импульса частиц. Новое событие генерируется с помощью `pythia.next()`. Для каждого события мы перебираем все частицы, ищем заданный набор частиц ($\\gamma$, $e^+$, $e^ -$, $p$ и $\\bar p$) и храним энергию частицы в массиве, который позже будет использоваться для вычисления энергетического спектра.\n",
    "\n",
    "**ПРИМЕЧАНИЕ:** При запуске моделирования Pythia печатает сообщения, используемые настройки и т.д. В терминале, в котором был запущен Jupyter. Эти сообщения можно отключить, а дополнительные включить. Проверьте их!"
   ]
  },
  {
   "cell_type": "code",
   "execution_count": 8,
   "metadata": {},
   "outputs": [],
   "source": [
    "def run_simulations(pythia, IEvent):\n",
    "def run_simulations(pythia, iEvent):\n",
    "    # First element is mass\n",
    "    eGamma = [0]\n",
    "    eE = [0.000511]\n",
    "    eN = [.93957 ]\n",
    "    eP = [.93828]\n",
    "    eNu = [0] # We treat the neutrinos as massless\n",
    "    eRest = []\n",
    "\n",
    "    w = [progressbar.Bar('=', '[', ']'), ' ', progressbar.Percentage(), ' ', progressbar.ETA()]\n",
    "    bar = progressbar.ProgressBar(widgets=w)\n",
    "\n",
    "    for i in bar(range(iEvent)):\n",
    "        # Generate next event. Skip if fail\n",
    "        if not pythia.next(): continue\n",
    "\n",
    "        # Iterate through the particles in the event. For each final particle,\n",
    "        # store the energy in an array\n",
    "        for i in range(pythia.event.size()):\n",
    "            if pythia.event[i].isFinal():\n",
    "                idAbs = pythia.event[i].idAbs() # Absolute id\n",
    "                eI = pythia.event[i].e()        # Energy\n",
    "                if idAbs == 22:\n",
    "                    # PHOTON\n",
    "                    eGamma.append(eI)\n",
    "                elif idAbs == 2212:\n",
    "                    # PROTON\n",
    "                    eP.append(eI)\n",
    "                elif idAbs == 2112:\n",
    "                    # NEUTRON\n",
    "                    eN.append(eI)\n",
    "                elif idAbs == 11:\n",
    "                    # e+e-\n",
    "                    eE.append(eI)\n",
    "                elif idAbs == 12 or idAbs == 14 or idAbs == 16:\n",
    "                    # NEUTRINOS\n",
    "                    eNu.append(eI)\n",
    "                else:\n",
    "                    eRest.append(eI)\n",
    "    return eGamma, eE, eN, eP, eNu, eRest"
   ]
  },
  {
   "cell_type": "code",
   "execution_count": 9,
   "metadata": {},
   "outputs": [],
   "source": [
    "iEvent = 100000"
   ]
  },
  {
   "cell_type": "code",
   "execution_count": 10,
   "metadata": {},
   "outputs": [
    {
     "name": "stderr",
     "output_type": "stream",
     "text": [
      "[==========================================================] 100% Time: 0:02:32\n"
     ]
    }
   ],
   "source": [
    "eGamma, eE, eN, eP, eNu, eRest = run_simulations(pythia, iEvent)"
   ]
  },
  {
   "cell_type": "markdown",
   "metadata": {},
   "source": [
    "## Энергетический Спектр\n",
    "\n",
    "Окончательные результаты приведенного выше моделирования представляют собой набор массивов, содержащих энергии в ГэВ от конечных частиц в событиях. Результаты должны быть преобразованы таким образом, чтобы они стали независимыми от количества используемых событий. Обычный способ представления результата - это своего рода *энергетические спектры*, такие как\n",
    "$$\\frac{\\mathrm{d}N}{\\mathrm{d}E}\\; [1/\\mathrm{GeV}],\\quad \\text{or}\\quad T\\times \\frac{\\mathrm{d}N}{\\mathrm{d}T} \\; [1/\\mathrm{GeV}],$$\n",
    "где $N$ - плотность чисел, $E$ - энергия, а $T$ - кинетическая энергия. Мы будем использовать последнюю. Это достигается путем создания гистограммы данных и деления на количество событий и ширину ячейки гистограммы. Гистограмму можно создать с помощью `histrogram()` из `numpy`."
   ]
  },
  {
   "cell_type": "code",
   "execution_count": 11,
   "metadata": {},
   "outputs": [],
   "source": [
    "def get_hist(E, bins):\n",
    "    \"\"\" Creates energy spectrum given an array of energies and the bins. \"\"\"\n",
    "    if len(E) < 2: return np.array([])\n",
    "    bin_width = bins[1:] - bins[:-1]\n",
    "    T = np.array(E[1:]) - E[0]\n",
    "    y, bin_edges = np.histogram(T, bins=bins)\n",
    "    return y/(iEvent*bin_width)"
   ]
  },
  {
   "cell_type": "markdown",
   "metadata": {},
   "source": [
    "Давайте создадим гистограммы для результатов. Мы должны использовать логарифмически распределенные ячейки."
   ]
  },
  {
   "cell_type": "code",
   "execution_count": 12,
   "metadata": {},
   "outputs": [
    {
     "name": "stdout",
     "output_type": "stream",
     "text": [
      "All the different particles have been accounted for!\n"
     ]
    }
   ],
   "source": [
    "histNum = 100\n",
    "bins = np.logspace(-5, 3, histNum)\n",
    "bin_centers = 0.5*(bins[1:] + bins[:-1])\n",
    "\n",
    "histGamma = get_hist(eGamma, bins)\n",
    "histP = get_hist(eP, bins)\n",
    "histNu = get_hist(eNu, bins)\n",
    "histE = get_hist(eE, bins)\n",
    "histN = get_hist(eN, bins)\n",
    "if len(eRest) > 0:\n",
    "    print(\"Additional particles were detected!\")\n",
    "else:\n",
    "    print(\"All the different particles have been accounted for!\")"
   ]
  },
  {
   "cell_type": "markdown",
   "metadata": {},
   "source": [
    "Теперь мы можем построить график результатов."
   ]
  },
  {
   "cell_type": "code",
   "execution_count": 13,
   "metadata": {
    "scrolled": false
   },
   "outputs": [],
   "source": [
    "def plot_spectrum(bin_centers, histGamma, histP, histE, histNu):\n",
    "    # Plot histograms loglog\n",
    "    fig, ax = plt.subplots()\n",
    "\n",
    "    if len(histGamma) > 0: ax.plot(bin_centers, bin_centers*histGamma, label=r\"$\\gamma$\")\n",
    "    if len(histP) > 0:     ax.plot(bin_centers, bin_centers*histP, label=r\"$p\\bar p$\")\n",
    "    if len(histE) > 0:     ax.plot(bin_centers, bin_centers*histE, label=r\"$e^-e^+$\")\n",
    "    if len(histNu) > 0:    ax.plot(bin_centers, bin_centers*histNu, label=r\"$\\nu\\bar\\nu$\")\n",
    "    if len(histN) > 0:     ax.plot(bin_centers, bin_centers*histN, label=r\"$n\\bar n$\")\n",
    "\n",
    "    ax.set_xscale(\"log\", nonposx='clip')\n",
    "    ax.set_yscale(\"log\", nonposy='clip')\n",
    "    ax.legend(loc=2)\n",
    "    plt.xlabel(r\"$T$ [GeV]\")\n",
    "    plt.ylabel(r\"Td$N$/d$T$\")\n",
    "    plt.show()"
   ]
  },
  {
   "cell_type": "code",
   "execution_count": 14,
   "metadata": {},
   "outputs": [
    {
     "data": {
      "image/png": "[encoded data removed]",
      "text/plain": [
       "<matplotlib.figure.Figure at 0x7f57fc19c390>"
      ]
     },
     "metadata": {},
     "output_type": "display_data"
    }
   ],
   "source": [
    "plot_spectrum(bin_centers, histGamma, histP, histE, histNu)"
   ]
  },
  {
   "cell_type": "markdown",
   "metadata": {},
   "source": [
    "Обратите внимание, что все графики, за исключением безмассовых фотонов и легких нейтрино, сходят к нулю по мере уменьшения энергии. Это изменение происходит быстро. Более того, когда энергия увеличивается, энергетический спектр также уменьшается. Существует также внезапный пик в $~5\\times 10^1\\;\\mathrm{ГэВ}$ для электронного и нейтринного спектра.\n",
    "\n",
    "Давайте обсудим некоторые свойства форм графиков, в частности, почему энергетические спектры равны 0 для $T\\gtrsim 50\\;\\mathrm{GeV}$.\n",
    "\n",
    "### Протон и антипротон $p\\bar p$\n",
    "\n",
    "Энергетический спектр для протонов и антипротонов становится равным нулю при"
   ]
  },
  {
   "cell_type": "code",
   "execution_count": 15,
   "metadata": {
    "scrolled": false
   },
   "outputs": [
    {
     "name": "stdout",
     "output_type": "stream",
     "text": [
      "T = 41.17 GeV.\n"
     ]
    }
   ],
   "source": [
    "print(\"T = %.2f GeV.\" % (np.max(eP) - mp))"
   ]
  },
  {
   "cell_type": "markdown",
   "metadata": {},
   "source": [
    "Начальные частицы обладают энергией\n",
    "\n",
    "$$E_i = 2m_e + E_\\mathrm{CM} = 2\\cdot 0.511\\;\\mathrm{MeV} + 91.1876\\;\\mathrm{GeV} \\approx 91.2\\;\\mathrm{GeV}.$$\n",
    "\n",
    "Протон и антипротон в состоянии покоя обладают энергией\n",
    "\n",
    "$$E_f = 2m_p = 2\\cdot 0.93827231 \\;\\mathrm{GeV} \\approx 1.88 \\;\\mathrm{GeV}.$$\n",
    "\n",
    "Если процессом будет $e^+ + e^- \\to p + \\bar p$, кинетическая энергия конечных частиц должна быть\n",
    "\n",
    "$$T_p = T_\\bar{p} = \\frac{E_i - E_f}{2}=44.7 \\;\\mathrm{GeV}.$$\n",
    "\n",
    "Таким образом, если мы увеличим число событий, мы увидим, что энергетический спектр протонов и антипротонов станет равным нулю при $E_{0, 2}\\to 44.7\\;\\mathrm{GeV}.$"
   ]
  },
  {
   "cell_type": "markdown",
   "metadata": {},
   "source": [
    "### Электрон и позитрон $e^-e^+$\n",
    "Мы повторяем те же вычисления, что и выше:"
   ]
  },
  {
   "cell_type": "code",
   "execution_count": 16,
   "metadata": {},
   "outputs": [
    {
     "name": "stdout",
     "output_type": "stream",
     "text": [
      "T = 45.59380 GeV\n",
      "T = 45.59380 GeV (analytical)\n"
     ]
    }
   ],
   "source": [
    "print(\"T = %.5f GeV\" % (np.max(eE)))\n",
    "print(\"T = %.5f GeV (analytical)\" % ((2*me + mZ - 2*me)/2))"
   ]
  },
  {
   "cell_type": "markdown",
   "metadata": {},
   "source": [
    "Обратите также внимание, что график для $e^-e^+$ расходится для $T~45.6\\;\\mathrm{GeV}$. Это соответствует процессу $e^+ + e^- \\to Z \\to e^+ + e^-$. Подробности выходят за рамки этого блокнота."
   ]
  },
  {
   "cell_type": "markdown",
   "metadata": {},
   "source": [
    "### Фотон и нейтрино, $\\gamma$ и $\\nu$"
   ]
  },
  {
   "cell_type": "code",
   "execution_count": 17,
   "metadata": {},
   "outputs": [
    {
     "name": "stdout",
     "output_type": "stream",
     "text": [
      "T = 45.48929 GeV\n",
      "T = 45.59431 GeV (analytical)\n"
     ]
    }
   ],
   "source": [
    "print(\"T = %.5f GeV\" % (np.max(eGamma)))\n",
    "print(\"T = %.5f GeV (analytical)\" % ((2*me + mZ)/2))"
   ]
  },
  {
   "cell_type": "markdown",
   "metadata": {},
   "source": [
    "### Дальнейшая работа и упражнения\n",
    "\n",
    "Поиграйте с введенным кодом и концепциями. Например, пусть долгоживущие частицы считаются стабильными, попробуйте с другими начальными частицами (не забудьте использовать правильные процессы) или попробуйте другие начальные энергии.\n",
    "\n",
    "- Откуда берутся другие характеристики графиков, такие как пик при $\\sim 45\\;\\mathrm{GeV}$ и максимальные значения?\n",
    "- Пусть нейтрон будет стабильным. Почему энергетический спектр нейтрона и протона одинаков? *Подсказка. Закон сохранения.*\n",
    "- Подробно изучите рассеяние Бабхи. Например, каково угловое распределение от Pythia? Что вы получаете на уровне дерева в QED (аналогичные вычисления приведены, например, в [5])?\n",
    "- Электронно-позитронное рассеяние в Z-резонансе было изучено в сотрудничестве ALEPH на Большом электрон-позитронном коллайдере (LEP) в ЦЕРНЕ. \n",
    "\n",
    "### Ресурсы и дальнейшее чтение\n",
    "\n",
    "[1] Check out the ALEPH website (http://aleph.web.cern.ch/) or the CERN website (https://home.cern/about/experiments/aleph)\n",
    "\n",
    "[2] Sjostrand, Torbjorn et al.: A Brief Introduction to PYTHIA 8.1. Comput.Phys.Commun. 178 (2008) 852-867 [arXiv:0710.3820](https://arxiv.org/abs/0710.3820) [hep-ph] CERN-LCGAPP-2007-04, LU-TP-07-28, FERMILAB-PUB-07-512-CD-T  \n",
    "\n",
    "[3] Sjostrand, Torbjorn et al.: PYTHIA 6.4 Physics and Manual. JHEP 0605 (2006) 026 hep-ph/0603175 FERMILAB-PUB-06-052-CD-T, LU-TP-06-13\n",
    "\n",
    "[4] Pythia 8.2 online manual: http://home.thep.lu.se/Pythia/pythia82php/Welcome.php (accessed March 2018)\n",
    "\n",
    "[5] C. Patrignani et al. (Particle Data Group), Chin. Phys. C, 40, 100001 (2016) and 2017 update.\n",
    "\n",
    "[6] Griffiths, David J. 2008. Introduction to elementary particles. Second, revised edition. Wiley-vch.  "
   ]
  },
  {
   "cell_type": "markdown",
   "metadata": {},
   "source": [
    "---\n",
    "## Приложение\n",
    "\n",
    "### Установка Pythia и настройка для Python\n",
    "\n",
    "Скачайте [Pythia](http://home.thep.lu.se/~torbjorn/pythia8/pythia8230.tgz) и извлеките содержимое. В Linux вы можете использовать следующие команды терминала для извлечения Pythia в домашнюю папку:\n",
    "```\n",
    "cd ~\n",
    "wget http://home.thep.lu.se/~torbjorn/pythia8/pythia8230.tgz\n",
    "tar -xvf pythia8230.tgz\n",
    "cd pythia8230\n",
    "```\n",
    "Настройте Python перед настройкой pythia.\n",
    "```\n",
    "./configure --with-python-include=/usr/include/python2.7 --with-python-bin=/usr/bin\n",
    "```\n",
    "Теперь настройте Pythia (см. http://home.thep.lu.se/Pythia/pythia82html/PythonInterface.html и http://home.thep.lu.se/Pythia/) запустив\n",
    "```\n",
    "make\n",
    "```\n",
    "Перейдите в папку, содержащую файл python, `cd /папка/содержащий/python/файл`. Затем скопируйте файл `Makefile.inc` с помощью\n",
    "```\n",
    "cp ~/pythia8230/examples/Makefile.inc .\n",
    "```\n",
    "Для получения дополнительной информации см. информационную страницу для [Python Interface](http://home.thep.lu.se/Pythia/pythia82html/PythonInterface.html).\n",
    "\n",
    "### Некоторые Дополнительные Фундаментальные Вершины\n",
    "Некоторые из фундаментальных вершин в электрослабой теории показаны на рисунке ниже. Фотон нейтрален по заряду и соединяется с двумя электрически заряженными частицами, такими как кварки или электрон. Бозон $Z$ также нейтрален по заряду и соединяется с любым лептоном. Бозоны $W^\\pm$ заряжены и поэтому должны соединяться с двумя частицами с чистым зарядом. Это лептон и соответствующее нейтрино, $(l^-, \\nu_l)$, или кварк и кварк с опозиционным вкусом, такие как кварк вверх и вниз. Таким образом, аромат кварков не сохраняется в электрослабой теории. Квантовая хромодинамика в этой тетради не обсуждается, но можно отметить, что глюон соединяется с любым кварком и что глюоны могут соединяться с другими глюонами в трех - или четырехвершинном пространстве, создавая так называемый глюонный шар. Глюоны также могут соединяться с фотонами.\n",
    "\n",
    "![vertices](images/vertices.png)"
   ]
  }
 ],
 "metadata": {
  "kernelspec": {
   "display_name": "Python 3",
   "language": "python",
   "name": "python3"
  },
  "language_info": {
   "codemirror_mode": {
    "name": "ipython",
    "version": 3
   },
   "file_extension": ".py",
   "mimetype": "text/x-python",
   "name": "python",
   "nbconvert_exporter": "python",
   "pygments_lexer": "ipython3",
   "version": "3.7.4"
  }
 },
 "nbformat": 4,
 "nbformat_minor": 2
}
