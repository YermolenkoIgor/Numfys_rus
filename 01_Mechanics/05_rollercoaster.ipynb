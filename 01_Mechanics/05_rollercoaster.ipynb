{
 "cells": [
  {
   "cell_type": "markdown",
   "metadata": {},
   "source": [
    "$\\renewcommand{\\vec}[1]{\\mathbf{#1}}$\n",
    "\n",
    "\n",
    "<style>\n",
    "@import url(https://www.numfys.net/static/css/nbstyle.css);\n",
    "</style>\n",
    "<a href=\"https://www.numfys.net\"><img class=\"logo\" /></a>\n",
    "\n",
    "# Американские горки\n",
    "\n",
    "### Examples - Mechanics\n",
    "<section class=\"post-meta\">\n",
    "By Jonas Tjemsland, Eilif Sommer Øyre and Jon Andreas Støvneng\n",
    "</section>\n",
    "Last edited: April 17th 2018 \n",
    "___\n",
    "\n",
    "\n",
    "## Вступление\n",
    "\n",
    "В серии лабораторных занятий по курсу физики в НТНУ студенты изучают движение объектов по криволинейной дорожке. Из-за кривизны скорость и ускорение будут меняться. Студенты используют высокоскоростную камеру для записи движения и сравнения результатов с численным моделированием.\n",
    "\n",
    "В этом блокноте мы смоделируем катящийся шар на некоторой произвольной дорожке в двух измерениях, используя второй закон Ньютона. Дорожка создается путем выполнения интерполяции кубического сплайна по набору точек. Для получения дополнительной информации см. [1]."
   ]
  },
  {
   "cell_type": "markdown",
   "metadata": {},
   "source": [
    "Во-первых, мы импортируем необходимые библиотечные пакеты."
   ]
  },
  {
   "cell_type": "code",
   "execution_count": null,
   "metadata": {},
   "outputs": [],
   "source": [
    "import numpy as np\n",
    "import scipy.interpolate as interp\n",
    "import matplotlib.pyplot as plt\n",
    "plt.style.use('bmh')    # Nicer looking plots"
   ]
  },
  {
   "cell_type": "markdown",
   "metadata": {},
   "source": [
    "## Теория\n",
    "#### Уравнение движения\n",
    "\n",
    "Небольшой шарик, катится по изогнутой дорожке. Ось вращения проходит через центр масс. Пусть $m$ - масса, $r$ - радиус шара и $I_n$ - момент инерции. Силы, действующие на центр масс, описываются вторым законом Ньютона\n",
    "\n",
    "\\begin{equation}\n",
    "\\mathbf F = m\\mathbf a.\n",
    "\\end{equation}\n",
    "\n",
    "\n",
    "Силы, действующие на шар, можно разложить на компонент, параллельный дорожке, и компонент, перпендикулярный дорожке, как показано на рис.1. Пусть локальный наклон дорожки описывается углом $\\theta(x)$. Гравитационная сила действует на центр масс вертикально вниз. Это равносильно компоненту, параллельному треку $mg\\sin \\theta(x)$, и нормальному компоненту $mg\\cos \\theta(x)$. Силы от дорожки к шару имеют нормальную составляющую $N$ (нормальная сила) и параллельную составляющую $f$ (трение).\n",
    "\n",
    "\n",
    "<img src=\"images/rolling-forces.png\">\n",
    "\n",
    "*Рисунок 1: Цилиндр или сфера катится по кривой $y(x)$. Силы, действующие на объект, указаны на рисунке. В каждой точке $x$ наклон кривой определяется углом $\\theta(x)$.* \n",
    "\n",
    "\n",
    "Из-за кривизны дорожки центр масс имеет центростремительное ускорение, нормальное к дорожке. Таким образом, общее ускорение определяется\n",
    "\n",
    "\\begin{equation}\n",
    "\\mathbf a = \\dot v \\mathbf{e}_\\parallel + \\frac{v^2}{R(x)} \\mathbf{e}_\\perp,\n",
    "\\end{equation}\n",
    "    \n",
    "где $R(x)$ - это *радиус кривизны*, а $v$ - скорость (вдоль трека). Таким образом, мы получаем два уравнения\n",
    "\n",
    "\\begin{equation}\n",
    "mg \\sin \\theta(x)-f=m\\dot v,\n",
    "\\label{eq:parallel}\\quad(1)\n",
    "\\end{equation}\n",
    "\\begin{equation}\n",
    "N-mg\\cos\\theta(x) = \\frac{mv^2}{R(x)}.\n",
    "\\label{eq:normal}\\quad(2)\n",
    "\\end{equation}\n",
    "\n",
    "Первое уравнение описывает движение параллельно дорожке, в то время как второе уравнение дает, с $N\\geq 0$, условие для того, когда мяч теряет контакт с поверхностью.\n",
    "\n",
    "Выражение для трения найдено с помощью второго закона вращения Ньютона,\n",
    "\n",
    "\\begin{equation}\n",
    "\\tau = I_0\\omega.\n",
    "\\end{equation}\n",
    "\n",
    "Трение $f$ является единственной силой, которая не проходит через ось вращения, и, таким образом, является единственной силой, которая вносит вклад в общий крутящий момент $\\tau$. Трение действует на объект на расстоянии $r$ от оси вращения (и под углом $\\pi/2$), так что $fr = I_0 \\omega$. Предполагается, что мяч катится без какого-либо скольжения. Используя условие качения $v=\\omega r$, уравнение (1) можно записать в виде\n",
    "\n",
    "\\begin{equation}\n",
    "\\dot v = \\frac{g\\sin (\\theta(x))}{1 + I_0/mr^2}.\n",
    "\\label{eq:vdot}\\quad(*)\n",
    "\\end{equation}\n",
    "\n",
    "Полное обсуждение динамики вращения можно найти, например, в [главах 9-10, 2] и [главе 6, 3]."
   ]
  },
  {
   "cell_type": "markdown",
   "metadata": {},
   "source": [
    "#### Кривизна\n",
    "\n",
    "Рассмотрим кривую $y(x)$ от $A$ до $B$, как показано на рис.2. Кривую от $A$ до $B$ с длиной дуги $\\Delta s$ можно рассматривать как сектор малого круга с углом $\\Delta \\theta$. Окружность имеет центр в $C$ и радиус $R\\approx R_A\\approx R_B$. Таким образом, радиус кривизны становится $R=\\Delta s/\\Delta \\theta$. *Кривизна*, в свою очередь, определяется как $\\kappa= 1/R$.\n",
    "\n",
    "\n",
    "<img src=\"images/rolling-curvature.png\">\n",
    "*Рисунок 2: Эскиз, используемый для описания кривизны и радиуса кривизны. (Взято из [1])* \n",
    "\n",
    "\n",
    "Рассмотрим теперь бесконечно малую дугу $\\Delta s \\to\\text{d} s$. Из рисунка видно, что\n",
    "\n",
    "\\begin{equation}\n",
    "\\text{d}y/\\text{d} x = \\tan\\theta,\n",
    "\\label{eq:theta}\\quad(3)\n",
    "\\end{equation}\n",
    "\n",
    "что дает\n",
    "\n",
    "$$\\frac{\\text{d} \\theta}{\\text{d}x} = \\frac{\\text{d}}{\\text{d}x}\\arctan\\left(\\frac{\\text{d}y}{\\text{d}x}\\right)=\\frac{1}{1+\\left(\\text d y/\\text dx\\right)^2}\\frac{\\text d^2 y}{\\text dx^2}.$$\n",
    "\n",
    "Дифференциал $\\text d s$ задается\n",
    "\n",
    "$$(\\text{d}s)^2 = (\\text d x)^2 + (\\text d y)^2 \\quad \\Longrightarrow \\quad \\text d s=\\text d x\\sqrt{1 + \\left(\\text d y/dx\\right)^2}.$$\n",
    "\n",
    "Таким образом, кривизна может быть записана как\n",
    "\n",
    "\\begin{equation}\n",
    "\\kappa =\\frac{\\text{d}\\theta}{\\text{d}s} = \\frac{\\text{d}^2 y/\\text{d}x^2}{\\left(1 +\\left(\\text d y/\\text d x\\right)^2\\right)^{3/2}},\n",
    "\\end{equation}\n",
    "\n",
    "и радиус кривизны становится\n",
    "\n",
    "\\begin{equation}\n",
    "R(x) = \\frac{\\text{d}s}{\\text{d}\\theta} = \\frac{\\left(1 +\\left(\\text d y/\\text d x\\right)^2\\right)^{3/2}}{\\text{d}^2 y/\\text{d}x^2}.\n",
    "\\label{eq:R}\\quad(4)\n",
    "\\end{equation}\n",
    "\n",
    "Обратите внимание, что $\\kappa$ всегда конечна, пока $\\text d y/\\text d x$ непрерывен, в то время как $R\\to \\infty$, если $\\text d^2 y/\\text d x^2\\to 0$. \n",
    "\n",
    "Кривизна более подробно обсуждается, например, в [chap. 11, 4] и [chap. 13, 5]."
   ]
  },
  {
   "cell_type": "markdown",
   "metadata": {},
   "source": [
    "## Установка\n",
    "\n",
    "Мы будем рассматривать твердую сферу (шар), которая имеет момент инерции $I_0= 2mr^2/5$. Момент инерции легко вычисляется для таких объектов, но это не будет обсуждаться здесь. См., например, [глава 9, 2] для общего обсуждения и [6] для списка некоторых типичных значений для $I_0$. Предположим, что шар имеет радиус $r=1\\,\\text{cm}$ и изготовлен из железа с плотностью $\\rho=7850\\,\\text{kg/m}^3$ (плотность найдена в [7]). Масса шара в этом случае равна $m= 32,9\\,\\text{g}$, а момент инерции,таким образом, равен $I_0=13,2\\,\\mathrm{g\\, cm^2}$."
   ]
  },
  {
   "cell_type": "code",
   "execution_count": null,
   "metadata": {},
   "outputs": [],
   "source": [
    "# Properties of the rolling object\n",
    "r = 0.01                 # m      (radius)\n",
    "rho = 7850               # kg/m^3 (density)\n",
    "g = 9.81                 # m/s^2  (gravitational acceleration)\n",
    "\n",
    "m = (4/3)*np.pi*r**3*rho # kg     (mass)\n",
    "c = 2/5\n",
    "I0 = c*m*r**2            # kg m^2 (moment of inertia)"
   ]
  },
  {
   "cell_type": "markdown",
   "metadata": {},
   "source": [
    "<img src=\"images/roller-coaster.png\">\n",
    "\n",
    "*Рис. 3: Фактическая установка используемая в лаборатории показана слева. Справа показан эскиз. (Правое изображение взято из [1])*\n",
    "\n",
    "\n",
    "Дорожка выполнена из пластикового стержня, который крепится к прочной раме на $N=8$ различных креплениях, как показано на рис. 3. Пусть $(x_i, y_i)$ - позиции опорных узлов. Позиции $x$ фиксированы и равномерно распределены по рамке. Будем считать, что установка имеет длину $L=1.4\\,\\text{м.}$, такую, что расстояние между узлами составляет $l = 20\\,\\text{см}$. Позиции $y$ могут меняться."
   ]
  },
  {
   "cell_type": "code",
   "execution_count": null,
   "metadata": {},
   "outputs": [],
   "source": [
    "# Properties of the frame\n",
    "L = 1.4                   # m (length)\n",
    "yi = [.5, .3, .25, .3,\n",
    "     .35, .34, .25, .15]  # m (y-positions)\n",
    "\n",
    "N = len(yi)               #   (# of mounts)\n",
    "xi = np.linspace(0, L, N) # m (x-positions)"
   ]
  },
  {
   "cell_type": "markdown",
   "metadata": {},
   "source": [
    "Трек может быть описан кубическим сплайном, который интерполирует $(x_i, y_i)$. Кубический сплайн состоит из набора кубических многочленов, которые имеют непрерывные первую и вторую производные в точках интерполяции. Смотрите наш блокнот про [Кубические сплайны](https://nbviewer.jupyter.org/urls/www.numfys.net/media/notebooks/cubic_splines.ipynb) для общего обсуждения. Мы будем использовать функцию [`CubicSpline`](https://docs.scipy.org/doc/scipy/reference/generated/scipy.interpolate.CubicSpline.html#scipy.interpolate.CubicSpline) из `scipy.interpolate` для выполнения интерполяции."
   ]
  },
  {
   "cell_type": "code",
   "execution_count": null,
   "metadata": {},
   "outputs": [],
   "source": [
    "# Callable class for the track curve\n",
    "get_y = interp.CubicSpline(xi, yi, bc_type=\"natural\")"
   ]
  },
  {
   "cell_type": "markdown",
   "metadata": {},
   "source": [
    "Как мы видели ранее, $\\theta$ и $R$ зависят от $\\text dy/\\text dx$ и $\\text d^2y/\\text dx^2$. Класс `CubicSpline` имеет функцию, называемую `derivative` которая возвращает класс `PPoly`, который, по сути, является производной от сплайна. `PPoly` имеет также функцию `derivative`. Таким образом, мы можем легко вычислить $\\theta(x)$ и $R(x)$, используя уравнения (3) и (4)."
   ]
  },
  {
   "cell_type": "code",
   "execution_count": null,
   "metadata": {},
   "outputs": [],
   "source": [
    "get_dydx = get_y.derivative()      # Callable derivative of track\n",
    "get_d2ydx2 = get_dydx.derivative() # Callable double derivative of track\n",
    "\n",
    "def get_theta(x):\n",
    "    \"\"\" Возвращает угол наклона дорожки. \"\"\"\n",
    "    return -np.arctan(get_dydx(x))\n",
    "    \n",
    "def get_R(x):\n",
    "    \"\"\" Возвращает радиус кривизны. \"\"\"\n",
    "    return (1 + (get_dydx(x))**2)**1.5/get_d2ydx2(x)\n",
    "\n",
    "def get_curvature(x):\n",
    "    \"\"\" Возвращает кривизну (1/R). \"\"\"\n",
    "    return get_d2ydx2(x)/(1 + (get_dydx(x))**2)**1.5"
   ]
  },
  {
   "cell_type": "markdown",
   "metadata": {},
   "source": [
    "Давайте построим дорожку!"
   ]
  },
  {
   "cell_type": "code",
   "execution_count": null,
   "metadata": {
    "scrolled": false
   },
   "outputs": [],
   "source": [
    "x = np.linspace(xi[0], xi[-1], 200)\n",
    "\n",
    "# Create figure\n",
    "fig, axarr = plt.subplots(3, 1, sharex=True, figsize=(12, 9), dpi=600)\n",
    "fig.subplots_adjust(hspace=0.02)\n",
    "\n",
    "# Axes 1:\n",
    "axarr[0].plot(x, get_y(x), 'C0', label=r\"$y(x)$\")\n",
    "axarr[0].plot(xi, yi, 'C1o', label=\"Mounts\")\n",
    "axarr[0].set_ylabel(r\"$y(x)$, [m]\", size='15')\n",
    "#axarr[0].set_aspect('equal')\n",
    "\n",
    "# Axes 2: \n",
    "axarr[1].plot(x, get_theta(x), 'C0')\n",
    "axarr[1].set_ylabel(r\"$\\theta(x)$, [rad]\", size='15')\n",
    "\n",
    "# Axes 2: \n",
    "axarr[2].plot(x, get_curvature(x), 'C0')\n",
    "axarr[2].set_ylabel(r\"$\\kappa(x)$, [1/m]\", size='15')\n",
    "\n",
    "plt.show()"
   ]
  },
  {
   "cell_type": "markdown",
   "metadata": {},
   "source": [
    "Мы предполагаем, что потери механической энергии не происходит. Таким образом, если самая высокая точка трека равна $y(x=0)$, то мяч упадет вправо. Если это не так, мяч будет кататься взад и вперед. "
   ]
  },
  {
   "cell_type": "markdown",
   "metadata": {},
   "source": [
    "## Numerics\n",
    "\n",
    "Мы начинаем с предположения, что мяч всегда находится в контакте с дорожкой. Уравнение (*) дает систему обыкновенных дифференциальных уравнений (ODE)\n",
    "\n",
    "$$\\frac{\\text dv}{\\text dt} = \\frac{g\\sin (\\theta(t))}{1 + I_0/mr^2},$$\n",
    "\n",
    "где $v$ - мгновенная скорость вдоль трассы. Позиция $x$, в свою очередь, задается\n",
    "\n",
    "$$ \\text dx = \\text ds \\cos(\\theta)\\: \\Longrightarrow \\: \\frac{\\text dx}{\\text dt}  = v\\cos(\\theta).$$"
   ]
  },
  {
   "cell_type": "code",
   "execution_count": null,
   "metadata": {},
   "outputs": [],
   "source": [
    "def get_vdot(theta):\n",
    "    \"\"\" Возвращает производную по времени от (полной) скорости. \"\"\"\n",
    "    return g*np.sin(theta)/(1 + c)\n",
    "\n",
    "def RHS(z):\n",
    "    \"\"\" Оценивает правую часть двух связанных ОДУ.\n",
    "    \n",
    "    Parameters:\n",
    "        z : array-like, len(2), float. [v, x]\n",
    "            The first element is the velocity, the second is the x-position.\n",
    "        \n",
    "    Returns:\n",
    "        array-like, len(2), float. [a, v]\n",
    "        The first element is the time derivative of the velocity (acceleration),\n",
    "        the second is the time derivative of the position (velocity).\n",
    "    \"\"\"\n",
    "    # z = [x, v]\n",
    "    # w = [vx, a]\n",
    "    w = np.zeros(2)\n",
    "    theta = get_theta(z[0])\n",
    "    w[0] = z[1]*1/np.sqrt(1+np.tan(theta)**2)\n",
    "    w[1] = get_vdot(theta)\n",
    "    return w"
   ]
  },
  {
   "cell_type": "markdown",
   "metadata": {},
   "source": [
    "$v(t)$ и $x(t)$ можно найти, применив метод решения ОДУ, такой как [Метод Эйлера](https://nbviewer.jupyter.org/urls/www.numfys.net/media/notebooks/eulers_method.ipynb), [Метод Рунге-Кутты](https://nbviewer.jupyter.org/urls/www.numfys.net/media/notebooks/runge_kutta_method.ipynb) или более продвинутый [адаптивный метод](https://nbviewer.jupyter.org/urls/www.numfys.net/media/notebooks/adaptive_runge_kutta_methods.ipynb). Мы отсылаем вас к соответствующим модулям или к примеру, который решает ОДУ в [numfys.net](https://www.numfys.net). В этом блокноте мы будем использовать метод Рунге-Кутты 4-го порядка."
   ]
  },
  {
   "cell_type": "code",
   "execution_count": null,
   "metadata": {},
   "outputs": [],
   "source": [
    "def rk4step(f, y, h):\n",
    "    \"\"\" Выполняет один шаг метода Рунге-Кутты 4-го порядка.\n",
    "    \n",
    "    Parameters:\n",
    "        f : Callable function with one input parameter.\n",
    "            The right hand side of the ODE. Note that the\n",
    "            RHS is in our case not a function of time.\n",
    "        y : array-like, float. Current position.\n",
    "        h : float. Time step.\n",
    "    \"\"\"\n",
    "    s1 = f(y)\n",
    "    s2 = f(y + h*s1/2.0)\n",
    "    s3 = f(y + h*s2/2.0)\n",
    "    s4 = f(y + h*s3)\n",
    "    \n",
    "    return y + h/6.0*(s1 + 2.0*s2 + 2.0*s3 + s4)"
   ]
  },
  {
   "cell_type": "markdown",
   "metadata": {},
   "source": [
    "Мы выбираем $x=0$ и $v=0$ в качестве начальных условий и временной шаг $\\Delta t = 10^{-3}\\, \\text{s}$. Мы предположили, что шар не теряет никакой механической энергии. Один из методов проверки того, дает ли вычисление реалистичные результаты, состоит в том, чтобы проверить, является ли общая механическая энергия\n",
    "\n",
    "\\begin{equation}\n",
    "E = \\frac{1}{2}mv^2 + mgh + \\frac{1}{2}I_0 \\omega^2 = \\frac{1}{2}m(1 + c)v^2 + mgh,\n",
    "\\end{equation}\n",
    "постоянной."
   ]
  },
  {
   "cell_type": "code",
   "execution_count": null,
   "metadata": {},
   "outputs": [],
   "source": [
    "dt = 1e-3 # s\n",
    "tstop = 5 # s. If the ball has not reached the end within 5 seconds, we stop.\n",
    "x0 = 0    # m. Initial x-position\n",
    "v0 = 0    # m/s. Inital velocity\n",
    "\n",
    "def get_K(v):\n",
    "    \"\"\" Returns the kinetic energy. \"\"\"\n",
    "    return .5*m*(1 + c)*v**2\n",
    "\n",
    "def get_U(h):\n",
    "    \"\"\" Returns the potential energy. \"\"\"\n",
    "    return m*g*h"
   ]
  },
  {
   "cell_type": "markdown",
   "metadata": {},
   "source": [
    "Теперь все готово к тому, чтобы катить мяч по дорожке. "
   ]
  },
  {
   "cell_type": "code",
   "execution_count": null,
   "metadata": {},
   "outputs": [],
   "source": [
    "# Set initial values\n",
    "x = [x0]        # x-position\n",
    "v = [v0]        # velocity\n",
    "h = get_y(x0)   # height\n",
    "K = [get_K(v0)] # kinetic energy\n",
    "U = [get_U(h)]  # potential energy\n",
    "\n",
    "it = 0 # Iterator\n",
    "itmax = tstop/dt # Maximum number og iterations\n",
    "while x0 <= L and it < itmax:\n",
    "    # Perform one step of the Runge-Kutta method\n",
    "    [x0, v0] = rk4step(RHS, [x0, v0], dt)\n",
    "    # Append different values to their arrays\n",
    "    x = np.append(x, x0)\n",
    "    v = np.append(v, v0)\n",
    "    h = get_y(x0)\n",
    "    K = np.append(K, get_K(v0))\n",
    "    U = np.append(U, get_U(h))\n",
    "    it += 1\n",
    "\n",
    "print(\"Iterations: %i\"%(it))\n",
    "print(\"Final time: %.2f s\"%(it*dt))\n",
    "dE = (K[0] - K[-1] + U[0] - U[-1])/(K[0] + U[0])\n",
    "print(\"Relative change in mechanical energy: %.2e\"%(dE))"
   ]
  },
  {
   "cell_type": "markdown",
   "metadata": {},
   "source": [
    "Относительное изменение механической энергии минимально, что означает, что временной шаг был более чем достаточно мал. Шарику потребовалось $1.07\\,\\text{с}$, чтобы добраться до конца дорожки.\n",
    "\n",
    "Давайте построим график вычисленных величин!"
   ]
  },
  {
   "cell_type": "code",
   "execution_count": null,
   "metadata": {},
   "outputs": [],
   "source": [
    "t = np.linspace(0, it*dt, it + 1)\n",
    "\n",
    "# Create figure\n",
    "fig, axarr = plt.subplots(3, 1, sharex=True, figsize=(10, 8), dpi=400)\n",
    "fig.subplots_adjust(hspace=0.02)\n",
    "\n",
    "# Axes 1:\n",
    "axarr[0].plot(t, x)\n",
    "axarr[0].set_ylabel(r\"$x(t)$, [m]\")\n",
    "\n",
    "# Axes 2: \n",
    "axarr[1].plot(t, v)\n",
    "axarr[1].set_ylabel(r\"$v(t)$, [m/s]\")\n",
    "\n",
    "# Axes 2: \n",
    "axarr[2].plot(t, U, label=\"Potential energy, $U$\")\n",
    "axarr[2].plot(t, K, label=\"Kinetic energy, $K$\")\n",
    "axarr[2].plot(t, K + U, label=\"Mechanical energy, $E=U+K$\")\n",
    "axarr[2].set_ylabel(r\"Energy, [J]\")\n",
    "axarr[2].set_xlabel(r'$t$, [s]')\n",
    "axarr[2].legend()\n",
    "\n",
    "plt.show()"
   ]
  },
  {
   "cell_type": "markdown",
   "metadata": {},
   "source": [
    "Уравнение (2) дает условие для того, когда мяч теряет контакт с дорожкой:\n",
    "\n",
    "$$g\\cos\\theta\\left(x\\right) + v^2\\kappa\\left(x\\right) \\leq 0.$$\n",
    "\n",
    "Давайте проверим, не потерял ли мяч контакт в приведенном выше расчете."
   ]
  },
  {
   "cell_type": "code",
   "execution_count": null,
   "metadata": {},
   "outputs": [],
   "source": [
    "theta = get_theta(x)\n",
    "kappa = get_curvature(x)\n",
    "N = g*np.cos(theta) + v**2*kappa\n",
    "index = np.argmax(N < 0)\n",
    "if index <= 0:\n",
    "    print(\"The ball did not loose contact.\")\n",
    "else:\n",
    "    print(\"The ball lost contact at x = %.2f m.\"%(x[index]))"
   ]
  },
  {
   "cell_type": "markdown",
   "metadata": {},
   "source": [
    "Мы также можем проверить, начинает ли мяч скользить или нет. Максимальная статическая сила трения пропорциональна нормальной силе:\n",
    "\n",
    "\\begin{equation}\n",
    "f_\\mathrm{max} = \\mu_s N.\n",
    "\\end{equation}\n",
    "\n",
    "$\\mu_s$ называется коэффициентом статического трения. Коэффициент статического трения между пластиком и металлом составляет $0.25<\\mu_s<0,4$ [8]. Нормальная сила может быть рассчитана с помощью уравнения (2). Если гравитационное притяжение вдоль дорожки превышает максимальное статическое трение, $mg\\sin\\theta>f_\\mathrm{max}$, мяч начинает скользить."
   ]
  },
  {
   "cell_type": "code",
   "execution_count": null,
   "metadata": {},
   "outputs": [],
   "source": [
    "mu = 0.25\n",
    "f = mu*N\n",
    "Fgx = m*g*np.sin(theta)\n",
    "index = np.argmax(f < Fgx)\n",
    "if index <= 1:\n",
    "    print(\"The ball did not glide.\")\n",
    "else:\n",
    "    print(\"The ball began to glide at x = %.2f m.\"%(x[index]))"
   ]
  },
  {
   "cell_type": "markdown",
   "metadata": {},
   "source": [
    "## Анимация"
   ]
  },
  {
   "cell_type": "code",
   "execution_count": null,
   "metadata": {
    "scrolled": false
   },
   "outputs": [],
   "source": [
    "y = get_y(x)\n",
    "\n",
    "from matplotlib import animation\n",
    "from IPython.display import HTML\n",
    "\n",
    "plt.style.use('default')\n",
    "\n",
    "# Set up the figure\n",
    "fig = plt.figure(figsize=(8, 4), dpi=120)\n",
    "ax = plt.axes(xlim=(xi[0], xi[-1]), \n",
    "              ylim=(np.min(yi), np.max(yi)))\n",
    "ax.set_aspect('equal')\n",
    "\n",
    "# Define the different elements in the animation\n",
    "track, = ax.plot(x,y, \"k\")\n",
    "obj = plt.Circle((x[0], y[0]), r, fc=\"grey\") # Obj. 1\n",
    "ax.add_patch(obj)\n",
    "ax.set_xlabel(r\"$x$, [m]\")\n",
    "ax.set_ylabel(r\"$y$, [m]\")\n",
    "props = dict(boxstyle='round', facecolor='wheat', alpha=0.5)\n",
    "textbox = ax.text(0.775, 0.95, '', transform=ax.transAxes, fontsize=12,\n",
    "                             verticalalignment='top', bbox=props)\n",
    "\n",
    "# Calculates the number of frames\n",
    "FPS = 30\n",
    "n = len(t)\n",
    "framesNum = int(FPS*t[-1])\n",
    "\n",
    "# Animation function. This is called sequentially.\n",
    "def animate(j):\n",
    "    i = j*int(n/framesNum)\n",
    "    theta = get_theta(x[i])\n",
    "    obj.center = (x[i] + r*np.sin(theta), y[i] + r*np.cos(theta))\n",
    "    t_str = r'$t = %.2f$ ' % (t[i])\n",
    "    x_str = r'$x = %.2f$ ' % (x[i])\n",
    "    y_str = r'$y = %.2f$ ' % (y[i])\n",
    "    textbox.set_text(t_str + \"\\n\" + x_str + \"\\n\" + y_str)\n",
    "\n",
    "# Create animation\n",
    "anim = animation.FuncAnimation(fig, animate, frames=framesNum, interval=1000/FPS)\n",
    "\n",
    "plt.close(anim._fig)\n",
    "\n",
    "# Display the animation\n",
    "HTML(anim.to_html5_video())"
   ]
  },
  {
   "cell_type": "markdown",
   "metadata": {},
   "source": [
    "## Дальнейшая Работа\n",
    "\n",
    "- Если мяч будет проскальзывать, дойдет ли он до конца быстрее или медленнее?\n",
    "- Как мы можем считать, что произошло проскальзывание?"
   ]
  },
  {
   "cell_type": "markdown",
   "metadata": {},
   "source": [
    "## Resources\n",
    "\n",
    "[1] NTNU fysikklab: http://home.phys.ntnu.no/brukdef/undervisning/fyslab/. In particular, the assignment text is found at http://home.phys.ntnu.no/brukdef/undervisning/fyslab/files/oppgave2.pdf.\n",
    "\n",
    "[2] H.D. Young and R.A. Freedman: *University Physics*. Pearson Education, 14th edition, 2016 \n",
    "\n",
    "[3] J.R. Lien and G. Løvhøiden: *Generell fysikk for universiteter og høgskoler*. Bind 1, Universitetsforlaget, 2001  \n",
    "\n",
    "[4] R. A. Adams, C. Essex: *Calculus a Complete Course*. Pearson, 8th edition, 2013  \n",
    "\n",
    "[5] J. Hass, M.D. Weir og G.B. Thomas Jr.: *Thomas’ Calculus*. Pearson Education, 13th edition, 2014  \n",
    "\n",
    "[6] Wikipedia: *List of moments of inertia*. https://en.wikipedia.org/wiki/List_of_moments_of_inertia. 2017 (aquired 31th November 2017)  \n",
    "\n",
    "[7] The Engineering ToolBox: *Metals and Alloys - Densities*. https://www.engineeringtoolbox.com/metal-alloys-densities-d_50.html. (aquired 31th November 2017)  \n",
    "\n",
    "[8] Coefficient of friction: http://www.tribology-abc.com/abc/cof.htm"
   ]
  }
 ],
 "metadata": {
  "kernelspec": {
   "display_name": "Python 3",
   "language": "python",
   "name": "python3"
  },
  "language_info": {
   "codemirror_mode": {
    "name": "ipython",
    "version": 3
   },
   "file_extension": ".py",
   "mimetype": "text/x-python",
   "name": "python",
   "nbconvert_exporter": "python",
   "pygments_lexer": "ipython3",
   "version": "3.7.4"
  }
 },
 "nbformat": 4,
 "nbformat_minor": 2
}
