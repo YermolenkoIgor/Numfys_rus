{
 "cells": [
  {
   "cell_type": "markdown",
   "metadata": {},
   "source": [
    "<style>\n",
    "@import url(https://www.numfys.net/static/css/nbstyle.css);\n",
    "</style>\n",
    "<a href=\"https://www.numfys.net\"><img class=\"logo\" /></a>\n",
    "\n",
    "# Simple Pendulum\n",
    "\n",
    "### Examples - Mechanics\n",
    "<section class=\"post-meta\">\n",
    "By Jonas Tjemsland, Eilif Sommer Гyre and Jon Andreas StГёvneng\n",
    "</section>\n",
    "Last edited: April 10th 2018\n",
    "___"
   ]
  },
  {
   "cell_type": "markdown",
   "metadata": {},
   "source": [
    "## Вступление\n",
    "\n",
    "В этом блокноте мы обсудим \"простой маятник\", который является идеализированной моделью реального маятника. Он состоит из точечной массы $m$, подвешенной на нерастягиваемой безмассовой струне (или стержне) длиной $L$, как показано на рисунке [1](#im1). Маятник движется только в одной плоскости, и трения нет. Пусть $\\theta$ обозначает угол между вертикальной осью и струной, такой, что $\\theta=0$ в равновесии. Обратите внимание, что положение маятника можно указать, используя только $\\theta$. Если мы потянем массу в одну сторону и отпустим ее, она начнет колебаться возле положения равновесия.\n",
    "\n",
    "На массу действуют две силы: гравитационная сила $\\mathbf{F} = m\\mathbf{g}$ и натяжение струны $\\mathbf{S}$. Силы могут быть разложены на проекцию вдоль струны (радиальное направление, $\\hat r$) и проекцию вдоль пути точечной массы (азимутальное направление, $\\hat \\theta$). Поскольку предполагается, что струна не растягивается, только гравитационное притяжение в азимутальном направлении, $\\mathbf F_\\theta$, будет способствовать движению маятника. Гравитационная сила в радиальном направлении, $\\mathbf F_r$, отменяется натяжением струны: $\\mathbf F_r = - \\mathbf{S}$. Из рисунка [1](#im1) ясно, что\n",
    "\\begin{equation}\n",
    "F_\\theta = -mg\\sin\\theta.\\quad(1)\n",
    "\\end{equation}\n",
    "\n",
    "Теперь мы будем использовать второй закон Ньютона, $\\mathbf{F}=m\\mathbf{a}$, чтобы найти дифференциальное уравнение, описывающее движение маятника. Пусть $t$ обозначает время. Ускорение точечной массы может быть выражено\n",
    "\\begin{equation}\n",
    "\\mathbf{a} = \\frac{\\mathrm{d}^2\\theta}{\\mathrm{d} t^2}\\;\\hat \\theta = L\\ddot \\theta\\;\\hat \\theta.\\quad(2)\n",
    "\\end{equation}\n",
    "Таким образом, движение маятника описывается уравнением\n",
    "\\begin{equation}\n",
    "L\\ddot \\theta = L\\frac{\\mathrm{d}^2\\theta}{\\mathrm{d} t^2} = -g\\sin\\theta.\n",
    "\\label{eq:diff} \\quad(3)\n",
    "\\end{equation}"
   ]
  },
  {
   "cell_type": "markdown",
   "metadata": {},
   "source": [
    "![Simple Pendulum](images/pendulum.png)\n",
    "**Рисунок 1:** *Простой маятник с массой $m$ и углом смещения $\\theta$. Гравитационная сила разлагается в азимутальном и радиальном направлениях.*"
   ]
  },
  {
   "cell_type": "code",
   "execution_count": null,
   "metadata": {},
   "outputs": [],
   "source": [
    "import numpy as np\n",
    "import matplotlib.pyplot as plt\n",
    "plt.style.use('bmh')\n",
    "figsize = (12, 5)\n",
    "dpi = 600    # Разрешение в точках на дюйм"
   ]
  },
  {
   "cell_type": "markdown",
   "metadata": {},
   "source": [
    "## Analytical Approximation\n",
    "Уравнение \\eqref{eq:diff}(3) не может быть решено аналитически. Однако обратите внимание, что $\\sin\\theta\\approx \\theta$ для $\\theta \\ll 1$. Таким образом, для малых углов движение может быть аппроксимировано\n",
    "\\begin{equation}\n",
    "L\\ddot \\theta \\approx -g\\theta,\n",
    "\\end{equation}\n",
    "у которого есть простое решение\n",
    "\\begin{equation}\n",
    "\\theta=\\theta_0\\cos(\\omega t),\n",
    "\\end{equation}\n",
    "где $\\theta_0$ - начальное положение в момент времени $t=0$, а $\\omega=\\sqrt{g/L}$ - угловая частота. Это известно как гармоническое колебание. Период колебания равен $T=2\\pi/\\omega=2\\pi\\sqrt{L/g}$.\n",
    "\n",
    "## Численное решение\n",
    "Теперь мы решим уравнение \\eqref{eq:diff}(3) численно. С этой целью мы будем использовать [метод Эйлера](https://nbviewer.jupyter.org/urls/www.numfys.net/media/notebooks/eulers_method.ipynb). Это метод первого порядка, используемый для решения обыкновенных дифференциальных уравнений. Существуют гораздо более совершенные методы, но явный метод Эйлера является самым простым и легким для понимания. Вы можете реализовать более продвинутый и более точный метод, такой как [Метод Рунге-Кутты](https://www.numfys.net/search/?q=runge-kutta).\n",
    "\n",
    "Нам нужно написать уравнение \\eqref{eq:diff}(3) в форме, которая легче может быть оценена компьютером. Мы начнем с того, что разделим дифференциальное уравнение второго порядка на два уравнения первого порядка, введя угловую скорость $\\omega = \\dot \\theta$:\n",
    "\\begin{equation}\n",
    "\\begin{aligned}\n",
    "\\mathrm{d}\\omega &= -\\frac{g}{L}\\sin\\theta\\,\\mathrm{d}t,\\\\\n",
    "\\mathrm{d}\\theta &= \\omega\\;\\mathrm{d} t.\n",
    "\\end{aligned}\\label{eq:numdiff}\\quad(4)\n",
    "\\end{equation}\n",
    "\n",
    "Компьютер не может понять бесконечно малые значения, и поэтому нам нужно аппроксимировать их как конечные (но малые), $\\mathrm d \\theta \\approx \\Delta \\theta$. Чем меньше значения, тем точнее метод.\n",
    "\n",
    "Алгоритм метода Эйлера теперь должен быть очевиден. Мы начинаем с некоторой начальной позиции $\\theta=\\theta_0$ в момент времени $t=0$, выбираем небольшой временной шаг $\\Delta t$ и используем уравнение \\eqref{eq:numdiff}(4), чтобы найти позицию в момент времени $\\Delta t$. Повторяя эту процедуру $n$ раз, мы можем найти позицию в любое время $t=n\\Delta t$.\n",
    "\n",
    "Давайте рассмотрим [*маятник Фуко*, расположенный в NTNU](https://www.ntnu.no/fysikk/foucault) в Тронхейме. Он состоит из стального шара $40\\;\\mathrm{kg}$ с радиусом $r=10\\;\\mathrm{cm}$, подвешенного на стальной проволоке $25\\;\\mathrm{m}$. Маятник приводится в движение электромагнитом, расположенным под маятником, что гарантирует, что он никогда не перестанет колебаться. Его период для малых амплитуд $T=2\\pi\\sqrt{L/g}=10\\;\\mathrm{s}$. Мы также сами измерили этот период. Результат был $T=10.1\\;\\mathrm{s}$."
   ]
  },
  {
   "cell_type": "code",
   "execution_count": null,
   "metadata": {},
   "outputs": [],
   "source": [
    "g = 9.81 # m/s^2\n",
    "L = 25   # m\n",
    "m = 40   # kg\n",
    "\n",
    "def approx(t, theta0):\n",
    "    \"\"\" Оценивает аналитическое приближение. \"\"\"\n",
    "    return theta0*np.cos(t*(g/L)**.5)\n",
    "\n",
    "def RHS(theta, w, dt):\n",
    "    \"\"\" Возвращает правую часть обыкновенного \n",
    "    дифференциального уравнения, описывающего простой маятник.\n",
    "    \"\"\"\n",
    "    dw = -np.sin(theta)*dt*g/L\n",
    "    dtheta = w*dt\n",
    "    return dtheta, dw\n",
    "\n",
    "def euler_step(theta, w, dt):\n",
    "    \"\"\" Выполняет один шаг метода Эйлера. \"\"\"\n",
    "    dtheta, dw = RHS(theta, w, dt)\n",
    "    w = w + dw\n",
    "    theta = theta + dtheta\n",
    "    return theta, w\n",
    "\n",
    "def euler_method(theta0, w0, dt, n):\n",
    "    \"\"\" Выполняет метод Эйлера. \"\"\"\n",
    "    theta = (n + 1)*[0]\n",
    "    w = (n + 1)*[0]\n",
    "    \n",
    "    theta[0] = theta0\n",
    "    w[0] = w0\n",
    "    for i in range(n):\n",
    "        theta[i + 1], w[i + 1] = euler_step(theta[i], w[i], dt) \n",
    "    \n",
    "    return theta, w"
   ]
  },
  {
   "cell_type": "markdown",
   "metadata": {},
   "source": [
    "Теперь мы можем выполнить метод Эйлера и построить график результата. Давайте построим решение для двух разных начальных углов $\\theta=\\{15^\\circ, 60^\\circ\\}=\\{\\pi/6, \\pi/3\\}$ и сравним с аналитическим приближением."
   ]
  },
  {
   "cell_type": "code",
   "execution_count": null,
   "metadata": {},
   "outputs": [],
   "source": [
    "theta01 = np.pi/12\n",
    "theta02 = np.pi/3\n",
    "T = 20\n",
    "n = 10000\n",
    "t = np.linspace(0, T, n + 1)\n",
    "dt = T/float(n)\n",
    "\n",
    "theta1, w1 = euler_method(theta01, 0, dt, n)\n",
    "theta2, w2 = euler_method(theta02, 0, dt, n)"
   ]
  },
  {
   "cell_type": "code",
   "execution_count": null,
   "metadata": {
    "scrolled": false
   },
   "outputs": [],
   "source": [
    "plt.figure(figsize=figsize, dpi=dpi)\n",
    "plt.title(\"Angular position\")\n",
    "plt.plot(t, theta1, \"m\", label=r\"$\\theta_0=%.0f^\\circ$\"%(theta01*180/np.pi))\n",
    "plt.plot(t, approx(t, theta01), \"m--\", label=r\"Approximation\")\n",
    "plt.plot(t, theta2, \"g\", label=r\"$\\theta_0=%.0f^\\circ$\"%(theta02*180/np.pi))\n",
    "plt.plot(t, approx(t, theta02), \"g--\", label=r\"Approximation\")\n",
    "plt.xlabel(r\"$t$, [s]\")\n",
    "plt.ylabel(r\"$\\theta(t)$, [rad]\")\n",
    "plt.legend()\n",
    "plt.show()"
   ]
  },
  {
   "cell_type": "markdown",
   "metadata": {},
   "source": [
    "Аппроксимация для малого начального угла довольно хороша, но по мере увеличения начального угла аппроксимация становится менее точной. В случае маятника в NTNU амплитуда меньше, чем $15^\\circ$.\n",
    "\n",
    "## Conservation of Energy\n",
    "\n",
    "Общая механическая энергия,\n",
    "\\begin{equation}\n",
    "E = U + K = mgL(1 - \\cos\\theta) + \\frac{1}{2}mL^2\\dot\\theta^2,\n",
    "\\end{equation}\n",
    "должна сохраниться. Таким образом, она служит отличным способом проверить, был ли используемый выше временной шаг достаточно мал. Давайте построим график кинетической энергии для наибольшего начального угла."
   ]
  },
  {
   "cell_type": "code",
   "execution_count": null,
   "metadata": {},
   "outputs": [],
   "source": [
    "def get_U(theta):\n",
    "    \"\"\" Вычисляет потенциальную энергию. \"\"\"\n",
    "    return m*g*L*(1 - np.cos(theta))\n",
    "\n",
    "def get_K(w):\n",
    "    \"\"\" Вычисляет кинетическую энергию. \"\"\"\n",
    "    return 0.5*m*L**2*np.array(w)**2"
   ]
  },
  {
   "cell_type": "code",
   "execution_count": null,
   "metadata": {},
   "outputs": [],
   "source": [
    "plt.figure(figsize=figsize, dpi=dpi)\n",
    "plt.title(r\"Mechanical energy, $\\theta_0=%.0f^\\circ$\"%(theta02*180/np.pi))\n",
    "plt.plot(t, get_U(theta2), label=r\"Potential energy\")\n",
    "plt.plot(t, get_K(w2), label=r\"Kinetic energy\")\n",
    "plt.plot(t, get_U(theta2) + get_K(w2), label=r\"Total energy\")\n",
    "plt.xlabel(r\"$t$, [s]\")\n",
    "plt.ylabel(r\"$E$, [J]\")\n",
    "plt.legend(loc=1)\n",
    "plt.show()"
   ]
  },
  {
   "cell_type": "markdown",
   "metadata": {},
   "source": [
    "Изменение полной энергии незначительно, и мы можем, таким образом, заключить, что временной шаг был достаточно мал. Чтобы быть немного более точным, мы проверяем, что относительное изменение невелико:"
   ]
  },
  {
   "cell_type": "code",
   "execution_count": null,
   "metadata": {},
   "outputs": [],
   "source": [
    "def get_error(theta, w):\n",
    "    \"\"\" Вычисляет относительную погрешность. \"\"\"\n",
    "    E0 = get_U(theta[0]) + get_K(w[0])\n",
    "    E1 = get_U(theta[-1]) + get_K(w[-1])\n",
    "    return np.abs((E0 - E1)/E0)\n",
    "\n",
    "print(\"Относительное изменение E:\")\n",
    "print(\"Theta = %.0f: %.2e\"%(theta01*180/np.pi, get_error(theta1, w1)))\n",
    "print(\"Theta = %.0f: %.2e\"%(theta02*180/np.pi, get_error(theta2, w2)))"
   ]
  },
  {
   "cell_type": "markdown",
   "metadata": {},
   "source": [
    "## Затухающий маятник\n",
    "\n",
    "Настоящий маятник не может колебаться вечно. Из-за трения маятник в конечном итоге замедлится и остановится. При низких скоростях сопротивление воздуха пропорционально скорости, $f = -b\\dot \\theta$ [1, 2]. Дифференциальное уравнение, описывающее этот маятник, имеет вид\n",
    "\\begin{equation}\n",
    "L\\ddot \\theta - \\frac{b}{m}\\dot \\theta + g\\sin\\theta = 0.\n",
    "\\label{eq:diff_damped}\\quad(5)\n",
    "\\end{equation}\n",
    "Как и прежде, уравнение имеет аналитическое решение для $\\theta \\ll 1$. Вывод оставлен в качестве упражнения для читателя.\n",
    "\n",
    "Таким же образом, как и для уравнения \\eqref{eq:diff}(3), мы находим приближенную форму\n",
    "\\begin{equation}\n",
    "\\begin{aligned}\n",
    "\\Delta\\omega &= -\\frac{g}{L}\\sin\\theta\\;\\Delta t + \\frac{b}{Lm}\\omega,\\\\\n",
    "\\Delta\\theta &= \\omega\\;\\Delta t.\n",
    "\\end{aligned}\\label{eq:numdiff_damped}\\quad(6)\n",
    "\\end{equation}\n",
    "Нам нужно только изменить функцию \"RHS\", чтобы реализовать его."
   ]
  },
  {
   "cell_type": "code",
   "execution_count": null,
   "metadata": {},
   "outputs": [],
   "source": [
    "def RHS(theta, w, dt):\n",
    "    \"\"\" Возвращает правую часть обыкновенного дифференциального уравнения,\n",
    "        описывающего затухающий простой маятник.\n",
    "    \"\"\"\n",
    "    dw = -np.sin(theta)*dt*g/L - b/(L*m)*w*dt\n",
    "    dtheta = w*dt\n",
    "    return dtheta, dw"
   ]
  },
  {
   "cell_type": "markdown",
   "metadata": {},
   "source": [
    "Рассмотрим $L=1\\;\\mathrm{m}$, $m=1\\;\\mathrm{kg}$ и $b=1\\;\\mathrm{kg\\;m}$. Попробуйте другие значения самостоятельно! Для развлечения пусть шарик имеет начальную скорость."
   ]
  },
  {
   "cell_type": "code",
   "execution_count": null,
   "metadata": {},
   "outputs": [],
   "source": [
    "g = 9.81    # m/s^2. Gravitational acc\n",
    "m = 1.      # kg. Mass\n",
    "L = 1.      # m. Length of rod\n",
    "w0 = 10     # 1/s. Initial angular velocity\n",
    "theta0 = 3. # rad. Initial angle\n",
    "T = 20.     # s. Time of simulation\n",
    "n = 100000  # Number of steps\n",
    "b = .5      # kg m. Damping factor\n",
    "\n",
    "t = np.linspace(0, T, n + 1)\n",
    "theta, _ = euler_method(theta0, w0, T/float(n), n)\n",
    "\n",
    "plt.figure(figsize=figsize, dpi=dpi)\n",
    "plt.title(\"Angular position\")\n",
    "plt.plot(t, theta, \"m\")\n",
    "plt.xlabel(r\"$t$, [s]\")\n",
    "plt.ylabel(r\"$\\theta(t)$, [rad]\")\n",
    "plt.show()"
   ]
  },
  {
   "cell_type": "markdown",
   "metadata": {},
   "source": [
    "**Exercise:** Убедитесь, что сумма механической энергии и рассеянной энергии в моделировании приблизительно постоянна.\n",
    "\n",
    "**Exercise:** Решите уравнение \\eqref{eq:diff_damped}(5) для $\\theta \\ll 1$. В чем разница между недодемпфированными и передемпфированными колебаниями?"
   ]
  },
  {
   "cell_type": "markdown",
   "metadata": {},
   "source": [
    "## Анимация\n",
    "\n",
    "Мы заканчиваем этот блокнот созданием анимации!"
   ]
  },
  {
   "cell_type": "code",
   "execution_count": null,
   "metadata": {},
   "outputs": [],
   "source": [
    "x = np.sin(theta)\n",
    "y = -np.cos(theta)\n",
    "\n",
    "from matplotlib import animation\n",
    "from IPython.display import HTML\n",
    "FPS=30\n",
    "plt.style.use('default')\n",
    "\n",
    "# Set up the figure\n",
    "fig = plt.figure(figsize=(4, 4), dpi=60)\n",
    "ax = plt.axes(xlim=(-1.1, 1.1), ylim=(-1.1, 1.1))\n",
    "ax.set_aspect('equal')\n",
    "ax.axis('off')\n",
    "\n",
    "# Define the different elements in the animation\n",
    "rod, = ax.plot([], [], color=\"grey\", linewidth=2)\n",
    "ball = plt.Circle((x[0], y[0]), 0.1, fc=\"grey\")\n",
    "ax.add_patch(ball)\n",
    "\n",
    "# Calculates the number of frames\n",
    "framesNum = int(FPS*t[-1])\n",
    "\n",
    "# Animation function. This is called sequentially.\n",
    "def animate(j):\n",
    "    i = j*int(n/framesNum)\n",
    "    ball.center = (x[i], y[i])\n",
    "    rod.set_data([0, x[i]], [0, y[i]])\n",
    "\n",
    "# Create animation\n",
    "anim = animation.FuncAnimation(fig, animate, frames=framesNum, interval=1000/FPS)\n",
    "\n",
    "plt.close(anim._fig)\n",
    "\n",
    "# Display the animation\n",
    "HTML(anim.to_html5_video())"
   ]
  }
 ],
 "metadata": {
  "kernelspec": {
   "display_name": "Python 3",
   "language": "python",
   "name": "python3"
  },
  "language_info": {
   "codemirror_mode": {
    "name": "ipython",
    "version": 3
   },
   "file_extension": ".py",
   "mimetype": "text/x-python",
   "name": "python",
   "nbconvert_exporter": "python",
   "pygments_lexer": "ipython3",
   "version": "3.7.4"
  }
 },
 "nbformat": 4,
 "nbformat_minor": 2
}
