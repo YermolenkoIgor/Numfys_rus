{
 "cells": [
  {
   "cell_type": "markdown",
   "metadata": {},
   "source": [
    "<style>\n",
    "@import url(https://www.numfys.net/static/css/nbstyle.css);\n",
    "</style>\n",
    "<a href=\"https://www.numfys.net\"><img class=\"logo\" /></a>\n",
    "\n",
    "# Электрические поля и потенциалы от точечных зарядов\n",
    "\n",
    "### Examples - Electromagnetism\n",
    "<section class=\"post-meta\">\n",
    "By Jonas Tjemsland, Andreas Krogen, Håkon Ånes og Jon Andreas Støvneng\n",
    "</section>\n",
    "Last edited: March 22nd 2018 \n",
    "___"
   ]
  },
  {
   "cell_type": "markdown",
   "metadata": {},
   "source": [
    "На этом уроке мы визуализируем электрические поля и потенциалы, окружающие точечные заряды. Мы будем использовать, среди прочего, функцию сетки NumPy `mgrid` и функции Matplotlib `streamplot` и `contourplot` для визуализации.\n",
    "\n",
    "### Закон Кулона\n",
    "\n",
    "Закон Кулона говорит нам, что сила между двумя точечными зарядами определяется\n",
    "\n",
    "$$\\vec F = k_e \\frac{q_1q_2}{r^2}\\hat r,$$\n",
    "\n",
    "где $k_e$ - постоянная Кулона, $q_1$ и $q_2$ - величины точечных зарядов, а $r$ - расстояние между зарядами. Постоянная Кулона часто выражается как $k_e=\\frac{1}{4\\pi\\varepsilon_0}\\approx 8.988\\cdot 10^9 $ Нм$^2$/C$^2$, где $\\varepsilon_0$ - диэлектрическая проницаемость вакуума. \n",
    "\n",
    "### Электрическое поле\n",
    "\n",
    "Предположим, что у нас есть электрически заряженное тело $A$ в заданном положении в пространстве. Если мы теперь поместим тестовый заряд $q_0$ в позицию $P$, мы измерим силу $\\vec F_0$, приложенную $A$ к заряду. Если тестовый заряд будет удален и заменен зарядом $q_1$, этот новый заряд будет испытывать силу $\\frac{\\vec F_0}{q_0}q_1$. Это означает, что силу, действующую на такой пробный заряд, можно рассматривать как свойство данного точки в пространстве, создаваемое $A$. Мы называем это *электрическим полем* $\\vec E$. Другими словами, **электрическая сила на заряженное тело воздействует электрическим полем, создаваемым *другими* заряженными телами** [1]. Мы определяем электрическое поле как\n",
    "\n",
    "$$\\vec E = \\frac{\\vec F_0}{q_0}.$$\n",
    "\n",
    "и для точечного заряда\n",
    "\n",
    "$$\\vec E= k_e \\frac{q_1}{r^2}\\hat r.$$\n",
    "\n",
    "### Суперпозиция зарядов\n",
    "\n",
    "Обратите внимание, что суперпозиция сил справедлива для закона Кулона, что означает, что сила и электрическое поле от двух (или более) точечных зарядов являются суммой сил или электрических полей зарядов. Математически мы можем записать силу, действующую на заряд $q$ со стороны набора зарядов $\\{q_i\\}$, как\n",
    "\n",
    "$$\\vec F_{tot} = \\sum_i  \\vec F_i = k_eq\\sum_i \\frac{q_i}{r_i^2}\\hat r_i,$$\n",
    "\n",
    "где $r_i$ - расстояние между зарядом $q$ и $q_i$. Таким же образом мы имеем\n",
    "\n",
    "$$\\vec E = \\sum_i\\vec E_i=k_e\\sum_i \\frac{q_i}{r_i^2}\\hat r_i.$$\n",
    "\n",
    "Если мы перейдем от суммы к интегралу, мы сможем описать непрерывные распределения зарядов, но это не обсуждается в данном уроке.\n",
    "\n",
    "Как всегда, мы начинаем с импорта пакетов и установки общих параметров рисунка."
   ]
  },
  {
   "cell_type": "code",
   "execution_count": null,
   "metadata": {},
   "outputs": [],
   "source": [
    "import numpy as np\n",
    "from matplotlib import pyplot as plt\n",
    "plt.style.use('bmh')"
   ]
  },
  {
   "cell_type": "markdown",
   "metadata": {},
   "source": [
    "### Расчет и визуализация электрических полей\n",
    "\n",
    "Теперь мы часто визуализировать электрическое поле вокруг какого-то распределения заряда. Это делается с помощью силовых оиний линий, которые показывают направление $\\vec E$ в каждой точке. Их расстояние может дать общее представление о величине $|\\vec E|$. Можно также выразить величину в виде цветов, толщины линий поля или длины стрелок. Линии полей часто трудно или невозможно нарисовать или точно рассчитать. Вот где пригодится вычислительная физика!\n",
    "\n",
    "Давайте создадим фрагмент кода, который вычисляет и строит электрическое поле вокруг произвольного числа зарядов с произвольным зарядом. Для простоты давайте сделаем это в двух измерениях."
   ]
  },
  {
   "cell_type": "code",
   "execution_count": null,
   "metadata": {
    "scrolled": false
   },
   "outputs": [],
   "source": [
    "plt.figure(figsize=(8, 8))\n",
    "\n",
    "# Define two positive and three negative\n",
    "# charges (x [m], y [m], q [C])\n",
    "C = [(-3,0,1), (3,0,1), (0,3,-1), (0,-3,-1), (0,-1,-5)] \n",
    "\n",
    "[xmin, xmax, ymin, ymax] = [-5, 5, -5, 5]\n",
    "k = 8.99*10**9  # [Nm^2/C^2], in Coulomb's law\n",
    "\n",
    "# Plot the point charges\n",
    "for i in range(0, len(C)):\n",
    "    if C[i][2] > 0:\n",
    "        color = 'bo'\n",
    "    elif C[i][2] < 0:\n",
    "        color = 'ro'\n",
    "    else:\n",
    "        color = 'wo'\n",
    "    plt.plot(C[i][0], C[i][1], color)\n",
    "plt.axis([xmin, xmax, ymin, ymax])\n",
    "\n",
    "# Calculate the field lines\n",
    "n = 200j  # Mesh grid resolution\n",
    "Y, X = np.mgrid[xmin:xmax:n, ymin:ymax:n]  # Meshgrid\n",
    "Ex, Ey = np.array(X*0), np.array(Y*0)\n",
    "for i in range(0, len(C)):\n",
    "    R = np.sqrt((X-C[i][0])**2 + (Y-C[i][1])**2)\n",
    "    Ex = Ex + k*C[i][2]/R**2*(X-C[i][0])/R\n",
    "    Ey = Ey + k*C[i][2]/R**2*(Y-C[i][1])/R\n",
    "    \n",
    "# Plot the result\n",
    "plt.streamplot(X, Y, Ex, Ey, color='k', density=1, \n",
    "               arrowstyle='simple')\n",
    "plt.xlabel('x, [m]')\n",
    "plt.ylabel('y, [m]')\n",
    "plt.show()"
   ]
  },
  {
   "cell_type": "markdown",
   "metadata": {},
   "source": [
    "### Электрические потенциалы\n",
    "\n",
    "Потенциальная энергия $U$, необходимая для перемещения электрического заряда $q_0$ из положения $a$ в положение $b$ в заданном электрическом поле $\\vec{E}$, равна\n",
    "\n",
    "$$U_{ab}=\\int_a^b \\vec F \\cdot \\text{d}\\vec l = \\int_a^bq_0 \\vec E\\cdot \\text d \\vec l.$$\n",
    "\n",
    "Как и прежде, мы производим деление на тестовый заряд $q_0$ и получаем скалярную величину, которая не зависит от тестового заряда. Мы называем это электрическим потенциалом $V$, и его изменение определяется\n",
    "\n",
    "$$\\Delta V = V_a-V_b = \\int_a^b \\vec E\\cdot \\text d\\vec l.$$\n",
    "\n",
    "Часто сила на бесконечности равна нулю, $F_\\infty=0$, и поэтому потенциал $V_\\infty$ здесь часто выбирается в качестве контрольной точки и определяется как равный нулю, $V_\\infty\\equiv 0$.\n",
    "Это также дает отношение\n",
    "\n",
    "$$\\vec E = -\\nabla V = - \\left(\\frac{\\partial V}{\\partial x}, \\frac{\\partial V}{\\partial y}, \\frac{\\partial V}{\\partial z}\\right).$$\n",
    "\n",
    "Это означает,что кривая заданного потенциала $V(x,y, z)=\\xi$, так называемая эквипотенциальная поверхность, нормальна к линиям электрического поля. \n",
    "\n",
    "В дискретном случае электрический потенциал, обусловленный набором точечных зарядов, определяется\n",
    "\n",
    "$$V=\\frac{U}{q_0}=k_e\\sum_i\\frac{q_i}{r_i}.$$\n",
    "\n",
    "Легче рассчитать электрическое поле по потенциалу, чем наоборот.\n",
    "\n",
    "Потенциал, например, может быть визуализирован в виде эквипотенциальных поверхностей (или кривых в двух измерениях) разных цветов и/или с заданной разностью потенциалов между каждой поверхностью. Двумерный потенциал также может быть визуализирован в трех измерениях.\n",
    "\n",
    "Давайте выполним те же вычисления, что и выше, но на этот раз вычислим электрическое поле по потенциалу, $\\vec E = -\\nabla V$, и построим их вместе."
   ]
  },
  {
   "cell_type": "code",
   "execution_count": null,
   "metadata": {},
   "outputs": [],
   "source": [
    "plt.figure(figsize=(8, 8))\n",
    "\n",
    "V = 0*X\n",
    "\n",
    "# Calculate the potential\n",
    "for i in range(0, len(C)):\n",
    "    R = np.sqrt((X-C[i][0])**2 + (Y-C[i][1])**2)\n",
    "    V = V + k*C[i][2]/R\n",
    "\n",
    "# Calculate the electric field from the potential\n",
    "Ey, Ex = np.gradient(-V)\n",
    "\n",
    "# The values of the equipotential surfaces. \n",
    "# Note that the potential goes to pluss or minus infinite near the point \n",
    "# charges. We therefore have to exclude the maximum and minimum values.\n",
    "equip_surf = np.linspace(np.min(V)*0.05, np.max(V)*0.05, 20)\n",
    "\n",
    "# Plot the result\n",
    "plt.streamplot(X, Y, Ex, Ey, color='k', density=1, arrowstyle='simple')\n",
    "contour_surf = plt.contour(X, Y, V, equip_surf)\n",
    "plt.colorbar(contour_surf, shrink=0.8, extend='both')\n",
    "plt.xlabel('x, [m]')\n",
    "plt.ylabel('y, [m]')\n",
    "plt.show()"
   ]
  },
  {
   "cell_type": "markdown",
   "metadata": {},
   "source": [
    "### Дополнительные методы построения графиков\n",
    "\n",
    "Существует множество способов визуализации полей и потенциалов. В этой записной книжке мы использовали график потока для электрического поля и контурный график для электрического потенциала. Например, можно использовать график со стрелкой для визуализации векторного поля, а цвет, толщину, длину или плотность - для визуализации величины. Потенциал также может быть визуализирован в 3D-графике поверхности или в 2D-графике с различными цветами (ознакомьтесь с функцией Matplotlib `imshow`). Смотрите блокнот по составлению графиков на [numfys.net](https://www.numfys.net) или поищите в Интернете дополнительную информацию! "
   ]
  },
  {
   "cell_type": "markdown",
   "metadata": {},
   "source": [
    "### References\n",
    "[1] Young and Freedman: University Physics with Modern Physics Volume Two, 13th edition, Pearson 2011."
   ]
  }
 ],
 "metadata": {
  "anaconda-cloud": {},
  "kernelspec": {
   "display_name": "Python 3",
   "language": "python",
   "name": "python3"
  },
  "language_info": {
   "codemirror_mode": {
    "name": "ipython",
    "version": 3
   },
   "file_extension": ".py",
   "mimetype": "text/x-python",
   "name": "python",
   "nbconvert_exporter": "python",
   "pygments_lexer": "ipython3",
   "version": "3.7.4"
  }
 },
 "nbformat": 4,
 "nbformat_minor": 1
}
