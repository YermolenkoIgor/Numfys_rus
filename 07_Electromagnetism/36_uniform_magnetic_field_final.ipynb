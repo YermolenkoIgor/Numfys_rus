{
 "cells": [
  {
   "cell_type": "markdown",
   "metadata": {},
   "source": [
    "<style>\n",
    "@import url(https://www.numfys.net/static/css/nbstyle.css);\n",
    "</style>\n",
    "<a href=\"https://www.numfys.net\"><img class=\"logo\" /></a>\n",
    "\n",
    "# Однородное магнитное поле\n",
    "\n",
    "### Examples - Electromagnetism\n",
    "<section class=\"post-meta\">\n",
    "By Eilif Sommer Øyre, Niels Henrik Aase, Thorvald Ballestad, and Jon Andreas Støvneng\n",
    "</section>\n",
    "Last edited: September 1st 2019\n",
    "\n",
    "___"
   ]
  },
  {
   "cell_type": "markdown",
   "metadata": {},
   "source": [
    "## Вступление\n",
    "\n",
    "Заряженная частица, движущаяся в магнитном поле, будет испытывать магнитную силу, управляемую законом силы Лоренца. Эта сила всегда перпендикулярна направлению движения частицы. Если частица движется в однородном магнитном поле и скорость частицы нормальна к направлению поля, частица в конечном итоге движется по кругу. Теперь, если направление поля не нормально скорости, частица начинает двигаться по спирали, если только ее движение не полностью параллельно полю, в котором нет силы Лоренца, и частица движется по совершенно прямой линии. На этом уроке мы попытаемся смоделировать два предыдущих сценария путем численного интегрирования уравнений движения частицы с использованием метода Эйлера."
   ]
  },
  {
   "cell_type": "markdown",
   "metadata": {},
   "source": [
    "## Теория\n",
    "### Закон силы Лоренца\n",
    "Частица с зарядом $Q$ и массой $m_p$, движущаяся со скоростью $\\mathbf{v}$ в магнитном поле $\\mathbf{B}$, испытывает силу \n",
    "\n",
    "\\begin{equation}\n",
    "    \\mathbf{F}_{mag} = Q(\\mathbf{v} \\times \\mathbf{B})\n",
    "\\label{Lorentz} \\quad (1)\n",
    "\\end{equation}\n",
    "\n",
    "известную как *сила Лоренца* [[1]](#rsc). Здесь жирные символы представляют векторы, в то время как обычные символы представляют скаляры.\n",
    "\n",
    "### Дискретизация\n",
    "Сила Лоренца может быть записана в виде обыкновенного дифференциального уравнения второго порядка (ОДУ)\n",
    "\n",
    "\\begin{equation}\n",
    "m_p\\frac{d^2\\mathbf{x}}{dt^2} = Q\\big(\\frac{d\\mathbf{x}}{dt} \\times \\mathbf{B}\\big),\n",
    "\\label{LorentzODE} \\quad (2)\n",
    "\\end{equation}\n",
    "\n",
    "где компоненты скорости записываются как производная по времени от компонентов $v_i = dx_i/dt$. Левая часть уравнения, конечно, является вторым законом Ньютона, где $d^2\\mathbf{x}/dt^2$ - это ускорение частицы, записанное как вторая производная положения по времени.  Разложив векторы, (2) может быть сведено к трем наборам из двух ОДУ первого порядка.\n",
    "\n",
    "\\begin{equation}\n",
    "\\begin{aligned}\n",
    "    &\\frac{dx}{dt} = v_x\\\\[4pt]\n",
    "    &\\frac{dv_x}{dt} = \\frac{Q}{m_{p}}(v_yB_z - v_zB_y)\\\\[10pt]\n",
    "    &\\frac{dy}{dt} = v_y\\\\[4pt]\n",
    "    &\\frac{dv_y}{dt}= \\frac{Q}{m_{p}}(v_zB_x - v_xB_z)\\\\[10pt]\n",
    "    &\\frac{dz}{dt} = v_z\\\\[4pt]\n",
    "    &\\frac{dv_z}{dt} = \\frac{Q}{m_{p}}(v_xB_y - v_yB_x) .\n",
    "\\end{aligned}\n",
    "\\label{LorentzComponents} \\quad (3)\n",
    "\\end{equation}\n",
    "\n",
    "Используя численный метод, такой как метод Эйлера или четвертый порядок Рунге-Кутты, мы можем найти приближенные решения для ОДУ, используя заданный временной шаг, $\\Delta t$, и найти движение заряженной частицы в магнитном поле."
   ]
  },
  {
   "cell_type": "markdown",
   "metadata": {},
   "source": [
    "## Численная достоверность\n",
    "\n",
    "### Сохранение энергии\n",
    "\n",
    "Поскольку сила Лоренца является перекрестным произведением скорости частицы и магнитного поля, ее направление всегда перпендикулярно скорости частицы. Следовательно, сила Лоренца не действует на частицу, и кинетическая энергия частицы сохраняется. Затем проводится проверка численной достоверности для проверки отклонения начальной и конечной кинетической энергии.\n",
    "\n",
    "### Larmor radius\n",
    "\n",
    "Как указано во введении, заряженная частица будет двигаться по кругу, если она имеет составляющую скорости, перпендикулярную внешнему магнитному полю. Это называется вращением Лармора, а гирорадиус (или радиус Лармора), радиус окружности, задается [[2]](#rsc)\n",
    "\n",
    "\\begin{equation}\n",
    "r_L = \\frac{mv_{\\perp}}{|Q| B} ,\n",
    "\\label{larmorRadius} \\quad (4)\n",
    "\\end{equation}\n",
    "\n",
    "где $v_{\\perp}$ - скорость частицы, перпендикулярной магнитному полю, с величиной $B$."
   ]
  },
  {
   "cell_type": "markdown",
   "metadata": {},
   "source": [
    "## Реализация"
   ]
  },
  {
   "cell_type": "code",
   "execution_count": null,
   "metadata": {},
   "outputs": [],
   "source": [
    "# First, import all necessary library packages\n",
    "import numpy as np              # For math and array manipulation\n",
    "import matplotlib.pyplot as plt # For plotting\n",
    "from mpl_toolkits.mplot3d import Axes3D # For 3D-plotting\n",
    "plt.style.use(\"bmh\")            # Set a particular style on the plots\n",
    "# \"Magic\" command to adapt matplotlib plots to jupyter notebook\n",
    "%matplotlib inline              \n",
    "figsize = (6, 6)                # Tuple tho hold figure size of plots\n",
    "dpi = 100                       # Dots per inch on plots (resolution)"
   ]
  },
  {
   "cell_type": "markdown",
   "metadata": {},
   "source": [
    "Заряженную частицу, движущуюся в однородном магнитном поле, можно легко смоделировать с помощью метода Эйлера для уравнений (3). Ниже мы определяем функцию для правой части уравнений в (3), а также функцию для одного явного шага Эйлера с учетом текущего положения и скорости."
   ]
  },
  {
   "cell_type": "code",
   "execution_count": null,
   "metadata": {},
   "outputs": [],
   "source": [
    "def RHS(M, RHSargs):\n",
    "    \"\"\" Returns the right hand side of the sets of ordinary \n",
    "        differential equations.\n",
    "    Arguments:\n",
    "        M         1x6 array containing the position and\n",
    "                  velocity of the particle in cartesian\n",
    "                  coordinates.\n",
    "        RHSargs   1x5 array containing the arguments/variables\n",
    "                  of the right hand side of the Lorentz force.\n",
    "    \"\"\"\n",
    "    x, y, z, vx, vy, vz = M\n",
    "    Q, mass, Bx, By, Bz = RHSargs\n",
    "    ddt_vx = Q/mass*(vy*Bz - vz*By)\n",
    "    ddt_vy = Q/mass*(vz*Bx - vx*Bz)\n",
    "    ddt_vz = Q/mass*(vx*By - vy*Bx)\n",
    "    ddt_x = vx\n",
    "    ddt_y = vy\n",
    "    ddt_z = vz\n",
    "    return ddt_x, ddt_y, ddt_z, ddt_vx, ddt_vy, ddt_vz\n",
    "\n",
    "\n",
    "def eulerStep(M, dt, RHS, RHSargs):\n",
    "    \"\"\" Performs one step of the Euler method.\"\"\"\n",
    "    x, y, z, vx, vy, vz = M # Extract positional and velocity components from matrix\n",
    "    dx, dy, dz, dvx, dvy, dvz = RHS(M, RHSargs) # Calculate right hand side of ODE's\n",
    "    # Increment each component using Euler's method\n",
    "    x = x + dx*dt\n",
    "    y = y + dy*dt\n",
    "    z = z + dz*dt\n",
    "    vx = vx + dvx*dt\n",
    "    vy = vy + dvy*dt\n",
    "    vz = vz + dvz*dt\n",
    "    return x, y, z, vx, vy, vz"
   ]
  },
  {
   "cell_type": "markdown",
   "metadata": {
    "collapsed": true
   },
   "source": [
    "На данный момент мы хотим, чтобы частица двигалась в однородном магнитном поле с начальной скоростью, перпендикулярной направлению поля."
   ]
  },
  {
   "cell_type": "code",
   "execution_count": null,
   "metadata": {},
   "outputs": [],
   "source": [
    "Q = 1                   # Particle charge\n",
    "mass = 1                # Particle mass\n",
    "Bx = 10                 # Magnetic field x-component magnitude\n",
    "By = 0                  # Magnetic field y-component magnitude\n",
    "Bz = 0                  # Magnetic field z-component magnitude\n",
    "h = 1e-4                # Time step for numerical integration\n",
    "tMax = 2                # Total duration of integration\n",
    "n = int(tMax/h)         # Number of datapoints\n",
    "\n",
    "\n",
    "# Array of arguments (parameters) to the RHS function\n",
    "RHSargs = np.array([Q, mass, Bx, By, Bz])\n",
    "\n",
    "# Initialising data matrix\n",
    "M = np.zeros((6, n))\n",
    "\n",
    "# Initial position and velocity components\n",
    "x0 = 0    # x-component magnitude of positional vector\n",
    "y0 = 0    # y-component magnitude of positional vector\n",
    "z0 = 0    # z-component magnitude of positional vector\n",
    "vx0 = 0   # x-component magnitude of velocity vector\n",
    "vy0 = 10  # y-component magnitude of velocity vector\n",
    "vz0 = 0   # z-component magnitude of velocity vector\n",
    "M[:, 0] = np.array([x0, y0, z0, vx0, vy0, vz0]) # Storing the components in the data matrix\n",
    "\n",
    "# The matrix M will have the following form when completly filled with data:\n",
    "# \n",
    "# M[ROW, COLUMN]\n",
    "#\n",
    "#           n COLUMNS \n",
    "#    -----------------------------------\n",
    "# 6 | x0   x1   x2   ...  x_n-2   x_n-1\n",
    "#   | y0   y1   y2   ...  y_n-1   y_n-1\n",
    "# R | z0   z1   z2   ...  z_n-1   z_n-1\n",
    "# O | vx0  vx1  vx2  ...  vx_n-1  vx_n-1\n",
    "# W | vy0  vy1  vy2  ...  vy_n-1  vy_n-1\n",
    "# S | vz0  vz1  vz2  ...  vz_n-1  vz_n-1\n",
    "# \n",
    "# Writing \":\" in M[ROWS, COLUMNS] such as M[:, 0] returns an array containing\n",
    "# the first column. M[0, :] returns the first row\n",
    "#\n",
    "\n",
    "# Integrate particle trajectory\n",
    "for i in range(n-1):\n",
    "    M[:, i+1] = eulerStep(M[:, i], h, RHS, RHSargs)\n",
    "    \n",
    "# Calculating deviation in kinetic energy\n",
    "# Check out scipy.org for a description of the numpy-function numpy.linalg.norm(),\n",
    "# here we use it to calculate the absolute value of the velocity by squaring its components.\n",
    "Ke_initial = 0.5*mass*np.absolute(np.linalg.norm(M[3:6, 0], axis=0))**2 # mv^2/2 (formula for kinetic energy)\n",
    "Ke_final = 0.5*mass*np.absolute(np.linalg.norm(M[3:6, -1], axis=0))**2\n",
    "energyDeviation = np.abs(Ke_final - Ke_initial)/Ke_initial*100\n",
    "print(\"Initial to final energy deviation:\\t\\t%.3f percent\"%(energyDeviation))\n",
    "\n",
    "# Plot path\n",
    "plt.figure(figsize=(6, 6), dpi=dpi)\n",
    "plt.plot(M[1], M[2])\n",
    "plt.xlabel('y', size=10)\n",
    "plt.ylabel('z', size=10)\n",
    "plt.title(\"Charged particle in uniform B-field\", size=10)\n",
    "\n",
    "plt.show()"
   ]
  },
  {
   "cell_type": "markdown",
   "metadata": {},
   "source": [
    "Частица движется по кругу в плоскости $yz$, как и ожидалось в уравнении (1). Наши параметры дают радиус Лармора $r_g = 1$ из уравнения (4). При беглом взгляде на ось выше это кажется точным. \n",
    "\n",
    "Что касается сохранения энергии, мы видим, что кинетическая энергия отклоняется на 2\\% $от своего начального значения, что указывает на то, что временной шаг был примерно подходящим для этого интервала интегрирования. Однако при интегрировании в течение более длительного периода (больший \"tmax\") это отклонение может вырасти до больших размеров из-за накапливающейся численной ошибки на каждом шаге Эйлера, и численная достоверность ослабевает. Возможно, было бы разумно провести тест на сходимость с использованием разных временных шагов и сравнить общую ошибку."
   ]
  },
  {
   "cell_type": "code",
   "execution_count": null,
   "metadata": {},
   "outputs": [],
   "source": [
    "# Creating an array of timeSteps with logarithmic spacing\n",
    "timeSteps = np.logspace(-7, -2.5, 30)\n",
    "# Array to hold deviations for each time step\n",
    "deviations = np.zeros((len(timeSteps)))\n",
    "\n",
    "Ke_initial = 0.5*mass*np.absolute(np.linalg.norm(M[3:6, 0], axis=0))**2\n",
    "\n",
    "for k in range(len(timeSteps)):\n",
    "    h = timeSteps[k]\n",
    "    n = int(tMax/h)   # Number of datapoints\n",
    "    # Initialising data matrix\n",
    "    M = np.zeros((6, n))\n",
    "    M[:, 0] = np.array([x0, y0, z0, vx0, vy0, vz0]) # Storing the components in the data matrix\n",
    "\n",
    "    # Integrate particle trajectory\n",
    "    for i in range(n-1):\n",
    "        M[:, i+1] = eulerStep(M[:, i], h, RHS, RHSargs)\n",
    "\n",
    "    # Calculating deviation in kinetic energy\n",
    "    Ke_final = 0.5*mass*np.absolute(np.linalg.norm(M[3:6, -1], axis=0))**2\n",
    "    energyDeviation = np.abs(Ke_final - Ke_initial)/Ke_initial*100\n",
    "    deviations[k] = energyDeviation\n",
    "\n",
    "plt.figure(figsize=(8, 4), dpi=dpi)\n",
    "plt.loglog(timeSteps, deviations)\n",
    "plt.xlabel('time step, [s]')\n",
    "plt.ylabel('Initial to final energy deviation, percent')\n",
    "plt.title('Numerical convergence test')\n",
    "plt.show()"
   ]
  },
  {
   "cell_type": "markdown",
   "metadata": {},
   "source": [
    "Из приведенного выше графика мы видим, что ошибка в кинетической скорости имеет первый порядок на временном шаге $\\Delta t$. Этот результат также указывает на то, что временного шага ниже $10^{-5}\\mathrm{s}$ достаточно, чтобы получить отклонение ниже $0,1\\%$.\n",
    "\n",
    "Теперь, как выглядит траектория частицы, если начальная скорость находится как в направлении $x$, так и в направлении $y$?"
   ]
  },
  {
   "cell_type": "code",
   "execution_count": null,
   "metadata": {},
   "outputs": [],
   "source": [
    "vx0 = 10             # Resetting vx0 to 10\n",
    "h = 1e-5\n",
    "n = int(tMax/h)      # Recalculating number of datapoints\n",
    "M = np.zeros((6, n)) # Re-initialising data matrix\n",
    "M[:, 0] = np.array([x0, y0, z0, vx0, vy0, vz0])\n",
    "\n",
    "for i in range(n-1):\n",
    "    M[:, i+1] = eulerStep(M[:, i], h, RHS, RHSargs)\n",
    "# Calculating deviation in kinetic energy\n",
    "Ke_initial = 0.5*mass*np.absolute(np.linalg.norm(M[3:6, 0], axis=0))**2 # mv^2/2 (formula for kinetic energy)\n",
    "Ke_final = 0.5*mass*np.absolute(np.linalg.norm(M[3:6, -1], axis=0))**2\n",
    "energyDeviation = np.abs(Ke_final - Ke_initial)/Ke_initial*100\n",
    "print(\"Initial to final energy deviation:\\t\\t%.3f percent\"%(energyDeviation))\n",
    "    \n",
    "fig = plt.figure(figsize=(6,6), dpi=100)\n",
    "ax = fig.add_subplot(111, projection='3d')\n",
    "# Plotting guiding line\n",
    "ax.plot(M[0], M[0]*0, np.ones(len(M[0]))*-1, '--', linewidth=1)\n",
    "# Plotting particle path\n",
    "ax.plot(M[0], M[1], M[2])\n",
    "ax.set_xlabel(r\"$x$\")\n",
    "ax.set_ylabel(r\"$y$\")\n",
    "ax.set_zlabel(r\"$z$\")\n",
    "ax.set_title(\"Charged particle in uniform B-field\")\n",
    "\n",
    "plt.show()"
   ]
  },
  {
   "cell_type": "markdown",
   "metadata": {},
   "source": [
    "Мы получаем спиральное движение! Скорость в направлении $x$ остается неизменной как следствие поперечного произведения в законе силы Лоренца. Синяя линия - это движение центра вращения Лармора. Это называется дрейфом плоскости движения."
   ]
  },
  {
   "cell_type": "markdown",
   "metadata": {
    "collapsed": true
   },
   "source": [
    "___\n",
    "<a id=\"rsc\"></a>\n",
    "## Resources and Further Reading\n",
    "<a>[1]</a>: Chen, F. 1984, Introduction to plasma physics and controlled fusion. Volume 1: Plasma physics (New York: Plenum Press) <br />\n",
    "<a>[2]</a>: [Bittencourt, J. 2004, Fundamentals of plasma physics (New York: Springer-Verlag)](http://home.zcu.cz/~kozakt/MPPL/literatura/Bittencourt%20-%20Fundamentals%20of%20Plasma%20Physics.pdf) <br />\n",
    "<a>[3]</a>:  https://habr.com/ru/post/429790/"
   ]
  }
 ],
 "metadata": {
  "kernelspec": {
   "display_name": "Python 3",
   "language": "python",
   "name": "python3"
  },
  "language_info": {
   "codemirror_mode": {
    "name": "ipython",
    "version": 3
   },
   "file_extension": ".py",
   "mimetype": "text/x-python",
   "name": "python",
   "nbconvert_exporter": "python",
   "pygments_lexer": "ipython3",
   "version": "3.7.4"
  }
 },
 "nbformat": 4,
 "nbformat_minor": 2
}
