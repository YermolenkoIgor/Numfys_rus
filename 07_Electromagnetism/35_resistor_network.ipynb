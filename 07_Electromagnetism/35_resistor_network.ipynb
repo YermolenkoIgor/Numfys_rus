{
 "cells": [
  {
   "cell_type": "markdown",
   "metadata": {},
   "source": [
    "<style>\n",
    "@import url(https://www.numfys.net/static/css/nbstyle.css);\n",
    "</style>\n",
    "<a href=\"https://www.numfys.net\"><img class=\"logo\" /></a>\n",
    "\n",
    "# Резисторная cеть\n",
    "\n",
    "### Examples - Electromagnetism\n",
    "<section class=\"post-meta\">\n",
    "By Magnus A. Gjennestad, Vegard Hagen, Aksel Kvaal, Morten Vassvik, Trygve B. Wiig, Peter Berg and Magnus Dahle\n",
    "</section>\n",
    "Last edited: March 22nd 2018 \n",
    "___\n",
    "\n",
    "\n",
    "### Формулировка и обозначение задачи\n",
    "\n",
    "В этом примере мы рассмотрим сеть из резисторов, состоящую из $N$ повторяющихся единиц. Каждый блок имеет два резистора величиной $R$ и $12R$ соответственно. Устройства подключены к батарее напряжением $V_0$, как показано на рисунке ниже."
   ]
  },
  {
   "cell_type": "markdown",
   "metadata": {},
   "source": [
    "![circuit1](images/4ec_image_1.png)"
   ]
  },
  {
   "cell_type": "markdown",
   "metadata": {},
   "source": [
    "Цель этого примера - рассчитать ток, распространяющийся по цепи. На следующем рисунке показаны применяемые обозначения и переменные."
   ]
  },
  {
   "cell_type": "markdown",
   "metadata": {},
   "source": [
    "![circuit2](images/4ec_image_2.png)"
   ]
  },
  {
   "cell_type": "markdown",
   "metadata": {},
   "source": [
    "### Частный случай: $N=1$"
   ]
  },
  {
   "cell_type": "markdown",
   "metadata": {},
   "source": [
    "При решении подобной задачи часто бывает полезно рассмотреть специальные сценарии, если таковые имеются, прежде чем пытаться решить общую проблему. Теперь мы рассмотрим две такие упрощенные задачи.\n",
    "\n",
    "Во-первых, рассмотрим частный случай, когда $N=1$. Тогда схема выглядит следующим образом,"
   ]
  },
  {
   "cell_type": "markdown",
   "metadata": {},
   "source": [
    "![circuit2](images/4ec_image_3.png)"
   ]
  },
  {
   "cell_type": "markdown",
   "metadata": {},
   "source": [
    "Эта уменьшенная проблема легко решается путем определения $R_{eff}$, эффективного сопротивления цепи, подключенной к батарее. Это означает, что мы можем представить схему следующей диаграммой"
   ]
  },
  {
   "cell_type": "markdown",
   "metadata": {},
   "source": [
    "![circuit2](images/4ec_image_4.png)"
   ]
  },
  {
   "cell_type": "markdown",
   "metadata": {
    "collapsed": true
   },
   "source": [
    "где $R_{eff} = R+12R=13R$. Затем, по закону Ома,\n",
    "\n",
    "$$\n",
    "I_{1,1} = \\frac{V_0}{13R} = \\frac{1}{13} \\frac{\\textrm{V}}{\\Omega} \\approx 0.0769 \\textrm{A}\n",
    "$$"
   ]
  },
  {
   "cell_type": "markdown",
   "metadata": {},
   "source": [
    "### Частный случай: $N\\to\\infty$"
   ]
  },
  {
   "cell_type": "markdown",
   "metadata": {},
   "source": [
    "В качестве еще одного специального сценария мы рассмотрим случай, когда количество единиц $N$ уходит в бесконечность. Этот сценарий не так тривиален. Очевидно, что мы предоставляем больше возможностей для протекания тока в виде $N\\to\\infty$. Следовательно, мы ожидаем, что сопротивление снизится в этом пределе. Потратьте минуту на то, чтобы подумать о том, как бы вы решили эту проблему, прежде чем читать дальше."
   ]
  },
  {
   "cell_type": "markdown",
   "metadata": {},
   "source": [
    "Опять же, мы можем рассмотреть эффективное сопротивление $R_{eff}$ и представить всю схему, как и раньше (последнее изображение). Теперь возьмите схему с предыдущей страницы с бесконечным количеством повторяющихся блоков и добавьте к ней еще один блок, чтобы его можно было представить следующей схемой"
   ]
  },
  {
   "cell_type": "markdown",
   "metadata": {},
   "source": [
    "![circuit2](images/4ec_image_5.png)"
   ]
  },
  {
   "cell_type": "markdown",
   "metadata": {},
   "source": [
    "Поскольку $N$ бесконечно велико, добавление еще одной единицы не должно изменять эффективное сопротивление $R_{eff}$ всей цепи. Другими словами, $12R$ и $R_{eff}$ параллельны на приведенном выше рисунке, и сопротивление всей цепи $R_{всего}$ по-прежнему равно $R_{eff}$. С помощью этого аргумента мы можем связать $R_{eff}$ с самим собой с помощью\n",
    "\n",
    "$$\n",
    "R_{total} = R_{eff} = R + \\frac{1}{\\frac{1}{12R} + \\frac{1}{R_{eff}}}\n",
    "$$"
   ]
  },
  {
   "cell_type": "markdown",
   "metadata": {},
   "source": [
    "Решая это квадратное уравнение по $R_{eff}$ и требуя, чтобы $R_{eff}$ был положительным, мы получаем\n",
    "\n",
    "$$\n",
    "R_{eff} = 4R = 4\\Omega\n",
    "$$"
   ]
  },
  {
   "cell_type": "markdown",
   "metadata": {},
   "source": [
    "Таким образом, по закону Ома мы находим\n",
    "$$\n",
    "I_{1,1} = \\frac{V_0}{4R} = \\frac{1}{4} \\frac{\\textrm{V}}{\\Omega} \\approx 0.25 \\textrm{A}\n",
    "$$"
   ]
  },
  {
   "cell_type": "markdown",
   "metadata": {},
   "source": [
    "### Система уравнений"
   ]
  },
  {
   "cell_type": "markdown",
   "metadata": {},
   "source": [
    "Теперь мы обратимся к более общему случаю, когда $1<N<\\infty$. Чтобы решить его, мы создадим систему из $N$ уравнений с $N$ неизвестными, которую мы сформулируем как матричную задачу. Затем она будет решена с помощью Python. Неизвестными будут $N$ напряжений $V_i$, $i=1,\\ldots,N;$."
   ]
  },
  {
   "cell_type": "markdown",
   "metadata": {},
   "source": [
    "Чтобы получить уравнения, мы сначала применим закон Ома ко всем резисторам в цепи. Это дает\n",
    "\n",
    "$$\n",
    "I_{i,1} = \\frac{V_{i-1} - V_i}{R}, \\quad i=1,\\ldots,N;\n",
    "$$\n",
    "\n",
    "для $N$ резисторов со сопротивлением $R$ и\n",
    "\n",
    "$$\n",
    "I_{i,2} = \\frac{V_i}{12R}, \\quad i=1,\\ldots,N;\n",
    "$$\n",
    "\n",
    "для $N$ резисторов со сопротивлением 12R."
   ]
  },
  {
   "cell_type": "markdown",
   "metadata": {},
   "source": [
    "Следующим шагом является устранение токов $I_{i,1}$ и $I_{i,2}$ для $i=1,\\ldots,N;$ в приведенных выше уравнениях. Для этого мы обратимся к принципу сохранения тока, а именно к тому, что сумма всех токов, протекающих в узел на электрической схеме, равна сумме всех токов, вытекающих из него. Это утверждение приравнивается к утверждению, что в узле не создаются и не уничтожаются никакие заряды, и часто упоминается как закон Крихоффа."
   ]
  },
  {
   "cell_type": "markdown",
   "metadata": {},
   "source": [
    "Для узлов, помеченных $V_i$, где $i=1,\\ldots, N-1;$ мы получаем\n",
    "\n",
    "$$\n",
    "I_{i,1} = I_{i,2} + I_{i+1,1}\n",
    "$$\n",
    "\n",
    "Для последнего узла, помеченного как $V_N$, мы получаем\n",
    "\n",
    "$$\n",
    "I_{N,1} = I_{N,2}\n",
    "$$\n"
   ]
  },
  {
   "cell_type": "markdown",
   "metadata": {},
   "source": [
    "Подставляя ранние выражения для $I_{i,1}$ и $I_{i,2}$ в каждое из этих двух последних уравнений отдельно, мы находим для первого узла $i=1$,\n",
    "\n",
    "$$\n",
    "\\frac{25}{12R} V_1 - \\frac{1}{R}V_2 = V_0\n",
    "$$\n",
    "\n",
    "и для узлов, помеченных как $V_i$, с $i=2,\\ldots,N-1;$\n",
    "\n",
    "$$\n",
    "-\\frac{1}{R}V_{i-1} + \\frac{25}{12R}V_i - \\frac{1}{R} V_{i+1} = 0\n",
    "$$\n",
    "\n",
    "а затем для нижнего уравнения,\n",
    "\n",
    "$$\n",
    "-\\frac{1}{R}V_{N-1} + \\frac{13}{12R}V_N = 0\n",
    "$$\n",
    "\n",
    "Подсчитав количество уравнений, мы видим, что эти последних выражения содержат в общей сложности $N$ уравнений. Это *точная* сумма, необходимая нам для определения всех напряжений $N$ $V_i$ для $i=2,\\ldots, N-1;$ однозначно."
   ]
  },
  {
   "cell_type": "markdown",
   "metadata": {},
   "source": [
    "Более того, эти уравнения могут быть сформулированы как матричная задача $\\mathcal{A}\\boldsymbol{V}=\\boldsymbol{b}$\n",
    "\n",
    "$$\n",
    "\\begin{bmatrix} 25/12R & -1/R  & 0    & \\dots & 0 \\\\ \n",
    "                -1/R  & 25/12R & -1/R & \\dots & 0 \\\\\n",
    "                \\vdots& \\ddots &\\ddots& \\ddots& \\vdots \\\\\n",
    "                0     & \\dots &-1/R  & 25/12R & -1/R  \\\\\n",
    "                0     & \\dots & 0    & -1/R   & 25/12R\n",
    "\\end{bmatrix} \\cdot \n",
    "\\begin{bmatrix} V_1   \\\\ V_2 \\\\ \\vdots \\\\ V_{N-1} \\\\ V_N \\end{bmatrix} =\n",
    "\\begin{bmatrix} V_0/R \\\\ 0   \\\\ \\vdots \\\\ 0       \\\\ 0   \\end{bmatrix} \n",
    "$$"
   ]
  },
  {
   "cell_type": "markdown",
   "metadata": {},
   "source": [
    "Теперь поиск неизвестных напряжений сводится к решению этого матричного уравнения $\\mathcal{A}\\boldsymbol{V}=\\boldsymbol{b}$ для неизвестного вектора напряжения $\\boldsymbol{V}$. Матрица $\\mathcal{A}$ и вектор $\\boldsymbol{b}$ задаются сопротивлениями в цепи и напряжением $V_0$. Впоследствии мы можем рассчитать общий ток по закону Ома,\n",
    "\n",
    "$$\n",
    "I_{1,1} = \\frac{V_0 - V_1}{R}\n",
    "$$\n",
    "\n",
    "В Python первое, что нам нужно сделать, это определить $V_0$, $R$ и $N$."
   ]
  },
  {
   "cell_type": "code",
   "execution_count": null,
   "metadata": {},
   "outputs": [],
   "source": [
    "R  = 1.0 # Resistance [Ohm]\n",
    "V0 = 1.0 # Applied voltage [V]\n",
    "N  = 10  # Number of repitative units [dimless]"
   ]
  },
  {
   "cell_type": "markdown",
   "metadata": {},
   "source": [
    "Затем нам нужно настроить матрицу $\\mathcal{A}$ и вектор $\\boldsymbol{b}$ матричного уравнения. Мы начинаем с инициализации их нулями перед заполнением, а также определяем две переменные, $a=25/12R$ и $c=-1/R$, чтобы упростить их заполнение."
   ]
  },
  {
   "cell_type": "code",
   "execution_count": null,
   "metadata": {},
   "outputs": [],
   "source": [
    "# We use numpy arrays for increased efficiency\n",
    "# of matrix operations and functionality.\n",
    "import numpy as np \n",
    "\n",
    "A = np.zeros((N,N)) # Matrix of dimension NxN\n",
    "b = np.zeros(N)     # Vector of length N\n",
    "a = 25.0/(12*R)     # Scalar (constant)\n",
    "c = -1.0/R          # Scalar (constant)"
   ]
  },
  {
   "cell_type": "markdown",
   "metadata": {},
   "source": [
    "Затем мы настроим $\\boldsymbol{b}$ и $\\mathcal{A}$ строка за строкой."
   ]
  },
  {
   "cell_type": "code",
   "execution_count": null,
   "metadata": {},
   "outputs": [],
   "source": [
    "# the b-vector is all zeros except for first entry. Thus,\n",
    "b[0] = V0/R\n",
    "\n",
    "# Set up first row\n",
    "A[0,0] = a\n",
    "A[0,1] = c \n",
    "\n",
    "# Set up last row\n",
    "A[N-1,N-1] = a\n",
    "A[N-1,N-2] = c\n",
    "\n",
    "# Set up all other rows\n",
    "# OBS: if you're running Python 2.7 (or lower) you might want to use\n",
    "#      the 'xrange()' instead of 'range()' depending on the size of 'N'.\n",
    "for row in range(1,N-1):\n",
    "    A[row,row-1] = c\n",
    "    A[row,row  ] = a\n",
    "    A[row,row+1] = c\n",
    "\n",
    "# You may want to print A,b to see if it was initialized correctly:\n",
    "# print(A,b)"
   ]
  },
  {
   "cell_type": "markdown",
   "metadata": {},
   "source": [
    "Затем мы можем решить систему уравнений с помощью встроенного *Численного пакета линейной алгебры Python*"
   ]
  },
  {
   "cell_type": "code",
   "execution_count": null,
   "metadata": {},
   "outputs": [],
   "source": [
    "Voltages = np.linalg.solve(A,b)\n",
    "print(\"Voltages = \", Voltages)\n",
    "\n",
    "I11 = (V0 - Voltages[0])/R\n",
    "print(\"\\nI_11     = \", I11)"
   ]
  },
  {
   "cell_type": "markdown",
   "metadata": {},
   "source": [
    "Мы видим, что когда $N$ становится большим (или фактически уже составляет $N\\geq15$), $I_{1,1}$ приближается к пределу, который мы аналитически обнаружили как при $N\\to\\infty$. Это $I_{1,1}\\to 1/4$.\n",
    "\n",
    "Вы должны отметить, что, хотя встроенный решатель, который мы используем в этом примере, реализован эффективно, это общий решатель, который **не** использует тот факт, что $\\mathcal{A}$ является разреженной матрицей для этой проблемы.\n",
    "\n",
    "Если $\\mathcal{A}$ станет действительно большой, то этот решатель в конечном итоге станет очень медленным, поскольку он без необходимости повторяет все нули. В качестве альтернативы можно использовать встроенную функциональность пакета *Scientific Python Sparse Linear Algebra*. Однако этот модуль требует, чтобы $\\mathcal{A}$ хранился определенным (разреженным) способом."
   ]
  },
  {
   "cell_type": "code",
   "execution_count": null,
   "metadata": {},
   "outputs": [],
   "source": [
    "from scipy import sparse\n",
    "import scipy.sparse.linalg as ssl\n",
    "from scipy.sparse.linalg import spsolve\n",
    "\n",
    "\n",
    "# Since our matrix only have non-zero values on \n",
    "# THE diagonal, the UPPER(sup) diagonal and the LOWER(sub) diagonal,\n",
    "# this is in fact all we need to tell Python.\n",
    "\n",
    "#Create create a sparse matrix\n",
    "\n",
    "sup_diag = np.ones(N)*c\n",
    "sub_diag = np.ones(N)*c\n",
    "the_diag = np.ones(N)*a\n",
    "           \n",
    "# Offset:           -1     0        1\n",
    "all_diags  = [sub_diag, the_diag, sup_diag]\n",
    "offsets    = np.array([-1, 0, 1])\n",
    "\n",
    "\n",
    "csc=\"csc\" # Computer format of which the matrix is stored\n",
    "\n",
    "# Define the SPARSE matrix\n",
    "A_sparse = sparse.spdiags(all_diags, offsets, N,N, format=csc)\n",
    "\n",
    "\n",
    "# print(A_sparse.todense()) # prints the SPARSE matrix in a DENSE (normal NxN) format.\n",
    "\n",
    "\n",
    "Voltages = spsolve(A_sparse,b)\n",
    "print(\"Voltages = \", Voltages)\n",
    "\n",
    "I11 = (V0 - Voltages[0])/R\n",
    "print(\"\\nI_11     = \", I11)\n",
    "\n"
   ]
  },
  {
   "cell_type": "markdown",
   "metadata": {},
   "source": [
    "Теперь попробуйте сравнить время работы разреженного решателя со стандартным решателем, когда вы увеличите $N$ до $10, 100, 1000, \\ldots$."
   ]
  }
 ],
 "metadata": {
  "kernelspec": {
   "display_name": "Python 3",
   "language": "python",
   "name": "python3"
  },
  "language_info": {
   "codemirror_mode": {
    "name": "ipython",
    "version": 3
   },
   "file_extension": ".py",
   "mimetype": "text/x-python",
   "name": "python",
   "nbconvert_exporter": "python",
   "pygments_lexer": "ipython3",
   "version": "3.7.4"
  }
 },
 "nbformat": 4,
 "nbformat_minor": 1
}
