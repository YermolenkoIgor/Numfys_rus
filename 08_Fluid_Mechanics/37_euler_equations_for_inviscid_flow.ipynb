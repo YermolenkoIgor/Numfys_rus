{
 "cells": [
  {
   "cell_type": "markdown",
   "metadata": {},
   "source": [
    "<style>\n",
    "@import url(https://www.numfys.net/static/css/nbstyle.css);\n",
    "</style>\n",
    "<a href=\"https://www.numfys.net\"><img class=\"logo\" /></a>\n",
    "\n",
    "# Уравнения Эйлера для невязкого течения\n",
    "\n",
    "### Examples - Fluid Mechanics\n",
    "<section class=\"post-meta\">\n",
    "By Knut Sverdrup, October 2016\n",
    "</section>\n",
    "Last edited: March 22nd 2018\n",
    "___\n",
    "\n",
    "## Вступление \n",
    "\n",
    "Этот урок представляет собой введение в набор уравнений в частных производных, которые широко используются для моделирования аэродинамики, атмосферы и климата, взрывных детонаций и даже астрофизики. Здесь дано лишь небольшое представление о мире гиперболических PDE, задач Римана и вычислительной гидродинамики, и заинтересованному читателю рекомендуется продолжить изучение этой области [1]. \n",
    "\n",
    "Уравнения Эйлера управляют адиабатическим и невязким течением жидкости. В пределе Фруда (без внешних сил тела) в одном измерении, с плотностью $\\rho$, скоростью $u$, полной энергией $E$ и давлением $p$, они даны в безразмерной форме как\n",
    "\n",
    "\\begin{align*}\n",
    "    \\frac{\\partial \\rho}{\\partial t} + \\frac{\\partial (\\rho u)}{\\partial x} &= 0, \\\\\n",
    "    \\frac{\\partial (\\rho u)}{\\partial t} + \\frac{\\partial (\\rho u^2 + p)}{\\partial x} &= 0, \\\\\n",
    "    \\frac{\\partial (\\rho E)}{\\partial t} + \\frac{\\partial u(E + p)}{\\partial x} &= 0.\n",
    "\\end{align*}\n",
    "\n",
    "Эти три уравнения описывают сохранение массы, импульса и энергии соответственно.\n",
    "Чтобы решить их численно, мы начинаем с импорта NumPy и настройки среды построения графиков. "
   ]
  },
  {
   "cell_type": "code",
   "execution_count": null,
   "metadata": {},
   "outputs": [],
   "source": [
    "%matplotlib inline\n",
    "import numpy as np\n",
    "from matplotlib import pyplot as plt"
   ]
  },
  {
   "cell_type": "code",
   "execution_count": null,
   "metadata": {},
   "outputs": [],
   "source": [
    "newparams = {'font.size': 14, 'figure.figsize': (14, 7),\n",
    "             'mathtext.fontset': 'stix', 'font.family': 'STIXGeneral',\n",
    "             'lines.linewidth': 2}\n",
    "plt.rcParams.update(newparams)"
   ]
  },
  {
   "cell_type": "markdown",
   "metadata": {},
   "source": [
    "## Идеальные газы\n",
    "\n",
    "\n",
    "Для идеального газа общая энергия представляет собой сумму кинетического и потенциального вкладов, т.е. \n",
    "\n",
    "\\begin{equation*}\n",
    "    E = \\frac{1}{2} \\rho u^2 + \\frac{p}{\\gamma - 1}, \n",
    "\\end{equation*}\n",
    "\n",
    "где $\\gamma$ - это соотношение удельных температур для материала в нашей системе. Мы будем рассматривать воздух, для которого $\\gamma = 1.4$. Обратите внимание, что $e = \\frac{p}{(\\gamma - 1)\\rho}$ - это удельная внутренняя энергия для идеальных газов. Преобразования между энергией и давлением будут полезны нам позже, поэтому мы определим соответствующие функции:"
   ]
  },
  {
   "cell_type": "code",
   "execution_count": null,
   "metadata": {},
   "outputs": [],
   "source": [
    "def energy(rho, u, p):\n",
    "    return 0.5 * rho * u ** 2 + p / 0.4 \n",
    "\n",
    "def pressure(rho, u, E):\n",
    "    return 0.4 * (E - 0.5 * rho * u ** 2)"
   ]
  },
  {
   "cell_type": "markdown",
   "metadata": {},
   "source": [
    "## Законы сохранения\n",
    "\n",
    "Удобно, что эта гиперболическая система PDE первого порядка может быть записана как набор законов сохранения, т.е.\n",
    "\n",
    "\\begin{equation*}\n",
    "    \\partial_t {\\bf Q} + \\partial_x {\\bf F(Q)} = {\\bf 0}\\,.\n",
    "\\end{equation*}\n",
    "\n",
    "Здесь вектор сохраняемых величин ${\\bf Q}$ и их потоки ${\\bf F(Q)}$ задаются\n",
    "\n",
    "\\begin{equation*}\n",
    "    {\\bf Q} = \n",
    "    \\begin{bmatrix} \n",
    "        \\rho \\\\ \n",
    "        \\rho u \\\\ \n",
    "        E \n",
    "    \\end{bmatrix}\n",
    "    \\,,\\quad\n",
    "    {\\bf F} = \n",
    "    \\begin{bmatrix}\n",
    "        \\rho u \\\\ \n",
    "        \\rho u^2 + p \\\\\n",
    "        u(E+p) \n",
    "    \\end{bmatrix}\n",
    "    \\,.\n",
    "\\end{equation*}\n",
    "\n",
    "Учитывая состояние системы (т.е. вектор сохраняемых величин), мы вычисляем поток как: "
   ]
  },
  {
   "cell_type": "code",
   "execution_count": null,
   "metadata": {},
   "outputs": [],
   "source": [
    "def flux(Q):\n",
    "    rho, u, E = Q[0], Q[1] / Q[0], Q[2]\n",
    "    p = pressure(rho, u, E)\n",
    "    F = np.empty_like(Q)\n",
    "    F[0] = rho * u\n",
    "    F[1] = rho * u ** 2 + p\n",
    "    F[2] = u * (E + p)\n",
    "    return F"
   ]
  },
  {
   "cell_type": "markdown",
   "metadata": {},
   "source": [
    "## Конечные объемы\n",
    "\n",
    "Рассмотрим пространственную область $[x_L, x_R]$ и две точки во времени $t_2 > t_1$. Интегрируя уравнения Эйлера в дифференциальной форме в пространстве и времени, мы получаем интегральную форму, \n",
    "\n",
    "\\begin{equation*}\n",
    "    \\int_{x_L}^{x_R} {\\bf Q}(x, t_2) {\\rm d} x = \\int_{x_L}^{x_R} {\\bf Q}(x, t_1) {\\rm d} x \n",
    "    + \\int_{t_1}^{t_2} {\\bf F}({\\bf Q}(x_L, t)) {\\rm d} t - \\int_{t_1}^{t_2} {\\bf F}({\\bf Q}(x_R, t)) {\\rm d} t .\n",
    "\\end{equation*}\n",
    "\n",
    "Это соотношение является основой для нашей пространственной и временной дискретизации. Для простоты мы принимаем нашу вычислительную область равной $[0, 1]$ и делим ее на $N$ равных ячеек шириной $\\Delta x = 1/N$: "
   ]
  },
  {
   "cell_type": "code",
   "execution_count": null,
   "metadata": {},
   "outputs": [],
   "source": [
    "N = 100\n",
    "dx = 1 / N\n",
    "x = np.linspace(-0.5 * dx, 1 + 0.5 * dx, N + 2)"
   ]
  },
  {
   "cell_type": "markdown",
   "metadata": {
    "collapsed": true
   },
   "source": [
    "Обратите внимание, что мы добавили по одной дополнительной ячейке на каждую сторону домена. Это так называемые призрачные ячейки, которые позволяют нам применять соответствующие граничные условия. Также необходимо дискретизировать вектор состояния $\\bf Q$ и межклеточные потоки $\\bf F$. Обозначим через ${\\bf Q}_i^n$ среднее пространственное значение в ячейке $[x_{i-1/2}, x_{i+1/2}]$ в момент времени $t_n$, т. е.\n",
    "\n",
    "\\begin{equation*} \n",
    "    {\\bf Q}_i^n = \\frac{1}{\\Delta x} \\int_{x_{i-1/2}}^{x_{i+1/2}} {\\bf Q}(x, t_n) {\\rm d} x ,\n",
    "\\end{equation*}\n",
    "\n",
    "и инициализируем массив numpy для хранения значений в каждой ячейке: "
   ]
  },
  {
   "cell_type": "code",
   "execution_count": null,
   "metadata": {},
   "outputs": [],
   "source": [
    "Q = np.empty((3, len(x))) "
   ]
  },
  {
   "cell_type": "markdown",
   "metadata": {},
   "source": [
    "Аналогично, среднее значение по времени потока через границу ячейки в $x_{i+1/2}$ обозначается ${\\bf F}_{i+1/2}^n$: \n",
    "\n",
    "\\begin{equation*}\n",
    "    {\\bf F}_{i+1/2}^n = \\frac{1}{\\Delta t^n} \\int_{t_n}^{t_{n+1}} {\\bf F}({\\bf Q}(x_{i+1/2}, t)) {\\rm d} t .\n",
    "\\end{equation*}\n",
    "\n",
    "Вставляя эти дискретизации в интегральную форму уравнений Эйлера, мы получаем консервативную формулу обновления для каждой вычислительной ячейки, которая является точной: \n",
    "\n",
    "\\begin{equation*}\n",
    "    {\\bf Q}_i^{n+1} = {\\bf Q}_i^n + \n",
    "    \\frac{\\Delta t^n}{\\Delta x} \\left( {\\bf F}_{i-\\frac{1}{2}}^n - {\\bf F}_{i+\\frac{1}{2}}^n \\right) \n",
    "\\end{equation*}\n",
    "\n",
    "Эта формула является нашим методом продвижения системы вперед во времени, и численные приближения заключаются исключительно в оценках межклеточных потоков ${\\bf F}_{i \\pm 1/2}^n$. Однако мы не можем выбрать временной шаг $\\Delta t^n$ настолько большим, насколько мы хотим, из-за ограничений на стабильность. Задав коэффициент Куранта-Фридрихса-Льюиса (CFL) $c \\leq 1$, шаг по времени можно безопасно установить равным\n",
    "\n",
    "\\begin{equation*}\n",
    "    \\Delta t^n = \\frac{c \\Delta x}{S_{\\rm max}^n}, \n",
    "\\end{equation*}\n",
    "\n",
    "где $S_{\\rm max}^n$ - это мера максимальной скорости волны, присутствующей в системе. Мы используем общее приближение, которое находит ячейку с наибольшей суммой скоростей материала и звука, т.е. \n",
    "\n",
    "\\begin{equation*}\n",
    "    S_{\\rm max}^n = \\max_i ( |u_i^n| + a_i^n ) , \n",
    "\\end{equation*}\n",
    "\n",
    "где скорость звука для идеальных газов определяется \n",
    "\n",
    "\\begin{equation*}\n",
    "    a = \\sqrt{\\frac{\\gamma p}{\\rho}} .\n",
    "\\end{equation*}"
   ]
  },
  {
   "cell_type": "code",
   "execution_count": null,
   "metadata": {},
   "outputs": [],
   "source": [
    "def timestep(Q, c, dx):\n",
    "    rho, u, E = Q[0], Q[1] / Q[0], Q[2]\n",
    "    \n",
    "    a = np.sqrt(1.4 * pressure(rho, u, E) / rho)\n",
    "    S_max = np.max(np.abs(u) + a)\n",
    "    \n",
    "    return  c * dx / S_max"
   ]
  },
  {
   "cell_type": "markdown",
   "metadata": {},
   "source": [
    "## FORCE схема для аппроксимации потока\n",
    "\n",
    "Существует множество различных процедур для аппроксимации межклеточных потоков ${\\bf F}_{i \\pm 1/2}$. Для простоты мы реализуем относительно прямолинейную схему центрирования первого порядка (FIrst-ORder CEntred (FORCE)). [2] Учитывая состояние двух соседних ячеек, поток на границе раздела вычисляется как\n",
    "\n",
    "\\begin{equation*}\n",
    "    {\\bf F}_{\\rm FORCE} ({\\bf Q}_L, {\\bf Q}_R) \n",
    "        =\\frac{1}{2} \\left( {\\bf F}_0 + \\frac{1}{2} ({\\bf F}_L + {\\bf F}_R) \\right) + \\frac{1}{4} \\frac{\\Delta x}{\\Delta t^n} ({\\bf Q}_L - {\\bf Q}_R) . \n",
    "\\end{equation*}\n",
    "\n",
    "Здесь, ${\\bf F}_K = {\\bf F}({\\bf Q}_K)$ и \n",
    "\n",
    "\\begin{equation*}\n",
    "    {\\bf Q}_0 = \\frac{1}{2} ({\\bf Q}_L + {\\bf Q}_R) + \\frac{1}{2} \\frac{\\Delta t^n}{\\Delta x} ({\\bf F}_L- {\\bf F}_R) , \n",
    "\\end{equation*}\n",
    "\n",
    "Эти уравнения соответствуют уравнениям (16) и (19) в [2]. \n",
    "\n",
    "В этот момент становится очевидной причина наших ранее введенных призрачных клеток. Поскольку интерфейс каждой ячейки требует информации с обеих сторон, первой и N-й ячейкам в нашем домене не хватает информации слева и справа соответственно. Инициализируя призрачную ячейку с каждой стороны и передавая информацию из области наружу для каждого временного шага, эти вымышленные ячейки предоставляют необходимую информацию для выполнения наших вычислений. \n",
    "\n",
    "Реализуя схему FORCE в Python, мы имеем "
   ]
  },
  {
   "cell_type": "code",
   "execution_count": null,
   "metadata": {},
   "outputs": [],
   "source": [
    "def force(Q):\n",
    "    Q_L = Q[:, :-1]\n",
    "    Q_R = Q[:, 1:]\n",
    "    \n",
    "    F_L = flux(Q_L)\n",
    "    F_R = flux(Q_R)\n",
    "    \n",
    "    Q_0 = 0.5 * (Q_L + Q_R) + 0.5 * dt / dx * (F_L - F_R) \n",
    "    F_0 = flux(Q_0)\n",
    "    \n",
    "    return 0.5 * (F_0 + 0.5 * (F_L + F_R)) + 0.25 * dx / dt * (Q_L - Q_R)"
   ]
  },
  {
   "cell_type": "markdown",
   "metadata": {},
   "source": [
    "## Ударная трубка Сода\n",
    "\n",
    "Учитывая начальное условие ${\\bf Q}(x, 0)$, мы хотим развить систему во времени, чтобы предсказать \n",
    "состояние в какое-то будущее время $t=T$. Популярным тестовым случаем для уравнений Эйлера является ударная трубка Сода. Тест состоит из задачи Римана, что означает, что PDE связан с набором кусочно-постоянных начальных условий, разделенных одним разрывом. Интуитивно, тест можно представить как трубку с мембраной, разделяющей воздух двух разных плотностей (и давлений). При $t=0$ мембрана удаляется, что приводит к волне разрежения, разрыву контакта и ударной волне. Начальные условия задаются\n",
    "\n",
    "\\begin{equation*}\n",
    "    {\\bf Q}(x, 0) = \n",
    "        \\begin{cases} \n",
    "            {\\bf Q}_L \\quad {\\rm if} \\quad x \\leq 0.5 \\\\ \n",
    "            {\\bf Q}_R \\quad {\\rm if} \\quad x > 0.5 \n",
    "        \\end{cases} , \\quad \n",
    "    \\begin{pmatrix} \\rho \\\\ u \\\\ p \\end{pmatrix}_L \n",
    "    = \\begin{pmatrix} 1 \\\\ 0 \\\\ 1 \\end{pmatrix} , \\quad\n",
    "    \\begin{pmatrix} \\rho \\\\ u \\\\ p \\end{pmatrix}_R\n",
    "    = \\begin{pmatrix} 0.125 \\\\ 0 \\\\ 0.1 \\end{pmatrix} .\n",
    "\\end{equation*}\n",
    "\n",
    "Поэтому мы инициализируем вектор сохраняемых переменных в соответствии с "
   ]
  },
  {
   "cell_type": "code",
   "execution_count": null,
   "metadata": {},
   "outputs": [],
   "source": [
    "# Density: \n",
    "Q[0, x <= 0.5] = 1.0\n",
    "Q[0, x > 0.5] = 0.125\n",
    "# Momentum: \n",
    "Q[1] = 0.0\n",
    "# Energy: \n",
    "Q[2, x <= 0.5] = energy(1.0, 0.0, 1.0)\n",
    "Q[2, x > 0.5] = energy(0.125, 0.0, 0.1)"
   ]
  },
  {
   "cell_type": "markdown",
   "metadata": {},
   "source": [
    "## Эволюция системы\n",
    "\n",
    "Сейчас созданы все предпосылки для того, чтобы мы смогли разработать систему ударных трубок во времени численно. Мы выбираем коэффициент CFL 0.95 и переходим к конечному времени $T=0.25$"
   ]
  },
  {
   "cell_type": "code",
   "execution_count": null,
   "metadata": {},
   "outputs": [],
   "source": [
    "c = 0.9\n",
    "T = 0.25\n",
    "t = 0\n",
    "while t < T:\n",
    "    # Compute time step size\n",
    "    dt = timestep(Q, c, dx)\n",
    "    if t + dt > T: # Make sure to end up at specified final time\n",
    "        dt = T - t\n",
    "\n",
    "    # Transmissive boundary conditions\n",
    "    Q[:, 0] = Q[:, 1] # Left boundary \n",
    "    Q[:, N + 1] = Q[:, N] # Right boundary\n",
    "\n",
    "    # Flux computations using FORCE scheme\n",
    "    F = force(Q)\n",
    "\n",
    "    # Conservative update formula\n",
    "    Q[:, 1:-1] += dt / dx * (F[:, :-1] - F[:, 1:]) \n",
    "    \n",
    "    # Go to next time step\n",
    "    t += dt"
   ]
  },
  {
   "cell_type": "markdown",
   "metadata": {},
   "source": [
    "## Результаты\n",
    "\n",
    "Для сравнения наших результатов в файле приведено точное эталонное решение \"ref.txt\". Для простого случая единичного контактного разрыва эта задача Римана может быть решена с произвольной точностью с помощью точного (итерационного) решателя. Реализация точного решателя выходит за рамки этой тетради, но заинтересованный читатель обращается к обширному ресурсу Toro [1]. "
   ]
  },
  {
   "cell_type": "code",
   "execution_count": null,
   "metadata": {},
   "outputs": [],
   "source": [
    "# Load reference solution\n",
    "ref_sol = np.loadtxt('ref.txt')\n",
    "ref_sol = np.transpose(ref_sol)\n",
    "\n",
    "# Numerical results for density, velocity, pressure and internal energy\n",
    "num_sol = [Q[0], Q[1] / Q[0], pressure(Q[0], Q[1] / Q[0], Q[2]), \\\n",
    "    pressure(Q[0], Q[1] / Q[0], Q[2]) / (0.4 * Q[0])]"
   ]
  },
  {
   "cell_type": "markdown",
   "metadata": {},
   "source": [
    "Имея эталонное решение, мы можем построить графики распределения плотности, скорости, давления и внутренней энергии по всей области в конечный момент времени $t = T$. "
   ]
  },
  {
   "cell_type": "code",
   "execution_count": null,
   "metadata": {},
   "outputs": [],
   "source": [
    "fig, axes = plt.subplots(2, 2, sharex='col', num=1)\n",
    "axes = axes.flatten()\n",
    "labels = [r'$\\rho$', r'$u$', r'$p$', r'$e$']\n",
    "\n",
    "# For each subplot, plot numerical and exact solutions\n",
    "for ax, label, num, ref in zip(axes, labels, num_sol, ref_sol[1:]): \n",
    "    ax.plot(x, num, 'or', fillstyle='none', label='Numerical')\n",
    "    ax.plot(ref_sol[0], ref, 'b-', label='Exact')\n",
    "    ax.set_xlim([0, 1])\n",
    "    ylim_offset = 0.05 * (np.max(num) - np.min(num))\n",
    "    ax.set_ylim([np.min(num) - ylim_offset , np.max(num) + ylim_offset])\n",
    "    ax.set_xlabel(r'$x$')\n",
    "    ax.set_ylabel(label, rotation=0)\n",
    "    ax.legend(loc='best')\n",
    "plt.show()"
   ]
  },
  {
   "cell_type": "markdown",
   "metadata": {},
   "source": [
    "Переходя слева направо, легко видеть, что наша схема разрешила волну разрежения, разрыв контакта (очевидный в $\\rho$ и $e$) и ударную волну. Однако по сравнению с точным решением видно, что численное приближение является размытым и не позволяет точно фиксировать резкие разрывы. Эта неточность, как и ожидалось, относится к схеме, которая является точной только до первого порядка, поскольку термин ошибки второго порядка является диффузионным по своей природе. Каждый раз, когда мы продвигаем систему во времени, численное решение немного размывается по сравнению с точным. После 60 временных шагов результат будет таким, как показано на рисунке. Для любых серьезных применений следует рассматривать схемы с высоким разрешением с точностью не менее второго порядка. Несколько таких схем приведены в [3]. "
   ]
  },
  {
   "cell_type": "markdown",
   "metadata": {},
   "source": [
    "## Дополнительные вопросы\n",
    "\n",
    "* Как вы можете изменить код, чтобы выяснить, сколько шагов было необходимо для достижения $t=T$? \n",
    "* Попробуйте увеличить $N$ - такие ли результаты, как вы ожидали? Как это влияет на количество итераций? \n",
    "* Каков эффект изменения коэффициента CFL? Существует ли оптимальное значение? \n",
    "* Посмотрите, как используются анимации в [Planetary motion](https://nbviewer.jupyter.org/urls/www.numfys.net/media/notebooks/planetary_motion_three_body_problem.ipynb). Можете ли вы использовать те же методы для анимации наших результатов с начального времени до конечного состояния? \n",
    "* На [странице Википедии](https://en.wikipedia.org/wiki/Sod_shock_tube) для ударной трубки Сода кратко объясняется аналитическое решение, которое приведено в качестве справочного. Как бы вы реализовали точный решатель в Python? "
   ]
  },
  {
   "cell_type": "markdown",
   "metadata": {
    "collapsed": true
   },
   "source": [
    "## References\n",
    "\n",
    "[1] E. F. Toro: \"Riemann Solvers and Numerical Methods for Fluid Dynamics - A Practical Introduction\" (3rd ed, Springer, 2009)\n",
    "\n",
    "[2] E. F. Toro & A. Hidalgo & M. Dumbser: \"FORCE schemes on unstructured meshes I: Conservative hyperbolic systems\" (Journal of Computational Physics, 2009)\n",
    "\n",
    "[3] E. F. Toro & S. J. Billett: \"Centred TVD Schemes for Hyperbolic Conservation Laws\" (IMA Journal of Numerical Analysis, 2000)"
   ]
  }
 ],
 "metadata": {
  "anaconda-cloud": {},
  "kernelspec": {
   "display_name": "Python 3",
   "language": "python",
   "name": "python3"
  },
  "language_info": {
   "codemirror_mode": {
    "name": "ipython",
    "version": 3
   },
   "file_extension": ".py",
   "mimetype": "text/x-python",
   "name": "python",
   "nbconvert_exporter": "python",
   "pygments_lexer": "ipython3",
   "version": "3.7.4"
  },
  "latex_envs": {
   "bibliofile": "biblio.bib",
   "cite_by": "apalike",
   "current_citInitial": 1,
   "eqLabelWithNumbers": true,
   "eqNumInitial": 0
  }
 },
 "nbformat": 4,
 "nbformat_minor": 1
}
