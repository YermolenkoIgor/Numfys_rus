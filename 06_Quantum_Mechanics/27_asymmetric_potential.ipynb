{
 "cells": [
  {
   "cell_type": "markdown",
   "metadata": {},
   "source": [
    "<style>\n",
    "@import url(https://www.numfys.net/static/css/nbstyle.css);\n",
    "</style>\n",
    "<a href=\"https://www.numfys.net\"><img class=\"logo\" /></a>\n",
    "\n",
    "# Numerical Determination of Eigenenergies for an Asymmetric Potential\n",
    "## Examples - Quantum Mechanics\n",
    "<section class=\"post-meta\">\n",
    "By Henning Goa Hugdal, Øystein Hiåsen and Peter Berg\n",
    "</section>\n",
    "Last edited: October 31st 2018\n",
    "___"
   ]
  },
  {
   "cell_type": "markdown",
   "metadata": {},
   "source": [
    "В блокноте про [*Численное определение собственных энергий гармонического осциллятора*](https://nbviewer.jupyter.org/urls/www.numfys.net/media/notebooks/numerical_determination_eigenvalues_harmonic_oscillator.ipynb), мы показали, как численно определить собственные энергии потенциала гармонического осциллятора. Используя тот факт, что потенциал был симметричным, и, следовательно, волновые функции были симметричными или антисимметричными, мы могли легко выбрать правильные граничные условия для интересующей нас волновой функции. Однако для асимметричного потенциала у нас нет такой информации! Все, что мы знаем, это то, что собственные функции должны быть интегрируемыми и гладкими. И этого на самом деле достаточно, чтобы решить эту проблему.\n",
    "\n",
    "Рассмотрим следующий потенциал:\n",
    "$ $ V(x) = ax^4-b(x+c)^2+d, $ $\n",
    "с $a=1$, $b=1,5$, $c=0,2$ и $d=1,17$. Потенциал немного асимметричен, как видно на графике ниже."
   ]
  },
  {
   "cell_type": "code",
   "execution_count": null,
   "metadata": {},
   "outputs": [],
   "source": [
    "%matplotlib inline\n",
    "#from __future__ import division\n",
    "import numpy as np\n",
    "import matplotlib.pyplot as plt\n",
    "\n",
    "# Set common figure parameters:\n",
    "newparams = {'axes.labelsize': 14, 'axes.linewidth': 1, 'savefig.dpi': 300, \n",
    "             'lines.linewidth': 1.0, 'figure.figsize': (8, 3),\n",
    "             'figure.subplot.wspace': 0.4,\n",
    "             'ytick.labelsize': 10, 'xtick.labelsize': 10,\n",
    "             'ytick.major.pad': 5, 'xtick.major.pad': 5,\n",
    "             'legend.fontsize': 10, 'legend.frameon': False, \n",
    "             'legend.handlelength': 1.5}\n",
    "plt.rcParams.update(newparams)"
   ]
  },
  {
   "cell_type": "code",
   "execution_count": null,
   "metadata": {},
   "outputs": [],
   "source": [
    "n = 1000    # number of points per unit on x-axis\n",
    "dx = 1.0/n\n",
    "p = 10      # which x-values to include\n",
    "linP = np.linspace(0,p*n-1, p*n, True)\n",
    "linM = np.linspace(-(p*n-1), 0, p*n, True)\n",
    "xP = linP/n # x-values in positive direction\n",
    "xM = linM/n # x-values in negative direction\n",
    "\n",
    "a = 1.0\n",
    "b = 1.5\n",
    "c = 0.2\n",
    "d = 1.17\n",
    "VP = a*xP**4 - b*(xP+c)**2 + d # potential for x>0\n",
    "VM = a*xM**4 - b*(xM+c)**2 + d # potential for x<0\n",
    "\n",
    "plt.figure()\n",
    "plt.plot(xM, VM, 'r', xP, VP, 'r')\n",
    "plt.grid()\n",
    "plt.ylim([-1, 10])\n",
    "plt.xlim([-2, 2])\n",
    "plt.title(r'The Potential Under Consideration')\n",
    "plt.xlabel(r'$x$')\n",
    "plt.ylabel(r'$V(x)$');"
   ]
  },
  {
   "cell_type": "markdown",
   "metadata": {},
   "source": [
    "Установка $\\hbar = 1$, $m = 1$ для простоты уравнение Шредингера гласит\n",
    "$$\\left[-\\frac{1}{2}\\frac{\\rm d^2}{{\\rm d}x^2} +  V(x) \\right]\\psi(x) = E \\psi(x), $$ \n",
    "получаем следующее уравнение для $\\psi\"(x)$,\n",
    "$$\\psi''(x) = 2[V(x)-E]\\psi(x).$$\n",
    "Дискретизируя ось $x$ и волновую функцию и используя метод центральной разности второго порядка, мы получаем формулу для значения функции $\\psi_{i+1}$ на основе двух предыдущих точек,\n",
    "$$\\psi_{i+1} = 2\\psi_i-\\psi_{i-1}-2(\\Delta x)^2\\left[E-V(x) \\right]\\psi_i, $$\n",
    "где $\\Delta x$ - расстояние между двумя точками $x_i$ и $x_{i+1}$ на оси $x$. Для первого значения функции с каждой стороны источника мы используем\n",
    "$$ \\psi_1 = \\psi_0 + \\psi_0'\\Delta x,$$\n",
    "где $\\psi_0$ и $\\psi_0'$ - начальное значение в начале координат для волновой функции и наклон волновой функции соответственно."
   ]
  },
  {
   "cell_type": "markdown",
   "metadata": {},
   "source": [
    "Как уже упоминалось, мы должны найти функции, которые являются интегрируемыми и гладкими. Поэтому мы попробуем выполнить следующую процедуру:\n",
    "Для данной энергии используйте приведенные выше уравнения, чтобы найти волновые функции как для положительных, так и для отрицательных значений $x$, которые квадратично интегрируемы. Для этого нам нужно определить функции, которые находят начальное значение наклона таким образом, чтобы волновые функции приближались к нулю как $x \\rightarrow \\infty$, например, с помощью метода деления пополам. Важно отметить, что критерий для метода деления пополам будет варьироваться в зависимости от того, приближается ли волновая функция к нулю сверху или снизу. Следовательно, нам нужны две разные функции, и для простоты мы также определили отдельные функции для положительных и отрицательных значений $x$. Эти четыре функции определены ниже."
   ]
  },
  {
   "cell_type": "code",
   "execution_count": null,
   "metadata": {},
   "outputs": [],
   "source": [
    "def findSlopeP(Ein, acc):\n",
    "    \"\"\"Function for positive x, approaches zero from above.\n",
    "    Takes energy and desired accuracy as imput. \"\"\"\n",
    "    S1 = -30.0    # lower limit for slope\n",
    "    S2 = 30.0     # upper limit for slope\n",
    "    DeltaSP = 1.0 \n",
    "    S = 0         # starting value for slope\n",
    "    while DeltaSP > acc:\n",
    "        for i in linP[0:-1]:\n",
    "            if i == 0:\n",
    "                f1[i+1] = f1[i] + dx*S\n",
    "            else:\n",
    "                f1[i+1] = -f1[i-1] + f1[i]*(2-dx**2*2*(Ein-VP[i]))\n",
    "            if f1[i] < -20:\n",
    "                # the wave function shoots off towards minus infinity, adjust slope\n",
    "                S1 = S\n",
    "                S = S1 + (S2-S1)/2 \n",
    "                break\n",
    "            elif f1[i] > 20:\n",
    "                # the wave function shoots off towards plus infinity, adjust slope\n",
    "                S2 = S\n",
    "                S = S2 - (S2-S1)/2\n",
    "                break\n",
    "        DeltaSP = S2-S1 # if DeltaSP is smaller than the given accuracy, the function returns the calculated slope\n",
    "    return S\n",
    "\n",
    "\n",
    "def findSlopeM(Ein, acc):\n",
    "    \"\"\"Function for negative x, approaches zero from above. \"\"\"\n",
    "    S1 = -30.0\n",
    "    S2 = 30.0\n",
    "    DeltaSM = 1.0\n",
    "    S = 0\n",
    "    while DeltaSM > acc:\n",
    "        for i in linP[1:-1]:\n",
    "            if i == 1:\n",
    "                f2[-(i+1)] = f2[-i] + dx*S\n",
    "            else:\n",
    "                f2[-(i+1)] = -f2[-(i-1)] + f2[-i]*(2-dx**2*2*(Ein-VM[-i]))\n",
    "            if f2[-i] <- 20:\n",
    "                S1 = S\n",
    "                S = S1 + (S2-S1)/2\n",
    "                break\n",
    "            elif f2[-i] > 20:\n",
    "                S2 = S\n",
    "                S = S2 - (S2-S1)/2\n",
    "                break\n",
    "        DeltaSM = (S2-S1)\n",
    "    return S\n",
    "\n",
    "\n",
    "def findSlopeP2(Ein, acc):\n",
    "    \"\"\"Function for positive x, approaches zero from below. \"\"\"\n",
    "    S1 = -30.0\n",
    "    S2 = 30.0\n",
    "    DeltaSP = 1.0\n",
    "    S = 0.0\n",
    "    while DeltaSP > acc:\n",
    "        for i in linP[0:-1]:\n",
    "            if i == 0:\n",
    "                f1[i+1] = f1[i] + dx*S\n",
    "            else:\n",
    "                f1[i+1] = -f1[i-1] + f1[i]*(2-dx**2*2*(Ein-VP[i]))\n",
    "            if f1[i] > 20:\n",
    "                S1 = S\n",
    "                S = S1 + (S2-S1)/2\n",
    "                break\n",
    "            elif f1[i] < -20:\n",
    "                S2 = S\n",
    "                S = S2 - (S2-S1)/2\n",
    "                break\n",
    "        DeltaSP = abs(S2-S1)\n",
    "    return S\n",
    "\n",
    "\n",
    "def findSlopeM2(Ein, acc):\n",
    "    \"\"\"Function for negative x, approaches zero from below. \"\"\"\n",
    "    S1 = -30.0\n",
    "    S2 = 30.0\n",
    "    DeltaSM = 1.0\n",
    "    S = 0.0\n",
    "    while DeltaSM > acc:\n",
    "        for i in linP[1:-1]:\n",
    "            if i == 1:\n",
    "                f2[-(i+1)] = f2[-i] + dx*S\n",
    "            else:\n",
    "                f2[-(i+1)] = -f2[-(i-1)] + f2[-i]*(2-dx**2*2*(Ein-VM[-i]))\n",
    "            if f2[-i] > 20:\n",
    "                S1 = S\n",
    "                S = S1 + (S2-S1)/2\n",
    "                break\n",
    "            elif f2[-i] < -20:\n",
    "                S2 = S\n",
    "                S = S2 - (S2-S1)/2\n",
    "                break\n",
    "        DeltaSM = abs(S2-S1)\n",
    "    return S"
   ]
  },
  {
   "cell_type": "markdown",
   "metadata": {},
   "source": [
    "Теперь нам нужно найти значения энергии, которые дают одинаковый наклон в обоих направлениях. Используя тот факт, что возбужденное состояние $n^{\\rm th}$ имеет узлы $n-1$, мы можем определить, какие комбинации вышеперечисленных функций использовать. Теперь все готово к тому, чтобы начать вычислять собственные энергии. Мы начинаем с энергии основного состояния, $E_0$."
   ]
  },
  {
   "cell_type": "markdown",
   "metadata": {},
   "source": [
    "### Основное Состояние"
   ]
  },
  {
   "cell_type": "markdown",
   "metadata": {},
   "source": [
    "Основное состояние имеет нулевые узлы, поэтому мы будем использовать функции, в которых волновая функция приближается к нулю сверху, __findSlopeP__ и __findSlopeM__, начиная поиск в интервале $0<E<2$ с длиной шага 0.1. Построение наклона как функции энергии как для положительных, так и для отрицательных значений $x$ покажет, дает ли какое-либо из значений энергии гладкую волновую функцию."
   ]
  },
  {
   "cell_type": "code",
   "execution_count": null,
   "metadata": {},
   "outputs": [],
   "source": [
    "f1 = np.zeros(p*n)\n",
    "f1[0] = 1.0\n",
    "f2 = np.zeros(p*n)\n",
    "f2[-1] = 1.0\n",
    "\n",
    "acc = 0.01\n",
    "N = 2\n",
    "E = np.linspace(0,N,10*N+1,True)\n",
    "lin = np.linspace(0,10*N,10*N+1,True)\n",
    "SP = np.zeros(10*N+1)\n",
    "SM = np.zeros(10*N+1)\n",
    "for k in lin:\n",
    "    SP[k] = findSlopeP(E[k], acc)\n",
    "    SM[k] = findSlopeM(E[k], acc)\n",
    "\n",
    "plt.figure()\n",
    "plt.plot(E, SP, 'b', E, -SM, 'g')\n",
    "plt.xticks(np.arange(min(E), max(E), (max(E)-min(E))/10))\n",
    "plt.grid()\n",
    "plt.xlabel('Energy')\n",
    "plt.ylabel('Slope');"
   ]
  },
  {
   "cell_type": "markdown",
   "metadata": {},
   "source": [
    "Мы видим, что существует пересечение для энергии $E_0 \\approx 1.1$. После некоторых проб и ошибок мы видим, что энергия основного состояния составляет приблизительно $E_0 = 1.09$, что дает довольно плавную функцию, как показано ниже. Так что, похоже, этот метод работает!"
   ]
  },
  {
   "cell_type": "code",
   "execution_count": null,
   "metadata": {},
   "outputs": [],
   "source": [
    "E0 = 1.09\n",
    "f1 = np.zeros(p*n)\n",
    "f1[0] = 1.0\n",
    "f2 = np.zeros(p*n)\n",
    "f2[-1] = 1.0\n",
    "acc = 1e-6\n",
    "SP0 = findSlopeP(E0, acc)\n",
    "SM0 = findSlopeM(E0, acc)\n",
    "\n",
    "print('Right slope: %s' % SP0)\n",
    "print('Left slope: %s' % -SM0)\n",
    "\n",
    "\n",
    "# Plot ground state\n",
    "plt.figure()\n",
    "plt.plot(xP, f1, 'b', xM, f2, 'b')\n",
    "plt.xlim([-3,3])\n",
    "plt.ylim([-0.5,2])\n",
    "plt.ylabel('$\\psi(x)$')\n",
    "plt.xlabel('$x$')\n",
    "plt.title('Ground State')\n",
    "plt.grid();"
   ]
  },
  {
   "cell_type": "markdown",
   "metadata": {},
   "source": [
    "Теперь мы видим, что вычисленные наклоны очень похожи. Чтобы получить более высокую точность, мы могли бы использовать метод деления пополам для энергий, близких к $1.09$."
   ]
  },
  {
   "cell_type": "markdown",
   "metadata": {},
   "source": [
    "### Первое Возбужденное Состояние"
   ]
  },
  {
   "cell_type": "markdown",
   "metadata": {},
   "source": [
    "Для первого возбужденного состояния теорема об узле гласит, что у нас будет один узел. Следовательно, волновая функция будет приближаться к оси $x$ снизу с одной стороны. Но с какой стороны от источника будет находиться узел? Глядя на график потенциала выше, мы видим, что потенциал ниже с правой стороны, и, следовательно, эта область более \"разрешена\". Следовательно, узел, вероятно, будет находиться справа от источника. Чтобы найти $E_1$, мы затем должны использовать вторую функцию __findSlopeP2__ для положительных значений $x$."
   ]
  },
  {
   "cell_type": "code",
   "execution_count": null,
   "metadata": {},
   "outputs": [],
   "source": [
    "f1 = np.zeros(p*n)\n",
    "f1[0] = 1.0\n",
    "f2 = np.zeros(p*n)\n",
    "f2[-1] = 1.0\n",
    "\n",
    "acc = 0.01\n",
    "N = 2\n",
    "start = 1\n",
    "E = np.linspace(start, N+start, 10*N+1)\n",
    "lin = np.linspace(0, 10*N, 10*N+1)\n",
    "SP = np.zeros(10*N+1)\n",
    "SM = np.zeros(10*N+1)\n",
    "for k in lin:\n",
    "    SP[k] = findSlopeP2(E[k], acc)\n",
    "    SM[k] = findSlopeM(E[k], acc)\n",
    "    \n",
    "    \n",
    "plt.figure()\n",
    "plt.plot(E, SP, 'b', E, -SM, 'g')\n",
    "plt.xticks(np.arange(min(E), max(E), (max(E)-min(E))/10))\n",
    "plt.grid()\n",
    "plt.xlabel('Energy')\n",
    "plt.ylabel('Slope');"
   ]
  },
  {
   "cell_type": "markdown",
   "metadata": {},
   "source": [
    "Здесь мы видим, что существует пересечение в $E_1 \\approx 2.3$, или, точнее, $E_1 = 2.33$."
   ]
  },
  {
   "cell_type": "code",
   "execution_count": null,
   "metadata": {},
   "outputs": [],
   "source": [
    "E1 = 2.33\n",
    "f1 = np.zeros(p*n)\n",
    "f1[0] = 1.0\n",
    "f2 = np.zeros(p*n)\n",
    "f2[-1] = 1.0\n",
    "acc = 1e-6\n",
    "SP1 = findSlopeP2(E1, acc)\n",
    "SM1 = findSlopeM(E1, acc)\n",
    "\n",
    "print('Right slope: %s' % SP1)\n",
    "print('Left slope: %s' % -SM1)\n",
    "\n",
    "# Plot first excited state\n",
    "plt.figure()\n",
    "plt.plot(xP, f1, 'b', xM, f2, 'b')\n",
    "plt.xlim([-3,3])\n",
    "plt.ylim([-2,2.5])\n",
    "plt.ylabel(r'$\\psi(x)$')\n",
    "plt.xlabel(r'$x$')\n",
    "plt.title('First Excited State')\n",
    "plt.grid();"
   ]
  },
  {
   "cell_type": "markdown",
   "metadata": {},
   "source": [
    "### Второе Возбужденное Состояние"
   ]
  },
  {
   "cell_type": "markdown",
   "metadata": {},
   "source": [
    "Для второго возбужденного состояния мы ожидаем два узла, но где? Вероятно, они будут по обе стороны от начала координат, но сдвинуты вправо по сравнению с симметричным потенциалом. Следовательно, волновая функция будет приближаться к оси $x$ снизу с обеих сторон, что делает второй набор функций __findSlopeP2__ и __findSlopeM2__ необходимым как для отрицательных, так и для положительных значений $x$."
   ]
  },
  {
   "cell_type": "code",
   "execution_count": null,
   "metadata": {},
   "outputs": [],
   "source": [
    "f1 = np.zeros(p*n)\n",
    "f1[0] = 1.0\n",
    "f2 = np.zeros(p*n)\n",
    "f2[-1] = 1.0\n",
    "\n",
    "acc = 0.01\n",
    "N = 3\n",
    "start = 2\n",
    "E = np.linspace(start, N+start, 10*N+1)\n",
    "lin = np.linspace(0, 10*N, 10*N+1)\n",
    "SP = np.zeros(10*N+1)\n",
    "SM = np.zeros(10*N+1)\n",
    "\n",
    "for k in lin:\n",
    "    SP[k] = findSlopeP2(E[k], acc)\n",
    "    SM[k] = findSlopeM2(E[k], acc)\n",
    "    \n",
    "    \n",
    "plt.figure()\n",
    "plt.plot(E,(SP),'b',E,-(SM),'g')\n",
    "plt.xticks(np.arange(min(E), max(E), (max(E)-min(E))/10))\n",
    "plt.grid()\n",
    "plt.xlabel('Energy')\n",
    "plt.ylabel('Slope');"
   ]
  },
  {
   "cell_type": "markdown",
   "metadata": {},
   "source": [
    "Пересечение находится на уровне $E_2 \\approx 4.2$, и дальнейшее исследование дает более точное значение $E_2 = 4.21$. "
   ]
  },
  {
   "cell_type": "code",
   "execution_count": null,
   "metadata": {},
   "outputs": [],
   "source": [
    "E2 = 4.21\n",
    "f1 = np.zeros(p*n)\n",
    "f1[0] = 1.0\n",
    "f2 = np.zeros(p*n)\n",
    "f2[-1] = 1.0\n",
    "acc = 1e-6\n",
    "SP2 = findSlopeP2(E2, acc)\n",
    "SM2 = findSlopeM2(E2, acc)\n",
    "\n",
    "print('Right slope: %s' % SP2)\n",
    "print('Left slope: %s' % -SM2)\n",
    "\n",
    "# Plot first excited state\n",
    "plt.figure()\n",
    "plt.plot(xP, f1, 'b', xM, f2, 'b')\n",
    "plt.xlim([-3,3])\n",
    "plt.ylim([-2,2.5])\n",
    "plt.ylabel(r'$\\psi(x)$')\n",
    "plt.xlabel(r'$x$')\n",
    "plt.title('Second Excited State')\n",
    "plt.grid();"
   ]
  },
  {
   "cell_type": "markdown",
   "metadata": {},
   "source": [
    "Из приведенного выше графика мы видим, что предположение относительно узлов было правильным. Продолжая в том же духе, мы могли бы определить энергии и построить волновые функции для более высоких состояний. Итак, мы показали, что на самом деле можно найти собственные энергии даже для асимметричного потенциала."
   ]
  }
 ],
 "metadata": {
  "kernelspec": {
   "display_name": "Python 3",
   "language": "python",
   "name": "python3"
  },
  "language_info": {
   "codemirror_mode": {
    "name": "ipython",
    "version": 3
   },
   "file_extension": ".py",
   "mimetype": "text/x-python",
   "name": "python",
   "nbconvert_exporter": "python",
   "pygments_lexer": "ipython3",
   "version": "3.7.4"
  }
 },
 "nbformat": 4,
 "nbformat_minor": 1
}
