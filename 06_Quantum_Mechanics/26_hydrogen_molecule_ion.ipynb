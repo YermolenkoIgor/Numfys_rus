{
 "cells": [
  {
   "cell_type": "markdown",
   "metadata": {},
   "source": [
    "<style>\n",
    "@import url(https://www.numfys.net/static/css/nbstyle.css);\n",
    "</style>\n",
    "<a href=\"https://www.numfys.net\"><img class=\"logo\" /></a>\n",
    "\n",
    "# Определение формы иона молекулы водорода\n",
    "## Examples - Quantum Mechanics\n",
    "<section class=\"post-meta\">\n",
    "By Henning G. Hugdal, Magnus H-S Dahle, Håkon W. Ånes and Peter Berg\n",
    "</section>\n",
    "Last edited: January 19th 2019\n",
    "___"
   ]
  },
  {
   "cell_type": "markdown",
   "metadata": {},
   "source": [
    "Цель этого примера состоит в том, чтобы определить форму иона молекулы водорода. Задача состоит в том, чтобы использовать интегрирование по методу Монте-Карло для нахождения соотношения между полуосями эллипсоида таким образом, чтобы вероятность нахождения электрона внутри эллипсоида была максимальной. Если вы не знакомы с интегрированием Монте-Карло, взгляните на краткое введение, приведенное в этом [блокноте](https://nbviewer.jupyter.org/urls/www.numfys.net/media/notebooks/ex_qm3_the_size_of_a_hydrogen_atom_monte_carlo_integration.ipynb)."
   ]
  },
  {
   "cell_type": "markdown",
   "metadata": {},
   "source": [
    "Нас интересует определение формы иона молекулы водорода, то есть одного электрона, связанного с двумя протонами. Гамильтониан для этой системы равен\n",
    "\n",
    "$$H = -\\frac{\\hbar^2}{2m}\\nabla^2 - \\frac{e^2}{4 \\pi \\epsilon_o}\\left(\\frac{1}{r_1}+\\frac{1}{r_2}\\right). $$\n",
    "    \n",
    "Используя волновую функцию 1s $\\psi_{100}$ для водорода в качестве основы, мы предлагаем пробную функцию\n",
    "\n",
    "$$ \\psi = A[\\psi_{100}(r_1)+\\psi_{100}(r_2)].$$\n",
    "\n",
    "Константа нормализации равна (см., например, Гриффитс, стр. 306 [[1]](#rsc))\n",
    "$$ A = \\sqrt{\\frac{1}{2(1+I)}}$$\n",
    "где \n",
    "$$ I = \\exp(-R/a)\\left[1+\\frac{R}{a}+\\frac{1}{3}\\left(\\frac{R}{a}\\right)^2\\right],$$\n",
    "\n",
    "где $R$ - расстояние между протонами. Как рассчитано на странице 308 в Griffiths [[1]](#rsc), расстояние, минимизирующее энергию, составляет $R=2.4 a$, где $a= 0.529$ Å-радиус Бора. Однако, чтобы избежать ошибок округления, мы установим $a=1$.\n",
    "\n",
    "Мы предполагаем азимутальную симметрию, т.е. отсутствие $\\phi$-зависимости, такой, что полуосновные оси в двух направлениях, скажем, в направлениях $x$ и $y$, равны. Затем два протона помещаются на ось $z$, например, в точке $\\pm R/2 \\hat{z}$. Для заданного объема эллипсоида\n",
    "$$V_0 = \\frac{4}{3}\\pi(2a)^3,$$\n",
    "мы хотим найти соотношение между полуосновными осями $b$ и $c$ эллипсоида, которое максимизирует вероятность нахождения электрона внутри эллипсоида.\n",
    "\n",
    "Нам также понадобится, чтобы поверхность эллипсоида описывалась\n",
    "$$ \\frac{x^2}{b^2}+\\frac{y^2}{b^2}+\\frac{z^2}{c^2} = 1$$\n",
    "и что объем задается\n",
    "$$ V = \\frac{4}{3}\\pi b^2 c.$$\n",
    "\n",
    "Теперь мы можем начинать!"
   ]
  },
  {
   "cell_type": "code",
   "execution_count": null,
   "metadata": {},
   "outputs": [],
   "source": [
    "%matplotlib inline\n",
    "#from __future__ import division\n",
    "import matplotlib.pyplot as plt\n",
    "import numpy as np\n",
    "import random\n",
    "import matplotlib.collections as collections\n",
    "\n",
    "# Set common figure parameters:\n",
    "newparams = {'axes.labelsize': 14, 'axes.linewidth': 1, 'savefig.dpi': 200, \n",
    "             'lines.linewidth': 1.0, 'figure.figsize': (2, 2),\n",
    "             'ytick.labelsize': 10, 'xtick.labelsize': 10,\n",
    "             'ytick.major.pad': 5, 'xtick.major.pad': 5,\n",
    "             'legend.fontsize': 10, 'legend.frameon': False, \n",
    "             'legend.handlelength': 1.5, 'figure.dpi': 150}\n",
    "plt.rcParams.update(newparams)"
   ]
  },
  {
   "cell_type": "markdown",
   "metadata": {},
   "source": [
    "Прежде всего, мы определяем функцию `psi(r1,r2, R)`, которая возвращает значение волновой функции для заданных расстояний $r_1$ и $r_2$ до двух протонов и расстояние $R$ между протонами."
   ]
  },
  {
   "cell_type": "code",
   "execution_count": null,
   "metadata": {},
   "outputs": [],
   "source": [
    "def psi(r1, r2, R): \n",
    "    \"\"\"Wavefunction for an electron in a potential from two protons.\n",
    "    Input:\n",
    "        r1     Distance to proton 1\n",
    "        r2     Distance to proton 2\n",
    "        R      Distance between protons\"\"\"\n",
    "    a = 1 # Bohr radius (set to one)\n",
    "    I = np.exp(-R/a)*(1+R/a+1/3*(R/a)**2)\n",
    "    A = np.sqrt(1/(2*(1+I)))\n",
    "    return A/np.sqrt(np.pi*a**3)*(np.exp(-r1/a)+np.exp(-r2/a))"
   ]
  },
  {
   "cell_type": "markdown",
   "metadata": {},
   "source": [
    "Затем мы определяем количество случайных точек, $N$, и используем общую процедуру, описанную [здесь](https://nbviewer.jupyter.org/urls/www.numfys.net/media/notebooks/ex_qm3_the_size_of_a_hydrogen_atom_monte_carlo_integration.ipynb) для вычисления вероятности внутри эллипсоида с полуосновными осями $b$ и $c$. Поскольку объем эллипсоида должен быть равен объему $V_0$, $c$ определяется из выбранного значения $b$."
   ]
  },
  {
   "cell_type": "code",
   "execution_count": null,
   "metadata": {},
   "outputs": [],
   "source": [
    "N = 1.0e5 # Number of random numbers\n",
    "a = 1     # Bohr radius (set to one)\n",
    "R = 2.4*a # From Griffiths p. 308\n",
    "i = 0\n",
    "n = 0\n",
    "V_0 = (4/3)*np.pi*(2*a)**3  # Given volume"
   ]
  },
  {
   "cell_type": "markdown",
   "metadata": {},
   "source": [
    "В следующем коде мы находим значение $b$, которое максимизирует вероятность. $2a$ выбрано в качестве верхней границы, поскольку представляется разумным, что эллипсоид должен быть растянут в направлении $z$, что означает $b<c$ и, следовательно, $b<2a$, что соответствует сфере с заданным объемом $V_0$."
   ]
  },
  {
   "cell_type": "code",
   "execution_count": null,
   "metadata": {},
   "outputs": [],
   "source": [
    "\"\"\"The following code calculates the value of b which maximizes the probability inside the ellipsoid.\n",
    "This is however not a very efficient solution.\"\"\"\n",
    "\n",
    "b_min = 1*a  # Lower limit for b\n",
    "b_max = 2*a  # Upper limit for b, corresponds to sphere\n",
    "b_steps = 6  # Number of steps between b_min and b_max\n",
    "b_ = np.linspace(b_min, b_max, b_steps)  # Array of b-values, the lenght of semi-principal axis \n",
    "                                         # in the x- and y-direction.\n",
    "acc = 0.0001*a  # Wanted accuracy\n",
    "prob = np.zeros(b_steps)\n",
    "while (b_max-b_min) > acc:\n",
    "    for j, b in enumerate(b_):\n",
    "        c = V_0*3/(4*np.pi*b**2)   # Length of semi-principal axis in z-direction, calculated from V_0 and b\n",
    "        while i < N:\n",
    "            x = random.uniform(-b, b)\n",
    "            y = random.uniform(-b, b)\n",
    "            z = random.uniform(-c, c)\n",
    "            check = (x/b)**2+(y/b)**2+(z/c)**2 # Used to check if point is inside ellipsoid\n",
    "            r1 = np.sqrt(x**2 + y**2 + (z-R/2)**2)\n",
    "            r2 = np.sqrt(x**2 + y**2 + (z+R/2)**2)\n",
    "            if check<=1:\n",
    "                n = n + abs(psi(r1, r2, R))**2\n",
    "            i = i + 1\n",
    "        prob[j] = n/N*8*b**2*c\n",
    "        n = 0\n",
    "        i = 0\n",
    "    b_max = b_[max(prob)==prob][0] + (b_max-b_min)/b_steps\n",
    "    b_min = b_[max(prob)==prob][0] - (b_max-b_min)/b_steps\n",
    "    b_ = np.linspace(b_min, b_max, b_steps)\n",
    "    \n",
    "prob_max = max(prob)\n",
    "b = b_[prob_max==prob][0]  \n",
    "c = V_0*3/(4*np.pi*b**2)\n",
    "print(\"Maximum probability is: %s\" % prob_max)\n",
    "print(\"b/a = %s\" % (b/a))\n",
    "print(\"c/a = %s\" % (c/a))\n",
    "print(\"The ratio b/c is: %s\" % (b/c))"
   ]
  },
  {
   "cell_type": "markdown",
   "metadata": {},
   "source": [
    "Значение отношения $b/c$, которое дает наибольшую вероятность, составляет приблизительно 0.6, что означает, что эллипсоид довольно сильно растянут вдоль оси $z$. В качестве иллюстрации того, кажется ли это разумным, ниже показана плотность вероятности в плоскости $xz$ вместе с эллипсом с соотношением $c/b$, найденным выше. "
   ]
  },
  {
   "cell_type": "code",
   "execution_count": null,
   "metadata": {},
   "outputs": [],
   "source": [
    "p = 1000\n",
    "xs = np.linspace(-1.1*c, 1.1*c, p, True)\n",
    "X,Z = np.meshgrid(xs, xs)\n",
    "psi2 = np.zeros([p, p])\n",
    "\n",
    "r1 = np.sqrt(X**2+(Z-R/2)**2)\n",
    "r2 = np.sqrt(X**2+(Z+R/2)**2)\n",
    "\n",
    "psi2 = abs(psi(r1, r2, R))**2\n",
    "\n",
    "plt.figure(figsize=(6,4.5))\n",
    "levels = np.linspace(0, 1, 100, True)\n",
    "C = plt.contourf(X/a, Z/a, psi2/psi(0,R,R)**2, levels)\n",
    "plt.title('Probability density for hydrogen molecule ion')\n",
    "plt.ylabel(r'$z/a$')\n",
    "plt.xlabel(r'$x/a$')\n",
    "cbar = plt.colorbar(C)\n",
    "cbar.ax.set_ylabel('Probability density (relative at maximum)')\n",
    "\n",
    "\n",
    "x = lambda v: b/a*np.cos(v)\n",
    "z = lambda v: c/a*np.sin(v)\n",
    "theta = np.linspace(0, 2*np.pi, 1000)\n",
    "p1, = plt.plot(x(theta), z(theta), 'r')\n",
    "p2, = plt.plot([0,0], [-R/a/2,R/a/2], 'r+')"
   ]
  },
  {
   "cell_type": "markdown",
   "metadata": {},
   "source": [
    "Как мы видим, определенное соотношение кажется вполне разумным! Чтобы проверить полученный результат, также интересно численно интегрировать плотность вероятности, используя встроенную функцию из `scipy.integrate`. Это делается ниже с помощью функций `dblquad` и `tplquad`, которые позволяют интегрировать в двух и трех измерениях соответственно. Двумерная интегральная функция может быть использована, поскольку у нас есть азимутальная симметрия, что означает, что интегрирование по $\\phi$ вносит только фактор $2\\pi$. Это также, безусловно, самый эффективный код для запуска."
   ]
  },
  {
   "cell_type": "code",
   "execution_count": null,
   "metadata": {},
   "outputs": [],
   "source": [
    "from scipy.integrate import dblquad # Two dimensional integral function\n",
    "\n",
    "def f2D(r, theta):\n",
    "    a = 1.0 # Bohr radius (set to one)\n",
    "    I = np.exp(-R/a)*(1+R/a+1/3*(R/a)**2)\n",
    "    A = np.sqrt(1/(2*(1+I)))\n",
    "    f = (A/np.sqrt(np.pi*a**3)*(np.exp(-np.sqrt(r**2+R**2/4-R*r*np.cos(theta))/a)\\\n",
    "        +np.exp(-np.sqrt(r**2+R**2/4+R*r*np.cos(theta))/a)))**2*r**2*np.sin(theta)\n",
    "    return f\n",
    "\n",
    "#Integration limits\n",
    "r1 = 0\n",
    "r2 = lambda theta: b*c/np.sqrt(c**2*np.sin(theta)**2+b**2*np.cos(theta)**2)\n",
    "\n",
    "t1 = 0\n",
    "t2 = np.pi\n",
    "\n",
    "I = 2*np.pi*dblquad(f2D, t1, t2, lambda theta: r1, lambda theta: r2(theta))[0]\n",
    "print(\"The probability is: %s\" % I)"
   ]
  },
  {
   "cell_type": "code",
   "execution_count": null,
   "metadata": {},
   "outputs": [],
   "source": [
    "from scipy.integrate import tplquad  # Three dimensional integral function\n",
    "\n",
    "def f3D(phi, r, theta):\n",
    "    a = 1.0 # Bohr radius (set to one)\n",
    "    I = np.exp(-R/a)*(1+R/a+1/3*(R/a)**2)\n",
    "    A = np.sqrt(1/(2*(1+I)))\n",
    "    f = (A/np.sqrt(np.pi*a**3)*(np.exp(-np.sqrt(r**2+R**2/4-R*r*np.cos(theta))/a)+\\\n",
    "        np.exp(-np.sqrt(r**2+R**2/4+R*r*np.cos(theta))/a)))**2*r**2*np.sin(theta)\n",
    "    return f\n",
    "\n",
    "#Integration limits\n",
    "r1 = 0\n",
    "r2 = lambda theta: b*c/np.sqrt(c**2*np.sin(theta)**2+b**2*np.cos(theta)**2)\n",
    "\n",
    "t1 = 0\n",
    "t2 = np.pi\n",
    "\n",
    "p1 = 0\n",
    "p2 = 2*np.pi\n",
    "\n",
    "I = tplquad(f3D,t1,t2,lambda theta: r1, lambda theta: r2(theta),lambda theta,r: p1, lambda theta,r: p2)[0]\n",
    "print(\"The probability is: %s\" % I)"
   ]
  },
  {
   "cell_type": "markdown",
   "metadata": {},
   "source": [
    "Мы видим, что результат, полученный с помощью интеграции Монте-Карло, довольно хорошо соответствует результатам, полученным с помощью встроенных функций.\n",
    "\n",
    "В качестве проверки наших предыдущих результатов мы также можем попытаться найти оптимальное решение, используя функцию `optimize.minimize` из библиотеки `scipy`. Здесь мы используем метод двумерной интеграции, поскольку он был наиболее эффективным."
   ]
  },
  {
   "cell_type": "code",
   "execution_count": null,
   "metadata": {},
   "outputs": [],
   "source": [
    "from scipy.optimize import minimize\n",
    "\n",
    "def obj_func(b, V):\n",
    "    \"\"\"Objective function which returns the probability for a given value of the semi-principal axis b\"\"\"\n",
    "    B = b*a\n",
    "    C = V*3/(4*np.pi*B**2)\n",
    "    r1 = 0\n",
    "    r2 = lambda theta: B*C/np.sqrt(C**2*np.sin(theta)**2+B**2*np.cos(theta)**2)\n",
    "\n",
    "    t1 = 0\n",
    "    t2 = np.pi\n",
    "\n",
    "    I = 2*np.pi*dblquad(f2D, t1, t2, lambda theta: r1, lambda theta: r2(theta))[0]\n",
    "    return -I\n",
    "\n",
    "def optimizeRatio(V, tol):\n",
    "    b_0 = 0.01\n",
    "    res = minimize(fun=obj_func, x0=b_0, args=(V,), jac=False, tol=tol)\n",
    "    ratio = res.x[0]*a/(V*3/(4*np.pi*res.x[0]**2)/a**2)\n",
    "    \n",
    "    return (ratio, res)\n",
    "\n",
    "rat, res = optimizeRatio(V_0, 1e-5)\n",
    "\n",
    "print(res.message)\n",
    "print(\"b/a = %s\" % res.x[0])\n",
    "print(\"Maximum probability = %s\" % res.fun*(-1))\n",
    "print(\"Ratio b/c = %s\" % rat)"
   ]
  },
  {
   "cell_type": "markdown",
   "metadata": {},
   "source": [
    "Как мы видим, результаты довольно хорошо согласуются с тем, что мы обнаружили ранее.\n",
    "___\n",
    "\n",
    "Следующий интересный вопрос: как изменяется соотношение $b/c$ при изменении объема $V_0$ эллипсоида? Размышляя о том, как расположены протоны, можно предположить, что $b/c$ будет уменьшаться при уменьшении объема, т.е. эллипсоид становится очень узким, чтобы вместить два протона. Для больших объемов $b/c$ должен приближаться к единице. Давайте проверим эти предположения. Чтобы сэкономить вычислительное время, мы будем использовать функцию `minimize` из библиотеки `scipy`, как было сделано выше."
   ]
  },
  {
   "cell_type": "code",
   "execution_count": null,
   "metadata": {},
   "outputs": [],
   "source": [
    "V = np.logspace(-3, 3, 7)\n",
    "ratios = np.zeros(np.size(V))\n",
    "results = np.zeros(np.size(V))\n",
    "# We need higher accuracy when the volume gets larger, in order to find the correct ratio:\n",
    "\n",
    "for i, V_ in enumerate(V):\n",
    "    (ratios[i], res) = optimizeRatio(V_, 1e-4)"
   ]
  },
  {
   "cell_type": "code",
   "execution_count": null,
   "metadata": {},
   "outputs": [],
   "source": [
    "plt.figure(figsize=(8,3))\n",
    "plt.loglog(V, ratios, '-')\n",
    "plt.ylabel(r\"$b/c$\")\n",
    "plt.xlabel(r\"$V$\");"
   ]
  },
  {
   "cell_type": "markdown",
   "metadata": {},
   "source": [
    "Мы видим, что наша догадка, похоже, вполне соответствует действительности!"
   ]
  },
  {
   "cell_type": "markdown",
   "metadata": {},
   "source": [
    "___\n",
    "<a id=\"rsc\"></a>\n",
    "## References\n",
    "\n",
    "<a>[1]</a> Griffiths, D. J. _Introduction to Quantum Mechanics_. Pearson Education, 2004."
   ]
  }
 ],
 "metadata": {
  "kernelspec": {
   "display_name": "Python 3",
   "language": "python",
   "name": "python3"
  },
  "language_info": {
   "codemirror_mode": {
    "name": "ipython",
    "version": 3
   },
   "file_extension": ".py",
   "mimetype": "text/x-python",
   "name": "python",
   "nbconvert_exporter": "python",
   "pygments_lexer": "ipython3",
   "version": "3.7.4"
  }
 },
 "nbformat": 4,
 "nbformat_minor": 1
}
