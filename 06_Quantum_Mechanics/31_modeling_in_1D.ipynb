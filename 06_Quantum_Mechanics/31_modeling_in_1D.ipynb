{
 "cells": [
  {
   "cell_type": "markdown",
   "metadata": {},
   "source": [
    "<style>\n",
    "@import url(https://www.numfys.net/static/css/nbstyle.css);\n",
    "</style>\n",
    "<a href=\"https://www.numfys.net\"><img class=\"logo\" /></a>\n",
    "# Моделирование Атомов, Молекул и Кристаллов в одном измерении\n",
    "\n",
    "## Example - Quantum Mechanics\n",
    "<section class=\"post-meta\">\n",
    "by Jon Andreas Støvneng, Eilif Sommer Øyre and Niels Henrik Aase\n",
    "</section>\n",
    "Last edited: March 28th 2019\n",
    "\n",
    "___\n",
    "\n",
    "This notebook is based on a numerical project [[1]](#rsc) created for TMA4320 *Introduction to Scientific Computation* and TFY4215 *Introduction to Quantum Physics* during the spring of 2019 at the Norwegian University of Science and Technology (NTNU).\n",
    "\n",
    "___"
   ]
  },
  {
   "cell_type": "markdown",
   "metadata": {},
   "source": [
    "## Вступление\n",
    "В этом блокноте мы решим независимое от времени уравнение Шредингера,\n",
    "\n",
    "\\begin{equation}\n",
    "H\\psi = E\\psi,\n",
    "\\label{TUSL} \\quad (1)\n",
    "\\end{equation}\n",
    "\n",
    "в одном измерении с использованием диагонализации матрицы. Метод такой же, как и в [*Собственные энергии через диагонализацию матрицы*](https://nbviewer.jupyter.org/urls/www.numfys.net/media/notebooks/eigenenergies_through_matrix_diagonalization.ipynb#rsc), но будем использовать функцию из библиотеки scipy и решать (1) для нескольких различных потенциалов. В частности, мы рассмотрим частицу в коробке, в одной потенциальной яме, в двойной потенциальной яме и в $N$ потенциальных ямах. Последние три потенциала дадут качественное представление о поведении атома, молекулы и кристалла соответственно. \n",
    "\n",
    "Мы предполагаем невзаимодействующие электроны со спином $\\pm 1/2$. Электроны подчиняются принципу Паули (только один электрон в каждом состоянии), который ограничивает количество электронов, занимающих каждое орбитальное состояние, двумя: один со спином вверх ($+1/2$) и один со спином вниз ($-1/2$). Из-за ограничений одномерной системы теряются некоторые трехмерные характеристики атома, молекулы и кристалла, например, угловой момент и вырождение."
   ]
  },
  {
   "cell_type": "markdown",
   "metadata": {},
   "source": [
    "## Численный метод\n",
    "Для частицы с массой $m$ в одном измерении (1) становится\n",
    "\n",
    "$$-\\frac{\\hbar^2}{2m} \\frac{d^2 \\psi(x)}{dx^2} + V(x) \\psi(x) = E \\psi(x).$$\n",
    "\n",
    "Далее, путем дискретизации операторов кинетической и потенциальной энергии\n",
    "\n",
    "$$\n",
    "\\begin{align}\n",
    "\\psi_n &= \\psi(x_n) = \\psi(n\\cdot \\Delta x) \\\\\n",
    "V_n &= V(x_n) ,\n",
    "\\end{align}\n",
    "$$\n",
    "\n",
    "уравнение можно переписать следующим образом\n",
    "\n",
    "$$\n",
    "\\begin{equation}\n",
    "-\\frac{\\hbar^2}{2m} \\frac{\\psi_{n+1}-2\\psi_n+\\psi_{n-1}}{(\\Delta x)^2} + V_n \\psi_n = E \\psi_n.\n",
    "\\label{discret}\n",
    "\\end{equation}\n",
    "$$\n",
    "\n",
    "Чтобы зафиксировать положение частицы на конечном интервале на оси $x$ длины $L = (N + 1)\\Delta x$, выберем $V_0 = \\infty$ и $V_{N+1} = \\infty$ так, чтобы $\\psi$ был ненулевым только при $1 \\le n \\le N$. Это приводит к разностным уравнениям $N$ \n",
    "\n",
    "$$ \\textbf{H}\\vec{\\psi} = E\\vec{\\psi} ,$$\n",
    "\n",
    "где $\\textbf{H}$ is a $N \\times N$ вещественная, симметричная, трехдиагональная матрица в виде\n",
    "\n",
    "\\begin{equation} \\textbf{H} = \n",
    "\\begin{bmatrix} \n",
    "\\frac{\\hbar^2}{m(\\Delta x)^2} + V_1 & -\\frac{\\hbar^2}{2m(\\Delta x)^2} & 0 & 0 & 0 \\\\\n",
    "-\\frac{\\hbar^2}{2m(\\Delta x)^2} & \\frac{\\hbar^2}{m(\\Delta x)^2} + V_2 & -\\frac{\\hbar^2}{2m(\\Delta x)^2} & 0 & 0 \\\\\n",
    "0 & \\ddots & \\ddots & \\ddots & 0 \\\\\n",
    "0 & 0 & -\\frac{\\hbar^2}{2m(\\Delta x)^2} & \\frac{\\hbar^2}{m(\\Delta x)^2} + V_{N-1} & -\\frac{\\hbar^2}{2m(\\Delta x)^2}\\\\\n",
    "0 & 0 & 0 & -\\frac{\\hbar^2}{2m(\\Delta x)^2} & \\frac{\\hbar^2}{m(\\Delta x)^2} + V_{N}\n",
    "\\end{bmatrix},\n",
    "\\end{equation}\n",
    "\n",
    "и $E$ - это диагональная матрица $N\\times N$ \n",
    "\n",
    "\\begin{equation} E = \n",
    "\\begin{bmatrix} E & 0 & 0 \\\\\n",
    "                0 & \\ddots & 0 \\\\\n",
    "                0 & 0 & E\n",
    "\\end{bmatrix}.\n",
    "\\end{equation}\n",
    "\n",
    "У нас есть нетривиальные решения, $\\vec{\\psi} \\ne 0$, если полином N-й степени\n",
    "\n",
    "$${\\rm det}(\\textbf{H} - E) = 0 = c_N E^N + c_{N-1} E^{N-1} + \\dots + c_1 E + c_0,$$\n",
    "\n",
    "с коэффициентами $c_N, c_{N-1}, ..., c_0$, равен нулю. Многочлен имеет $N$ решений $E_1$, $E_2$, $\\dots$ , $E_N$ с соответствующими собственными векторами $\\vec{\\psi}^{(1)}$, $\\vec{\\psi}^{(2)}$, $\\dots$, $\\vec{\\psi}^{(N)}$, такими, что\n",
    "\n",
    "$$(\\textbf{H} - E_j)\\vec{\\psi}^{(j)} = 0 \\;\\;\\; ; \\;\\;\\; j = 1,2,\\dots,N.$$\n",
    "\n",
    "Нормализация волновых функций\n",
    "\n",
    "$$\\int_{-\\infty}^{\\infty} |\\psi^{(j)}(x)|^2\\,dx = 1,$$\n",
    "\n",
    "соответствует в дискретном случае\n",
    "\n",
    "$$\\sum_{n=1}^{N} |\\psi_n^{(j)}|^2 = 1 \\;\\;\\; ; \\;\\;\\; j = 1,2,\\dots,N,$$\n",
    "\n",
    "где $\\psi_n^{(j)} = \\psi^{(j)}(x_n)$ - значение $j$-й волновой функции в позиции $x_n = n\\,\\Delta x$. \n",
    "\n",
    "Предполагая, что волновые функции вещественны, мы можем записать отношение ортонормальности следующим образом\n",
    "\n",
    "$$\\sum_{n=1}^{N} \\psi_n^{(k)} \\psi_n^{(j)} = \\delta_{kj}$$\n",
    "\n",
    "и отношение полноты как\n",
    "\n",
    "$$\\sum_{j=1}^{N} \\psi_n^{(j)} \\psi_k^{(j)} = \\delta_{nk},$$\n",
    "\n",
    "где $\\delta_{kj}$ - дельта Кронекера\n",
    "\n",
    "\\begin{equation} \\delta_{kj} = \n",
    "\\begin{cases} 0, \\; \\text{if}\\; k \\ne j \\\\\n",
    "              1, \\; \\text{if}\\; k = j\n",
    "\\end{cases}.\n",
    "\\end{equation}"
   ]
  },
  {
   "cell_type": "markdown",
   "metadata": {},
   "source": [
    "## Реализация"
   ]
  },
  {
   "cell_type": "markdown",
   "metadata": {},
   "source": [
    "Процедура нахождения собственных значений $\\textbf{H}$ после определения его элементов довольно проста с помощью вычислительного инструмента `scipy`. Функция `scipy.linalg.eight_tridiagonal` находит собственные значения реальной симметричной трехдиагональной матрицы с учетом элементов диагоналей."
   ]
  },
  {
   "cell_type": "code",
   "execution_count": null,
   "metadata": {
    "scrolled": true
   },
   "outputs": [],
   "source": [
    "# Import libraries\n",
    "import numpy as np\n",
    "import matplotlib.pyplot as plt\n",
    "from scipy import linalg\n",
    "\n",
    "# Define constants\n",
    "hbar = 1.05E-34     # Reduced Planck constant\n",
    "m = 9.11E-31        # Mass of particle, in this case an electron\n",
    "V0 = -10.0*1.6E-19  # Depth of potential well"
   ]
  },
  {
   "cell_type": "markdown",
   "metadata": {},
   "source": [
    "### Частица в коробке\n",
    "Потенциал\n",
    "\n",
    "$$ V(x) = 0 \\;\\;\\text{for}\\;\\; 0 < x < L \\;\\;\\implies\\;\\; V_n = 0 \\;\\;\\text{for}\\;\\; 1 < n < N $$\n",
    "\n",
    "соответствует бесконечной потенциальной яме или *частице в коробке*. Для этого потенциала независимое от времени уравнение Шредингера (1) имеет аналитическое решение\n",
    "\n",
    "$$ \\psi_j(x) = \\sqrt{\\frac{2}{L}}\\sin k_j x \\;\\; \\text{with}\\;\\; E_j = \\frac{\\hbar^2 k_j^2}{2m} \\; ; \\; k_j = \\frac{j\\pi}{L} .$$\n",
    "\n",
    "Это дает нам возможность проверить, верен ли наш численный метод."
   ]
  },
  {
   "cell_type": "code",
   "execution_count": null,
   "metadata": {
    "scrolled": true
   },
   "outputs": [],
   "source": [
    "dx = 1.0E-11    # Discretisation step length\n",
    "N = 99          # Number of discretisation steps\n",
    "V = np.zeros(N) # Potential\n",
    "\n",
    "def solveSchrodinger(V):\n",
    "    \"\"\"Given the potential, V(x), solves the one dimensional time \n",
    "    independent Schrödinger equation using matrix diagonalisation \n",
    "    and returns the eigenvectors and corresponding eigenvalues (in eV).\n",
    "    Also returns the discrete x-values of the eigenvectors\n",
    "    in nanometer in the array xnm.\n",
    "    \"\"\"\n",
    "    Ntot = len(V)\n",
    "    # Position values\n",
    "    x = np.array([dx*n for n in range(Ntot)])\n",
    "    # convert to nanometer [nm]\n",
    "    xnm = x*1.0E9\n",
    "\n",
    "    # Array of the diagonal elements of H\n",
    "    mainDiag = [v + hbar**2/(m*dx**2) for v in V]\n",
    "    # Array of the above/below diagonal elements of the main diagonal of H\n",
    "    secondDiag = [-hbar**2/(2*m*dx**2)]*(Ntot-1)\n",
    "\n",
    "    # Finding the eigenvalues and eigenvectors of the H-matrix         \n",
    "    eigVal, eigVec = linalg.eigh_tridiagonal(mainDiag, secondDiag) # eigVec[j, n], eigVal[j]\n",
    "    # Convert to electronvolt [eV]\n",
    "    eigVal *= 1/1.60E-19\n",
    "    \n",
    "    return eigVec, eigVal, xnm\n",
    "\n",
    "\n",
    "eigVec, eigVal, xnm = solveSchrodinger(V)\n",
    "\n",
    "def plotEigenValues(n, eigVal, xnm, plotPotential, V):\n",
    "    \"\"\"Plots the n lowest eigenvalues.\"\"\"\n",
    "    plt.title(r'Eigenvalues $E_j$', fontsize=15)\n",
    "    if plotPotential:\n",
    "        # Plots the potential\n",
    "        plt.plot(xnm, V/1.6E-19, label=r'$V(x)$')\n",
    "    for i in range(n):\n",
    "        plt.plot(xnm, [eigVal[i]]*len(xnm), label=r'$j = $%.i'%(i))\n",
    "    # Manually define the y-axis points\n",
    "    plt.yticks((eigVal[0], eigVal[1], eigVal[2], eigVal[3]), \n",
    "               ('%.2f eV'%(eigVal[0]), '%.2f eV'%(eigVal[1]), \n",
    "                '%.2f eV'%(eigVal[2]), '%.2f eV'%(eigVal[3])), fontsize=10)\n",
    "    plt.xticks((), ())\n",
    "    \n",
    "def plotEigenVectors(n1, n2, eigVec, xnm):\n",
    "    \"\"\"Plots eigenvectors n1 to n2\"\"\"\n",
    "    plt.title(r'Wave functions $\\vec{\\psi}^{(j)}$', fontsize=15)\n",
    "    for i in range(n1, n2+1):\n",
    "        plt.plot(xnm, eigVec[:, i], label=r'$j = $%.i'%(i + 1))\n",
    "    plt.xlabel('$x$ (nm)')\n",
    "    plt.ylabel('$\\psi(x)$')\n",
    "    plt.grid(True)\n",
    "    plt.legend(loc='best')\n",
    "    \n",
    "# Plot the four lowest eigenvectors\n",
    "plt.figure(\"Box Potential\", figsize=(13, 6), dpi=(200))\n",
    "plt.subplot(121)\n",
    "plotEigenVectors(0, 3, eigVec, xnm)\n",
    "\n",
    "# Plot the four lowest eigenvalues\n",
    "plt.subplot(122)\n",
    "plotEigenValues(4, eigVal, xnm, False, 0)\n",
    "\n",
    "plt.show()"
   ]
  },
  {
   "cell_type": "markdown",
   "metadata": {},
   "source": [
    "Очевидно, численные волновые функции на графике напоминают аналитические решения. А как насчет собственных значений?"
   ]
  },
  {
   "cell_type": "code",
   "execution_count": null,
   "metadata": {
    "scrolled": true
   },
   "outputs": [],
   "source": [
    "def E_analytical(j):\n",
    "    \"\"\"Function that returns the analytical eigenvalue of a\n",
    "    particle in a box. The parameter j is the quantum number\n",
    "    \"\"\"\n",
    "    # Length of box\n",
    "    L = (N + 1)*dx\n",
    "    k = j*np.pi/L\n",
    "    E = hbar**2*k**2/(2*m)\n",
    "    return E/1.60E-19\n",
    "\n",
    "# The ground state energy\n",
    "E_1 =  E_analytical(1)\n",
    "\n",
    "print(\"\\t\\t E_1 \\t\\t E_2 \\t\\t E_3 \\t\\t E_4\")\n",
    "print(\"Numerical \\t %.6f eV \\t %.6f eV \\t %.6f eV \\t %.6f eV\"\n",
    "      %(eigVal[0], eigVal[1], eigVal[2], eigVal[3]))\n",
    "print(\"Analytical \\t %.6f eV \\t %.6f eV \\t %.6f eV \\t %.6f eV\"\n",
    "      %(E_1, E_analytical(2), E_analytical(3), E_analytical(4)))"
   ]
  },
  {
   "cell_type": "code",
   "execution_count": null,
   "metadata": {
    "scrolled": true
   },
   "outputs": [],
   "source": [
    "# Are the wavefunctions normalised?\n",
    "norm = eigVec**2\n",
    "print(\"Average norm:\", np.sum(norm)/N)\n",
    "\n",
    "# Are they orthogonal?\n",
    "ortogSum = 0\n",
    "for n in range(N):\n",
    "    for q in range(N):\n",
    "        if n != q:\n",
    "            ortogSum += np.sum(eigVec[:, n]*eigVec[:, q])\n",
    "            \n",
    "print(\"Orthogonality sum:\", ortogSum)\n",
    "\n",
    "# Do they satisfy the completeness relation?\n",
    "completSum = 0\n",
    "for n in range(N):\n",
    "    for q in range(N):\n",
    "        if n != q:\n",
    "            ortogSum += np.sum(eigVec[n, :]*eigVec[q, :])\n",
    "            \n",
    "print(\"Completeness sum:\", completSum)"
   ]
  },
  {
   "cell_type": "markdown",
   "metadata": {},
   "source": [
    "Собственные функции ортонормированы и образуют полный набор. Как уменьшается ошибка в $E$ с уменьшением размера шага?"
   ]
  },
  {
   "cell_type": "code",
   "execution_count": null,
   "metadata": {
    "scrolled": true
   },
   "outputs": [],
   "source": [
    "print(\"Log Error for Log dx = %.1E:\\t%.1E \"%(np.log10(dx), np.log10(np.abs(E_1 - eigVal[0]))))\n",
    "\n",
    "# Re-calculate eigenenergies\n",
    "N = 999\n",
    "dx = 1.0E-12\n",
    "V2 = np.zeros(N)\n",
    "eigVec2, eigVal2, xnm2 = solveSchrodinger(V2)\n",
    "print(\"Log Error for Log dx = %.1E:\\t%.1E \"%(np.log10(dx), np.log10(np.abs(E_1 - eigVal2[0]))))\n",
    "\n",
    "# Re-calculate eigenenergies\n",
    "N = 9999\n",
    "dx = 1.0E-13\n",
    "V3 = np.zeros(N)\n",
    "eigVec3, eigVal3, xnm3 = solveSchrodinger(V3)\n",
    "print(\"Log Error for Log dx = %.1E:\\t%.1E \"%(np.log10(dx), np.log10(np.abs(E_1 - eigVal3[0]))))"
   ]
  },
  {
   "cell_type": "markdown",
   "metadata": {},
   "source": [
    "Это показывает, что ошибка в $E_1$ имеет второй порядок в $dx$."
   ]
  },
  {
   "cell_type": "markdown",
   "metadata": {},
   "source": [
    "### Атом\n",
    "\n",
    "Волновые функции и уровни энергии из одной потенциальной ямы могут качественно описать поведение электронов в атоме.\n",
    "Можно показать, что число связанных состояний $N_{связанных}$ в потенциальной яме $V_0$ определяется [[2]](#rsc)\n",
    "\n",
    "\\begin{equation}\n",
    "N_{bound} = 1 + \\big[ \\sqrt{2m|V_0|} \\frac{w}{\\pi \\hbar}\\big],\n",
    "\\end{equation}\n",
    "\n",
    "где термин в скобках округляется до ближайшего целого числа. С потенциальной ямой глубиной $V_0 = -10 \\text{ eV}$ и шириной $w = 0.5 \\text{ nm}$ мы получаем 3 связанных состояния для электрона. На каждой стороне ямы добавляется область нулевого потенциала шириной $10w$.  Еще одним интересным свойством системы является глубина проникновения, здесь аналитически заданная как \n",
    "\n",
    "\\begin{equation}\n",
    "\\kappa^{-1} = \\frac{\\hbar}{\\sqrt{2m(|V_0|-|E|)}}.\n",
    "\\end{equation}\n",
    "\n",
    "Поскольку $V_0$ выбран отрицательным, энергии связанного состояния также отрицательны.\n",
    "Мы можем сравнить наш численный результат с аналитическими значениями, если проникновение в контакты не слишком велико, $\\kappa^{-1} \\ll 10w$.\n",
    "Аналитически симметричные и антисимметричные волновые функции соответствуют собственным значениям энергии, заданным\n",
    "\n",
    "\\begin{equation}\n",
    "\\tan\\frac{\\sqrt{2m|E|}w}{2\\hbar} =\n",
    "        \\begin{cases}\n",
    "        \\sqrt{\\frac{|V_0| - |E|}{|E|}} \\; ; \\; \\text{Symmetric wave functions}\\\\\n",
    "        -\\sqrt{\\frac{|E|}{|V_0| - |E|}} \\; ; \\; \\text{Antisymmetric wave functions}.\n",
    "        \\end{cases}\n",
    "\\label{analyticalRelation} \\quad (2)\n",
    "\\end{equation}\n",
    "\n",
    "Проверка соответствия для левой и правой стороны - хорошая проверка на вменяемость для нашей модели.\n",
    "\n",
    "Кроме того, считая кинетическую энергию $K$ как $p^2/2m = E - V$ и соотношение импульса $p = \\hbar k = h/\\lambda$, мы получаем следующее выражение для длины волны:\n",
    "\n",
    "\\begin{equation}\n",
    "\\frac{h^2}{\\lambda^2 2 m} = E - V \\; \\implies \\; \\lambda = \\frac{2 \\pi \\hbar }{\\sqrt{2 m (E - V)}},\n",
    "\\label{wavelength} \\quad (3)\n",
    "\\end{equation}\n",
    "\n",
    "где $h =2\\pi\\hbar$."
   ]
  },
  {
   "cell_type": "code",
   "execution_count": null,
   "metadata": {
    "scrolled": true
   },
   "outputs": [],
   "source": [
    "dx = 1.0E-11     # Discretisation step length\n",
    "w = 0.5E-9       # Well width\n",
    "N = int(w/dx)    # Number of discretisation steps in atom\n",
    "left = [0]*10*N  # Potential left of atom\n",
    "atom = [V0]*N    # Potential of atom\n",
    "right = [0]*10*N # Potential right of atom\n",
    "\n",
    "# Array of potential values for the system\n",
    "V = np.asarray(left + atom + right)\n",
    "\n",
    "eigVec, eigVal, xnm = solveSchrodinger(V)\n",
    "\n",
    "# Plot the four lowest eigenvalues and eigenvectors\n",
    "plt.figure(\"Box Potential\", figsize=(13, 9), dpi=200)\n",
    "\n",
    "plt.subplot(321)\n",
    "plotEigenVectors(0, 2, eigVec, xnm)\n",
    "wellStart = len(left)*dx\n",
    "plt.xlim((wellStart - w)/1.0E-9, (wellStart + 2*w)/1.0E-9)\n",
    "\n",
    "# Plot higher eigenvalues and their corresponding eigenvectors\n",
    "plt.subplot(323)\n",
    "plotEigenVectors(3, 6, eigVec, xnm)\n",
    "\n",
    "plt.subplot(3, 2, (2, 4))\n",
    "plotEigenValues(6, eigVal, xnm, True, V)\n",
    "\n",
    "plt.subplot(3, 2, (5, 6))\n",
    "plotEigenVectors(11, 11, eigVec, xnm)\n",
    "\n",
    "plt.subplots_adjust(hspace=0.5)\n",
    "plt.show()\n",
    "\n",
    "print(\"Energy of 4 lowest unbound states: \\t %.6f eV \\t %.6f eV \\t %.6f eV \\t %.6f eV\"\n",
    "      %(eigVal[3], eigVal[4], eigVal[5], eigVal[6]))"
   ]
  },
  {
   "cell_type": "markdown",
   "metadata": {},
   "source": [
    "На верхнем левом графике показаны 3 связанных состояния системы. Собственные значения следующих четырех состояний положительны, что делает контакты классически допустимыми. Мы видим, что энергетическое разделение между этими состояниями относительно невелико, т.е. у нас квазинепрерывный спектр. Давайте включим собственные значения связанных состояний в аналитическое отношение (2)."
   ]
  },
  {
   "cell_type": "code",
   "execution_count": null,
   "metadata": {
    "scrolled": true
   },
   "outputs": [],
   "source": [
    "factor = np.sqrt(2*m)*w/(2*hbar)\n",
    "# Energy of the states above the potential well bottom\n",
    "E1 = eigVal[0]*1.6E-19 - V0\n",
    "E2 = eigVal[1]*1.6E-19 - V0\n",
    "E3 = eigVal[2]*1.6E-19 - V0\n",
    "\n",
    "# Symmetric (S)\n",
    "# Antisymmetric (AS)\n",
    "print(\"\\t Ground state (S) \\t 1st excited state (AS) \\t 2nd excited state (S)\")\n",
    "# Left hand side (LHS)\n",
    "print(\"LHS \\t %.4f \\t\\t %.4f  \\t\\t\\t %.4f \"%(np.tan(factor*np.sqrt(E1)), \n",
    "                                              np.tan(factor*np.sqrt(E2)),\n",
    "                                              np.tan(factor*np.sqrt(E3))))\n",
    "# Right hand side (RHS)\n",
    "print(\"RHS \\t %.4f  \\t\\t %.4f  \\t\\t\\t %.4f \"%(np.sqrt(np.absolute(V0)/E1 - 1),\n",
    "                                              -np.sqrt(E2/(np.absolute(V0) - E2)),\n",
    "                                              np.sqrt(np.absolute(V0)/E3 - 1)))"
   ]
  },
  {
   "cell_type": "markdown",
   "metadata": {},
   "source": [
    "Мы получаем довольно хорошую пару! Как насчет соотношения длин волн (3)? 11-е возбужденное состояние ($j=12$) имеет энергию $10.3592 \\text{ eV}$ над ямой."
   ]
  },
  {
   "cell_type": "code",
   "execution_count": null,
   "metadata": {
    "scrolled": true
   },
   "outputs": [],
   "source": [
    "# Energy of the 11th excited state above the potential well bottom\n",
    "E12 = eigVal[11]*1.6E-19 - V0\n",
    "\n",
    "# Calculating wavelength inside well\n",
    "kIn = E12\n",
    "lambIn = 2*np.pi*hbar/np.sqrt(2*m*kIn)\n",
    "# Converting to nm\n",
    "lambIn *=1.0E9\n",
    "\n",
    "# Calculating wavelength outside well (V0 = 0)\n",
    "kOut = E12 + V0\n",
    "lambOut = 2*np.pi*hbar/np.sqrt(2*m*kOut)\n",
    "lambOut *=1.0E9\n",
    "\n",
    "print(\"Wavelength inside well:  %.3f nm\"%(lambIn))\n",
    "print(\"Wavelength outside well: %.3f nm\"%(lambOut))"
   ]
  },
  {
   "cell_type": "markdown",
   "metadata": {},
   "source": [
    "Длина волны этой волновой функции должна составлять $0.38$ нм внутри и $2.0$ нм вне потенциала скважины, что очень хорошо согласуется с графиком $\\psi_{12}$ выше.\n",
    "\n",
    "Предполагая невзаимодействующие электроны, какие атомы могут быть построены с этими тремя связанными состояниями? В общей сложности два электрона могут занимать каждое состояние с противоположным спином (фермионы, включая электроны, имеют спин 1/2), что дает в общей сложности 6 электронов. Таким образом, эта упрощенная одномерная модель может соответствовать углероду (атомный номер 6), Бериллию (4) и Гелию (2) с нулевым общим спином или Бору (5), литию (3) и водороду (1) с общим спином 1/2."
   ]
  },
  {
   "cell_type": "code",
   "execution_count": null,
   "metadata": {
    "scrolled": true
   },
   "outputs": [],
   "source": [
    "# Saving potential and eigenvalues for later use\n",
    "Vatom = V\n",
    "eigValAtom = eigVal\n",
    "xnmAtom = xnm"
   ]
  },
  {
   "cell_type": "markdown",
   "metadata": {},
   "source": [
    "### Молекула\n",
    "\n",
    "Используя несколько потенциальных ям, можно было бы смоделировать некоторые особенности поведения атомов, образующих молекулы. В следующем коде мы попытаемся описать двухатомную молекулу $\\text{H}_2$ и найти энергию связи. Мы создаем потенциал с двумя потенциальными ямами шириной $w$, разделенными нулевым потенциальным барьером шириной $b$. На каждой стороне молекулы добавляется контакт с нулевым потенциалом шириной $10w$."
   ]
  },
  {
   "cell_type": "code",
   "execution_count": null,
   "metadata": {
    "scrolled": false
   },
   "outputs": [],
   "source": [
    "b = w/10           # Atom separation\n",
    "Nb = int(b/dx)     # Number of discretisation steps between atoms\n",
    "left = [0]*10*N    # Potential left of atom\n",
    "atom = [V0]*N      # Potential of atom\n",
    "separation =[0]*Nb # Potential of separation\n",
    "right = [0]*10*N   # Potential right of atom\n",
    "\n",
    "# Array of potential values for the system\n",
    "V = np.asarray(left + atom + separation + atom + right)\n",
    "\n",
    "eigVec, eigVal, xnm = solveSchrodinger(V)\n",
    "\n",
    "# Plot the six lowest eigenvalues and the two lowest eigenvectors\n",
    "plt.figure(\"Molecule\", figsize=(13, 6), dpi=(200))\n",
    "plt.subplot(121)\n",
    "plt.title(r'Ground and first excited state', fontsize=15)\n",
    "plt.plot(xnm, V/1.6E-19 + 1, ':', label=r'Wells')\n",
    "for i in range(2):\n",
    "    plt.plot(xnm, eigVec[:, i], label=r'$\\vec{\\psi}^{(%.i)}$'%(i + 1))\n",
    "plt.xlabel('$x$ (nm)')\n",
    "plt.ylabel('$\\psi(x)$')\n",
    "plt.grid(True)\n",
    "plt.legend()\n",
    "plt.xlim((wellStart - w)/1.0E-9, (wellStart + b + 3*w)/1.0E-9)\n",
    "plt.ylim(-0.2, 0.2)\n",
    "\n",
    "plt.subplot(122)\n",
    "plotEigenValues(6, eigVal, xnm, True, V)\n",
    "\n",
    "plt.show()\n",
    "\n",
    "print(\"Double well ground state eigenvalue:\\t\\t%.4f eV\"%(eigVal[0]))\n",
    "print(\"Double well 1st excited state eigenvalue:\\t%.4f eV\"%(eigVal[1]))\n",
    "\n",
    "print(\"Single well ground state eigenvalue:\\t\\t%.4f eV\"%(eigValAtom[0]))"
   ]
  },
  {
   "cell_type": "markdown",
   "metadata": {},
   "source": [
    "Когда две потенциальные ямы находятся достаточно близко друг к другу, мы видим, что возникают дополнительные связанные состояния. Собственные состояния молекул можно рассматривать как линейные комбинации собственных состояний атомов. Собственные векторы двух самых низких собственных значений показаны выше. Собственный вектор основного состояния двойной ямы по существу представляет собой симметричную комбинацию основного состояния в двух отдельных одиночных ямах (атомах) с собственным значением $0.2131 \\text{ eV}$ ниже, чем собственное значение основного состояния одного атома. Первое возбужденное состояние двойной ямы по существу представляет собой антисимметричную комбинацию двух основных состояний одного атома с собственным значением $0.1303\\text{ eV}$, превышающим собственное значение основного состояния одного атома. Давайте построим график распределения вероятностей этих двух молекулярных состояний. "
   ]
  },
  {
   "cell_type": "code",
   "execution_count": null,
   "metadata": {
    "scrolled": false
   },
   "outputs": [],
   "source": [
    "plt.figure(figsize=(8, 4), dpi=200)\n",
    "plt.plot(xnm, V/1.6E-19 + 1, ':', label=r'Wells')\n",
    "plt.plot(xnm, np.absolute(eigVec[:,0])**2, label=r'$|\\psi^{(1)}(x)|^2$')\n",
    "plt.plot(xnm, np.absolute(eigVec[:,1])**2, label=r'$|\\psi^{(2)}(x)|^2$')\n",
    "plt.xlabel('$x$ (nm)')\n",
    "plt.ylabel('$|\\psi(x)|^2$')\n",
    "plt.xlim((wellStart - w)/1.0E-9, (wellStart + b + 3*w)/1.0E-9)\n",
    "plt.ylim(-0.0001, 0.02)\n",
    "plt.grid(True)\n",
    "plt.legend()\n",
    "plt.show()"
   ]
  },
  {
   "cell_type": "markdown",
   "metadata": {},
   "source": [
    "Собственный вектор основного состояния дает высокую плотность вероятности между двумя атомами. Энергия этого основного состояния двойной ямы ниже, чем энергия основного состояния одной ямы (отдельного атома). Один электрон от каждого атома может занимать это состояние с противоположным спином, образуя химическую связь между двумя атомами, т.е. молекулу. Энергия связи равна разности энергий между молекулой и суммой энергий двух отдельных атомов:\n",
    "\n",
    "\\begin{equation}\n",
    "\\Delta E = 2E_{\\text{atom}} - E_{\\text{molecule}}.\n",
    "\\label{bindingEnergy} \\quad (4)\n",
    "\\end{equation}\n",
    "\n",
    "Простейшим случаем является молекула водорода $\\text{H}_2$. Отдельно каждый электрон атома водорода занимает основное состояние отдельного **атома** (рассчитано ранее в разделе \"Атом\"). В молекуле оба электрона занимают основное состояние **молекулы** с противоположным спином. Следовательно, энергия связи становится\n",
    "\n",
    "$$ \\Delta E = -9.0459\\text{ eV} \\cdot 2 - 2E_{1, \\text{molecule}}$$\n",
    "\n",
    "для молекулы $\\text{H}_2$."
   ]
  },
  {
   "cell_type": "code",
   "execution_count": null,
   "metadata": {
    "scrolled": false
   },
   "outputs": [],
   "source": [
    "deltaE = 2*-9.0459 - 2*eigVal[0]\n",
    "print(\"Binding energy for the hydrogen molecule: %.4f eV\"%(deltaE))"
   ]
  },
  {
   "cell_type": "markdown",
   "metadata": {},
   "source": [
    "Однако первое возбужденное состояние молекулы показывает близкую к нулю плотность вероятности в области между атомами. Состояние также имеет энергию, превышающую энергию основного состояния отдельного атома, что указывает на антисвязывающую молекулярную орбиталь. Таким образом, в качестве модели для $\\text{He}_2$ мы имеем индивидуальную энергию $\\text{He}$ \n",
    "\n",
    "$$ E_{\\text{He, atom}} = -9.0459\\text{ eV} \\cdot 2, $$\n",
    "\n",
    "где множитель два возникает потому, что $\\text{He}$ имеет два электрона и молекулярную энергию\n",
    "\n",
    "$$ E_{\\text{He}_2\\text{, molecule}} = 2E_{1, \\text{molecule}} + 2E_{2, \\text{molecule}} ,$$\n",
    "\n",
    "дает энергию связи (4):"
   ]
  },
  {
   "cell_type": "code",
   "execution_count": null,
   "metadata": {
    "scrolled": true
   },
   "outputs": [],
   "source": [
    "deltaE = 4*-9.0459 - (2*eigVal[0] + 2*eigVal[1])\n",
    "print(\"Binding energy for the helium molecule: %.4f eV\"%(deltaE))"
   ]
  },
  {
   "cell_type": "markdown",
   "metadata": {},
   "source": [
    "Это намного меньше, чем энергия связи $\\text{H}_2$, как и ожидалось. В \"реальном мире\" димер гелия нестабилен."
   ]
  },
  {
   "cell_type": "markdown",
   "metadata": {},
   "source": [
    "### Кристалл\n",
    "С потенциальными ямами $N_w$ рядом друг с другом, разделенных нулевыми потенциальными барьероми шириной $b$, можно имитировать кристалл."
   ]
  },
  {
   "cell_type": "code",
   "execution_count": null,
   "metadata": {
    "scrolled": false
   },
   "outputs": [],
   "source": [
    "Nw = 5 # Number of potential wells\n",
    "\n",
    "# Array of potential values for the system\n",
    "V = np.asarray(left + (atom + separation)*(Nw - 1) + atom + right)\n",
    "Ntot = len(V)\n",
    "\n",
    "# Find eigenvectors and values\n",
    "eigVec, eigVal, xnm = solveSchrodinger(V)\n",
    "\n",
    "plt.figure(figsize=(12, 6), dpi = 200)\n",
    "plt.subplot(131)\n",
    "plotEigenValues(4, eigValAtom, xnmAtom, True, Vatom)\n",
    "plt.title(r'Eigenvalues $E_j$ for single atom', fontsize=10)\n",
    "plt.ylabel(\"Energy [eV]\", fontsize=7)\n",
    "plt.xlabel(r'$x$, nm')\n",
    "plt.legend()\n",
    "\n",
    "ax = plt.subplot(132)\n",
    "plt.title(r'Eigenvalues for crystal with $N_w = %.i$'%(Nw), fontsize=10)\n",
    "ax.plot(xnm, V/1.6E-19, label=r'$V(x)$')\n",
    "for i in range(Nw*3):\n",
    "    l = plt.axhline(eigVal[i], linewidth=.5, color='black')\n",
    "plt.xlabel(r'$x$, nm')\n",
    "\n",
    "# Repeat with ten atoms\n",
    "Nw = 10\n",
    "V = np.asarray(left + (atom + separation)*(Nw - 1) + atom + right)\n",
    "Ntot = len(V)\n",
    "eigVec, eigVal, xnm = solveSchrodinger(V)\n",
    "\n",
    "ax = plt.subplot(133)\n",
    "plt.title(r'Eigenvalues for crystal with $N_w = %.i$'%(Nw), fontsize=10)\n",
    "ax.plot(xnm, V/1.6E-19, label=r'$V(x)$')\n",
    "for i in range(Nw*3):\n",
    "    l = plt.axhline(eigVal[i], linewidth=.5, color='black')\n",
    "plt.xlabel(r'$x$, nm')\n",
    "\n",
    "plt.subplots_adjust(hspace=0.5)\n",
    "plt.show()"
   ]
  },
  {
   "cell_type": "markdown",
   "metadata": {},
   "source": [
    "Обратите внимание на появление энергетических полос с энергетическими уровнями $N_w$ вокруг энергии каждого связанного состояния одного атома. Полосы пропускания показаны ниже."
   ]
  },
  {
   "cell_type": "code",
   "execution_count": null,
   "metadata": {
    "scrolled": true
   },
   "outputs": [],
   "source": [
    "print(\"\\t\\t\\t 1st band \\t 2nd band \\t 3rd band\")\n",
    "print(\"Lowest energy level \\t %.4f eV \\t %.4f eV \\t %.4f eV\"\n",
    "      %(eigVal[0], eigVal[Nw], eigVal[2*Nw]))\n",
    "print(\"Highest energy level \\t %.4f eV \\t %.4f eV \\t  %.4f eV \\t\"\n",
    "      %(eigVal[Nw-1], eigVal[2*Nw-1], eigVal[3*Nw-1]))\n",
    "print(\"Bandwidth\\t\\t  %.4f eV \\t  %.4f eV \\t  %.4f eV\"%(eigVal[Nw-1] - eigVal[0], \n",
    "                                                     eigVal[2*Nw-1] - eigVal[Nw],\n",
    "                                                     eigVal[3*Nw-1] - eigVal[2*Nw]))\n",
    "print(\"Bandgap\\t\\t\\t\\t\\t  %.4f eV \\t  %.4f eV\"%(eigVal[Nw] - eigVal[Nw-1], \n",
    "                                              eigVal[2*Nw] - eigVal[2*Nw-1]))"
   ]
  },
  {
   "cell_type": "markdown",
   "metadata": {},
   "source": [
    "Для выбранных значений $N_w$ в диапазоне от $2$ до $100$ мы строим полосы пропускания трех самых низких полос. "
   ]
  },
  {
   "cell_type": "code",
   "execution_count": null,
   "metadata": {
    "scrolled": false
   },
   "outputs": [],
   "source": [
    "NwSelected = [2, 5, 10, 20, 50, 100]         # Selected atom numbers\n",
    "bandwidths = np.zeros((3, len(NwSelected)))  # Initialising matrix storing bandwidths\n",
    "\n",
    "for i in range(len(NwSelected)):\n",
    "    Nw = NwSelected[i]\n",
    "    V = np.asarray(left + (atom + separation)*(Nw - 1) + atom + right)\n",
    "    eigVec, eigVal, xnm = solveSchrodinger(V)\n",
    "    bandwidths[0, i] = eigVal[Nw-1] - eigVal[0]\n",
    "    bandwidths[1, i] = eigVal[2*Nw-1] - eigVal[Nw]\n",
    "    bandwidths[2, i] = eigVal[3*Nw-1] - eigVal[2*Nw]\n",
    "\n",
    "plt.figure(figsize=(12, 6), dpi=200)\n",
    "plt.subplot(121)\n",
    "plt.title(r\"Bandwidth as a function of number of atoms in the crystal, $N_w$\", fontsize=10)\n",
    "plt.plot(NwSelected, bandwidths[0, :], label=\"Band 1\")\n",
    "plt.plot(NwSelected, bandwidths[1, :], label=\"Band 2\")\n",
    "plt.plot(NwSelected, bandwidths[2, :], label=\"Band 3\")\n",
    "plt.xlabel(r\"$N_w$\")\n",
    "plt.ylabel(\"eV\")\n",
    "plt.grid()\n",
    "plt.legend()\n",
    "\n",
    "ax = plt.subplot(122)\n",
    "plt.title(r'Eigenvalues for crystal with $N_w = %.i$'%(Nw), fontsize=10)\n",
    "for i in range(Nw*3):\n",
    "    l = plt.axhline(eigVal[i], linewidth=.5, color='black')\n",
    "plt.xlabel(r'$x$, nm')\n",
    "plt.ylabel(\"eV\")\n",
    "plt.show()"
   ]
  },
  {
   "cell_type": "markdown",
   "metadata": {},
   "source": [
    "Ширина двух нижних полос приближается к постоянному значению по мере увеличения $N_w$. Таким образом, при достаточно большом количестве атомов мы имеем энергетическую полосу с приблизительно непрерывным распределением энергетических уровней."
   ]
  },
  {
   "cell_type": "markdown",
   "metadata": {},
   "source": [
    "Постоянная ширина полосы пропускания и полосы пропускания различаются в зависимости от типа кристалла (материала). Скажем, каждый атом в кристалле имеет по четыре электрона, тогда у нас будет всего $4N_w$ электронов. Два электрона с противоположным спином могут занимать одну и ту же орбиталь, оставляя самые низкие энергетические уровни $2N_w$ - две самые низкие полосы - заполненными (требуется достаточно низкая температура). При $N_w = 100$ два \"самых энергичных\" электрона обладают энергией"
   ]
  },
  {
   "cell_type": "code",
   "execution_count": null,
   "metadata": {
    "scrolled": false
   },
   "outputs": [],
   "source": [
    "print(\"%.4f eV.\"%(eigVal[2*Nw-1]))"
   ]
  },
  {
   "cell_type": "markdown",
   "metadata": {},
   "source": [
    "Если зазор до следующей энергетической полосы больше, чем $2-3$ эВ, то кристалл является изолятором [[1]](#rsc). Если зазор меньше $2-3$ эВ, но больше нуля, это полупроводник."
   ]
  },
  {
   "cell_type": "code",
   "execution_count": null,
   "metadata": {
    "scrolled": true
   },
   "outputs": [],
   "source": [
    "print(\"Bandgap between first and second band: %.4f eV\"%(eigVal[Nw] - eigVal[Nw - 1]))\n",
    "print(\"Bandgap between second and third band: %.4f eV\"%(eigVal[2*Nw] - eigVal[2*Nw - 1]))"
   ]
  },
  {
   "cell_type": "markdown",
   "metadata": {},
   "source": [
    "Следовательно, наш кристалл является полупроводником."
   ]
  },
  {
   "cell_type": "markdown",
   "metadata": {},
   "source": [
    "#### Теорема Блоха\n",
    "\n",
    "В периодическом потенциале с постоянной решетки $a$, $V(x + na) = V(x), n \\in \\mathbb{Z}$ решения независимого от времени уравнения Шредингера (1) принимают вид\n",
    "\n",
    "\\begin{equation}\n",
    "\\psi (x) = e^{ikx}u_k(x).\n",
    "\\label{Bloch}\n",
    "\\end{equation}\n",
    "\n",
    "где $u_k$ имеет ту же периодичность, что и потенциал,\n",
    "\n",
    "$$ u_k(x + na) = u_k(x), $$\n",
    "\n",
    "а $k$ - волновое число электрона. Это теорема Блоха [[3]](#rsc). Волновую функцию $\\psi$ часто называют *волной Блоха*.\n",
    "\n",
    "В кристалле постоянная решетки $a$ - это расстояние между каждой точкой решетки, т. Е. атомом. С конечным числом атомов в кристалле и условием $\\psi = 0$ на двух \"поверхностях\" кристалла, тогда $\\psi$ становится\n",
    "\n",
    "$$ \\psi(x) = u_k(x)\\sin k x \\;\\; ; \\;\\; k_j = \\frac{j\\pi}{Na} \\; (j = 1, 2, \\dots) .$$\n",
    "\n",
    "Здесь $N$ - количество атомов в кристалле; следовательно, $Na$ - его длина."
   ]
  },
  {
   "cell_type": "markdown",
   "metadata": {},
   "source": [
    "В нашем одномерном кристалле у нас есть постоянная решетки $a = w+b$, дающая общую длину $Na = N_w(w + b)$ и длину волны Блоха $\\lambda = 2\\pi/k_j = 2N_w(w + b)/j$."
   ]
  },
  {
   "cell_type": "code",
   "execution_count": null,
   "metadata": {
    "scrolled": false
   },
   "outputs": [],
   "source": [
    "Nw = 10\n",
    "V = np.asarray(left + (atom + separation)*(Nw - 1) + atom + right)\n",
    "eigVec, eigVal, xnm = solveSchrodinger(V)\n",
    "\n",
    "plt.figure(figsize=(12, 8), dpi=200)\n",
    "l = 4\n",
    "for j in range(1, l):    # Here j is the wave number \n",
    "    lam = 2*Nw*(w + b)/j # Wavelength of Bloch wave\n",
    "    lam *= 1/1e-9        # converting to nm\n",
    "    print(\"Bloch wavelength for j = %.i: %.2f nm\"%(j, lam))\n",
    "    \n",
    "    plt.subplot(l-1, 1, j)\n",
    "    plt.title(r\"1D crystal, Bloch function $j = %.i$\"%(j))\n",
    "    plt.plot(xnm, eigVec[:, j - 1], label='Computed wave')\n",
    "    plt.xlabel(r'$x$, [nm]')\n",
    "    plt.ylabel(r'$\\psi (x)$')\n",
    "    plt.xticks(np.arange(4, 12, .5), np.arange(4, 12, .5), fontsize=7)\n",
    "    plt.grid()\n",
    "\n",
    "plt.subplots_adjust(hspace=0.9)\n",
    "plt.show()"
   ]
  },
  {
   "cell_type": "markdown",
   "metadata": {},
   "source": [
    "Из приведенных выше графиков мы видим, что вычисленная длина волны идеально совпадает с соответствующей волной Блоха! При использовании низкоэнергетических состояний волновая функция не будет проникать далеко в границы кристалла. Три состояния с наименьшей энергией имеют все десять гребней каждое, вызванных периодической функцией $u(x)$."
   ]
  },
  {
   "cell_type": "markdown",
   "metadata": {},
   "source": [
    "___\n",
    "\n",
    "<a id=\"rsc\"></a>\n",
    "## Resources and Further Reading\n",
    "<a>[1]</a> J. A. Støvneng, February 2019, *TFY4215 Innføring i kvantefysikk. TMA4320 Introduksjon til vitenskapelige beregninger. Fysikkprosjekt: Endimensjonale modeller for atomer, molekyler og krystaller*, Norwegian University of Science and Technology\n",
    "\n",
    "<a>[2]</a> P.C. Hemmer, *Kvantemekanikk*, 5th edition, 2005, Fagbokforlaget\n",
    "\n",
    "<a>[3]</a> C. Kittel, *Introduction to Solid State Physics*, 8th edition, 2005, John Wiley & Sons, Inc"
   ]
  }
 ],
 "metadata": {
  "kernelspec": {
   "display_name": "Python 3",
   "language": "python",
   "name": "python3"
  },
  "language_info": {
   "codemirror_mode": {
    "name": "ipython",
    "version": 3
   },
   "file_extension": ".py",
   "mimetype": "text/x-python",
   "name": "python",
   "nbconvert_exporter": "python",
   "pygments_lexer": "ipython3",
   "version": "3.7.4"
  }
 },
 "nbformat": 4,
 "nbformat_minor": 2
}
