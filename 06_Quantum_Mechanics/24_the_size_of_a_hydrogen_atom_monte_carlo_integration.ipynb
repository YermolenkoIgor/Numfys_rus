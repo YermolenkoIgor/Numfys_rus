{
 "cells": [
  {
   "cell_type": "markdown",
   "metadata": {},
   "source": [
    "<style>\n",
    "@import url(https://www.numfys.net/static/css/nbstyle.css);\n",
    "</style>\n",
    "<a href=\"https://www.numfys.net\"><img class=\"logo\" /></a>\n",
    "\n",
    "# Размером атома водорода\n",
    "\n",
    "### Example – Quantum Mechanics\n",
    "<section class=\"post-meta\"> \n",
    "By Henning G. Hugdal, Øystein Hiåsen and Peter Berg\n",
    "</section>\n",
    "Last edited: January 19th 2019 \n",
    "___\n",
    "\n",
    "Часто говорят, что размер атома водорода составляет два радиуса Бора, или примерно 1 Å. Однако электрон не находится на постоянном расстоянии от ядра; вся информация, которую мы можем получить из уравнения Шредингера, - это вероятность нахождения электрона в интервале $r+\\mathrm{d}r$ от ядра. Это задается\n",
    "\n",
    "$$\n",
    "{\\rm d}P = |\\psi_{nlm}|^2 \\mathrm{d}r,\n",
    "$$\n",
    "\n",
    "где $\\psi_{nlm}$ - соответствующая водородная волновая функция. Поэтому интересно рассчитать вероятность нахождения электрона в пределах одного радиуса Бора, когда атом водорода находится в 1s (основном) состоянии, и посмотреть, насколько это соответствует размеру атома. Требуемый интеграл может быть решен аналитически, но в этом блокноте мы будем использовать интегрирование по методу Монте-Карло. Во-первых, метод интеграции представлен на примере."
   ]
  },
  {
   "cell_type": "markdown",
   "metadata": {},
   "source": [
    "### Интегрирование методом Монте-Карло\n",
    "\n",
    "Методы Монте-Карло - это статистическое моделирование, в котором используются последовательности случайных чисел. В качестве примера мы можем рассмотреть круг радиусом $r=1$, помещенный внутри квадрата со сторонами длиной 2. Затем мы можем сгенерировать два случайных числа, $x$ и $y$, соответствующих точке $(x,y)$ внутри квадрата. На рисунке ниже мы построили квадрат и круг и сгенерировали 10 случайных точек, которые также включены в график."
   ]
  },
  {
   "cell_type": "code",
   "execution_count": null,
   "metadata": {},
   "outputs": [],
   "source": [
    "%matplotlib inline\n",
    "#from __future__ import division\n",
    "import numpy as np\n",
    "import matplotlib.pyplot as plt\n",
    "from numpy.random import uniform"
   ]
  },
  {
   "cell_type": "code",
   "execution_count": null,
   "metadata": {},
   "outputs": [],
   "source": [
    "# Set common figure parameters:\n",
    "newparams = {'axes.titlesize': 7, 'axes.labelsize': 6,\n",
    "             'axes.linewidth': 1, 'savefig.dpi': 300, \n",
    "             'lines.linewidth': 1.0, 'lines.markersize': 2.4, \n",
    "             'figure.figsize': (3, 3), 'figure.subplot.wspace': 0.4,\n",
    "             'ytick.labelsize': 6, 'xtick.labelsize': 6,\n",
    "             'ytick.major.pad': 3, 'xtick.major.pad': 3,\n",
    "             'xtick.major.size': 2, 'ytick.major.size': 2,\n",
    "             'legend.handlelength': 1.5, 'figure.dpi': 200}\n",
    "plt.rcParams.update(newparams)"
   ]
  },
  {
   "cell_type": "code",
   "execution_count": null,
   "metadata": {},
   "outputs": [],
   "source": [
    "#Plot circle\n",
    "x = lambda theta: np.cos(theta)\n",
    "y = lambda theta: np.sin(theta)\n",
    "theta = np.linspace(0, 2*np.pi, 2000)\n",
    "plt.plot(x(theta), y(theta), 'b')\n",
    "\n",
    "#Plot square\n",
    "plt.plot([-1,1],[-1,-1],'r',[-1,1],[1,1],'r',[-1,-1],[-1,1],'r',[1,1],[-1,1],'r')\n",
    "\n",
    "plt.xlim([-1.1, 1.1])\n",
    "plt.ylim([-1.1, 1.1])\n",
    "\n",
    "\n",
    "#Generate two sets of 10 random numbers\n",
    "x = uniform(-1, 1, 10)\n",
    "y = uniform(-1, 1, 10)\n",
    "plt.plot(x, y, '*k', lw=0.1);"
   ]
  },
  {
   "cell_type": "markdown",
   "metadata": {},
   "source": [
    "Из рисунка мы видим, что многие точки расположены внутри круга, и мы можем определить, находятся ли они внутри\n",
    "$$\\sqrt{x^2+y^2} \\leq r.$$\n",
    "Для большого числа случайных точек, $N$, разумно предположить, что выполняется следующее соотношение\n",
    "$$\\frac{n}{N}=\\frac{V_\\mathrm{circ}}{V_\\mathrm{square}},$$\n",
    "где $n$-количество точек внутри круга, а $V_\\mathrm{circ}$ и $V_\\mathrm{square}$ - \"объем\" (в 2-D, очевидно, это площадь) круга и квадрата соответственно. Чтобы интегрировать функцию $f(x,y)$ по площади круга, мы просто добавляем значение функции в каждой точке внутри круга,\n",
    "$$ I =\\frac{V_\\mathrm{square}}{N} \\left[ \\sum_{n} f(x,y) \\right]. $$\n",
    "\n",
    "По сути, это представляет собой сумму Римана с управляющими объемами $\\Delta V=V_\\mathrm{square}/N$ и функцией $f(x,y)$, которая установлена равной нулю за пределами круга.\n",
    "\n",
    "В качестве краткой демонстрации мы можем интегрировать функцию $f(x,y)=\\sqrt{x^2+y^2}=r=f(r)$ по окружности радиуса $r=1$. Выберем $N = 10^5$ и $V_\\mathrm{square}=(2r)^2=4$."
   ]
  },
  {
   "cell_type": "code",
   "execution_count": null,
   "metadata": {},
   "outputs": [],
   "source": [
    "N = 1e6\n",
    "V = 4\n",
    "i = 0\n",
    "n = 0\n",
    "while i < N:\n",
    "    x = uniform(-1, 1)\n",
    "    y = uniform(-1, 1)\n",
    "    r = np.sqrt(x**2+y**2)\n",
    "    if r <= 1:\n",
    "        n = n + r\n",
    "    i = i + 1\n",
    "    \n",
    "I = V/N*n\n",
    "print(r'Monte Carlo integral: %f' % I)\n",
    "print(r'Analytical integral: %f' % (2/3*np.pi))"
   ]
  },
  {
   "cell_type": "markdown",
   "metadata": {},
   "source": [
    "Как мы видим, точность довольно хорошая! Метод, описанный выше, также может быть использован в трех и более измерениях.\n",
    "\n",
    "Теперь вернемся к атому водорода..."
   ]
  },
  {
   "cell_type": "markdown",
   "metadata": {},
   "source": [
    "### Атом Водорода\n",
    "\n",
    "Волновая функция 1s-состояния атома водорода определяется\n",
    "\n",
    "$$\n",
    "\\psi_{100}(r) = \\frac{1}{\\sqrt{\\pi a^3}}\\exp(-r/a),\n",
    "$$\n",
    "\n",
    "и она не зависит от $\\theta$ и $\\phi$, и где $a=0.529$ Å - радиус Бора. Плотность вероятности определяется \n",
    "\n",
    "$$\n",
    "\\left|\\psi_{100}(r)\\right|^2 =\\frac{1}{\\pi a^3}\\exp(-2r/a).\n",
    "$$\n",
    "\n",
    "Используя интегрирование методом Монте-Карло, ниже рассчитывается интеграл плотности вероятности внутри сферы радиуса $a$, радиуса Бора. Также вычисляется аналитическое значение."
   ]
  },
  {
   "cell_type": "code",
   "execution_count": null,
   "metadata": {},
   "outputs": [],
   "source": [
    "N = 1.0e5     # Number of random numbers\n",
    "a = 0.529e-10 # Bohr radius\n",
    "i = 0\n",
    "n = 0.0\n",
    "j = 1.0       # number of Bohr radii to integrate over\n",
    "while i < N:\n",
    "    x = uniform(-j*a, j*a)\n",
    "    y = uniform(-j*a, j*a)\n",
    "    z = uniform(-j*a, j*a)\n",
    "    r = np.sqrt(x**2 + y**2 + z**2)\n",
    "    if r <= j*a:\n",
    "        n = n + np.exp(-2*r/a)/(np.pi*a**3)\n",
    "        \n",
    "        \n",
    "    i = i + 1\n",
    "    \n",
    "prob = n/N*(2*j*a)**3\n",
    "\n",
    "print(r'The probability within one Bohr radius is: %s' % prob)\n",
    "probAnalytical = 1-np.exp(-2*j)*(1+2*j+2*j**2)\n",
    "print(r'The analytical probability is: %s' % probAnalytical)"
   ]
  },
  {
   "cell_type": "markdown",
   "metadata": {},
   "source": [
    "Мы видим, что снова наблюдается хорошее соответствие между вычисленными и аналитическими значениями.\n",
    "\n",
    "Довольно удивительно, что вероятность нахождения электрона в пределах одного радиуса Бора составляет всего 0,32, и все же это считается размером атома водорода! Ниже приведен контурный график плотности вероятности для состояния 1s, как показано на $xy$-плоскости."
   ]
  },
  {
   "cell_type": "code",
   "execution_count": null,
   "metadata": {},
   "outputs": [],
   "source": [
    "p = 1000\n",
    "xs = np.linspace(-j*a, j*a, p, True)\n",
    "X,Y = np.meshgrid(xs, xs)\n",
    "psi2 = np.zeros([p, p])\n",
    "\n",
    "r = np.sqrt(X**2+Y**2)\n",
    "\n",
    "psi2 = np.exp(-2*r/a)/(np.pi*a**3)\n",
    "\n",
    "plt.figure(figsize=(5,4))\n",
    "levels = np.linspace(0, 1, 200, True)\n",
    "C = plt.contourf(X/a, Y/a, psi2*(np.pi*a**3), levels)\n",
    "plt.title(r'Probability density for 1s state')\n",
    "plt.ylabel(r'$y/a$')\n",
    "plt.xlabel(r'$x/a$')\n",
    "cbar = plt.colorbar(C)\n",
    "cbar.ax.set_ylabel(r'Probability density (relative maximum)');"
   ]
  },
  {
   "cell_type": "code",
   "execution_count": null,
   "metadata": {},
   "outputs": [],
   "source": []
  }
 ],
 "metadata": {
  "kernelspec": {
   "display_name": "Python 3",
   "language": "python",
   "name": "python3"
  },
  "language_info": {
   "codemirror_mode": {
    "name": "ipython",
    "version": 3
   },
   "file_extension": ".py",
   "mimetype": "text/x-python",
   "name": "python",
   "nbconvert_exporter": "python",
   "pygments_lexer": "ipython3",
   "version": "3.7.4"
  }
 },
 "nbformat": 4,
 "nbformat_minor": 1
}
