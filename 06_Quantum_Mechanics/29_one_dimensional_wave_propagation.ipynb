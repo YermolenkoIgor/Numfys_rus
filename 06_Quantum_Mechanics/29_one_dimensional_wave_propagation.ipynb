{
 "cells": [
  {
   "cell_type": "markdown",
   "metadata": {},
   "source": [
    "<style>\n",
    "@import url(https://www.numfys.net/static/css/nbstyle.css);\n",
    "</style>\n",
    "<a href=\"https://www.numfys.net\"><img class=\"logo\" /></a>\n",
    "\n",
    "# Распространение одномерных волновых пакетов\n",
    "## Examples - Quantum Mechanics\n",
    "<section class=\"post-meta\">\n",
    "By Jonas Tjemsland and Martin Duy Tat\n",
    "</section>\n",
    "Last edited: January 20th 2019\n",
    "___\n",
    "\n",
    "Целью этого примера является изучение численного интегрирования уравнения Шредингера, распространения волновых пакетов, рассеяния и туннелирования через барьер. Начальные условия исследуемых волновых пакетов представлены гауссовым распределением плоских волн в области, в которой $V=0$, т.е.\n",
    "\n",
    "\\begin{equation}\n",
    "\\Psi(x,t)=C\\exp\\left[-\\frac{(x-x_s)^2}{2\\sigma^2}\\right]\n",
    "\t\t\\exp\\left[i(k_0x-\\omega_0 t)\\right].\n",
    "\\end{equation}\n",
    "\n",
    "Здесь $C$ - константа нормализации, $x_s=\\langle x\\rangle_{t=0}$ - начальное смещение Гаусса, $\\sigma$ - ширина Гаусса (здесь ширина в половине максимума равна $2\\sqrt{2\\ln 2}\\sigma$ и $\\Delta x = \\sigma$), $k_0\\equiv p_0/\\hbar$ - волновое число и $\\omega_0\\equiv E/\\hbar=\\hbar k_0^2/2 м$ - это угловая частота волны. Можно показать, что $\\Psi(x,t)$ для $t>0$ и $V=0$ на самом деле должны быть\n",
    "\n",
    "\\begin{equation}\n",
    "\\Psi(x,t)=\\frac{C\\sigma}{\\sqrt{\\sigma^2+it\\hbar/m}} e^{i[k_0x-\\omega_0t]}\\exp\\left\\{-\\frac{(x-x_s-k_0\\hbar t/m)^2}{2\\sigma+ 2it\\hbar /m}\\right\\}.\n",
    "\\end{equation}\n",
    "\n",
    "Выбранное представление, однако, является хорошим приближением для начальных условий, поскольку метод, используемый в этом блокноте, требует начального состояния действительной части и мнимой части в два разных момента времени, поэтому мы принимаем, что это дает небольшую ошибку.\n",
    "\n",
    "Теперь мы импортируем необходимые библиотеки Python и задаем параметры графика:"
   ]
  },
  {
   "cell_type": "code",
   "execution_count": null,
   "metadata": {},
   "outputs": [],
   "source": [
    "%matplotlib inline\n",
    "import numpy as np\n",
    "from matplotlib import pyplot as plt\n",
    "from matplotlib import rc\n",
    "\n",
    "# Set common figure parameters:\n",
    "newparams = {'axes.labelsize': 14, 'axes.linewidth': 1, 'savefig.dpi': 300, \n",
    "             'lines.linewidth': 1.0, 'figure.figsize': (6, 2),\n",
    "             'figure.subplot.wspace': 0.4,\n",
    "             'ytick.labelsize': 10, 'xtick.labelsize': 10,\n",
    "             'ytick.major.pad': 5, 'xtick.major.pad': 5,\n",
    "             'legend.fontsize': 10, 'legend.frameon': False, \n",
    "             'legend.handlelength': 1.5, 'figure.dpi': 150}\n",
    "plt.rcParams.update(newparams)"
   ]
  },
  {
   "cell_type": "markdown",
   "metadata": {},
   "source": [
    "### Теория\n",
    "\n",
    "Зависящее от времени уравнение Шедингера в одном измерении гласит,\n",
    "\n",
    "\\begin{equation}\n",
    "i\\hbar\\frac{\\partial}{\\partial t}\\Psi(x,t)=-\\frac{\\hbar^2}{2m}\\frac{\\partial^2}{\\partial x^2}\\Psi(x,t)+V(x)\\Psi(x,t).\n",
    "\\end{equation}\n",
    "\n",
    "Используя обозначение $\\Psi(x,t)=\\Psi_R(x,t)+i\\Psi_I(x,t)$, мы и можем разделить уравнение Шредингера на действительную часть,\n",
    "\n",
    "\\begin{equation}\n",
    "-\\hbar\\frac{\\partial}{\\partial t}\\Psi_I(x,t)=-\\frac{\\hbar^2}{2m}\\frac{\\partial^2}{\\partial x^2}\\Psi_R(x,t)+V(x)\\Psi_R(x,t),\n",
    "\\end{equation}\n",
    "\n",
    "и мнимую часть,\n",
    "\n",
    "\\begin{equation}\n",
    "\\hbar\\frac{\\partial}{\\partial t}\\Psi_R(x,t)=-\\frac{\\hbar^2}{2m}\\frac{\\partial^2}{\\partial x^2}\\Psi_I(x,t)+V(x)\\Psi_I(x,t).\n",
    "\\end{equation}\n",
    "\n",
    "Мы видим, что приведенные выше уравнения соединяют действительную и мнимую части уравнения Шредингера.\n",
    "Используя численное приближение для дифференцирования,\n",
    "\n",
    "\\begin{equation}\n",
    "\\frac{\\partial}{\\partial x}f(x)\\approx\\frac{f(x+\\frac{\\Delta x}{2})-f(x-\\frac{\\Delta x}{2})}{\\Delta x},\n",
    "\\end{equation}\n",
    "\n",
    "можно переписать воображаемую и реальную части следующим образом\n",
    "\n",
    "\\begin{equation}\n",
    "\\begin{split}\n",
    "\t\t\\Psi_I(x,t+\\frac{\\Delta t}{2})=\\Psi_I(x,t-\\frac{\\Delta t}{2})-\\Delta t \\left[ \\frac{V(x)}{\\hbar}\\Psi_R(x,t)-\\frac{\\hbar}{2m}\\frac{\\Psi_R(x+\\Delta x,t)-2\\Psi_R(x,t)+\\Psi_R(x-\\Delta x,t)}{(\\Delta x)^2} \\right],\n",
    "\t\\end{split}\n",
    "\\end{equation}\n",
    "\n",
    "и\n",
    "\n",
    "\\begin{equation}\n",
    "\\begin{split}\n",
    "\t\t\\Psi_R(x,t+\\Delta t)=\\Psi_R(x,t)-\\Delta t \\left[ \\frac{V(x)}{\\hbar}\\Psi_I(x,t+\\frac{\\Delta t}{2})- \\frac{\\hbar}{2m}\\frac{\\Psi_I(x + \\Delta x,t+\\frac{\\Delta t}{2})-2\\Psi_I(x,t+\\frac{\\Delta t}{2})+\\Psi_I(x-\\Delta x,t+\\frac{\\Delta t}{2})}{(\\Delta x)^2}\\right].\n",
    "\t\\end{split}\n",
    "\\end{equation}\n",
    "\n",
    "Эти уравнения легко приводят к процедуре нахождения $\\Psi_I(x,t+\\frac{\\Delta t}{2})$ когда $\\Psi_I(x,t-\\frac{\\Delta t}{2})$ и $\\Psi_R(x,t)$ известны, и точно так же для поиска $\\Psi_R(x,t+\\Delta t)$ когда $\\Psi_R(x,t)$ и $\\Psi_I(x,t-\\frac{\\Delta t}{2})$ известны. Эта процедура, естественно, приводит к итерационной процедуре численного распространения волнового пакета.\n",
    "\n"
   ]
  },
  {
   "cell_type": "markdown",
   "metadata": {},
   "source": [
    "### Численная стабильность\n",
    "\n",
    "Поскольку уравнение Шредингера решается численно, очевидно, что решение является только приближением истинного решения. Поэтому важно выбрать $\\Delta t$ и $\\Delta x$ как можно меньше, чтобы получить желаемую точность. Однако также важно учитывать взаимосвязь между $\\Delta t$ и $\\Delta x$. Неправильный выбор этих параметров не только снизит точность, но и ошибка может увеличиваться экспоненциально для каждой итерации.\n",
    "\n",
    "Переставляя формулу для численного дифференцирования, использованную выше, мы получаем\n",
    "\n",
    "\\begin{equation}\n",
    "\\Psi(x,t+\\Delta t)-\\Psi(x,t)=\\Delta t \\frac{\\partial}{\\partial t}\\Psi(x,t).\n",
    "\\end{equation}\n",
    "\n",
    "Поскольку $\\Delta t$ является лишь приближением к бесконечно малому времени, очевидно, что при использовании этого выражения будет допущена ошибка.\n",
    "Относительное изменение волновой функции $\\Psi(x,t)$ за интервал времени $\\Delta t$ определяется\n",
    "\n",
    "\\begin{equation}\n",
    "\\frac{\\Psi(x,t+\\Delta t)-\\Psi(x,t)}{\\Psi(x,t)}=\\Delta t\\frac{\\frac{-\\hbar^2}{2m}\\frac{\\partial^2}{\\partial x^2}\\Psi(x,t)+V(x)\\Psi(x,t)}{i\\hbar\\Psi(x,t)}.\n",
    "\\end{equation}\n",
    "\n",
    "Наибольшая возможная пространственная кривизна для волновой функции, $\\frac{\\partial^2}{\\partial x^2}\\Psi(x,t)$, произойдет, если волновая функция изменится от одного пика к соседнему пику на расстоянии $2\\Delta x$. Это подразумевает, что\n",
    "\n",
    "\\begin{equation}\n",
    "\\left| \\frac{\\partial^2}{\\partial x^2}\\Psi(x,t) \\right| < \\left|\\frac{\\Psi(x,t)}{(\\Delta x)^2} \\right| .\n",
    "\\end{equation}\n",
    "\n",
    "$\\Delta t$ должно быть выбрано таким образом, чтобы доля, в которой волновая функция, $\\Psi(x, t)$, изменяется в течение интервала времени $\\Delta t$, была намного меньше 1. Такая зависимость выводится из двух последних уравнений,\n",
    " \n",
    "\\begin{equation}\n",
    "\\Delta t \\ll \\frac{2m\\hbar(\\Delta x)^2}{\\hbar^2+2m(\\Delta x)^2V_{max}},\n",
    "\\end{equation}\n",
    "\n",
    "где $V_{max}$ - максимальное значение потенциала в нашем домене. Мы будем использовать этот критерий для обеспечения численной стабильности."
   ]
  },
  {
   "cell_type": "markdown",
   "metadata": {},
   "source": [
    "### Численная реализация\n",
    "\n",
    "Все величины выбираются безразмерным образом. Определенная пространственная область равна $x\\in [0,L]$, где сделан выбор $L=20$. Кроме того, используются атомная система единиц, что означает $\\hbar=1$ и $m=1$. Волновое число равно $k_0=20$, ширина равна $\\sigma = 1$, а начальное смещение Гаусса равно $x_s=5$. Используя этот выбор, весь пакет волн включается в заданную пространственную область и легко заполняется половиной заданной ширины после $t_{max}=L/2v_g$, где $v_g$ задается\n",
    "\n",
    "\\begin{equation}\n",
    "\\left. v_g=\\frac{\\partial \\omega}{\\partial k}\\right|_{k_0}.\n",
    "\\end{equation}\n",
    "    \n",
    "Теперь мы определяем константы, выбранные выше:"
   ]
  },
  {
   "cell_type": "code",
   "execution_count": null,
   "metadata": {},
   "outputs": [],
   "source": [
    "L = 20.0                       # length of box\n",
    "hbar = 1.0                     # hbar value, atomic units\n",
    "m = 1.0                        # mass, atomic units\n",
    "sigma = 1.0                    # width of the Gaussian\n",
    "k0 = 20.0                      # the wave number\n",
    "xs = 5.0                       # start displacement of the Gaussian\n",
    "C=1/(1.77156762398*sigma)**0.5 # normalization constant\n",
    "E = hbar**2*k0**2/(2*m)        # Energy of the wave packet\n",
    "w = E/hbar                     # angular frequency\n",
    "vg = hbar*k0/m                 # group velocity\n",
    "tmax = L/(2*vg)                # time when the wave have propagated approx. half the box width"
   ]
  },
  {
   "cell_type": "markdown",
   "metadata": {},
   "source": [
    "Необходимо также определить приращение времени и длины и создать вектор, содержащий все значения $x$ в заданном интервале. Обратите внимание, что критерии численной стабильности справедливы для этого выбора значений параметров."
   ]
  },
  {
   "cell_type": "code",
   "execution_count": null,
   "metadata": {},
   "outputs": [],
   "source": [
    "dx = 0.01                # length increment\n",
    "dt = 5*10**(-5)          # time increment\n",
    "n = int(L/dx)            # number of x-values (=len(x))\n",
    "x = np.linspace(0, L, n) # x-values on the x-axis"
   ]
  },
  {
   "cell_type": "markdown",
   "metadata": {},
   "source": [
    "Теперь пришло время вычислить $\\Psi_I(x,-\\frac{\\Delta t}{2})$ и $\\Psi_R(x,0)$. Более того, необходимо определить вектор для потенциала. Мы также хотим рассчитать распределение вероятностей, $|\\Psi(x,t)|^2=\\Psi_I^2+\\Psi_R^2$.\n",
    "\n",
    "Определив мнимую и действительную части волновой функции таким образом,что $\\Psi(0,t)\\equiv\\Psi(L, t)\\equiv 0$, получается тот же результат, как если бы потенциал был бесконечностью для $x\\not\\in(0,L)$. Другими словами, это коробка длиной $L$."
   ]
  },
  {
   "cell_type": "code",
   "execution_count": null,
   "metadata": {},
   "outputs": [],
   "source": [
    "PsiI = C*np.exp(-(x-xs)**2/(2*sigma**2))*np.sin(k0*x-w*(-dt/2))  #\\Psi_I(x,-dt/2)\n",
    "PsiR = C*np.exp(-(x-xs)**2/(2*sigma**2))*np.cos(k0*x-w*0)        #\\Psi_R(x,0)\n",
    "probPsi = PsiI**2 + PsiR**2  #|\\Psi|^2\n",
    "V = np.array([0]*n)          # Potential\n",
    "PsiI[1] = PsiI[n-1] = PsiR[0] = PsiR[n-1] = 0"
   ]
  },
  {
   "cell_type": "markdown",
   "metadata": {},
   "source": [
    "Можно было бы нормализовать волновую функцию, решив таким образом $C$. Он рассчитывается путем интегрирования распределения вероятностей $|\\Psi(x,t)|^2=\\Psi_I^2+\\Psi_R^2$ над полем и выбора $C$ таким образом, чтобы $|\\Psi(x,t)|^2=1$. Нормализация, скорее всего, немного изменится по мере распространения волны (и если будут выбраны другие базовые константы) из-за численных ошибок. Однако мы предполагаем, что это изменение незначительно. Ниже мы покажем, что волновая функция близка к нормализации с выбором $C$, определенным выше."
   ]
  },
  {
   "cell_type": "code",
   "execution_count": null,
   "metadata": {},
   "outputs": [],
   "source": [
    "f = np.sum(probPsi*dx)\n",
    "print('Normalization yields total probability equal to %0.15f' % f)"
   ]
  },
  {
   "cell_type": "markdown",
   "metadata": {},
   "source": [
    "### Начальное Условие"
   ]
  },
  {
   "cell_type": "markdown",
   "metadata": {},
   "source": [
    "Теперь мы построим действительную и мнимую части волновой функции вместе с распределением вероятностей при $t=0$."
   ]
  },
  {
   "cell_type": "code",
   "execution_count": null,
   "metadata": {
    "scrolled": true
   },
   "outputs": [],
   "source": [
    "plt.plot(x/L, PsiI, label=\"$\\Psi_I(x,0)$\", linewidth=0.5)\n",
    "plt.plot(x/L, PsiR, label=\"$\\Psi_R(x,0)$\", linewidth=0.5)\n",
    "plt.plot(x/L, probPsi,'m', label=\"$|\\Psi(x,0)|^2$\")\n",
    "plt.axis([0, 1,-1,1])\n",
    "plt.legend(prop={'size':8})\n",
    "plt.xlabel('$x/L$');"
   ]
  },
  {
   "cell_type": "markdown",
   "metadata": {},
   "source": [
    "### Распространение при $V=0$"
   ]
  },
  {
   "cell_type": "markdown",
   "metadata": {},
   "source": [
    "Теперь мы определяем функцию `timestep()`, которая распространяет действительную и мнимую части волновой функции вперед во времени с одним временным шагом. "
   ]
  },
  {
   "cell_type": "code",
   "execution_count": null,
   "metadata": {},
   "outputs": [],
   "source": [
    "def timestep(PsiI, PsiR, V, dx, dt):\n",
    "    \"\"\" This function takes the current PsiI and PsiR and calculates the next value\n",
    "    according to the theory section. \n",
    "    \n",
    "    Input:\n",
    "        PsiI    # Imaginary part of wavefunction at current timestep\n",
    "        PsiR    # Real part of wavefunction at current timestep\n",
    "        V       # Array with value of potential in the domain\n",
    "        dx      # Grid size\n",
    "        dt      # Size of time step\n",
    "    \n",
    "    Output:\n",
    "        PsiI    # Imaginary part of wavefunction at next timestep\n",
    "        PsiR    # Real part of wavefunction at next timestep\n",
    "    \"\"\"\n",
    "    \n",
    "    PsiI[1:n-1] = PsiI[1:n-1] - dt*(\n",
    "        PsiR[1:n-1]*V[1:n-1]/hbar - hbar*(PsiR[2:n] - 2*PsiR[1:n-1] + PsiR[0:n-2])/(2*m*dx**2))\n",
    "    PsiR[1:n-1] = PsiR[1:n-1] + dt*(\n",
    "        PsiI[1:n-1]*V[1:n-1]/hbar - hbar*(PsiI[2:n] - 2*PsiI[1:n-1] + PsiI[0:n-2])/(2*m*dx**2))\n",
    "    return PsiI, PsiR"
   ]
  },
  {
   "cell_type": "markdown",
   "metadata": {},
   "source": [
    "Если этот расчет выполняется $t_{max}/\\Delta t$ раз, волновой пакет распространяется примерно на половину ширины коробки. Делая это для разных значений $\\sigma$, можно получить представление о том, как распределяется волновой пакет при его распространении. Можно ожидать, что волновой пакет будет распространяться больше, если $\\sigma$ мал."
   ]
  },
  {
   "cell_type": "code",
   "execution_count": null,
   "metadata": {
    "scrolled": true
   },
   "outputs": [],
   "source": [
    "# Set values of sigma\n",
    "sigmaval = [0.5 , 1, 1.5, 2]\n",
    "\n",
    "for i in range(len(sigmaval)):\n",
    "\n",
    "    PsiI = C*np.exp(-(x - xs)**2/(2*sigmaval[i]**2))*np.sin(k0*x - w*(-dt/2)) #\\Psi_I(x,-dt/2)\n",
    "    PsiR = C*np.exp(-(x - xs)**2/(2*sigmaval[i]**2))*np.cos(k0*x - w*0) #\\Psi_I(x,0)\n",
    "    PsiI[1] = PsiI[n-1] = PsiR[0] = PsiR[n-1] = 0\n",
    "    \n",
    "    # Plot for t=0\n",
    "    plt.figure(i+1)\n",
    "    probPsi = PsiR**2 + PsiI**2\n",
    "    plt.plot(x/L, probPsi, linewidth=0.5, label='$t=0$')\n",
    "    \n",
    "    # Propagate wavefunction in time\n",
    "    for j in range(int((tmax)/dt)):\n",
    "        PsiI, PsiR = timestep(PsiI, PsiR, V, dx, dt)\n",
    "    \n",
    "    # Plot probability distribution at t = t_max\n",
    "    probPsi = PsiR**2 + PsiI**2\n",
    "    plt.plot(x/L, probPsi, linewidth=0.5, label='$t=t_{max}$')\n",
    "    plt.legend(prop={'size':10})\n",
    "    plt.axis([0, 1, -1, 1])\n",
    "    plt.xlabel('$x/L$')\n",
    "    plt.ylabel('$|\\Psi|^2$')\n",
    "    titletext = ('$\\sigma$ = ' + str(sigmaval[i]))\n",
    "    plt.title(titletext);"
   ]
  },
  {
   "cell_type": "markdown",
   "metadata": {},
   "source": [
    "### Конечный $V$"
   ]
  },
  {
   "cell_type": "markdown",
   "metadata": {
    "collapsed": true
   },
   "source": [
    "Теперь мы вводим потенциальный барьер в нашу систему. Когда вводится потенциальный барьер $V(x)$, волновой пакет будет частично отражен и частично передан. Для начала квадратный барьер выбирается таким образом, чтобы\n",
    "\n",
    "\\begin{equation}\n",
    "\t\tV(x)=\n",
    "\t\t\\begin{cases}\n",
    "    \t\t\tE/2,& \\text{if } x\\in[\\frac{24}{50}L,\\frac{26}{50}L],\\\\\n",
    "\t\t\t0,& \\text{otherwise.}\n",
    "        \\end{cases}\n",
    "\\end{equation}\n",
    "\n",
    "Скрипт можно легко изменить для работы с любым барьером, просто изменив $V(x)$."
   ]
  },
  {
   "cell_type": "code",
   "execution_count": null,
   "metadata": {},
   "outputs": [],
   "source": [
    "# Setting the potential\n",
    "V = np.array([0]*n)\n",
    "V0 = E/2\n",
    "length = L/50\n",
    "V[int(n/2-n*length/(2*L)):int(n/2+n*length/(2*L))] = V0\n",
    "\n",
    "# Propagating wave function\n",
    "PsiI = C*np.exp(-(x - xs)**2/(2*sigma**2))*np.sin(k0*x - w*(-dt/2)) #\\Psi_I(x,-dt/2)\n",
    "PsiR = C*np.exp(-(x - xs)**2/(2*sigma**2))*np.cos(k0*x - w*0) #\\Psi_I(x,0)\n",
    "PsiI[1] = PsiI[n-1] = PsiR[0] = PsiR[n-1] = 0\n",
    "\n",
    "for j in range(int((tmax)/dt)):\n",
    "    PsiI, PsiR = timestep(PsiI, PsiR, V, dx, dt)\n",
    "\n",
    "probPsi = PsiI**2 + PsiR**2\n",
    "\n",
    "# Plot probability distribution at t = t_max\n",
    "plt.plot(x/L, probPsi,'m', label='$|\\Psi(x)|^2$' )\n",
    "plt.plot(x/L, V/E,'k', label='$V(x)$')\n",
    "plt.axis([0, 1, -1, 1])\n",
    "plt.xlabel('$x/L$')\n",
    "plt.legend(prop={'size':10});"
   ]
  },
  {
   "cell_type": "markdown",
   "metadata": {
    "collapsed": true
   },
   "source": [
    "Коэффициент пропускания может быть найден численно путем интегрирования вероятностного распределения от $L/2$ до $L$, а также для коэффициента отражения путем интегрирования от $0$ до $L/2$. Сумма коэффициентов пропускания и отражения должна быть равна единице."
   ]
  },
  {
   "cell_type": "code",
   "execution_count": null,
   "metadata": {},
   "outputs": [],
   "source": [
    "T = sum(probPsi[int(n/2):int(n-1)]*dx)/sum(probPsi*dx)\n",
    "R = sum(probPsi[0:int(n/2)]*dx)/sum(probPsi*dx)\n",
    "print('Probability for transmission, T = %f' % T)\n",
    "print('Probability for reflection, R = %f' % R)\n",
    "print('Sum = %f' % (T + R))"
   ]
  },
  {
   "cell_type": "markdown",
   "metadata": {},
   "source": [
    "Можно также проанализировать, как трансмиссия зависит от различных свойств барьера. Например, вычисление вероятностей передачи и отражения для 50 различных высот барьера, $V_0$, от 0 до $3E/2$ с фиксированной шириной $L/20$."
   ]
  },
  {
   "cell_type": "code",
   "execution_count": null,
   "metadata": {},
   "outputs": [],
   "source": [
    "N = 50    # Number of different barriers\n",
    "T = [0]*N # Define vector that holds the values for R and T\n",
    "R = [0]*N\n",
    "V0 = []\n",
    "\n",
    "for q in range(N): # loop for each barrier property q\n",
    "    \n",
    "    # Setting the potential\n",
    "    V = np.array([0]*n)\n",
    "    length = L/50\n",
    "    V0.append(3*E*q/(2*N))\n",
    "    V[int(n/2-n*length/(2*L)):int(n/2+n*length/(2*L))] = V0[q]\n",
    "    \n",
    "    # Propagating wave function\n",
    "    PsiI=C*np.exp(-(x - xs)**2/(2*sigma**2))*np.sin(k0*x - w*(-dt/2)) #\\Psi_I(x,-dt/2)\n",
    "    PsiR=C*np.exp(-(x - xs)**2/(2*sigma**2))*np.cos(k0*x - w*0)       #\\Psi_R(x,0)\n",
    "    PsiI[1] = PsiI[n-1] = PsiR[0] = PsiR[n-1] = 0\n",
    "    \n",
    "    for j in range(int((tmax)/dt)):\n",
    "        PsiI, PsiR = timestep(PsiI, PsiR, V, dx, dt)\n",
    "    \n",
    "    probPsi = PsiI**2 + PsiR**2 #|\\Psi|^2\n",
    "    \n",
    "    \n",
    "    # Calculate transmission and reflection coefficients\n",
    "    T[q] = sum(probPsi[int(n/2):int(n-1)]*dx)/sum(probPsi*dx)\n",
    "    R[q] = sum(probPsi[0:int(n/2)]*dx)/sum(probPsi*dx)\n",
    "    \n",
    "# Plot the coefficients\n",
    "plt.plot(np.array(V0)/E, T, label=\"$T$\")\n",
    "plt.plot(np.array(V0)/E, R, label=\"$R$\")\n",
    "plt.legend(loc=5)\n",
    "plt.xlabel('$V_0/E$')\n",
    "plt.axis([0, 1.5, -0.1, 1.1]);"
   ]
  },
  {
   "cell_type": "markdown",
   "metadata": {},
   "source": [
    "Классически частица имела бы коэффициент пропускания, равный 1, когда $E>V_0$ и 0, когда $E<V_0$. Это не относится к квантовой механике, как видно из приведенного выше графика. Квантово-механически вероятность передачи равна 1, когда вообще нет барьеров. По мере увеличения прочности барьера коэффициент перехода стремится к 0. Обратите внимание, однако, что он никогда не достигает 0 и что существует конечная вероятность трансмиссии, даже если $E < V_0$. Это противоречивый квантово-механический эффект, известный как туннелирование. Имеет место синусоидальная тенденция коэффициентов, которая также может быть показана аналитически. Для некоторых соотношений длины волны к ширине/силе барьера барьер кажется \"невидимым\" для волны."
   ]
  },
  {
   "cell_type": "markdown",
   "metadata": {},
   "source": [
    "Также интересно рассчитать вероятности передачи и отражения для 50 различных ширин барьера от 0 до $L/20$ с фиксированной прочностью $V_0=9E/10$."
   ]
  },
  {
   "cell_type": "code",
   "execution_count": null,
   "metadata": {},
   "outputs": [],
   "source": [
    "N = 50    # Number of different barriers\n",
    "T = [0]*N # Define vector that holds the values for R and T\n",
    "R = [0]*N\n",
    "length = []\n",
    "\n",
    "for q in range(0,N): # loop for each barrier property q\n",
    "    \n",
    "    # Setting the potential\n",
    "    V = np.array([0]*n)\n",
    "    V0 = 9*E/10\n",
    "    length.append(q*L/(20*N))\n",
    "    V[int(n/2-n*length[q]/(2*L)):int(n/2+n*length[q]/(2*L))] = V0\n",
    "    \n",
    "    # Propagating wave function\n",
    "    PsiI = C*np.exp(-(x - xs)**2/(2*sigma**2))*np.sin(k0*x - w*(-dt/2)) #\\Psi_I(x,-dt/2)\n",
    "    PsiR = C*np.exp(-(x - xs)**2/(2*sigma**2))*np.cos(k0*x - w*0) #\\Psi_I(x,0)\n",
    "    PsiI[1] = PsiI[n-1] = PsiR[0] = PsiR[n-1] = 0\n",
    "    \n",
    "    for j in range(int((tmax)/dt)):\n",
    "        PsiI, PsiR = timestep(PsiI, PsiR, V, dx, dt)\n",
    "    \n",
    "    probPsi = PsiI**2 + PsiR**2 #|\\Psi|^2\n",
    "        \n",
    "    # Calculate transmission and reflection coefficients\n",
    "    T[q] = sum(probPsi[int(n/2):int(n-1)]*dx)/sum(probPsi*dx)\n",
    "    R[q] = sum(probPsi[0:int(n/2)]*dx)/sum(probPsi*dx)\n",
    "    \n",
    "# Plot\n",
    "plt.plot(np.array(length)/L, T, label=\"$T$\")\n",
    "plt.plot(np.array(length)/L, R, label=\"$R$\")\n",
    "plt.legend()\n",
    "plt.xlabel('Length/L');"
   ]
  },
  {
   "cell_type": "markdown",
   "metadata": {},
   "source": [
    "Классически переход всегда будет составлять $100\\%$, так как $E>V_0$. Но в квантово-механическом случае это не так. Даже если $E>V_0$, всегда существует конечная вероятность отражения. Еще одно интересное явление, которое следует заметить, заключается в том, что большие волновые пакеты быстро распространяются (не только из-за дисперсии) через барьер или делятся на более мелкие. Это происходит потому, что части волнового пакета \"застревают\" в самом барьере в результате отражений."
   ]
  },
  {
   "cell_type": "markdown",
   "metadata": {},
   "source": [
    "### Периодические граничные условия"
   ]
  },
  {
   "cell_type": "markdown",
   "metadata": {},
   "source": [
    "В предыдущих случаях волновая функция распространялась только через барьер посередине. На концах коробки волновая функция была установлена на $0$, что означает, что потенциал за пределами коробки бесконечен. Это приводит к отражению волнового пакета обратно. Чтобы проиллюстрировать это, мы проведем анализ, используя функции, определенные ниже."
   ]
  },
  {
   "cell_type": "code",
   "execution_count": null,
   "metadata": {},
   "outputs": [],
   "source": [
    "from matplotlib import animation\n",
    "from IPython.display import HTML\n",
    "\n",
    "# Set new figure parameters\n",
    "newparams = {'axes.labelsize': 11, 'axes.linewidth': 0.5, 'savefig.dpi': 300, \n",
    "             'lines.linewidth': 1.0, 'figure.figsize': (2.5, 1.5),\n",
    "             'ytick.labelsize': 5, 'xtick.labelsize': 5,}\n",
    "plt.rcParams.update(newparams);\n",
    "\n",
    "# First set up the figure, the axis, and the plot element we want to animate\n",
    "fig = plt.figure()\n",
    "ax = plt.axes(xlim=(0, 1), ylim=(0, 1))\n",
    "line, = ax.plot([], [], lw=1)\n",
    "\n",
    "# Initialize wavefunction and set boundary conditions\n",
    "PsiI = C*np.exp(-(x - xs)**2/(2*sigma**2))*np.sin(k0*x - w*(-dt/2)) #\\Psi_I(x,-dt/2)\n",
    "PsiR = C*np.exp(-(x - xs)**2/(2*sigma**2))*np.cos(k0*x - w*0) #\\Psi_I(x,0)\n",
    "V = [0]*n\n",
    "\n",
    "probPsi = [PsiR**2 + PsiI**2]\n",
    "\n",
    "# Number of time steps\n",
    "tmax = 2*L/(2*vg)\n",
    "\n",
    "# Propagate in time\n",
    "for j in range(int((tmax)/dt)):\n",
    "    PsiI, PsiR = timestep(PsiI, PsiR, V, dx, dt)\n",
    "    \n",
    "    probPsi.append(PsiR**2 + PsiI**2)\n",
    "\n",
    "# Reduce the number of points to animate\n",
    "probPsi = probPsi[0:-1:100]\n",
    "\n",
    "# Initialization function: plot the background of each frame\n",
    "def init():\n",
    "    line.set_data([], [])\n",
    "    return line,\n",
    "\n",
    "# Animation function which updates figure data.  This is called sequentially\n",
    "def animate(i):\n",
    "    line.set_data(x/L, probPsi[i])\n",
    "    return line,\n",
    "\n",
    "# Call the animator.  blit=True means only re-draw the parts that have changed.\n",
    "anim = animation.FuncAnimation(fig, animate, init_func=init,\n",
    "                               frames=len(probPsi), interval=30, blit=True)\n",
    "\n",
    "# Display the animation\n",
    "plt.close(anim._fig)\n",
    "HTML(anim.to_html5_video())"
   ]
  },
  {
   "cell_type": "markdown",
   "metadata": {},
   "source": [
    "Сейчас мы реализуем функцию ``timestep`` для использования вместо этого периодических граничных условий, т. е. $\\Psi(x=0)=\\Psi(x=L)$."
   ]
  },
  {
   "cell_type": "code",
   "execution_count": null,
   "metadata": {},
   "outputs": [],
   "source": [
    "def timestep_periodic(PsiI, PsiR, V, dx, dt):\n",
    "    \"\"\" This function takes the current PsiI and PsiR and calculates the next value\n",
    "    according to the theory section. \n",
    "    \n",
    "    Input:\n",
    "        PsiI    # Imaginary part of wavefunction at current timestep\n",
    "        PsiR    # Real part of wavefunction at current timestep\n",
    "        V       # Array with value of potential in the domain\n",
    "        dx      # Grid size\n",
    "        dt      # Size of time step\n",
    "    \n",
    "    Output:\n",
    "        PsiI    # Imaginary part of wavefunction at next timestep\n",
    "        PsiR    # Real part of wavefunction at next timestep\n",
    "    \"\"\"\n",
    "    \n",
    "    PsiI[1:n-1] = PsiI[1:n-1] - dt*(\n",
    "        PsiR[1:n-1]*V[1:n-1]/hbar - hbar*(PsiR[2:n] - 2*PsiR[1:n-1] + PsiR[0:n-2])/(2*m*dx**2))\n",
    "    PsiR[1:n-1] = PsiR[1:n-1] + dt*(\n",
    "        PsiI[1:n-1]*V[1:n-1]/hbar - hbar*(PsiI[2:n] - 2*PsiI[1:n-1] + PsiI[0:n-2])/(2*m*dx**2))\n",
    "    \n",
    "    PsiI[n-1] = PsiI[n-1] - dt*(\n",
    "        PsiR[n-1]*V[n-1]/hbar - hbar*(PsiR[1] - 2*PsiR[n-1] + PsiR[n-2])/(2*m*dx**2))\n",
    "    PsiR[n-1] = PsiR[n-1] + dt*(\n",
    "        PsiI[n-1]*V[n-1]/hbar - hbar*(PsiI[1] - 2*PsiI[n-1] + PsiI[n-2])/(2*m*dx**2))\n",
    "    \n",
    "    PsiI[0] = PsiI[n-1]\n",
    "    PsiR[0] = PsiR[n-1]\n",
    "    \n",
    "    return PsiI, PsiR"
   ]
  },
  {
   "cell_type": "code",
   "execution_count": null,
   "metadata": {},
   "outputs": [],
   "source": [
    "# Initialize wavefunction and set boundary conditions\n",
    "PsiI = C*np.exp(-(x - xs)**2/(2*sigma**2))*np.sin(k0*x - w*(-dt/2)) #\\Psi_I(x,-dt/2)\n",
    "PsiR = C*np.exp(-(x - xs)**2/(2*sigma**2))*np.cos(k0*x - w*0) #\\Psi_I(x,0)\n",
    "V = [0]*n\n",
    "\n",
    "probPsi = [PsiR**2 + PsiI**2]\n",
    "\n",
    "# Number of time steps\n",
    "tmax = 2*L/(2*vg)\n",
    "\n",
    "# Propagate in time\n",
    "for j in range(int((tmax)/dt)):\n",
    "    PsiI, PsiR = timestep_periodic(PsiI, PsiR, V, dx, dt)\n",
    "    \n",
    "    probPsi.append(PsiR**2 + PsiI**2)\n",
    "\n",
    "# Reduce the number of points to animate\n",
    "probPsi = probPsi[0:-1:100]\n",
    "\n",
    "\n",
    "# Call the animator.  blit=True means only re-draw the parts that have changed.\n",
    "anim = animation.FuncAnimation(fig, animate, init_func=init,\n",
    "                               frames=len(probPsi), interval=30, blit=True)\n",
    "\n",
    "# Display the animation\n",
    "plt.close(anim._fig)\n",
    "HTML(anim.to_html5_video())"
   ]
  },
  {
   "cell_type": "markdown",
   "metadata": {},
   "source": [
    "Мы видим, что волновой пакет успешно проходит через барьер при $x = L$ и появляется снова при $x = 0$, как и должно быть при использовании периодических граничных условий."
   ]
  },
  {
   "cell_type": "markdown",
   "metadata": {},
   "source": [
    "### Туннелирование\n",
    "\n",
    "Туннелирование - это причина, по которой альфа-частицы способны вырваться из ядра атома, несмотря на недостаток энергии. Согласно классической механике, альфа-частица никак не может преодолеть потенциальный барьер, существующий в ядре, из-за электростатического притяжения. Однако, как мы увидим в анимации ниже, существует конечная вероятность того, что волновой пакет проникнет через барьер."
   ]
  },
  {
   "cell_type": "code",
   "execution_count": null,
   "metadata": {},
   "outputs": [],
   "source": [
    "# Initialize wavefunction and set boundary conditions\n",
    "PsiI = C*np.exp(-(x - xs)**2/(2*sigma**2))*np.sin(k0*x - w*(-dt/2)) #\\Psi_I(x,-dt/2)\n",
    "PsiR = C*np.exp(-(x - xs)**2/(2*sigma**2))*np.cos(k0*x - w*0) #\\Psi_I(x,0)\n",
    "V = zeros(n)\n",
    "V[int(n/2)::] = 1.5*E*np.exp(-np.linspace(0, 20, int(n/2)))\n",
    "probPsi = [PsiR**2 + PsiI**2]\n",
    "\n",
    "\n",
    "# Plot potential\n",
    "plt.plot(x/L ,V/E, 'r', label='$V(x)/E$', lw=0.5)\n",
    "plt.legend(prop={'size':8})\n",
    "plt.xlabel('$x/L$')\n",
    "\n",
    "# Number of time steps\n",
    "tmax = L/(2*vg)\n",
    "\n",
    "# Propagate in time\n",
    "for j in range(int((tmax)/dt)):\n",
    "    PsiI, PsiR = timestep(PsiI, PsiR, V, dx, dt)\n",
    "    \n",
    "    probPsi.append(PsiR**2 + PsiI**2)\n",
    "\n",
    "# Reduce the number of points to animate\n",
    "probPsi = probPsi[0:-1:100]\n",
    "\n",
    "\n",
    "# Initialization function: plot the background of each frame\n",
    "def init():\n",
    "    line.set_data([], [])\n",
    "    return line,\n",
    "\n",
    "# Animation function which updates figure data.  This is called sequentially\n",
    "def animate(i):\n",
    "    line.set_data(x/L, probPsi[i])\n",
    "    return line,\n",
    "\n",
    "# Call the animator.  blit=True means only re-draw the parts that have changed.\n",
    "anim = animation.FuncAnimation(fig, animate, init_func=init,\n",
    "                               frames=len(probPsi), interval=30, blit=True)\n",
    "\n",
    "# Display the animation\n",
    "plt.close(anim._fig)\n",
    "HTML(anim.to_html5_video())"
   ]
  },
  {
   "cell_type": "markdown",
   "metadata": {},
   "source": [
    "Как мы видим, существует конечная вероятность перехода! Однако это очень грубая модель, поскольку кулоновский потенциал намного выше и имеет форму $1/x$, а не экспоненты. Однако, принимая во внимание, что альфа-частица чрезвычайно часто ударяется о барьер, увеличивая вероятность передачи, этот пример показывает, что вероятность излучения альфа-частицы значительна."
   ]
  },
  {
   "cell_type": "markdown",
   "metadata": {},
   "source": [
    "### References\n",
    "\n",
    "This script is a part of a numerical exercise in the subject FY2045 - Quantum\n",
    "Mechanics I at NTNU - Norwegian University of Science and Technology. The exercise\n",
    "was prepared by Tor Nordam\n",
    "\n",
    "[1] Nordam, T.: Numerical exercise, FY2045 Quantum Mechanics, http://amokk.phys.ntnu.no/files/FY2045_2015/exercise15/numerics.pdf, 27.09.2015, [Downloaded: 01.10.2015]\n",
    "\n",
    "[2] Hemmer, P.C.: Kvantemekanikk, tapir akademisk forlag, 5. utg. 2005, Trondheim\n",
    "\n",
    "[3] Roundy, D.: http://physics.oregonstate.edu/~roundyd/COURSES/ph365x/366.html, [Downloaded: 23.10.2015]\n",
    "\n",
    "[4] Øverbø, I.: Lecture notes 2,3 and 7, http://amokk.phys.ntnu.no/FY2045/documents/, [Downloaded: 09.2015]"
   ]
  }
 ],
 "metadata": {
  "kernelspec": {
   "display_name": "Python 3",
   "language": "python",
   "name": "python3"
  },
  "language_info": {
   "codemirror_mode": {
    "name": "ipython",
    "version": 3
   },
   "file_extension": ".py",
   "mimetype": "text/x-python",
   "name": "python",
   "nbconvert_exporter": "python",
   "pygments_lexer": "ipython3",
   "version": "3.7.4"
  }
 },
 "nbformat": 4,
 "nbformat_minor": 1
}
