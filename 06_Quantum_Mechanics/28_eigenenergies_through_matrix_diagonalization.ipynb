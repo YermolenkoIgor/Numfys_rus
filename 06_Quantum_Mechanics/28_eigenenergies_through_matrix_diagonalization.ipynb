{
 "cells": [
  {
   "cell_type": "markdown",
   "metadata": {},
   "source": [
    "<style>\n",
    "@import url(https://www.numfys.net/static/css/nbstyle.css);\n",
    "</style>\n",
    "<a href=\"https://www.numfys.net\"><img class=\"logo\" /></a>\n",
    "\n",
    "# Собственные уровни энергии через диагонализацию матрицы\n",
    "## Examples - Quantum Mechanics\n",
    "<section class=\"post-meta\">\n",
    "By Henning G. Hugdal, Håkon W. Ånes and Jon Andreas Støvneng\n",
    "</section>\n",
    "Last edited: January 19th 2019\n",
    "___"
   ]
  },
  {
   "cell_type": "markdown",
   "metadata": {},
   "source": [
    "В нескольких предыдущих примерах мы нашли собственные уровни энергии системы с помощью метода стрельбы. Однако в этом примере мы найдем собственные энергии системы, переформулировав задачу в линейную систему уравнений, и найдем энергии, через собственные значения результирующей матрицы, используя функции в `numpy.linalg` [[1]](#rsc). Мы начинаем с дискретизации уравнения Шредингера, чтобы получить линейную систему уравнений."
   ]
  },
  {
   "cell_type": "markdown",
   "metadata": {},
   "source": [
    "Уравнение Шредингера в одном измерении гласит\n",
    "\n",
    "\\begin{equation}\n",
    "-\\frac{\\hbar^2}{2m}\\frac{d^2}{d x^2} \\psi(x) + V(x)\\psi(x) = E\\psi(x).\n",
    "\\end{equation}\n",
    "\n",
    "Прежде всего, мы дискретизируем ось $x$, позволяя $x \\rightarrow x_i = x_{min} + i\\cdot \\Delta x$, где $\\Delta x = (x_{max}-x_{min})/(N-1)$, $ i \\in [0, N-1] $ и $N$ - количество точек сетки. Мы также используем обозначения для значений функций с дискретными аргументами, $\\psi(x_i) = \\psi_i$ и $V(x_i) = V_i$.\n",
    "Использование центральных различий второго порядка для второго производного члена,\n",
    "$$ \\frac{d^2}{d x^2}\\psi(x_i) \\rightarrow \\frac{\\psi_{i+1}-2\\psi_i+\\psi_{i-1}}{\\Delta x^2},$$\n",
    "наконец мы получаем дискретизированное уравнение Шредингера,\n",
    "\n",
    "\\begin{equation}\n",
    "-\\frac{\\hbar^2}{2m}\\frac{\\psi_{i+1}-2\\psi_i+\\psi_{i-1}}{\\Delta x^2} + V_i \\psi_i = E \\psi_i.\n",
    "\\end{equation}\n",
    "\n",
    "В следующем мы установим $\\hbar=m=1$ для простоты. Это означает, что матрица, описывающая нашу систему, будет иметь $1/\\Delta x^2 + V_i$ вдоль главной диагонали и $-1/\\Delta_x^2$ вдоль первых диагоналей ниже и выше главной диагонали. Обозначая матрицу, содержащую эти элементы $\\bar{H}$, и вектор $\\psi_i$-тых как $\\vec{\\psi}$, мы получаем следующую линейную систему уравнений:\n",
    "$$\\bar{H}\\vec{\\psi} = E\\vec{\\psi}.$$\n",
    "\n",
    "### Колебания гармонического осциллятора\n",
    "\n",
    "Сначала мы решим эту систему уравнений, используя потенциал гармонического осциллятора,\n",
    "$$ V(x) = \\frac{1}{2}x^2,$$\n",
    "где $m$ и $\\omega$ равны $1$. Обратите внимание, что для решения этой проблемы мы ограничим значения на оси $x$ конечным интервалом, даже если волновая функция в принципе может быть ненулевой на всей оси $x$. Однако для собственных состояний с наименьшей энергией это не очень строгое приближение. Обратите также внимание, что, поскольку $\\bar{H}$ является $N\\times N$-матрицей, это означает, что мы найдем только $N$ наименьших собственных энергий.\n",
    "\n",
    "Давайте импортируем необходимые библиотеки и определим матрицу $\\bar{H}$."
   ]
  },
  {
   "cell_type": "code",
   "execution_count": null,
   "metadata": {},
   "outputs": [],
   "source": [
    "from __future__ import division\n",
    "import numpy as np\n",
    "import numpy.linalg as linalg\n",
    "import matplotlib.pyplot as plt\n",
    "\n",
    "\n",
    "# Number of grid points\n",
    "N = 100\n",
    "\n",
    "# Interval on the x-axis:\n",
    "x_min = -5\n",
    "x_max = 5\n",
    "\n",
    "dx = (x_max-x_min)/(N-1)\n",
    "\n",
    "# Grid points\n",
    "x = np.arange(x_min, x_max+dx, dx)\n",
    "\n",
    "# Potential\n",
    "V = 0.5*x**2\n",
    "\n",
    "# We define a N-by-N zero matrix:\n",
    "H = np.zeros((N, N))\n",
    "\n",
    "# Set the non-zero elements of the matrix:\n",
    "for i in range(N):\n",
    "    H[i][i] = (1/dx**2+V[i])\n",
    "    if i > 0:\n",
    "        H[i][i-1] = -1/(2*dx**2)\n",
    "    if i < N-1:\n",
    "        H[i][i+1] = -1/(2*dx**2)"
   ]
  },
  {
   "cell_type": "markdown",
   "metadata": {},
   "source": [
    "Поскольку $\\bar{H}$ симметричен, мы можем использовать функцию linalg `eigvalsh(H)`, которая возвращает собственные значения $\\bar{H}$ [[1]](#rsc). Ниже вычисляются собственные значения, и записываются 10 первых собственных значений."
   ]
  },
  {
   "cell_type": "code",
   "execution_count": null,
   "metadata": {},
   "outputs": [],
   "source": [
    "E = linalg.eigvalsh(H)\n",
    "\n",
    "# Print the 10 first eigenvalues:\n",
    "for i in range(10):\n",
    "    Estr = \"E\" + str(i) + \": \"\n",
    "    print(Estr, E[i])"
   ]
  },
  {
   "cell_type": "markdown",
   "metadata": {},
   "source": [
    "Мы видим, что это очень хорошо соответствует точным энергиям гармонического генератора, $E_n = (\\frac{1}{2} + n)$. Однако обратите внимание, что ошибка увеличивается с увеличением энергий, поскольку приближение, выполняемое при ограничении используемого интервала $x$, ухудшается для более высоких собственных состояний."
   ]
  },
  {
   "cell_type": "markdown",
   "metadata": {},
   "source": [
    "### Асимметричный потенциал"
   ]
  },
  {
   "cell_type": "markdown",
   "metadata": {},
   "source": [
    "В блокноте \"[Численное определение собственных энергий для асимметричного потенциале](https://nbviewer.jupyter.org/urls/www.numfys.net/media/notebooks/asymmetric_potential.ipynb)\" мы нашли собственные энергии для трех самых низких собственных состояний для асимметричного потенциала,\n",
    "\n",
    "\\begin{equation}\n",
    "V(x) = ax^4 - b(x+c)^2 + d,\n",
    "\\end{equation}\n",
    "\n",
    "с $a=1$, $b=1,5$, $c=0,2$ и $d=1,17$. В качестве контроля этих результатов мы можем использовать метод, использованный выше, для определения тех же собственных энергий. Здесь мы также определим собственные функции, чтобы сравнить их с теми, которые были получены в упомянутой выше записной книжке. Это означает использование `linalg.eigh()` вместо `linalg.eigvalsh()`."
   ]
  },
  {
   "cell_type": "code",
   "execution_count": null,
   "metadata": {},
   "outputs": [],
   "source": [
    "# Use the same values as in Example 6.6\n",
    "N = 1000\n",
    "x_min = -10\n",
    "x_max = 10\n",
    "dx = (x_max - x_min)/(N-1)\n",
    "x = np.arange(x_min, x_max+dx, dx)\n",
    "\n",
    "# Set the potential\n",
    "a = 1\n",
    "b = 1.5\n",
    "c = 0.2\n",
    "d = 1.17\n",
    "\n",
    "V = a*x**4 - b*(x + c)**2 + d\n",
    "\n",
    "# We define a N-by-N zero matrix:\n",
    "H = np.zeros((N, N))\n",
    "\n",
    "# Set the non-zero elements of the matrix:\n",
    "for i in range(N):\n",
    "    H[i][i] = (1/dx**2+V[i])\n",
    "    if i > 0:\n",
    "        H[i][i-1] = -1/(2*dx**2)\n",
    "    if i < N-1:\n",
    "        H[i][i+1] = -1/(2*dx**2)\n",
    "\n",
    "# Determine the eigenenergies and the eigenvectors\n",
    "E, psi = linalg.eigh(H)\n",
    "\n",
    "# Print the 3 first eigenvalues:\n",
    "for i in range(3):\n",
    "    Estr = \"E\" + str(i) + \": \"\n",
    "    print(Estr, E[i])"
   ]
  },
  {
   "cell_type": "markdown",
   "metadata": {},
   "source": [
    "Мы видим, что это очень хорошо соответствует значениям, приведенным в примере 6.6. Ниже мы построим собственные функции трех наименьших собственных энергий."
   ]
  },
  {
   "cell_type": "code",
   "execution_count": null,
   "metadata": {},
   "outputs": [],
   "source": [
    "%matplotlib inline\n",
    "import matplotlib.pyplot as plt\n",
    "\n",
    "# Set common figure parameters:\n",
    "newparams = {'axes.labelsize': 14, 'axes.linewidth': 1, 'savefig.dpi': 300, \n",
    "             'lines.linewidth': 1.0, 'figure.figsize': (8, 3),\n",
    "             'figure.subplot.wspace': 0.4,\n",
    "             'ytick.labelsize': 10, 'xtick.labelsize': 10,\n",
    "             'ytick.major.pad': 5, 'xtick.major.pad': 5,\n",
    "             'legend.fontsize': 10, 'legend.frameon': False, \n",
    "             'legend.handlelength': 1.5, 'figure.dpi': 200}\n",
    "plt.rcParams.update(newparams)\n",
    "\n",
    "# Plot three lowest eigenstates\n",
    "plt.figure()\n",
    "plt.title(\"Ground state\")\n",
    "plt.plot(x, psi[:, 0])\n",
    "plt.xlim([-3, 3])\n",
    "plt.grid()\n",
    "plt.figure()\n",
    "plt.title(\"First excited state\")\n",
    "plt.plot(x, -psi[:, 1])\n",
    "plt.xlim([-3, 3])\n",
    "plt.grid()\n",
    "plt.figure()\n",
    "plt.title(\"Second excited state\")\n",
    "plt.plot(x, psi[:, 2])\n",
    "plt.xlim([-3, 3])\n",
    "plt.grid();"
   ]
  },
  {
   "cell_type": "markdown",
   "metadata": {},
   "source": [
    "Мы также видим, что собственные функции хорошо соответствуют тем, которые были определены в предыдущем блокноте. \n",
    "\n",
    "Следует также отметить, что это гораздо более эффективный и простой способ решения вышеуказанной проблемы!"
   ]
  },
  {
   "cell_type": "markdown",
   "metadata": {
    "collapsed": true
   },
   "source": [
    "<a id=\"rsc\"></a>\n",
    "___\n",
    "## References\n",
    "\n",
    "<a>[1]</a> `numpy.linalg` [documentation](http://docs.scipy.org/doc/numpy/reference/routines.linalg.html)"
   ]
  }
 ],
 "metadata": {
  "kernelspec": {
   "display_name": "Python 3",
   "language": "python",
   "name": "python3"
  },
  "language_info": {
   "codemirror_mode": {
    "name": "ipython",
    "version": 3
   },
   "file_extension": ".py",
   "mimetype": "text/x-python",
   "name": "python",
   "nbconvert_exporter": "python",
   "pygments_lexer": "ipython3",
   "version": "3.7.4"
  }
 },
 "nbformat": 4,
 "nbformat_minor": 1
}
