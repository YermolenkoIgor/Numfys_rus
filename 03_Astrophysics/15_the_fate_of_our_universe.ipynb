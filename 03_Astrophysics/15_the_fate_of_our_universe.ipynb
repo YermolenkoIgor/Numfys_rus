{
 "cells": [
  {
   "cell_type": "markdown",
   "metadata": {},
   "source": [
    "<style>\n",
    "@import url(https://www.numfys.net/static/css/nbstyle.css);\n",
    "</style>\n",
    "<a href=\"https://www.numfys.net\"><img class=\"logo\" /></a>\n",
    "\n",
    "# Судьба нашей Вселенной\n",
    "\n",
    "### Examples - Astrophysics\n",
    "<section class=\"post-meta\">\n",
    "By Eilif Sommer Øyre, Niels Henrik Aase and Jon Andreas Støvneng\n",
    "</section>\n",
    "Last edited: January 28th 2019\n",
    "\n",
    "___"
   ]
  },
  {
   "cell_type": "markdown",
   "metadata": {},
   "source": [
    "## Вступление\n",
    "\n",
    "Сколько лет нашей вселенной? Ускоряется ли расширение пространства? Или в конце концов оно рухнет в сингулярность? Эволюцию нашей Вселенной, как ни удивительно, можно смоделировать, решив набор довольно простых обыкновенных дифференциальных уравнений (ОДУ), называемых уравнениями Фридмана.\n",
    "\n",
    "При рассмотрении в достаточно большом масштабе наша вселенная кажется одновременно однородной и изотропной. Она однородна в распределении вещества и излучения во всех направлениях и не имеет заметных неоднородностей. Вместе с предположением, что пространство-время развивается как [идеальная жидкость](https://en.wikipedia.org/wiki/Perfect_fluid), Александр Фридман вывел свой набор уравнений из уравнений поля гравитации Эйнштейна в 1922 году. Уравнения зависят от плотности и давления вещества, излучения и вакуумных компонентов Вселенной."
   ]
  },
  {
   "cell_type": "markdown",
   "metadata": {},
   "source": [
    "## Теория\n",
    "\n",
    "Переменная $a(t)$ называется *скалярным фактором* и является параметризацией относительного расширения Вселенной. Он зависит от времени, и его текущее значение ($t = 0$) определяется как $a(0) = a_0 = 1$. Индекс \"0\" обозначает значение, оцененное сегодня. $a$ увеличивается с расширением Вселенной. Таким образом, в сингулярности Большого взрыва $a(t_{BB}) = 0$ при $t_{BB} < 0$.\n",
    "\n",
    "Первое уравнение Фридмана является функцией скалярной производной по времени ($da/dt = \\dot{a}$),\n",
    "\n",
    "\\begin{equation}\n",
    "\\Big(\\frac{\\dot{a}}{a}\\Big)^{2} = \\frac{8\\pi G}{3}\\rho - \\frac{\\kappa}{a}^2 .\n",
    "\\label{first} \\quad(1)\n",
    "\\end{equation}\n",
    "\n",
    "Второе - это ускорение:\n",
    "\n",
    "\\begin{equation}\n",
    "\\frac{\\ddot{a}}{a} = -\\frac{4\\pi G}{3}(\\rho + 3P) .\n",
    "\\label{second} \\quad(2)\n",
    "\\end{equation}\n",
    "\n",
    "Здесь $G$ - гравитационная постоянная. Если вы хотите узнать, как эти уравнения выводятся из уравнений гравитации Эйнштейна, см. [[1]](#rsc).\n",
    "\n",
    "Параметр $\\rho = \\sum_i \\rho_i$ - это плотность энергии идеальной жидкости. Различные компоненты $\\rho_i$ имеют свой вклад в давление, $P$, заданное уравнением состояния $w = P/\\rho$,\n",
    "$$P = \\sum_i P_i = \\sum_i w_i\\rho_i. $$\n",
    "\n",
    "Компоненты задаются:\n",
    "\n",
    "\\begin{equation}\n",
    "\\rho \\propto a^{-3(1 + w)} = \n",
    "\\begin{cases}\n",
    "    a^{-3} & \\mathrm{matter} \\\\\n",
    "    a^{-4} & \\mathrm{radiation} \\\\\n",
    "    a^{0} & \\mathrm{vacuum}\n",
    "\\end{cases}\n",
    "\\label{rho} \\quad(3)\n",
    "\\end{equation}\n",
    "\n",
    "Плотность вакуума соответствует таинственной \"темной энергии\", которая оказывает отрицательное давление на Вселенную. По мере увеличения $a$ значение этого компонента в конечном итоге будет доминировать в расширении.\n",
    "\n",
    "Параметр $\\kappa$ обозначает кривизну изотропного и однородного трехмерного пространства. В терминах двух измерений положительная кривизна ($\\kappa = 1$) имеет сферическую пространственную геометрию, отрицательная кривизна ($\\kappa = -1$) имеет гиперболическую пространственную геометрию, и никакая кривизна ($\\kappa = 0$) не имеет плоской пространственной геометрии."
   ]
  },
  {
   "cell_type": "markdown",
   "metadata": {},
   "source": [
    "### Преобразования\n",
    "\n",
    "Первые уравнения Фридмана могут быть переписаны, если взять во внимание,что параметр Хаббла \n",
    "\n",
    "$$ H \\equiv \\frac{1}{a}\\frac{da}{dt} = \\frac{\\dot{a}}{a}, $$\n",
    "\n",
    "и безразмерные параметры плотности\n",
    "\n",
    "$$ \\Omega_{I, 0} \\equiv \\frac{\\rho_{I, 0}}{\\rho_{crit, 0}} ,$$\n",
    "\n",
    "где критическая плотность \n",
    "\n",
    "$$\\rho_{crit, 0} \\equiv \\frac{3 H_0^2}{8\\pi G} ,$$\n",
    "\n",
    "а нижний индекс $I \\in \\{m, r, \\Lambda\\}$ обозначает удельную составляющую плотности, соответствующую материи, излучению и энергии вакуума соответственно. $H_0$ обозначает параметр Хаббла сегодня, часто называемый постоянной Хаббла.\n",
    "\n",
    "При использовании этого параметра с отношениями (3), первое уравнение Фридмана становится\n",
    "\n",
    "\\begin{equation}\n",
    "H^2(a) = \\Big(\\frac{\\dot{a}}{a}\\Big)^2 = H_0^2 \\Big{[} \\Omega_{r, 0}\\Big(\\frac{a_0}{a}\\Big)^{4} + \\Omega_{m, 0} \\Big(\\frac{a_0}{a}\\Big)^{3} + \\Omega_{\\kappa, 0} \\Big(\\frac{a_0}{a}\\Big)^{2} + \\Omega_{\\Lambda, 0}\\Big{]} ,\n",
    "\\label{firstRewritten} \\quad(4)\n",
    "\\end{equation}\n",
    "\n",
    "где параметр плотности кривизны определяется как $\\Omega_{\\Lambda, 0} \\equiv -\\kappa/(a_0 H_0)^2$."
   ]
  },
  {
   "cell_type": "markdown",
   "metadata": {},
   "source": [
    "## Реализация\n",
    "\n",
    "### Возраст \n",
    "\n",
    "Из результатов наблюдений космического аппарата Планка в 2018 году [[2]](#rsc) и [[1]](#rsc) космологические параметры нашей Вселенной представлены как:\n",
    "\n",
    "\\begin{equation}\n",
    "\\begin{split}\n",
    "\\Omega_m  &=  0.315 \\pm 0.007 \\\\\n",
    "\\Omega_\\Lambda  &= 0.6847 \\pm 0.0073 \\\\\n",
    "\\Omega_r &= 9.4 \\cdot 10^{-5} \\\\\n",
    "\\mid \\Omega_\\kappa \\mid  &\\leq 0.01 \\\\\n",
    "H_0 [\\mathrm{km}\\text{ }\\mathrm{s}^{-1} \\mathrm{Mpc}^{-1}] &=  67.4 \\pm 0.5  .\n",
    "\\end{split}\n",
    "\\end{equation}"
   ]
  },
  {
   "cell_type": "code",
   "execution_count": null,
   "metadata": {},
   "outputs": [],
   "source": [
    "omega_m = 0.315\n",
    "omega_lambda = 0.6847\n",
    "omega_r = 9.4e-5\n",
    "omega_kappa = 1 - omega_m - omega_lambda - omega_r\n",
    "H0 = 67.4                                            # [Km/(s Mpc)]\n",
    "H0 = H0*1000*(3600*24*365*1e9)/3e22                  # [1/Gyr] (Gyr = 10^9 years)"
   ]
  },
  {
   "cell_type": "markdown",
   "metadata": {},
   "source": [
    "Чтобы оценить возраст Вселенной, уравнение (4) можно перестроить в интеграл\n",
    "\n",
    "\\begin{equation}\n",
    "H_0dt = \\int_0^{a_0} \\frac{da}{\\Big{[} \\Omega_{r, 0}a^{-2} + \\Omega_{m, 0}a^{-1} + \\Omega_{\\kappa, 0} + \\Omega_{\\Lambda, 0}a^2\\Big{]}^{1/2}},\n",
    "\\label{age} \\quad(5)\n",
    "\\end{equation}\n",
    "\n",
    "где $a_0$ = 1.\n",
    "\n",
    "Этот интеграл может быть решен с помощью функции [`scipy.integrate.quad`](https://docs.scipy.org/doc/scipy/reference/generated/scipy.integrate.quad.html)."
   ]
  },
  {
   "cell_type": "code",
   "execution_count": null,
   "metadata": {},
   "outputs": [],
   "source": [
    "import numpy as np\n",
    "from scipy.integrate import odeint\n",
    "from scipy.integrate import quad\n",
    "import matplotlib.pyplot as plt\n",
    "import sys\n",
    "%matplotlib inline"
   ]
  },
  {
   "cell_type": "code",
   "execution_count": null,
   "metadata": {},
   "outputs": [],
   "source": [
    "# Defining the integrand as a function\n",
    "def integrand(a, omega_r, omega_m, omega_kappa, omega_lambda):\n",
    "    return (omega_r*a**(-2) + omega_m/a + omega_kappa + omega_lambda*a**2)**(-1/2)\n",
    "\n",
    "# Solve definite integral  with limits (0, 1) by using scipy.integrate.quad\n",
    "H0t = quad(integrand, 0, 1, args=(omega_r, omega_m, omega_kappa, omega_lambda))\n",
    "\n",
    "t = H0t[0]/H0\n",
    "print(\"Age of universe [Gyr]:\\t%.1f\"%(t))"
   ]
  },
  {
   "cell_type": "markdown",
   "metadata": {},
   "source": [
    "Этот результат довольно близок к текущим измерениям Планка, составляющим около 13.8 миллиарда лет."
   ]
  },
  {
   "cell_type": "markdown",
   "metadata": {},
   "source": [
    "### Динамика $a$\n",
    "Объединение (1) с (2) дает систему ОДУ\n",
    "\n",
    "\\begin{equation}\n",
    "\\begin{cases}\n",
    "& \\dot{a} = \\frac{da}{dt} \\\\\n",
    "&\\frac{d\\dot{a}}{dt} = -\\frac{H_0^2}{2}\\Big(2\\Omega_{r, 0}a^{-4} + \\Omega_{m, 0}a^{-3} - 2\\Omega_{\\Lambda, 0}\\Big)\\Omega_{m, 0}\\Big(\\frac{\\dot{a}^2}{H_0^2} - \\Omega_{r, 0}a^{-2} - \\Omega_{\\Lambda, 0}a^2 - \\Omega_{\\kappa, 0}a_0^2\\Big)^{-1}\n",
    "\\label{dderivative} \\quad(6)\n",
    "\\end{cases}\n",
    "\\end{equation}\n",
    "\n",
    "С начальными условиями\n",
    "\n",
    "\\begin{equation}\n",
    "\\begin{split}\n",
    "    &a_0 = 1 \\\\\n",
    "    &\\dot{a}_0 = H_0\\sqrt{\\Omega_{m, 0}a_0^{-1} + \\Omega{r, 0}a_0^{-2} + \\Omega{\\Lambda, 0}a_0^2 + \\Omega_{\\kappa, 0}a_0^2} .\n",
    "\\end{split}\n",
    "\\end{equation}\n",
    "\n",
    "Давайте определим функцию для вычисления производных $a$."
   ]
  },
  {
   "cell_type": "code",
   "execution_count": null,
   "metadata": {},
   "outputs": [],
   "source": [
    "def friedmann(y, t, omega_r, omega_m, omega_lambda, omega_kappa, H0, a0):\n",
    "    \"\"\"\n",
    "    Возвращает первую и вторую производные скалярного коэффициента, \n",
    "    учитывая текущее значение скалярного коэффициента и его первую производную.\n",
    "    \n",
    "    Параметры:\n",
    "        y         1D массив с двумя элементами\n",
    "        t         1D массив (необходим для функции .odeint)\n",
    "        Omega_x   Float. Параметры плотности \n",
    "        H0        Float. Параметр Хаббла\n",
    "        a0        Float/integer. Скалярный фактор сегодня\n",
    "        \n",
    "    Returns:\n",
    "        dydt      1D массив с двумя элементами\n",
    "    \"\"\"\n",
    "    \n",
    "    # Defining non- and first derivative based on input-\n",
    "    a, adot = y\n",
    "    dydt = [adot, -H0**2/2*(omega_m*a**(-3) + 2*omega_r*a**(-4) - \n",
    "                            2*omega_lambda)*omega_m*(adot**2/H0**2 - omega_r*a**(-2) - \n",
    "                            omega_lambda*a**2 - omega_kappa*a0**2)**(-1)]\n",
    "    return dydt"
   ]
  },
  {
   "cell_type": "markdown",
   "metadata": {},
   "source": [
    "Далее мы решаем систему уравнений с помощью интегратора [`odeint`](https://docs.scipy.org/doc/scipy/reference/generated/scipy.integrate.odeint.html#scipy.integrate.odeint) из `scipy.integrate`. Мы выбираем четыре различных набора параметров плотности, чтобы получить различную эволюцию скалярного фактора. Значения выбираются не случайным образом, а для достижения конкретных моделей, соответствующих теоретическим сценариям. Система интегрирована как назад, так и вперед, чтобы получить эволюцию как в прошлом, так и в будущем."
   ]
  },
  {
   "cell_type": "code",
   "execution_count": null,
   "metadata": {},
   "outputs": [],
   "source": [
    "# Определение постоянных параметров\n",
    "H0 = 100                                # Hubble constant [Km/(s Mpc)]\n",
    "H0 = H0*1000*(3600*24*365*1e9)/3e22     # Hubble constant [1/Gyr] (Gyr = 10^9 years)\n",
    "a0 = 1                                  # Scalar factor today\n",
    "\n",
    "# Пределы интеграции (миллиард лет)\n",
    "up_lim = 30\n",
    "low_lim = -30\n",
    "# Resolution of integration\n",
    "res = int(1e4)\n",
    "\n",
    "# Sequence of time steps\n",
    "t_future = np.linspace(0, up_lim, res)\n",
    "t_past = np.linspace(0, low_lim, res)\n",
    "t = np.concatenate([np.flip(t_past, 0), t_future[1:]])\n",
    "\n",
    "# Определение четырех различных наборов значений параметров плотности\n",
    "# omega = [omega_r, omega_m, omega_lambda, omega_kappa]\n",
    "omega1 = [1e-4, 0.3, 0, 1-1e-4-0.3-0]\n",
    "omega2 = [1e-4, 0.3, 0.7, 1-1e-4-0.3-0.7]\n",
    "omega3 = [1e-4, 5, 0, 1-1e-4-5-0]\n",
    "omega4 = [1e-4, 1, 0, 1-1e-4-1-0]\n",
    "SETS = [omega1, omega2, omega3, omega4]\n",
    "\n",
    "# Инициализирующая матрица для хранения решений\n",
    "evolution = np.zeros((len(SETS), 2*res-1))\n",
    "\n",
    "for i in range(len(SETS)):\n",
    "    omega_r, omega_m, omega_lambda, omega_kappa = SETS[i]\n",
    "    \n",
    "    # начальное значение производной по времени скалярного коэффициента\n",
    "    adot0 = H0*np.sqrt(omega_m/a0 + omega_r*a0**(-2) + omega_lambda*a0**2 + omega_kappa*a0**2)\n",
    "    \n",
    "    # Список начальных условий\n",
    "    y0 = [a0, adot0]\n",
    "    \n",
    "    # Найти численные решения\n",
    "    sol_future = np.zeros((2, res))\n",
    "    sol_past = np.zeros((2, res))\n",
    "    sol_future = odeint(friedmann, y0, t_future, args=(omega_r, omega_m, omega_lambda, omega_kappa, H0, a0))\n",
    "    sol_past = odeint(friedmann, y0, t_past, args=(omega_r, omega_m, omega_lambda, omega_kappa, H0, a0))\n",
    "    \n",
    "    # Объединит решение для прошлого и будущего и вставит в матрицу\n",
    "    evolution[i, :] = np.concatenate([np.flip(sol_past[:, 0], 0), sol_future[:, 0][1:]])\n",
    "    \n",
    "# Plot the results\n",
    "plt.figure(figsize=(12, 8), dpi=300)\n",
    "for i in range(len(SETS)):\n",
    "    plt.plot(t, evolution[i],\n",
    "        label=(r'$\\Omega_{r, 0} = %.4f, \\Omega_{m, 0} = %.1f, \\Omega_{\\Lambda, 0} = %.1f,'\n",
    "               '\\Omega_{\\kappa, 0} = %.1f$'%(SETS[i][0], SETS[i][1], SETS[i][2], SETS[i][3])))\n",
    "plt.xlabel(\"Time, Gyr\")\n",
    "plt.ylabel(r'Scalar factor, $a$')\n",
    "plt.ylim(0, 4)\n",
    "plt.xlim(-15, 30)\n",
    "plt.title(\"Relative size of the universe as a function of time\")\n",
    "plt.legend(loc='best')\n",
    "plt.grid(True)\n",
    "plt.show()"
   ]
  },
  {
   "cell_type": "markdown",
   "metadata": {},
   "source": [
    "На приведенном выше графике показана эволюция скалярного фактора и, следовательно, относительного размера Вселенной для различных заданных параметров плотности. Все графики встречаются на уровне $a=1$, что соответствует сегодняшнему дню. Следовательно, наша Вселенная могла следовать любому из четырех эволюционных путей, смоделированных на графике, в зависимости от истинного значения параметров.\n",
    "\n",
    "Зеленая кривая соответствует сферической вселенной с $\\Omega_{\\kappa, 0} < 0$ и, следовательно, кривизна $\\kappa = 1$. Примечательно, что это самая молодая Вселенная, возраст которой составляет менее пяти миллиардов лет. Эта вселенная в конечном итоге снова превратится в сингулярность, сценарий, называемый *Big Crunch*.\n",
    "\n",
    "Красная кривая соответствует Вселенной Эйнштейна - де Ситтера. Кривизна плоская, и Вселенная вечно расширяется, но замедляется.\n",
    "\n",
    "В модели синей кривой кривизна гиперболическая ($\\kappa = -1$). Также и здесь расширение является вечным, но замедляющимся.\n",
    "\n",
    "Наконец, оранжевая. Кривая, которая по текущим наблюдениям больше всего напоминает нашу собственную Вселенную. Плотность кривизны $\\Omega_{\\kappa, 0} \\approx 0$, указывающая на плоскую вселенную. Интересно, что космологическая постоянная значительна, что приводит к ускоряющемуся расширению Вселенной при $a > 1$."
   ]
  },
  {
   "cell_type": "markdown",
   "metadata": {},
   "source": [
    "___\n",
    "<a id=\"rsc\"></a>\n",
    "## References and Further Reading\n",
    "<a>[1]</a>: [Amsterdam Cosmology Group](http://cosmology.amsterdam/education/cosmology/), *Lecture Notes: Chapter 1*, University of Amsterdam and Nikhef. <br />\n",
    "<a>[2]</a>: Planck Collaboration, *Planck 2018 Results. IV. Cosmological Parameters*, [arXiv:1807.06209](https://arxiv.org/abs/1807.06209) [astro-ph.CO]. <br />\n",
    "<a>[3]</a>: Cosmology, [*Multi-Component Universes*](https://ttt.astro.su.se/utbildning/kurser/kosmologi/l5.pdf), Department of Astronomy, University of Stockholm. <br /> "
   ]
  }
 ],
 "metadata": {
  "kernelspec": {
   "display_name": "Python 3",
   "language": "python",
   "name": "python3"
  },
  "language_info": {
   "codemirror_mode": {
    "name": "ipython",
    "version": 3
   },
   "file_extension": ".py",
   "mimetype": "text/x-python",
   "name": "python",
   "nbconvert_exporter": "python",
   "pygments_lexer": "ipython3",
   "version": "3.7.4"
  }
 },
 "nbformat": 4,
 "nbformat_minor": 2
}
