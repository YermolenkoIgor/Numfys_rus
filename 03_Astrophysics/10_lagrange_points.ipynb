{
 "cells": [
  {
   "cell_type": "markdown",
   "metadata": {},
   "source": [
    "<style>\n",
    "@import url(https://www.numfys.net/static/css/nbstyle.css);\n",
    "</style>\n",
    "<a href=\"https://www.numfys.net\"><img class=\"logo\" /></a>\n",
    "\n",
    "# Точки Лагранжа\n",
    "\n",
    "### Examples - Astrophysics\n",
    "<section class=\"post-meta\">\n",
    "By Magnus H-S Dahle, Henning G. Hugdal, Håkon W. Ånes and Peter Berg\n",
    "</section>\n",
    "Last edited: March 22nd 2018 \n",
    "___"
   ]
  },
  {
   "cell_type": "markdown",
   "metadata": {},
   "source": [
    "## Введение и постановка задачи"
   ]
  },
  {
   "cell_type": "markdown",
   "metadata": {},
   "source": [
    "В этом примере мы должны рассмотреть систему из трех тел, подверженных только гравитационным силам, например, Солнце, Земля и некоторый спутник (или частица), смоделированные как *точечные* массы $m_s$, $m_e$ и $m$ соответственно. Система должна рассматриваться в двумерной плоскости $x,y$ с началом координат, расположенным в центре масс (ЦМ), как показано на следующем эскизе задачи. Кроме того, мы также предполагаем, что орбита Земли вокруг Солнца представляет собой замкнутую *окружность* (с постоянным расстоянием до Солнца) и постоянной угловой скоростью $\\omega$.\n",
    "\n",
    "![Lagrange](images/1m_lagrange_points_tikz.png)"
   ]
  },
  {
   "cell_type": "markdown",
   "metadata": {},
   "source": [
    "Мы хотим изучить, как третья масса, спутник, ведет себя в эффективном гравитационном потенциале, возникающем в результате двух противопоставленных масс, путем выведения и решения его уравнений движения. Более того, мы предполагаем, что\n",
    "\n",
    "$$ m \\ll m_e \\ll m_s$$\n",
    "\n",
    "таким образом, ЦМ можно аппроксимировать так, чтобы он лежал где-то на прямой линии между $m_s$ и $m_e$, как указано на эскизе. Ее мы определяем как ось $x$. Далее мы выведем уравнения движения спутника и покажем существование точек Лагранжа (LP), для которых градиент гравитационного потенциала равен нулю. Затем мы решим уравнения движения (EoM) численно, используя [метод Рунге-Кутты 4-го порядка](https://www.numfys.net/search/?q=4th%20order%20runge-kutta) с начальной позицией, близкой к LP."
   ]
  },
  {
   "cell_type": "markdown",
   "metadata": {},
   "source": [
    "## Уравнения движения"
   ]
  },
  {
   "cell_type": "markdown",
   "metadata": {},
   "source": [
    "Мы предполагаем, что на спутник действует только гравитационная сила, которая в сочетании со вторым законом движения Ньютона дает общую векторную форму EoM спутника,\n",
    "\n",
    "$$\n",
    "\\begin{equation}\n",
    "    \\vec{F} = -G\\frac{m_s m}{r_s^2}\\hat{r}_s - G\\frac{m_e m}{r_e^2}\\hat{r}_e = m\\vec{a}.\n",
    "\\end{equation}\n",
    "$$\n",
    "\n",
    "Здесь вводятся $G$, гравитационная постоянная, $\\vec{a}$, ускорение спутника и $\\vec{r}_s=r_s\\hat{r}_s$ и $\\vec{r}_e=r_e\\hat{r}_e$, которые являются векторами, указывающими от спутника к Солнцу и Земле соответственно. "
   ]
  },
  {
   "cell_type": "markdown",
   "metadata": {},
   "source": [
    "Нужно относиться к $\\vec{a}$ с осторожностью, так как мы будем рассматривать проблему во *вращающейся системе координат*, движущейся вместе с землей вокруг солнца. В этой системе Солнце и Земля будут находиться в состоянии покоя относительно друг друга. Следовательно, мы хотим выразить ускорение во вращающейся системе отсчета, а это означает, что производная по времени должна быть выражена во вращающейся системе отсчета. Для этого мы используем идентификатор оператора, связывающий производную по времени в статической и вращающейся системах отсчета,\n",
    "\n",
    "$$\n",
    "\\left( \\frac{\\textrm{d}}{\\textrm{d}t} \\right)_{\\text{static}} = \\left( \\frac{\\textrm{d}}{\\textrm{d}t} \\right)_{\\text{rotated}} + \\vec{\\omega}\\, \\times,\n",
    "$$\n",
    "\n",
    "где $\\vec{\\omega} = \\omega \\hat{n}$ обозначает угловую скорость вращающейся системы. Затем мы можем выразить ускорение спутника с помощью\n",
    "\n",
    "$$\n",
    "\\begin{equation}\n",
    "\\vec{a} = \\left(\\frac{\\textrm{d}^2 \\vec{r}}{\\textrm{d} t^2}\\right) + 2\\omega\\hat{z} \\times \\left(\\frac{\\textrm{d} \\vec{r}}{\\textrm{d} t}\\right) + \\omega \\hat{z} \\times (\\omega \\hat{z} \\times \\vec{r}),\n",
    "\\end{equation}\n",
    "$$\n",
    "\n",
    "где производные по времени теперь находятся относительно вращающейся СО. Это можно подставить в EoM выше, чтобы получить EoM во вращающейся системе отсчета:\n",
    "\n",
    "$$m\\left[\\left(\\frac{\\textrm{d}^2 \\vec{r}}{\\textrm{d} t^2}\\right) + 2\\omega\\hat{z} \\times \\left(\\frac{\\textrm{d} \\vec{r}}{\\textrm{d} t}\\right) + \\omega \\hat{z} \\times (\\omega \\hat{z} \\times \\vec{r})\\right] = -G\\frac{m_s m}{r_s^2}\\hat{r}_s - G\\frac{m_e m}{r_e^2}\\hat{r}_e.$$"
   ]
  },
  {
   "cell_type": "markdown",
   "metadata": {},
   "source": [
    "Поскольку приведенное выше уравнение движения является одним векторным уравнением, его можно разложить на два скалярных уравнения, отдельно по направлениям $y$ и $x$,\n",
    "\n",
    "\\begin{align}\n",
    "    \\hat{x} \\cdot \\left[ \\left(\\frac{\\textrm{d}^2 \\vec{r}}{\\textrm{d} t^2}\\right) + 2\\omega\\hat{z} \\times \\left(\\frac{\\textrm{d} \\vec{r}}{\\textrm{d} t}\\right) + \\omega \\hat{z} \\times (\\omega \\hat{z} \\times \\vec{r})\\right] &= - \\frac{G m_s}{r_s^2}\\hat{r}_{s}\\cdot\\hat{x} -  \\frac{G m_e}{r_e^2}\\hat{r}_{e}\\cdot\\hat{x},\\\\\n",
    "    \\hat{y} \\cdot \\left[ \\left(\\frac{\\textrm{d}^2 \\vec{r}}{\\textrm{d} t^2}\\right) + 2\\omega\\hat{z} \\times \\left(\\frac{\\textrm{d} \\vec{r}}{\\textrm{d} t}\\right) + \\omega \\hat{z} \\times (\\omega \\hat{z} \\times \\vec{r}) \\right] &= - \\frac{G m_s}{r_s^2}\\hat{r}_{s}\\cdot\\hat{y} -  \\frac{G m_e}{r_e^2}\\hat{r}_{e}\\cdot\\hat{y}.\n",
    "\\end{align}"
   ]
  },
  {
   "cell_type": "markdown",
   "metadata": {},
   "source": [
    "**Выбор единиц измерения**\n",
    "\n",
    "Нам понадобится в отношении используемых единиц измерения рассмотреть два пункта. Прежде всего, мы определяем\n",
    "\n",
    "$$\\mu \\equiv G(m_s + m_e) = \\mu_s + \\mu_e = 1.$$\n",
    "\n",
    "Затем мы выбираем шкалу длины таким образом, чтобы расстояние между Землей и Солнцем составляло 1, т. е.\n",
    "\n",
    "$$\\left|\\vec{r}_e + \\vec{r}_s\\right| = 1.$$\n",
    "\n",
    "Из определения мы получаем\n",
    "\n",
    "$$\\vec{R}_{CoM} = \\frac{m_s\\vec{r_s} + m_e\\vec{r_e}}{m_s+m_e},$$\n",
    "\n",
    "где мы пренебрегли малой массой $m$. Выбрав COM, который будет помещен в начало нашей системы координат, а Солнце и Земля будут расположены вдоль оси $x$ во вращающейся СО, мы получим\n",
    "\n",
    "$$0 = m_e x_e + m_s x_s = m_e \\left|x_e\\right| - m_s \\left|x_s\\right|.$$\n",
    "\n",
    "Умножая на $G$ и переставляя, мы получаем\n",
    "\n",
    "$$\\mu_e \\left|x_e\\right| = \\mu_s \\left|x_s\\right|.$$\n",
    "\n",
    "Теперь мы можем использовать выбор единиц измерения выше, чтобы выразить $\\left|x_e\\right|$ и $\\left|x_s\\right|$ в терминах $\\mu_s$ и $\\mu_e$.\n",
    "\n",
    "$$\n",
    "\\begin{align}\n",
    "\\mu_e \\left|x_e\\right| &= \\mu_s (1-\\left|x_e\\right|) \\,\\Rightarrow\\, \\left|x_e\\right| = \\mu_s,\\\\\n",
    "\\mu_s \\left|x_s\\right| &= \\mu_e (1-\\left|x_s\\right|) \\,\\Rightarrow\\, \\left|x_s\\right| = \\mu_e,\n",
    "\\end{align}\n",
    "$$\n",
    "\n",
    "где мы использовали $\\left|x_e\\right| + \\left|x_s\\right| = 1$. Это позволяет нам выразить расстояния от Земли и Солнца до массы $m$ при $\\vec{r} = (x,y)$ в виде\n",
    "\n",
    "$$\\begin{align}\n",
    "r_e = \\sqrt{(x-\\mu_s)^2+y^2},\\\\\n",
    "r_s = \\sqrt{(x+\\mu_e)^2+y^2}.\n",
    "\\end{align}$$\n",
    "\n",
    "Наконец, мы также выбираем $\\omega=1$, что означает, что теперь у нас есть безразмерные уравнения движения."
   ]
  },
  {
   "cell_type": "markdown",
   "metadata": {},
   "source": [
    "Чтобы упростить написание, мы теперь вводим точечную нотацию для обозначения производных по времени, т.е. $\\dot{x}\\equiv \\frac{\\textrm{d}x}{\\textrm{d}t}$ и $\\dot{y}\\equiv \\frac{\\textrm{d}y}{\\textrm{d}t}$ так, что приведенные выше уравнения движения могут быть переписаны как гораздо более аккуратные\n",
    "\n",
    "\n",
    "$$\n",
    "\\begin{align}\n",
    "    \\ddot{x} - 2\\omega\\dot{y} &= -\\frac{\\partial V}{\\partial x},\\\\\n",
    "    \\ddot{y} + 2\\omega\\dot{x} &= -\\frac{\\partial V}{\\partial y},\n",
    "\\end{align}\n",
    "$$\n",
    "и\n",
    "$$\n",
    "\\begin{equation}\n",
    "    V(x,y) \\equiv -\\frac{1}{2} \\omega^2(x^2+y^2)-\\frac{\\mu_s}{r_s}-\\frac{\\mu_e}{r_e}.\n",
    "\\end{equation}\n",
    "$$\n",
    "\n",
    "Это уравнения движения во вращающейся системе отсчета, управляющие поведением спутника, движущегося в объединенных гравитационных полях Земли и Солнца."
   ]
  },
  {
   "cell_type": "markdown",
   "metadata": {},
   "source": [
    "## Точки Лагранжа"
   ]
  },
  {
   "cell_type": "markdown",
   "metadata": {},
   "source": [
    "Очевидно, что эффективный потенциал $V$ сильно нелинеен и что существует вероятность того, что он может содержать (как стабильные, так и нестабильные) точки равновесия, в которых градиент потенциала равен нулю,\n",
    "\n",
    "$$\n",
    "\\nabla V = 0 \\quad\\Longrightarrow\\quad \\ddot{x} - 2\\omega\\dot{y} = \\ddot{y} + 2\\omega\\dot{x} = 0.\n",
    "$$\n",
    "\n",
    "Для системы из трех тел в предположении $m \\ll m_e \\ll m_s$, сделанном выше, существует пять таких точек, которые названы в честь итальянского математика Жозефа-Луи Лагранжа. Здесь мы представляем только результат, но хотели бы призвать вас вычислить их самостоятельно. Следует отметить, что невозможно найти решения замкнутой формы для первых трех точек Лагранжа; первые три уравнения справедливы для $\\mu_e \\ll 1$.\n",
    "\n",
    "$$\n",
    "\\begin{align}\n",
    "    \\textrm{L1: }& \\left(1-\\left(\\frac{\\mu_s}{3}\\right)^{1/3},0\\right),\\\\\n",
    "    \\textrm{L2: }& \\left(1+\\left(\\frac{\\mu_s}{3}\\right)^{1/3},0\\right),\\\\\n",
    "    \\textrm{L3: }& \\left(-1-\\frac{5\\mu_s}{12},0\\right),\\\\\n",
    "    \\textrm{L4: }& \\left(\\frac{1}{2}(\\mu_s-\\mu_e),\\frac{\\sqrt{3}}{2}\\right),\\\\\n",
    "    \\textrm{L5: }& \\left(\\frac{1}{2}(\\mu_s-\\mu_e),-\\frac{\\sqrt{3}}{2}\\right),\n",
    "\\end{align}\n",
    "$$\n",
    "\n",
    "Эти координаты зависят от выбранной нами системы единиц измерения. Первые три из них нестабильны, в то время как L4 и L5 стабильны. Ниже мы составим график потенциала и результирующих LP."
   ]
  },
  {
   "cell_type": "code",
   "execution_count": null,
   "metadata": {},
   "outputs": [],
   "source": [
    "# WE FIRST DEFINE PROPERTIES AND SETTINGS FOR ALL PLOTS\n",
    "\n",
    "%matplotlib inline\n",
    "import numpy as np\n",
    "import matplotlib.pyplot as plt\n",
    "from matplotlib import rc"
   ]
  },
  {
   "cell_type": "code",
   "execution_count": null,
   "metadata": {},
   "outputs": [],
   "source": [
    "# Set common figure parameters:\n",
    "newparams = {'figure.figsize': (10, 6),\n",
    "             'lines.linewidth': 1.5, 'lines.markersize': 10,\n",
    "             'font.size': 14}\n",
    "plt.rcParams.update(newparams)"
   ]
  },
  {
   "cell_type": "markdown",
   "metadata": {},
   "source": [
    "Затем построим эквипотенциальные линии потенциала вместе с Солнцем и Землей и пятью точками Лагранжа. Мы рекоммендуем вам изменить соотношение масс между Землей и Солнцем (то есть $\\mu_e,\\mu_s$), чтобы увидеть, как это изменяет эффективный потенциал и положение LPS."
   ]
  },
  {
   "cell_type": "code",
   "execution_count": null,
   "metadata": {},
   "outputs": [],
   "source": [
    "x = np.linspace(-2, 2, 100)\n",
    "y = np.linspace(-2, 2, 100)\n",
    "X,Y = np.meshgrid(x,y)\n",
    "\n",
    "w = 1        # Angular frequency (AF) of Earth around the Sun\n",
    "             # and thus also the AF of the rotating coord. sys.\n",
    "\n",
    "# TRUE Picure:\n",
    "# mu_s = 1.0/(1.0 + 3.0e-6) # True mass relation of the Sun and Earth\n",
    "# mu_e = 1.0 - mu_s         # m_e/m_s ~= 3.0*10^-6\n",
    "\n",
    "# QUALITATIVE Picure:\n",
    "mu_s = 0.98\n",
    "mu_e = 1.0 - mu_s\n",
    "\n",
    "def plot_Pot():\n",
    "\n",
    "    # Potential:\n",
    "    V = 1/2*w**2*(X**2+Y**2) + mu_s/np.sqrt((X+mu_e)**2+Y**2) + mu_e/np.sqrt((X-mu_s)**2+Y**2)\n",
    "\n",
    "    # Potential levels and contour plot\n",
    "    lvl = np.linspace(1.5, 2.0, 31)\n",
    "    plt.contour(X, Y, V, lvl, colors='0.65')\n",
    "\n",
    "    # Plot Sun and Earth\n",
    "    plt.plot(mu_s, 0, 'yo', -mu_e, 0, 'yo')\n",
    "    plt.figtext(0.495, 0.535, \"Sun\")\n",
    "    plt.figtext(0.68, 0.535, \"Earth\")\n",
    "\n",
    "plt.figure()\n",
    "plot_Pot()\n",
    "# Plot Lagrange points\n",
    "plt.plot(1-(mu_e/3)**(1/3), 0, 'b*')\n",
    "plt.figtext(0.75, 0.5, \"L1\")\n",
    "plt.plot(1+(mu_e/3)**(1/3), 0, 'b*')\n",
    "plt.figtext(0.64, 0.5, \"L2\")\n",
    "plt.plot(-(1+5/12*mu_e), 0, 'b*')\n",
    "plt.figtext(0.29, 0.5, \"L3\")\n",
    "plt.plot(0.5*(mu_s-mu_e), np.sqrt(3)/2, 'b*')\n",
    "plt.figtext(0.6, 0.72, \"L4\")\n",
    "plt.plot(0.5*(mu_s-mu_e), -np.sqrt(3)/2, 'b*')\n",
    "plt.figtext(0.6, 0.38, \"L5\")\n",
    "\n",
    "# add the 'r' before text strings to enable TeX rendering.\n",
    "plt.title(\"Plot of Equipotential Lines, with Sun, Earth and Lagrange Points\")\n",
    "plt.xlabel(r'$x$')\n",
    "plt.ylabel(r'$y$');\n",
    "plt.show()"
   ]
  },
  {
   "cell_type": "markdown",
   "metadata": {},
   "source": [
    "## Численное решение EoM (Рунге-Кутта 4-го порядка)"
   ]
  },
  {
   "cell_type": "markdown",
   "metadata": {},
   "source": [
    "Для вычисления результирующей траектории малой массы, первоначально помещенной в LP, мы применим метод Рунге-Кутты четвертого порядка. Для этого нам нужно будет переписать два ОДУ второго порядка в систему из четырех ОДУ первого порядка. Принимая во внимание,\n",
    "\n",
    "$$\n",
    "\\begin{align}\n",
    "    \\ddot{x} - 2\\omega\\dot{y} &= -\\frac{\\partial V}{\\partial x},\\\\\n",
    "    \\ddot{y} + 2\\omega\\dot{x} &= -\\frac{\\partial V}{\\partial y}\n",
    "\\end{align}\n",
    "$$\n",
    "и\n",
    "$$\n",
    "\\begin{align}\n",
    "    \\frac{\\partial}{\\partial x}V(x,y) &= +2\\omega v + \\omega x + \\frac{\\mu_s[x+\\mu_e]}{r_s^3} + \\frac{\\mu_e[x-\\mu_s]}{r_e^3} \\\\[1.0em]\n",
    "    \\frac{\\partial}{\\partial y}V(x,y) &= -2\\omega u + \\omega y + \\frac{\\mu_s y}{r_s^3} + \\frac{\\mu_e y}{r_e^3} \\\\[1.0em]\n",
    "    r_s &= \\sqrt{(x+\\mu_e)^2 + y^2}\\\\[1.0em]\n",
    "    r_e &= \\sqrt{(x-\\mu_s)^2 + y^2}\n",
    "\\end{align}\n",
    "$$"
   ]
  },
  {
   "cell_type": "markdown",
   "metadata": {},
   "source": [
    "Затем мы вводим две новые переменные $u\\equiv \\dot{x}$ и $v\\equiv \\dot{y}$ такие, что\n",
    "\n",
    "$$\n",
    "\\begin{align}\n",
    "    \\dot{x} &= u &\\equiv F(x,y,u,v,t)\\\\[1.0em]\n",
    "    \\dot{y} &= v &\\equiv G(x,y,u,v,t)\\\\[1.0em]\n",
    "    \\dot{u} &= +2\\omega v + \\omega^2 x -\\mu_s \\frac{x+\\mu_e}{r_s^3} -\\mu_e \\frac{x-\\mu_s}{r_e^3} &\\equiv H(x,y,u,v,t)\\\\[1.0em]\n",
    "    \\dot{v} &= -2\\omega u + \\omega^2 y -\\mu_s \\frac{y}{r_s^3} - \\mu_e \\frac{y}{r_e^3} &\\equiv I(x,y,u,v,t)\n",
    "\\end{align}\n",
    "$$\n",
    "\n",
    "Затем мы реализуем [Рунге-Кутту четвертого порядка](https://www.numfys.net/search/?q=4th%20order%20runge-kutta).\n"
   ]
  },
  {
   "cell_type": "code",
   "execution_count": null,
   "metadata": {},
   "outputs": [],
   "source": [
    "# Here, we haven't removed the x,y,u,v arguments of F,G,H,I even though they are independent \n",
    "# of most of them, mostly to keep the generality of implementation, with the exception of the\n",
    "# time variable 't', which does not explicitly appear in any of the functions.\n",
    "\n",
    "def F(X_, Y_, U_, V_):\n",
    "    return U_\n",
    "\n",
    "def G(X_, Y_, U_, V_):\n",
    "    return V_\n",
    "\n",
    "def H(X_, Y_, U_, V_):\n",
    "    r_e = np.sqrt((X_-mu_s)**2+Y_**2)\n",
    "    r_s = np.sqrt((X_+mu_e)**2+Y_**2)\n",
    "    return +2*w*V_ + w**2*X_ - mu_s*(X_+mu_e)/r_s**3 - mu_e*(X_-mu_s)/r_e**3\n",
    "\n",
    "def I(X_, Y_, U_, V_):\n",
    "    r_e = np.sqrt((X_-mu_s)**2+Y_**2)\n",
    "    r_s = np.sqrt((X_+mu_e)**2+Y_**2)\n",
    "    return -2*w*U_ + w**2*Y_ - mu_s*Y_/r_s**3        - mu_e*Y_/r_e**3\n",
    "\n",
    "\n",
    "# TRUE Picure:\n",
    "mu_s = 1.0/(1.0 + 3.0e-6) # True mass relation of the Sun and Earth\n",
    "mu_e = 1.0 - mu_s         # m_e/m_s ~= 3.0*10^-6\n",
    "\n",
    "# QUALITATIVE Picure:\n",
    "# mu_s = 0.98\n",
    "# mu_e = 1.0 - mu_s\n",
    "\n",
    "\n",
    "dt = 0.001          # Time Step Size\n",
    "t_max = 15          # Total meassure time; t_max=2pi corresponds to 1 year\n",
    "N = int(t_max/dt)   # Number of Time Steps in t_max\n",
    "\n",
    "X_4RK = np.zeros(N) # Numerical solution, x(t)\n",
    "Y_4RK = np.zeros(N) # Numerical solution, y(t)\n",
    "U_4RK = np.zeros(N) # Numerical solution, u(t) = dx/dt\n",
    "V_4RK = np.zeros(N) # Numerical solution, v(t) = dy/dt\n",
    "\n",
    "# Initial Position\n",
    "X_4RK[0] = 0.5*(mu_s-mu_e) + (0.5*(mu_s-mu_e))/100\n",
    "Y_4RK[0] = -np.sqrt(3)/2\n",
    "\n",
    "#Initial velcity\n",
    "U_4RK[0] = +0.00\n",
    "V_4RK[0] = -0.01\n",
    "\n",
    "\n",
    "# PERFORM 4. ORDER RUNGE-KUTTA METHOD (see Module 4.4):\n",
    "for n in range(N-1):\n",
    "    \n",
    "    k_x1 = dt * F( X_4RK[n], Y_4RK[n], U_4RK[n], V_4RK[n] )\n",
    "    k_y1 = dt * G( X_4RK[n], Y_4RK[n], U_4RK[n], V_4RK[n] )\n",
    "    k_u1 = dt * H( X_4RK[n], Y_4RK[n], U_4RK[n], V_4RK[n] )\n",
    "    k_v1 = dt * I( X_4RK[n], Y_4RK[n], U_4RK[n], V_4RK[n] )\n",
    "    \n",
    "    k_x2 = dt * F( X_4RK[n] + k_x1/2, Y_4RK[n] + k_y1/2, U_4RK[n] + k_u1/2, V_4RK[n] + k_v1/2 )\n",
    "    k_y2 = dt * G( X_4RK[n] + k_x1/2, Y_4RK[n] + k_y1/2, U_4RK[n] + k_u1/2, V_4RK[n] + k_v1/2 )\n",
    "    k_u2 = dt * H( X_4RK[n] + k_x1/2, Y_4RK[n] + k_y1/2, U_4RK[n] + k_u1/2, V_4RK[n] + k_v1/2 )\n",
    "    k_v2 = dt * I( X_4RK[n] + k_x1/2, Y_4RK[n] + k_y1/2, U_4RK[n] + k_u1/2, V_4RK[n] + k_v1/2 )\n",
    "    \n",
    "    k_x3 = dt * F( X_4RK[n] + k_x2/2, Y_4RK[n] + k_y2/2, U_4RK[n] + k_u2/2, V_4RK[n] + k_v2/2 )\n",
    "    k_y3 = dt * G( X_4RK[n] + k_x2/2, Y_4RK[n] + k_y2/2, U_4RK[n] + k_u2/2, V_4RK[n] + k_v2/2 )\n",
    "    k_u3 = dt * H( X_4RK[n] + k_x2/2, Y_4RK[n] + k_y2/2, U_4RK[n] + k_u2/2, V_4RK[n] + k_v2/2 )\n",
    "    k_v3 = dt * I( X_4RK[n] + k_x2/2, Y_4RK[n] + k_y2/2, U_4RK[n] + k_u2/2, V_4RK[n] + k_v2/2 )\n",
    "    \n",
    "    k_x4 = dt * F( X_4RK[n] + k_x3, Y_4RK[n] + k_y3, U_4RK[n] + k_u3, V_4RK[n] + k_v3 )\n",
    "    k_y4 = dt * G( X_4RK[n] + k_x3, Y_4RK[n] + k_y3, U_4RK[n] + k_u3, V_4RK[n] + k_v3 )\n",
    "    k_u4 = dt * H( X_4RK[n] + k_x3, Y_4RK[n] + k_y3, U_4RK[n] + k_u3, V_4RK[n] + k_v3 )\n",
    "    k_v4 = dt * I( X_4RK[n] + k_x3, Y_4RK[n] + k_y3, U_4RK[n] + k_u3, V_4RK[n] + k_v3 )\n",
    "    \n",
    "    X_4RK[n+1] = X_4RK[n] + k_x1/6 + k_x2/3 + k_x3/3 + k_x4/6\n",
    "    Y_4RK[n+1] = Y_4RK[n] + k_y1/6 + k_y2/3 + k_y3/3 + k_y4/6\n",
    "    U_4RK[n+1] = U_4RK[n] + k_u1/6 + k_u2/3 + k_u3/3 + k_u4/6\n",
    "    V_4RK[n+1] = V_4RK[n] + k_v1/6 + k_v2/3 + k_v3/3 + k_v4/6\n",
    "    \n",
    "    \n",
    "\n",
    "plt.figure()\n",
    "plt.title('4th order Runge-Kutta')\n",
    "plt.plot(X_4RK,Y_4RK, 'r')\n",
    "plt.plot(X_4RK[0], Y_4RK[0], 'go')             # Start pos.\n",
    "plt.plot(0.5*(mu_s-mu_e), -np.sqrt(3)/2, 'b*') # L5\n",
    "plot_Pot()\n",
    "plt.xlabel(\"$x$\")\n",
    "plt.ylabel(\"$y$\")\n",
    "plt.grid();"
   ]
  },
  {
   "cell_type": "markdown",
   "metadata": {},
   "source": [
    "Из приведенного выше графика мы видим, что за период времени $t_{max}=15$ спутник (пока) не смог покинуть свою стартовую зону. Ниже приводится более детальный график координат спутника $x$ и $y$. Как на приведенном выше, так и на последующих графиках зеленая точка указывает начальное положение спутника, в то время как синяя звезда указывает положение L5."
   ]
  },
  {
   "cell_type": "code",
   "execution_count": null,
   "metadata": {},
   "outputs": [],
   "source": [
    "plt.figure()\n",
    "plt.title('Green dot: initial position,\\n Blue star: LP')\n",
    "plt.plot(X_4RK, Y_4RK, 'r')\n",
    "plt.plot(X_4RK[0], Y_4RK[0], 'go')             # Start pos.\n",
    "plt.plot(0.5*(mu_s-mu_e), -np.sqrt(3)/2, 'b*') # L5\n",
    "plt.xlabel(r'$x$')\n",
    "plt.ylabel(r'$y$');"
   ]
  },
  {
   "cell_type": "markdown",
   "metadata": {},
   "source": [
    "Мы видим, что спутник находится на орбите L5! Обратите внимание, что если мы поместим частицу точно в L5 с нулевой начальной скоростью ($u_0 = v_0 = 0$), то спутник останется неподвижным, в состоянии покоя. Ниже мы попытаемся придать небольшой массе небольшую начальную скорость, чтобы увидеть, сможем ли мы достичь периодических орбит вокруг L5 с более правильным приближением отношения масс между Землей и Солнцем, $m_e/m_s \\approx 3,0\\times10^{-6}$."
   ]
  },
  {
   "cell_type": "code",
   "execution_count": null,
   "metadata": {},
   "outputs": [],
   "source": [
    "dt = 0.01\n",
    "t_max = 2000\n",
    "N = int(t_max/dt)\n",
    "\n",
    "mu_s = 1.0/(1.0 + 3.0e-6) # Approximated mass relation of the Sun and Earth\n",
    "mu_e = 1.0 - mu_s         # m_e/m_s ~= 3.0*10^-6\n",
    "\n",
    "X_4RK = np.zeros(N)\n",
    "Y_4RK = np.zeros(N)\n",
    "U_4RK = np.zeros(N)\n",
    "V_4RK = np.zeros(N)\n",
    "\n",
    "# Initial Position\n",
    "X_4RK[0] = 0.5*(mu_s-mu_e)\n",
    "Y_4RK[0] = -np.sqrt(3)/2\n",
    "\n",
    "#Initial velcity\n",
    "U_4RK[0] = 0.000001\n",
    "V_4RK[0] = 0.000001\n",
    "\n",
    "\n",
    "for n in range(N-1):\n",
    "    \n",
    "    k_x1 = dt * F( X_4RK[n], Y_4RK[n], U_4RK[n], V_4RK[n] )\n",
    "    k_y1 = dt * G( X_4RK[n], Y_4RK[n], U_4RK[n], V_4RK[n] )\n",
    "    k_u1 = dt * H( X_4RK[n], Y_4RK[n], U_4RK[n], V_4RK[n] )\n",
    "    k_v1 = dt * I( X_4RK[n], Y_4RK[n], U_4RK[n], V_4RK[n] )\n",
    "    \n",
    "    k_x2 = dt * F( X_4RK[n] + k_x1/2, Y_4RK[n] + k_y1/2, U_4RK[n] + k_u1/2, V_4RK[n] + k_v1/2 )\n",
    "    k_y2 = dt * G( X_4RK[n] + k_x1/2, Y_4RK[n] + k_y1/2, U_4RK[n] + k_u1/2, V_4RK[n] + k_v1/2 )\n",
    "    k_u2 = dt * H( X_4RK[n] + k_x1/2, Y_4RK[n] + k_y1/2, U_4RK[n] + k_u1/2, V_4RK[n] + k_v1/2 )\n",
    "    k_v2 = dt * I( X_4RK[n] + k_x1/2, Y_4RK[n] + k_y1/2, U_4RK[n] + k_u1/2, V_4RK[n] + k_v1/2 )\n",
    "    \n",
    "    k_x3 = dt * F( X_4RK[n] + k_x2/2, Y_4RK[n] + k_y2/2, U_4RK[n] + k_u2/2, V_4RK[n] + k_v2/2 )\n",
    "    k_y3 = dt * G( X_4RK[n] + k_x2/2, Y_4RK[n] + k_y2/2, U_4RK[n] + k_u2/2, V_4RK[n] + k_v2/2 )\n",
    "    k_u3 = dt * H( X_4RK[n] + k_x2/2, Y_4RK[n] + k_y2/2, U_4RK[n] + k_u2/2, V_4RK[n] + k_v2/2 )\n",
    "    k_v3 = dt * I( X_4RK[n] + k_x2/2, Y_4RK[n] + k_y2/2, U_4RK[n] + k_u2/2, V_4RK[n] + k_v2/2 )\n",
    "    \n",
    "    k_x4 = dt * F( X_4RK[n] + k_x3, Y_4RK[n] + k_y3, U_4RK[n] + k_u3, V_4RK[n] + k_v3 )\n",
    "    k_y4 = dt * G( X_4RK[n] + k_x3, Y_4RK[n] + k_y3, U_4RK[n] + k_u3, V_4RK[n] + k_v3 )\n",
    "    k_u4 = dt * H( X_4RK[n] + k_x3, Y_4RK[n] + k_y3, U_4RK[n] + k_u3, V_4RK[n] + k_v3 )\n",
    "    k_v4 = dt * I( X_4RK[n] + k_x3, Y_4RK[n] + k_y3, U_4RK[n] + k_u3, V_4RK[n] + k_v3 )\n",
    "    \n",
    "    X_4RK[n+1] = X_4RK[n] + k_x1/6 + k_x2/3 + k_x3/3 + k_x4/6\n",
    "    Y_4RK[n+1] = Y_4RK[n] + k_y1/6 + k_y2/3 + k_y3/3 + k_y4/6\n",
    "    U_4RK[n+1] = U_4RK[n] + k_u1/6 + k_u2/3 + k_u3/3 + k_u4/6\n",
    "    V_4RK[n+1] = V_4RK[n] + k_v1/6 + k_v2/3 + k_v3/3 + k_v4/6\n",
    "    \n",
    "plt.figure()\n",
    "plt.plot(X_4RK, Y_4RK, 'r')\n",
    "plt.plot(X_4RK[0], Y_4RK[0], 'go')             # Start pos.\n",
    "plt.plot(0.5*(mu_s-mu_e), -np.sqrt(3)/2, 'b*') # L5\n",
    "plt.xlabel(r'$x$')\n",
    "plt.ylabel(r'$y$')\n",
    "\n",
    "plt.figure()\n",
    "plt.plot(np.linspace(0, t_max, N), X_4RK)\n",
    "plt.xlabel(r'$t$')\n",
    "plt.ylabel(r'$y(t)$');\n",
    "\n",
    "plt.figure()\n",
    "plt.plot(np.linspace(0, t_max, N), Y_4RK)\n",
    "plt.xlabel(r'$t$')\n",
    "plt.ylabel(r'$y(t)$');"
   ]
  },
  {
   "cell_type": "markdown",
   "metadata": {},
   "source": [
    "Из графиков $x(t)$ и $y(t)$ мы видим, что у нас есть периодические орбиты, и спутник остается в окрестности L5 для больших $t_{max}$."
   ]
  }
 ],
 "metadata": {
  "kernelspec": {
   "display_name": "Python 3",
   "language": "python",
   "name": "python3"
  },
  "language_info": {
   "codemirror_mode": {
    "name": "ipython",
    "version": 3
   },
   "file_extension": ".py",
   "mimetype": "text/x-python",
   "name": "python",
   "nbconvert_exporter": "python",
   "pygments_lexer": "ipython3",
   "version": "3.7.4"
  }
 },
 "nbformat": 4,
 "nbformat_minor": 1
}
