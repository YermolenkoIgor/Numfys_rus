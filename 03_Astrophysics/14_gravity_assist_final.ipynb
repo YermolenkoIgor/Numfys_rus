{
 "cells": [
  {
   "cell_type": "markdown",
   "metadata": {},
   "source": [
    "<style>\n",
    "@import url(https://www.numfys.net/static/css/nbstyle.css);\n",
    "</style>\n",
    "<a href=\"https://www.numfys.net\"><img class=\"logo\" /></a>\n",
    "\n",
    "# Гравитационный манёвр\n",
    "\n",
    "### Example - Mechanics\n",
    "<section class=\"post-meta\">\n",
    "By Eilif Sommer Øyre, Jonas Tjemsland and Jon Andreas Støvneng\n",
    "</section>\n",
    "Last edited: July 9th 2018 \n",
    "___"
   ]
  },
  {
   "cell_type": "markdown",
   "metadata": {},
   "source": [
    "## Вступление\n",
    "\n",
    "В орбитальной динамике гравитационный маневр (или гравитационная рогатка) - это маневр изменения скорости космического корабля с использованием относительного движения большого небесного тела. Это означает изменение скорости и/или направления относительно третьей системы отсчета без использования искусственно вызванных сил.\n",
    "\n",
    "Первый гравитационный маневр был выполнен зондом \"Маринер-10\" на Венере в феврале 5, 1974 [[1]](#rsc) на пути к Меркурию.\n",
    "\n",
    "Зонд Кассини-Гюйгенса использовал несколько гравитационных помощников, чтобы достичь Сатурна. Дважды пролетев Венеру, затем Землю и, наконец, Юпитер, прежде чем прибыть на Сатурн через 6.7 лет после запуска в 1997 году. Передача Hohmann потребовала бы всего 6 лет, но использовала бы 16 км/с пропульсивного изменения скорости по сравнению с только 2 км/с при использовании маневров гравитационной помощи. \n",
    "\n",
    "Взглянув на рисунок [1](#im1), вы, вероятно, можете догадаться, что выполнение нескольких маневров с помощью гравитации требует определенного выравнивания планет, чтобы достичь некоторого пункта назначения в Солнечной системе.\n",
    "\n",
    "<a title=\"Cassini Probe Voyage\" href=\"https://saturn.jpl.nasa.gov/system/resources/detail_files/1776_Cassini_interplanet_trajectory.png\"><img width=400 alt=\"Cassini-Hugyens Trajectory\" src=\"images/Cassini_interplanet_trajectory.png\t\"></a>\n",
    "**Рисунок 1:** *Путь Кассини-Гюйгенса через солнечную систему. В общей сложности четыре гравитационных маневра, дважды обойдя Венеру, Земля и Юпитер на 6.7 - летнем пути к Сатурну.*"
   ]
  },
  {
   "cell_type": "markdown",
   "metadata": {},
   "source": [
    "## Теория\n",
    "\n",
    "Для осуществления гравитационного маневра космический аппарат приближается к помогающей планете по гиперболической орбите. Из-за огромной разницы в массе между планетой и пролетающим космическим кораблем планета никак не реагирует на столкновение. Вы можете назвать это упругим столкновением с неподвижной планетой. Тогда относительно планеты скорость прибытия космического корабля равна скорости вылета, как того требует сохранение энергии, но направление скорости может быть изменено экоунтером. Эту скорость прибытия часто называют гиперболической избыточной скоростью. Она равна оставшейся скорости космического корабля после выхода из-под гравитационного влияния планеты.\n",
    "\n",
    "В заключение, в системе отсчета, в которой движется планета (например, звезда, вокруг которой она вращается), космический аппарат имеет изменение кинетической энергии и скорости. Изменение скорости может быть записано как (см. [[1]](#rsc) раздел 4.5.6)\n",
    "\n",
    "\\begin{equation}\n",
    "    \\Delta V = 2V_{\\infty} \\mathrm{sin}\\big( \\frac{\\Psi}{2} \\big)\n",
    "\\label{change} \\quad (1)\n",
    "\\end{equation}\n",
    "\n",
    "$\\Psi$ - угол отклонения облета, а $V_{\\infty}$ - гиперболическая избыточная скорость, см. рисунок [2](#im2). Чтобы максимизировать изменение скорости, мы максимизируем угол отклонения.\n",
    "\n",
    "<a id=\"im2\" title=\"Gravitational slingshot sketch\">\n",
    "<img width=400 alt =\"Slingshot\"\n",
    "src=\"images/slingshot.png\" ></a>\n",
    "\n",
    "**Рис. 2:** *Угол отклонения $\\Psi$ и гиперболическая избыточная скорость $V_{\\infty}$ гиперболической орбиты.*\n",
    "\n",
    "Сила, действующая на космический корабль, - это гравитационная сила с планеты,\n",
    "\n",
    "$$ \\mathbf{F_{G}} =  \\frac{GM_pM_s}{\\mathbf{r}^2}\\text{.} $$\n",
    "\n",
    "Ее можно разложить на четыре дифференциальных уравнения первого порядка:\n",
    "\n",
    "\\begin{equation}\n",
    "        \\frac{dv_x}{dt} = - \\frac{G M_S x}{r^3}\\text{,} \\hspace{1cm} \\frac{dx}{dt} = v_x,\n",
    "\\label{first_order} \\quad (2)\n",
    "\\end{equation}\n",
    "\n",
    "\\begin{equation}\n",
    "\\frac{dv_y}{dt} = - \\frac{G M_S y}{r^3} \\text{,} \\hspace{1cm} \\frac{dy}{dt} = v_y \\text{.}\n",
    "\\end{equation}\n",
    "\n",
    "При моделировании гравитации мы решим эти уравнения как для космического корабля, так и для планеты, получая положение в декартовых координатах в любой момент времени $t$."
   ]
  },
  {
   "cell_type": "markdown",
   "metadata": {},
   "source": [
    "## Численная реализация\n",
    "\n",
    "Чтобы рассчитать движение космического корабля и планеты, мы решаем их уравнения движения с помощью *метода Эйлера-Кромера*, полуявного метода Эйлера. Применяя этот метод к нашим парам дифференциальных уравнений первого порядка (2), мы получаем дискретное решение путем итерации\n",
    "\n",
    "\\begin{equation}\n",
    "    v_{x,i+1} = v_{x,i} - \\frac{GM x_i}{r_i^3} \\Delta{t}, \\\\ \n",
    "    x_{i+1} = x_i + v_{x,i+1} \\Delta{t}, \\\\ \n",
    "    v_{y,i+1} = v_{y,i} - \\frac{GM y_i}{r_i^3} \\Delta{t}, \\\\\n",
    "    y_{i+1} = y_i + v_{y,i+1} \\Delta{t}.\n",
    "\\end{equation}\n",
    "\n",
    "Здесь $v_{x, i}$-скорость в направлении $x$в момент времени $i\\Delta{t}$, а $r_i$ - расстояние между космическим аппаратом и планетой. $M$ - это масса космического корабля или планеты в зависимости от того, чье положение вы повторяете.\n",
    "\n",
    "Сначала мы импортируем необходимые библиотеки, выбираем красивый стиль графика и задаем параметры рисунка."
   ]
  },
  {
   "cell_type": "code",
   "execution_count": null,
   "metadata": {},
   "outputs": [],
   "source": [
    "import matplotlib.pyplot as plt\n",
    "from matplotlib import animation\n",
    "from IPython.display import display, Image\n",
    "import numpy as np\n",
    "plt.style.use(\"bmh\")"
   ]
  },
  {
   "cell_type": "code",
   "execution_count": null,
   "metadata": {},
   "outputs": [],
   "source": [
    "# Set common figure parameters\n",
    "newparams = {'axes.labelsize': 11, 'axes.linewidth': 1, 'savefig.dpi': 200,\n",
    "             'lines.linewidth': 1, 'figure.figsize': (12, 6),\n",
    "             'ytick.labelsize': 11, 'xtick.labelsize': 11,\n",
    "             'ytick.major.pad': 5, 'xtick.major.pad': 5,\n",
    "             'legend.fontsize': 12, 'legend.frameon': True,\n",
    "             'legend.handlelength': 1.5, 'axes.titlesize': 15}\n",
    "plt.rcParams.update(newparams)"
   ]
  },
  {
   "cell_type": "markdown",
   "metadata": {},
   "source": [
    "Далее мы задаем начальные условия. Масса планеты примерно равна массе Сатурна, а ее скорость относительно звезды равна 30 км/с, что равно орбитальной скорости Земли. Остальные начальные условия выбираются эмпирически, чтобы получить удовлетворительный эффект гравитационной помощи."
   ]
  },
  {
   "cell_type": "code",
   "execution_count": null,
   "metadata": {},
   "outputs": [],
   "source": [
    "m1 = 100          # Масса космического аппарата\n",
    "m2 = 1E26         # Масса планеты\n",
    "G = 6.67408E-11   # Гравитационная постоянная\n",
    "GM1 = G*m1\n",
    "GM2 = G*m2\n",
    "\n",
    "# Начальное положение и скорость.\n",
    "# z0 = [    x1,    y1,    x2,    y2,   vx1,   vy1,    vx2,    vy2]\n",
    "z0 =  [ -8E6,  100E6,     0, 200E6,  30E3,  30E3,   30E3,     0,]\n",
    " \n",
    "# Абсолютное значение вектора относительного положения \n",
    "r = np.sqrt((z0[0] - z0[2])**2 + (z0[1] - z0[3])**2)     \n",
    "r0 = [r]\n",
    "\n",
    "# Механическая энергия (кинетическая, потенциальная)\n",
    "# e0 = [ke1, ke2, pe1, pe2, потенциальная энергия системы]\n",
    "e0 = [0.5 * m1 * (z0[4]**2 + z0[5]**2), \n",
    "      0.5 * m2 * (z0[6]**2 + z0[7]**2), \n",
    "      -GM2*m1/r,\n",
    "      -GM1*m2/r, ]\n",
    "U1 = 0\n",
    "U2 = -GM2*m1/r\n",
    "e0.append(U1 + U2)"
   ]
  },
  {
   "cell_type": "markdown",
   "metadata": {},
   "source": [
    "Затем мы используем метод Эйлера-Кромера для вычисления траекторий объектов. Мы также вычисляем кинетическую энергию, потенциальную энергию и угловой момент для каждой итерации. Наконец, мы вычерчиваем орбиту."
   ]
  },
  {
   "cell_type": "code",
   "execution_count": null,
   "metadata": {},
   "outputs": [],
   "source": [
    "simulationDuration = 6000       # Seconds\n",
    "n = 10000                       # Number of datapoints\n",
    "# time step and initial time\n",
    "h = simulationDuration/n\n",
    "print(\"Timestep:\\t%f\"%h)\n",
    "t = 0\n",
    "\n",
    "# Allocate matrices\n",
    "Z = np.zeros((len(z0), n + 1))\n",
    "Z[:, 0] = np.array(z0)\n",
    "E = np.zeros((len(e0), n + 1))\n",
    "E[:, 0] = np.array(e0)\n",
    "R = np.zeros((n + 1))\n",
    "R[0] = r\n",
    "\n",
    "# Nummerical integration\n",
    "def eulerCromerStep(pos, vel, timeStep):\n",
    "    newPos = []\n",
    "    for j in range(len(pos)):\n",
    "        newPos.append(pos[j] + vel[j] * timeStep)\n",
    "    return newPos\n",
    "\n",
    "\n",
    "# Iteration loop\n",
    "for i in range(n):\n",
    "    # Mass 1 velocity\n",
    "    Z[4, i + 1] = Z[4, i] - GM2*(Z[0, i] - Z[2, i])*h/r**3 \n",
    "    Z[5, i + 1] = Z[5, i] - GM2*(Z[1, i] - Z[3, i])*h/r**3\n",
    "\n",
    "    # Mass 2 velocity\n",
    "    Z[6, i + 1] = Z[6, i] - GM1*(Z[2, i] - Z[0, i])*h/r**3\n",
    "    Z[7, i + 1] = Z[7, i] - GM1*(Z[3, i] - Z[1, i])*h/r**3\n",
    "\n",
    "    # Set new positions using Euler-Cramer method\n",
    "    Z[:4, i + 1] = eulerCromerStep(Z[:4, i], Z[4:10, i + 1], h)\n",
    "\n",
    "    # New relative position\n",
    "    r = np.sqrt((Z[0, i+1] - Z[2, i+1])**2 + (Z[1, i+1] - Z[3, i+1])**2)\n",
    "    R[i + 1] = r\n",
    "\n",
    "    # Angular momentum and mechanical energy\n",
    "    ke1, pe1 = 0.5 * m1 * (Z[4, i+1]**2 + Z[5, i+1]**2), -GM2*m1/r\n",
    "    ke2, pe2 = 0.5 * m2 * (Z[6, i+1]**2 + Z[7, i+1]**2), -GM1*m2/r\n",
    "    U1 = 0\n",
    "    U2 = -GM2*m1/r\n",
    "    E[:, i + 1] = [ke1, ke2, pe1, pe2, U1+U2]\n",
    "\n",
    "    # Increment time\n",
    "    t += h\n",
    "\n",
    "\n",
    "fig = plt.figure()\n",
    "ax = fig.add_subplot(121, title=\"Star frame reference\")\n",
    "ax.set_xlabel(\"x, m\")\n",
    "ax.set_ylabel('y, m')\n",
    "ax.plot(Z[0], Z[1], color='blue')\n",
    "ax.plot(Z[0][-1], Z[1][-1], 'o', label='Spacecraft', color=\"blue\")\n",
    "ax.plot(Z[2], Z[3], color='black')\n",
    "ax.plot(Z[2][-1], Z[3][-1],  'o', label='Planet', color=\"black\")\n",
    "plt.legend(loc=\"lower right\", numpoints=1, fontsize=10)\n",
    "\n",
    "ax = fig.add_subplot(122, title=\"Planet frame of reference\")\n",
    "ax.set_xlabel(\"x, m\")\n",
    "ax.set_ylabel('y, m')\n",
    "ax.plot(Z[0] - Z[2], Z[1] - Z[3], color='blue')\n",
    "ax.plot(Z[0][-1] - Z[2][-1], Z[1][-1] - Z[3][-1], 'o', label='Spacecraft', color=\"blue\")\n",
    "ax.plot(0, 0, 'o', label='Planet', color=\"black\")\n",
    "plt.legend(loc=\"lower right\", numpoints=1, fontsize=10)\n",
    "\n",
    "plt.show()"
   ]
  },
  {
   "cell_type": "markdown",
   "metadata": {},
   "source": [
    "Как видно из графиков, космический аппарат меняет свое направление после пролета. Абсолютная скорость относительно звезды также изменяется, что легче увидеть в анимации ниже. Чтобы убедиться в этом, мы сначала распечатываем значения, которые проверяют изменение скорости. Кроме того, мы сравниваем результаты с аналитическим $\\Delta V$ с соответствующим углом отклонения $\\Psi$ и избыточной скоростью $V_{\\infty}$."
   ]
  },
  {
   "cell_type": "code",
   "execution_count": null,
   "metadata": {},
   "outputs": [],
   "source": [
    "# Скорость космического аппарата относительно звезды\n",
    "# Начальная\n",
    "vx0_star = z0[4]\n",
    "vy0_star = z0[5]\n",
    "# Конечная\n",
    "vxf_star = Z[4][-1]\n",
    "vyf_star = Z[5][-1]\n",
    "\n",
    "# Скорость космического аппарата относительно планеты\n",
    "# Начальная\n",
    "vx0_planet = z0[4] - z0[6]\n",
    "vy0_planet = z0[5] - z0[7]\n",
    "# Конечная\n",
    "vxf_planet = Z[4][-1] - Z[6][-1]\n",
    "vyf_planet = Z[5][-1] - Z[7][-1]\n",
    "\n",
    "initialAbsoluteVelocity = np.sqrt(vx0_star**2 + vy0_star**2)\n",
    "finalAbsoluteVelocity = np.sqrt(vxf_star**2 + vyf_star**2)\n",
    "excessVelocity = np.sqrt((vx0_planet)**2 + (vy0_planet)**2)\n",
    "deflectionAngle = np.arctan2(vy0_planet, vx0_planet)  -  np.arctan2(vyf_planet, vxf_planet)\n",
    "analyticDeltaV = 2*excessVelocity*np.sin(deflectionAngle/2)\n",
    "numericalDeltaV = np.sqrt((vxf_star - vx0_star)**2 + (vyf_star - vy0_star)**2)\n",
    "\n",
    "print(\"\\nInitial velocity [m/s]:\\nx:\\t%.1f\\ny:\\t%.1f\\nabs:\\t%.1f\"%(vx0_star, \n",
    "                                                                   vy0_star, \n",
    "                                                                   initialAbsoluteVelocity))\n",
    "print(\"\\nFinal velocity [m/s]:\\nx:\\t%.1f\\ny:\\t%.1f\\nabs:\\t%.1f\"%(vx0_planet, \n",
    "                                                                 vy0_planet, \n",
    "                                                                 finalAbsoluteVelocity))\n",
    "print(\"\\nЧисленная delta V [m/s]:\\t%.1f\"%(numericalDeltaV))\n",
    "print(\"Аналитическая delta V [m/s]:\\t%.1f\"%(analyticDeltaV))\n",
    "print(\"Угол отклонения [градусов]:\\t%.1f\"%(deflectionAngle*180/np.pi))"
   ]
  },
  {
   "cell_type": "markdown",
   "metadata": {},
   "source": [
    "Произошло значительное изменение скорости. Численное значение приблизительно равно аналитическому из (1). Это также можно увидеть при построении графика кинетической энергии."
   ]
  },
  {
   "cell_type": "code",
   "execution_count": null,
   "metadata": {},
   "outputs": [],
   "source": [
    "fig = plt.figure(\"Data\")\n",
    "abciss = np.linspace(0, simulationDuration, n + 1)/3600\n",
    "ax = fig.add_subplot(121, title=\"Spacecraft\")\n",
    "ax.plot(abciss, [0 for n in range(len(abciss))], '--', color='black', linewidth=0.5)\n",
    "ax.plot(abciss, E[0]/1E9, label=r'$T_s$')\n",
    "ax.plot(abciss, E[2]/1E9, label=r'$V_s$')\n",
    "ax.set_ylabel(\"energy [GJ]\")\n",
    "plt.legend(loc='best')\n",
    "ax = fig.add_subplot(122, title=\"Planet\")\n",
    "ax.plot(abciss, E[1]/1E9, label=r'$T_p$')\n",
    "plt.suptitle(\"Mechanical energy and absolute angular momentum of the system\")\n",
    "ax.set_xlabel(\"hours\")\n",
    "ax.set_ylabel(\"energy [GJ]\")\n",
    "plt.legend(loc='best')\n",
    "plt.savefig(\"threeBody-data2.png\")\n",
    "plt.show()"
   ]
  },
  {
   "cell_type": "markdown",
   "metadata": {},
   "source": [
    "Обратите внимание, как потенциал принимает начальное значение, в то время как кинетическая энергия постоянно увеличивается. Кинетическая энергия планеты остается постоянной, как и ожидалось.\n",
    "\n",
    "Поиграйте с различными начальными значениями. Можете ли вы сделать угол отклонения $\\Psi = \\pi$? \n",
    "\n",
    "Наконец, мы делаем анимацию."
   ]
  },
  {
   "cell_type": "code",
   "execution_count": null,
   "metadata": {},
   "outputs": [],
   "source": [
    "fig = plt.figure()\n",
    "ax = plt.axes(xlim=(np.amin([np.amin(Z[0]), np.amin(Z[2])]) - 0.5E8, \n",
    "                    np.amax([np.amax(Z[0]), np.amax(Z[2])]) + 0.5E8), \n",
    "            ylim=(np.amin([np.amin(Z[1]), np.amin(Z[3])]) - 0.5E8, \n",
    "                  np.amax([np.amax(Z[1]), np.amax(Z[3])]) + 0.5E8))\n",
    "ax.set_aspect('equal')\n",
    "\n",
    "# Defining different elements in the animation\n",
    "tail1, = ax.plot(Z[0][0] , Z[1][0], color=\"blue\")           # Tail obj. 1\n",
    "tail2, = ax.plot(Z[2][0] , Z[3][0], color=\"black\")          # Tail obj. 2\n",
    "body1, = ax.plot(Z[0][0] , Z[1][0], 'bo', color=\"blue\")     # Obj. 1\n",
    "body2, = ax.plot(Z[2][0] , Z[3][0], 'bo', color=\"black\")    # Obj. 2\n",
    "\n",
    "# Calculate the number of frames\n",
    "FPS = 15\n",
    "framesNum = int(FPS*5)\n",
    "\n",
    "# Animation function. This is called sequentially\n",
    "def animate(j):\n",
    "    i = j*int(n/framesNum)\n",
    "    tail1.set_data(Z[0][:i], Z[1][:i])\n",
    "    tail2.set_data(Z[2][:i], Z[3][:i])\n",
    "    body1.set_data(Z[0][i], Z[1][i])\n",
    "    body2.set_data(Z[2][i], Z[3][i])\n",
    "\n",
    "# Create animation\n",
    "anim = animation.FuncAnimation(fig, animate, frames=framesNum)\n",
    "\n",
    "# Save animation.\n",
    "# If this don't work for you, try using another writer \n",
    "# (ffmpeg, mencoder, imagemagick), or another file extension\n",
    "# (.mp4, .gif, .ogg, .ogv, .avi etc.). Make sure that you\n",
    "# have the codec and the writer installed on your system.\n",
    "anim.save('gravityAssist.gif', writer='imagemagick', fps=FPS)\n",
    "\n",
    "# Close plot\n",
    "plt.close(anim._fig)\n",
    "\n",
    "# Display the animation\n",
    "with open('gravityAssist.gif', 'rb') as file:\n",
    "    display(Image(file.read()))"
   ]
  },
  {
   "cell_type": "markdown",
   "metadata": {},
   "source": [
    "![](images\\index.gif)"
   ]
  },
  {
   "cell_type": "markdown",
   "metadata": {
    "collapsed": true
   },
   "source": [
    "<a id=\"rsc\"></a>\n",
    "## References and further reading\n",
    "<a>[1]</a>: Malcolm Macdonald, Viorel Badescu. The International Handbook of Space Technology. Springer-Verlag Berlin Heidelberg, 2014. <br />\n",
    "<a>[2]</a>: NASA, CASSINI, saturn.jpl.nasa.gov, 2018. <br />\n",
    "<a>[3]</a>: https://habr.com/ru/company/macloud/blog/556430/"
   ]
  }
 ],
 "metadata": {
  "kernelspec": {
   "display_name": "Python 3",
   "language": "python",
   "name": "python3"
  },
  "language_info": {
   "codemirror_mode": {
    "name": "ipython",
    "version": 3
   },
   "file_extension": ".py",
   "mimetype": "text/x-python",
   "name": "python",
   "nbconvert_exporter": "python",
   "pygments_lexer": "ipython3",
   "version": "3.7.4"
  }
 },
 "nbformat": 4,
 "nbformat_minor": 2
}
