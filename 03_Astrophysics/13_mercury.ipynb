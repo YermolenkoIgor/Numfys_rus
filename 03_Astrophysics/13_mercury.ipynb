{
 "cells": [
  {
   "cell_type": "markdown",
   "metadata": {},
   "source": [
    "<style>\n",
    "@import url(https://www.numfys.net/static/css/nbstyle.css);\n",
    "</style>\n",
    "<a href=\"https://www.numfys.net\"><img class=\"logo\" /></a>\n",
    "\n",
    "# Прецессия Меркурия\n",
    "\n",
    "### Examples - Astrophysics\n",
    "<section class=\"post-meta\">\n",
    "By Eilif Sommer Øyre, Jonas Tjemsland and Jon Andreas Støvneng\n",
    "</section>\n",
    "Last edited: April 28th 2018 \n",
    "___\n",
    "\n",
    "В этом блокноте мы обсудим общую релятивистскую прецессию орбиты Меркурия вокруг Солнца. Мы будем использовать понятия и формулы, введенные и выведенные в блокноте по [Общей теории относительности](https://nbviewer.jupyter.org/urls/www.numfys.net/media/notebooks/GR.ipynb).\n",
    "\n",
    "Перигелий орбиты Меркурия увеличивается на 5300 угловых секунд в столетие, но только 5260 угловых секунд могут быть объяснены ньютоновскими эффектами [1]. Наша цель здесь - проверить, может ли общая теория относительности объяснить последние $\\sim 40$ угловых секунд.\n",
    "\n",
    "Обратите внимание, что поправка довольно мала, и поэтому мы не можем наивно продолжать вычислять орбиту Меркурия в течение одного столетия (или одного периода) и проверять прецессию. В этом блокноте мы вычислим прецессию для набора орбит с более высокой скоростью прецессии, выполним линейную регрессию и экстраполируем прецессию Меркурия. Когда выражение мало, скорость прецессии может быть аппроксимирована аналитическим выражением. Это будет обсуждаться в конце блокнота.\n",
    "\n",
    "Мы начинаем с импорта пакетов, установки параметров фигуры и определения некоторых физических констант."
   ]
  },
  {
   "cell_type": "code",
   "execution_count": null,
   "metadata": {},
   "outputs": [],
   "source": [
    "# Import libraries\n",
    "import numpy as np\n",
    "import matplotlib.pyplot as plt\n",
    "from matplotlib.patches import Circle\n",
    "from scipy.optimize import curve_fit\n",
    "import time\n",
    "%matplotlib inline"
   ]
  },
  {
   "cell_type": "code",
   "execution_count": null,
   "metadata": {},
   "outputs": [],
   "source": [
    "# Set common figure parameters\n",
    "newparams = {'figure.figsize': (16, 6), 'axes.grid': True,\n",
    "             'lines.linewidth': 1.5, 'lines.markersize': 10,\n",
    "             'font.size': 14}\n",
    "plt.rcParams.update(newparams)\n",
    "\n",
    "# Some constants\n",
    "AU = 149597870700  # m. Astronomical Unit. Avg. distance Earth Sun\n",
    "T = 365.25*3600*24 # s. 1 year\n",
    "c = 299792458      # AU/yr. Speed of light\n",
    "G = 6.67408e-11    # m^3/kg s^2. Gravitational constant\n",
    "M = 1.989e30       # kg. Solar mass"
   ]
  },
  {
   "cell_type": "markdown",
   "metadata": {},
   "source": [
    "### Безразмерное уравнение движения\n",
    "\n",
    "Можно показать (см. Наш блокнот по [Общей теории относительности](https://nbviewer.jupyter.org/urls/www.numfys.net/media/notebooks/GR.ipynb) или ref. [2]) что сила на планете массой $m\\ll M$ вне сферически симметричного распределения массы массы $M$ задается\n",
    "\n",
    "\\begin{equation}\n",
    "\\mathbf F =-\\frac{GMm}{r^3}\\mathbf r\\left(1 + \\frac{3l^2}{c^2r^2}\\right),\n",
    "\\label{eq:force} \\quad (1)\n",
    "\\end{equation}\n",
    "\n",
    "где $G$ - ньютоновская гравитационная постоянная, $\\vec r = (x, y, z)$ - расстояние до центра распределения массы, $l$ - угловой момент на единицу массы и $c$ - скорость света. Орбита планеты будет ограничена одной плоскостью из-за сохранения углового момента. Таким образом, мы можем ограничить обсуждение плоскостью $xy$."
   ]
  },
  {
   "cell_type": "markdown",
   "metadata": {},
   "source": [
    "Пусть $R=1\\,\\mathrm{AU}$ - расстояние между Землей и Солнцем, $T=1\\,\\mathrm{год}$, $m$ - масса Меркурия и $M$ - масса Солнца. Определите $t_0\\equiv t/T$, $\\rho\\equiv r/R$, $X\\equiv x/R$ и $Y\\equiv y/R$. В этом случае мы можем записать уравнение (1) в безразмерной форме\n",
    "\n",
    "\\begin{equation}\n",
    "\\frac{\\mathrm{d}^2}{\\mathrm{d}t_0^2}\\left(X, Y\\right) =-\\frac{GMT^2}{R^3}\\frac{\\left(X, Y\\right)}{\\rho^3}\\left(1+\\frac{3l^2}{R^2c^2\\rho^2}\\right)\\equiv -A\\frac{\\left(X, Y\\right)}{\\rho^3}\\left(1+\\frac{B}{\\rho^2}\\right).\n",
    "\\label{eq:dimless} \\quad (2)\n",
    "\\end{equation}"
   ]
  },
  {
   "cell_type": "markdown",
   "metadata": {},
   "source": [
    "### Нахождение $A$ и $B$"
   ]
  },
  {
   "cell_type": "markdown",
   "metadata": {},
   "source": [
    "Используя законы Кеплера (см., например, [1]), легко показать, что\n",
    "\n",
    "$$M_\\odot =\\frac{4\\pi^2\\cdot R^3}{G\\cdot T^2}.$$\n",
    "\n",
    "Константа $A$, таким образом,\n",
    "$$A = 4\\pi^2.$$"
   ]
  },
  {
   "cell_type": "code",
   "execution_count": null,
   "metadata": {},
   "outputs": [],
   "source": [
    "A = 4*np.pi**2"
   ]
  },
  {
   "cell_type": "markdown",
   "metadata": {},
   "source": [
    "Чтобы найти $B$, мы должны сначала найти значение углового момента (на единицу массы) $l$. При этом нам понадобятся следующие данные [3]:"
   ]
  },
  {
   "cell_type": "markdown",
   "metadata": {},
   "source": [
    "| Mercury                                                | |\n",
    "| ---------------------------------------- |:-------------:|\n",
    "| Perihelion (closest distance to the Sun) | 0.307 499 AU  | \n",
    "| Aphelion (farthest distance to the Sun)  | 0.466 697 AU  |\n",
    "| Orbital period                           | 0.240 846 yr  |\n",
    "| Max. orbital speed                       | 58.98 km/s    |\n",
    "| Min. orbital speed                       | 38.86 km/s    |"
   ]
  },
  {
   "cell_type": "markdown",
   "metadata": {},
   "source": [
    "В перигелии скорость максимальна. В афелии она минимальна. В обоих случаях скорость нормальна к вектору расстояния между Солнцем и Меркурием. Таким образом, угловой момент на единицу массы $l=|\\vec v\\times \\vec r|$ задается\n",
    "\n",
    "$$l = v_\\mathrm{max}\\cdot r_\\mathrm{min}=v_\\mathrm{min}\\cdot r_\\mathrm{max}.$$"
   ]
  },
  {
   "cell_type": "code",
   "execution_count": null,
   "metadata": {},
   "outputs": [],
   "source": [
    "perihelion = 0.307499*AU # m\n",
    "aphelion = 0.466697*AU   # m\n",
    "maxVel = 58.98*1000      # m/s\n",
    "minVel = 38.86*1000      # m/s\n",
    "l1 = aphelion*minVel\n",
    "l2 = perihelion*maxVel\n",
    "print(\"l = %.5e c^2 = %.5e c^2\"%(l1/c**2, l2/c**2))\n",
    "l = (l1 + l2)/2"
   ]
  },
  {
   "cell_type": "markdown",
   "metadata": {},
   "source": [
    "Давайте вычислим константу $B$."
   ]
  },
  {
   "cell_type": "code",
   "execution_count": null,
   "metadata": {},
   "outputs": [],
   "source": [
    "B = 3*l**2/(c*AU)**2\n",
    "print(\"B = %.3e\"%(B))"
   ]
  },
  {
   "cell_type": "markdown",
   "metadata": {},
   "source": [
    "Это небольшое число, что означает, что общая релятивистская поправка на ньютоновскую орбиту невелика. Поскольку поправка настолько мала, проблему можно представить как возмущение и \"решить\" аналитически (см. Обсуждение в конце урока).\n",
    "\n",
    "На самом деле, если мы продолжим наивно вычислять орбиту Меркурия, используя уравнение (2), мы получим неправильную скорость прецессии из-за ошибок численного округления. Поэтому мы рассмотрим различные значения для $B$, выполним регрессию и извлечем скорость прецессии для правильного $B$."
   ]
  },
  {
   "cell_type": "markdown",
   "metadata": {},
   "source": [
    "### Численная Реализация\n",
    "\n",
    "Теперь мы реализуем тот же код, что и в [Общей теории относительности](https://nbviewer.jupyter.org/urls/www.numfys.net/media/notebooks/GR.ipynb). Поскольку вычисления требуют больших затрат, мы написали подпрограмму Fortran, которая вычисляла орбиту Меркурия. Код приведен в приложении ниже. Более конкретно, код принимает начальную позицию $(X, Y)$, начальную скорость $(U, V)$, длину шага $h$ и константы $A$ и $B$ в качестве входных данных и возвращает позицию в перигелии. То есть он вычисляет траекторию до тех пор, пока радиус не достигнет (локального) максимума.\n",
    "\n",
    "Код компилируется с помощью F2PY (см. Нашу [страницу](https://www.numfys.net/howto/F2PY/) для общего введения)\n",
    "\n",
    "```\n",
    "f2py -c filename.f95 -m mercury\n",
    "```\n",
    "Модуль расширения затем называется \"меркурий\" и может быть импортирован следующим образом."
   ]
  },
  {
   "cell_type": "code",
   "execution_count": null,
   "metadata": {},
   "outputs": [],
   "source": [
    "import mercury\n",
    "print(mercury.__doc__)"
   ]
  },
  {
   "cell_type": "markdown",
   "metadata": {},
   "source": [
    "Если мы позволим орбите начинаться с афелия, прецессия $\\phi$ после периода $1/2$ может быть найдена с помощью простой тригонометрии. Как и в предыдущем условии, мы позволяем Меркурию находиться в перигелии (минимальное расстояние) при $(x, y) = (0, -r_\\mathrm{min})$. Пусть $(x', y')$ - позиция в первом афелии (максимум). Для простоты и для удобства чтения кода мы предполагаем, что прецессия в каждом рассматриваемом случае достаточно мала. Прецессия в этом случае может быть аппроксимирована\n",
    "\n",
    "\\begin{equation}\n",
    "\\phi\\approx x/y.\n",
    "\\end{equation}\n",
    "\n",
    "**Упражнение:** Хорошее ли это приближение?"
   ]
  },
  {
   "cell_type": "code",
   "execution_count": null,
   "metadata": {},
   "outputs": [],
   "source": [
    "Z0 = [0, -perihelion/AU, maxVel*T/AU, 0] # Initial condition\n",
    "\n",
    "def getPrecession(X, Y):\n",
    "    \"\"\" Return the precession (half period) in radians. \"\"\"\n",
    "    radians = -np.arctan(X/Y)\n",
    "    return radians"
   ]
  },
  {
   "cell_type": "markdown",
   "metadata": {},
   "source": [
    "Нам также нужно преобразовать радианы за полупериод в дуговые секунды в столетие. Одна угловая секунда определяется как $1/3600$ часть градуса. Орбитальный период Меркурия составляет 0,240 года (см. таблицу выше)."
   ]
  },
  {
   "cell_type": "code",
   "execution_count": null,
   "metadata": {},
   "outputs": [],
   "source": [
    "def r2aspc(radians):\n",
    "    \"\"\" Converts radians to arcseconds per century for Mercury. \"\"\"\n",
    "    return 100*2*radians*(180/np.pi)*3600/0.240846"
   ]
  },
  {
   "cell_type": "markdown",
   "metadata": {},
   "source": [
    "Нам нужно выбрать длину шага $h$, но насколько он мал? Одним из способов проверки точности кода является проверка того, что прецессия, полученная для $B=0$, на несколько порядков меньше, чем прецессия, полученная для $B>0$.\n",
    "\n",
    "Мы вычислим прецессию для набора $B$-констант между $10^{-3}$ и $10^{-4}$ и выполним линейную регрессию, как объяснялось ранее."
   ]
  },
  {
   "cell_type": "code",
   "execution_count": null,
   "metadata": {},
   "outputs": [],
   "source": [
    "B0 = np.logspace(-3, -4, 20)\n",
    "Tmax = 0.28  # yr\n",
    "n = 1000000  # step\n",
    "h = n/Tmax"
   ]
  },
  {
   "cell_type": "code",
   "execution_count": null,
   "metadata": {
    "scrolled": true
   },
   "outputs": [],
   "source": [
    "# Check that n is large enough\n",
    "X, Y, steps = mercury.getorbit(Z0, Tmax/float(n), A, 0)\n",
    "p0 = getPrecession(X, Y)\n",
    "X, Y, steps = mercury.getorbit(Z0, Tmax/float(n), A, B0[-1])\n",
    "p1 = getPrecession(X, Y)\n",
    "print(\"With precession:    %.1e\"%(abs(p1)))\n",
    "print(\"Without precession: %.1e\"%(abs(p0)))"
   ]
  },
  {
   "cell_type": "markdown",
   "metadata": {},
   "source": [
    "Теперь мы можем выполнить линейную регрессию и экстраполировать прецессию меркурия."
   ]
  },
  {
   "cell_type": "code",
   "execution_count": null,
   "metadata": {},
   "outputs": [],
   "source": [
    "phi = np.zeros(len(B0))\n",
    "for i in range(len(B0)):\n",
    "    X, Y, steps = mercury.getorbit(Z0, Tmax/float(n), A, B0[i])\n",
    "    phi[i] = getPrecession(X, Y)"
   ]
  },
  {
   "cell_type": "markdown",
   "metadata": {},
   "source": [
    "Когда $B=0$, прецессия должна быть равна нулю. Таким образом, мы помещаем функцию в форму $f(x)=c\\times x$, используя функцию `curve_fit` из `scipy.optimize`."
   ]
  },
  {
   "cell_type": "code",
   "execution_count": null,
   "metadata": {},
   "outputs": [],
   "source": [
    "def f(x, a):\n",
    "    return a*x\n",
    "\n",
    "popt, pcov = curve_fit(f, B0, phi)"
   ]
  },
  {
   "cell_type": "code",
   "execution_count": null,
   "metadata": {},
   "outputs": [],
   "source": [
    "plt.figure()\n",
    "plt.plot(B0, B0*popt[0], label=\"Fit\")\n",
    "plt.plot(B0, phi, \"o\", label=\"Data points\")\n",
    "plt.xlabel(r\"GR correction constant, $B$\")\n",
    "plt.ylabel(r\"Precession, $\\phi$ [radians per half orbit]\")\n",
    "plt.legend()\n",
    "plt.show()"
   ]
  },
  {
   "cell_type": "code",
   "execution_count": null,
   "metadata": {},
   "outputs": [],
   "source": [
    "print(\"Precession of Mercury is estimated to %.2f arcsec per century.\"\n",
    "      % (r2aspc(B*popt[0])))"
   ]
  },
  {
   "cell_type": "markdown",
   "metadata": {},
   "source": [
    "Можно показать, что скорость прецессии задается [2]\n",
    "\n",
    "\\begin{equation}\n",
    "\\delta \\phi_\\mathrm{prec}=\\frac{6\\pi G}{c^2}\\frac{M}{a\\left(1-\\epsilon^2\\right)}.\n",
    "\\end{equation}\n",
    "\n",
    "Эксцентриситет орбиты равен $\\epsilon=0.2056$ и полу-главная ось равна $57.91\\times 10^6\\;\\mathrm{km}$ [3]."
   ]
  },
  {
   "cell_type": "code",
   "execution_count": null,
   "metadata": {},
   "outputs": [],
   "source": [
    "epsilon = 0.2056\n",
    "a = 57.91e9\n",
    "dphi = 6*np.pi*G*M/(c**2*a*(1 - epsilon**2))\n",
    "print(\"Precession of Mercury is approximately %.2f arcsec per century.\"\n",
    "      % (dphi*100*3600/0.240846*180/np.pi))"
   ]
  },
  {
   "cell_type": "markdown",
   "metadata": {},
   "source": [
    "Ожидаемый результат - $43$ arcsec. Результаты отображаются в пределах двух цифр. Как и ожидалось: оба метода включают несколько приближений, и в численном случае существуют некоторые ошибки численного округления."
   ]
  },
  {
   "cell_type": "markdown",
   "metadata": {},
   "source": [
    "# Resources\n",
    "[1] Kutner, M. (2003). Astronomy: A Physical Perspective. Cambridge: Cambridge University Press. doi:10.1017/CBO9780511802195  \n",
    "[2] Hartle, J. B. Gravity: An Introduction to Einstein's General Relativity. San Francisco: Addison-Wesley, 2003.   \n",
    "[3] NASA. Mercury Fact Sheet. URL: https://nssdc.gsfc.nasa.gov/planetary/factsheet/mercuryfact.html (accessed: Feb. 2018)"
   ]
  },
  {
   "cell_type": "markdown",
   "metadata": {},
   "source": [
    "# Appendix: Fortran (95) code\n",
    "\n",
    "```fortran\n",
    "\n",
    "subroutine getOrbit(x, y, steps, z0, h, a, b)\n",
    "\n",
    "!!!!!!!!!!!!!!!!!!!!!!!!!!!!!!!!!!!!!!!!!!!!!!!!!!!!!!!!!!!!!!!!!!!!!!\n",
    "!! This code is used to compute the position of a planets position  !!\n",
    "!! at aphelion (maximum) in the Schwarzschild geometry given        !!\n",
    "!! initial positions and velocities. The code is described in       !!\n",
    "!! detail (Python) in the General relativity notebook on            !!\n",
    "!! numfys.net. The code can be compiled using F2PY.                 !!\n",
    "!!                                                                  !!\n",
    "!! Input:                                                           !!\n",
    "!!    z0 : float, len(4). [x, y, u, v]. Initial x and y position    !!\n",
    "!!         and initial velocity in x and y direction.               !!\n",
    "!!    h  : float. Step length.                                      !!\n",
    "!!    a  : float. Constant A (force strength).                      !!\n",
    "!!    b  : float. Constant B (GR correction).                       !!\n",
    "!! Output:                                                          !!\n",
    "!!    x  : float. x position at next maximum.                       !!\n",
    "!!    y  : float. y position at next maximum.                       !!\n",
    "!!    steps: int. Number of steps used.                             !!\n",
    "!!!!!!!!!!!!!!!!!!!!!!!!!!!!!!!!!!!!!!!!!!!!!!!!!!!!!!!!!!!!!!!!!!!!!!\n",
    "\n",
    "implicit none\n",
    "\n",
    "integer, intent(out)  :: steps\n",
    "double precision, intent(out) :: x, y\n",
    "double precision, intent(in) :: z0(4), a, b, h\n",
    "double precision :: z(4), rho2, rhotemp\n",
    "\n",
    "z = z0\n",
    "\n",
    "rhotemp = 0\n",
    "rho2 = z0(1)**2 + z0(2)**2\n",
    "steps = 0\n",
    "\n",
    "! Uses 4th order Runge-Kutta method to compute the position of the\n",
    "! planet at each step. The mass distribution (Sun) is located around\n",
    "! the origin. When the distance to the origin do not increase, we\n",
    "! are at the maximum (aphelion).\n",
    "do while (rho2 > rhotemp)\n",
    "    rhotemp = rho2\n",
    "    call rk4step(a, b, z, h)\n",
    "    rho2 = z(1)**2 + z(2)**2\n",
    "    steps = steps + 1\n",
    "end do\n",
    "\n",
    "x = z(1)\n",
    "y = z(2)\n",
    "\n",
    "return\n",
    "\n",
    "contains\n",
    "\n",
    "    ! Right hand side of EoM\n",
    "    subroutine rhs(a, b, z, s)\n",
    "\n",
    "        implicit none\n",
    "\n",
    "        double precision, intent(in) :: z(4)\n",
    "        double precision, intent(in)    :: a, b\n",
    "        double precision, intent(out) :: s(4)\n",
    "        double precision :: temp, rho\n",
    "\n",
    "        rho = (z(1)**2 + z(2)**2)**.5\n",
    "        temp = a/rho**3*(1 + B/rho**2)\n",
    "\n",
    "        s(1) = z(3)\n",
    "        s(2) = z(4)\n",
    "        s(3) = - z(1)*temp\n",
    "        s(4) = - z(2)*temp\n",
    "\n",
    "        return\n",
    "\n",
    "    end subroutine\n",
    "\n",
    "    ! One step of Fourth-Order Runge-Kutta Method\n",
    "    subroutine rk4step(a, b, z, h)\n",
    "\n",
    "        implicit none\n",
    "\n",
    "        double precision, intent(inout) :: z(4)\n",
    "        double precision, intent(in) :: a, b, h\n",
    "        double precision :: s1(4), s2(4), s3(4), s4(4)\n",
    "\n",
    "        call rhs(a, b, z, s1)\n",
    "        call rhs(a, b, z + h*s1/2.0, s2)\n",
    "        call rhs(a, b, z + h*s2/2.0, s3)\n",
    "        call rhs(a, b, z + h*s3, s4)\n",
    "\n",
    "        z = z + h/6.0*(s1 + 2.0*s2 + 2.0*s3 + s4)\n",
    "\n",
    "        return\n",
    "\n",
    "    end subroutine\n",
    "\n",
    "end subroutine\n",
    "\n",
    "```"
   ]
  }
 ],
 "metadata": {
  "kernelspec": {
   "display_name": "Python 3",
   "language": "python",
   "name": "python3"
  },
  "language_info": {
   "codemirror_mode": {
    "name": "ipython",
    "version": 3
   },
   "file_extension": ".py",
   "mimetype": "text/x-python",
   "name": "python",
   "nbconvert_exporter": "python",
   "pygments_lexer": "ipython3",
   "version": "3.7.4"
  }
 },
 "nbformat": 4,
 "nbformat_minor": 2
}
