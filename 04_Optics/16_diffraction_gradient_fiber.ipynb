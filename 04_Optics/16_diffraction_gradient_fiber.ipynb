{
 "cells": [
  {
   "cell_type": "markdown",
   "metadata": {},
   "source": [
    "<style>\n",
    "@import url(https://www.numfys.net/static/css/nbstyle.css);\n",
    "</style>\n",
    "<a href=\"https://www.numfys.net\"><img class=\"logo\" /></a>\n",
    "\n",
    "# Дифракция в градиентном оптическом волокне\n",
    "\n",
    "### Examples - Astrophysics\n",
    "<section class=\"post-meta\">\n",
    "By Magnus A. Gjennestad, Vegard Hagen, Aksel Kvaal, Morten Vassvik, Trygve B. Wiig and Peter Berg\n",
    "</section>\n",
    "Last edited: March 22nd 2018 \n",
    "___"
   ]
  },
  {
   "cell_type": "markdown",
   "metadata": {},
   "source": [
    "### Закон Снелла - Закон преломления"
   ]
  },
  {
   "cell_type": "markdown",
   "metadata": {},
   "source": [
    "Закон Снелла описывает, что происходит со светом, когда он попадает в одну среду из другой. Более конкретно, он связывает направление света в каждой среде со скоростью света.\n",
    "\n",
    "Эквивалентно, он связывает углы падения, $\\theta$, с показателем преломления, $n$, каждой среды. В своей наиболее распространенной форме закон Снелла гласит:\n",
    "$$n_1 \\sin\\theta_1 = n_2 \\sin\\theta_2,$$\n",
    "где показатель преломления может быть определен как\n",
    "$$n_i = \\frac{c}{v_i}.$$\n",
    "Здесь $v_i$ - это скорость света в определенной среде, а $c$ - скорость света в вакууме. Закон Снелла может быть выведен несколькими способами. Один из методов заключается в использовании так называемого Принципа наименьшего времени Ферма.\n",
    "\n",
    "<img src=\"images/5o_snells_law.png\" style=\"height:400px\">\n",
    "\n",
    "На рисунке $n_1<n_2$, и, следовательно, $\\theta_1>\\theta_2$. Например, это относится к воздуху ($n_\\mathrm{air} \\approx 1.0003$) и воде ($n_\\mathrm{water} \\approx 1.333$)."
   ]
  },
  {
   "cell_type": "markdown",
   "metadata": {},
   "source": [
    "### Принцип наименьшего времени Ферма"
   ]
  },
  {
   "cell_type": "markdown",
   "metadata": {},
   "source": [
    "Принцип Ферма гласит, что свет следует по пути наименьшего времени при перемещении из точки А в точку В. Если скорость света постоянна - или, что эквивалентно, если показатель преломления постоянен, - то свет следует по прямым линиям. Расстояние, $s$, пройденное светом за время $t$, тогда\n",
    "$$s = vt \\Leftrightarrow t = \\frac{s}{v}.$$\n",
    "Если показатель преломления не постоянен, световой путь больше не является прямой линией. Вместо этого мы сталкиваемся с **дифракцией**.\n",
    "\n",
    "В ньютоновской механике уравнение движения в двух измерениях, соответствующее прямой, - это просто уравнение нулевого ускорения:\n",
    "$$\\frac{d^2x}{dt^2}=0,\\quad \\frac{d^2y}{dt^2} =0.$$\n",
    "Теперь мы исследуем, существует ли эквивалентное уравнение для световых лучей, если показатель преломления изменяется *непрерывно* в среде, а не дискретно, как в случае закона Снелла."
   ]
  },
  {
   "cell_type": "markdown",
   "metadata": {},
   "source": [
    "### Дифракция"
   ]
  },
  {
   "cell_type": "markdown",
   "metadata": {},
   "source": [
    "Чтобы применить принцип Ферма, нам нужно выражение для времени, $T$ , которое требуется свету, чтобы перейти из точки A в точку B. За небольшой промежуток времени, $dt$, свет проходит расстояние $ds = v \\cdot dt$. Если показатель преломления непрерывен и дифференцируем (гладок), то $v$ приблизительно постоянен в достаточно малом интервале времени.\n",
    "\n",
    "Суммирование всех временных интервалов вдоль пути дает общее время\n",
    "$$ T = \\int_A^B dt = \\int_A^B \\frac{ds}{v} = \\frac{1}{c} \\int_A^B n\\,ds.$$\n",
    "Последний интеграл называется длиной оптического пути. Поэтому нахождение минимального времени эквивалентно нахождению минимальной длины оптического пути. Решение этой задачи не является тривиальным, так что дальше будут приблизитильные наброски."
   ]
  },
  {
   "cell_type": "markdown",
   "metadata": {},
   "source": [
    "Если мы минимизируем последний интеграл, мы обнаружим,что это приводит к следующим уравнениям Эйлера-Лагранжа для движения света, где показатель преломления имеет вид $n = n(x, y)$ (т. е. дифракция):\n",
    "\n",
    "$$\\begin{align}\n",
    "\\frac{d^2x}{d\\eta^2} &= \\frac{1}{n}\\left[-\\frac{\\partial n}{\\partial x}\\left(\\frac{dx}{d\\eta}\\right)^2-2\\frac{\\partial n}{\\partial y}\\left(\\frac{dx}{d\\eta}\\right)\\left(\\frac{dy}{d\\eta}\\right)+\\frac{\\partial n}{\\partial x}\\left(\\frac{dy}{d\\eta}\\right)^2\\right]\\\\\n",
    "\\frac{d^2y}{d\\eta^2} &= \\frac{1}{n}\\left[\\frac{\\partial n}{\\partial y}\\left(\\frac{dx}{d\\eta}\\right)^2-2\\frac{\\partial n}{\\partial x}\\left(\\frac{dx}{d\\eta}\\right)\\left(\\frac{dy}{d\\eta}\\right)-\\frac{\\partial n}{\\partial y}\\left(\\frac{dy}{d\\eta}\\right)^2\\right].\n",
    "\\end{align}$$\n",
    "\n",
    "Здесь $\\eta$ параметризует путь, поскольку правая сторона не содержит $c$ или чего-либо еще, из чего можно получить временную шкалу.\n",
    "Обратите внимание, что если $n$ является константой, $$\\frac{\\partial n}{\\partial x} = 0 \\text{ и } \\frac{\\partial n}{\\partial y} = 0$$ сохраняется, и мы просто восстанавливаем уравнения для прямой линии. Теперь нам нужно только решить эти два связанных нелинейных дифференциальных уравнения, чтобы получить путь света."
   ]
  },
  {
   "cell_type": "markdown",
   "metadata": {},
   "source": [
    "### Численное решение"
   ]
  },
  {
   "cell_type": "markdown",
   "metadata": {},
   "source": [
    "Аналитическое решение двух предыдущих уравнений - задача нелегкая и в большинстве случаев невозможная. С другой стороны, их численное решение почти тривиально. Мы будем использовать метод Эйлера.\n",
    "\n",
    "Определяя $$v_x = \\dot{x} = \\frac{dx}{d\\eta},\\, v_y = \\dot{y}=\\frac{dy}{d\\eta},\\, n_x = \\frac{\\partial n}{\\partial x} \\text{ и } n_y = \\frac{\\partial n}{\\partial y},$$ мы преобразуем систему ОДУ второго порядка в четыре дифференциальных уравнения первого порядка:\n",
    "\n",
    "$$\\begin{align}\n",
    "\\dot{x} &= v_x,\\\\\n",
    "\\dot{y} &= v_y,\\\\\n",
    "\\dot{v}_x &= -\\frac{n_x}{n}v_x^2-2\\frac{n_y}{n}v_x v_y + \\frac{n_x}{n}v_y^2,\\\\\n",
    "\\dot{v}_y &= \\frac{n_y}{n}v_x^2-2\\frac{n_x}{n}v_x v_y + \\frac{n_y}{n}v_y^2.\n",
    "\\end{align}$$"
   ]
  },
  {
   "cell_type": "markdown",
   "metadata": {},
   "source": [
    "Соответствующие рекурсивные формулы для положения и скорости следуют из метода Эйлера, т.е. из дискретизации производных:\n",
    "\n",
    "$$\\begin{align}\n",
    "x(\\eta + \\Delta \\eta) &= x(\\eta) + v_x(\\eta)\\Delta \\eta,\\\\\n",
    "y(\\eta + \\Delta \\eta) &= y(\\eta) + v_y(\\eta)\\Delta \\eta,\\\\\n",
    "v_x(\\eta + \\Delta \\eta) &= v_x(\\eta) + \\dot{v}_x(\\eta)\\Delta \\eta,\\\\\n",
    "v_y(\\eta + \\Delta \\eta) &= v_y(\\eta) + \\dot{v}_y(\\eta)\\Delta \\eta.\\\\\n",
    "\\end{align}$$"
   ]
  },
  {
   "cell_type": "markdown",
   "metadata": {},
   "source": [
    "### Пример: Оптическое градиентное волокно (GRIN) "
   ]
  },
  {
   "cell_type": "markdown",
   "metadata": {},
   "source": [
    "Оптическое градиентное волокно представляет собой цилиндрический (круглый) кабель с показателем преломления, который изменяется в зависимости от расстояния до центра. Чтобы упростить себе работу, мы будем моделировать его только в двумерных декартовых координатах $(x,y)$.\n",
    "Пусть показатель преломления задается функцией $n(x, y) = 2 − y^2$ для $|y| < 1$ и $n(x,y) = 1$ в противном случае. Это соответствует волоконному кабелю шириной 2 вдоль оси $x$, окруженному воздухом или вакуумом. Частные производные составляют $n_x = 0$ и $n_y = −2y$ внутри кабеля и ноль снаружи.\n",
    "Из этого мы получаем\n",
    "$$\\begin{align}\n",
    "\\dot{v}_x &= \\frac{4y}{2-y^2}v_x v_y,\\\\\n",
    "\\dot{v}_y &= \\frac{2y}{2-y^2}v_y^2 - \\frac{2y}{2-y^2}v_x^2.\n",
    "\\end{align}$$"
   ]
  },
  {
   "cell_type": "markdown",
   "metadata": {},
   "source": [
    "Мы реализовали этот пример ниже. Он показывает принцип работы таких оптических волокон, хотя мы демонстрируем его только в двух измерениях. Три измерения потребовали бы цилиндрических координат, но принцип тот же.\n",
    "\n",
    "Обратите внимание, что мы выбрали $t$ вместо $\\eta$ ниже, чтобы упростить обозначение."
   ]
  },
  {
   "cell_type": "code",
   "execution_count": null,
   "metadata": {},
   "outputs": [],
   "source": [
    "import numpy as np\n",
    "from math import atan2\n",
    "import matplotlib.pyplot as plt\n",
    "plt.style.use('bmh')"
   ]
  },
  {
   "cell_type": "code",
   "execution_count": null,
   "metadata": {},
   "outputs": [],
   "source": [
    "def lightray(x0, y0, angle, tmax, dt):\n",
    "    \"\"\" Returns n0*sin(theta0) as the first output, and n*sin(theta) \n",
    "    as the last one. n0 is the index of refraction at (x0,y0)\n",
    "    while n is the index of refraction at (x(tmax),y(tmax)).\n",
    "    theta0 is the initial angle with respect to the y-axis, and\n",
    "    theta is the angle with respect to the y-axis at the last time step.\n",
    "    \n",
    "    Veryfying Snell's law:\n",
    "    n1*sin(t1) = n2*sin(t2)\n",
    "    \"\"\"\n",
    "    nmax = int(tmax/dt)\n",
    "    t = np.linspace(0, tmax, nmax)\n",
    "    \n",
    "    x = 0*t\n",
    "    y = 0*t\n",
    "    vx = 0*t\n",
    "    vy = 0*t\n",
    "\n",
    "    x[0] = x0\n",
    "    y[0] = y0\n",
    "    vx[0] = np.sin(np.pi*angle/180)/(2-y[0]**2)   #Normalized, v = c/n\n",
    "    vy[0] = np.cos(np.pi*angle/180)/(2-y[0]**2)   #Normalized, v = c/n\n",
    "\n",
    "    for n in range(nmax-1):\n",
    "        x[n+1] = x[n] +  vx[n]*dt\n",
    "        y[n+1] = y[n] + vy[n]*dt\n",
    "        if abs(y[n]) <= 1:\n",
    "            factor = 2*y[n]/(2-y[n]**2)\n",
    "            vx[n+1] = vx[n] + 2*factor*vx[n]*vy[n]*dt\n",
    "            vy[n+1] = vy[n] +   factor*(vy[n]**2 - vx[n]**2)*dt\n",
    "        else:\n",
    "            vx[n+1] = vx[n]\n",
    "            vy[n+1] = vy[n]\n",
    "\n",
    "            \n",
    "    plt.plot(x,y,[x[0],x[-1]],[1,1],':r',[x[0],x[-1]],[-1,-1],':r')\n",
    "    plt.ylim([min(min(y),-1.1), max(max(y),1.1)])\n",
    "    plt.xlabel(r\"$x$\")\n",
    "    plt.ylabel(r\"$y$\")\n",
    "\n",
    "    # Verifying Snell's Law:\n",
    "    # The angle is measured with respect to the x-axis. Rotates the angle \n",
    "    # by 90 degrees to be with respect to the y-axis.\n",
    "    aa = atan2(vx[-1],vy[-1])*180/np.pi\n",
    "    if abs(y[-1]) < 1:\n",
    "        nn = 2 - y[-1]**2\n",
    "    else:\n",
    "        nn = 1\n",
    "    \n",
    "    an1 = (2-y0**2)*np.sin(angle*np.pi/180)  #Initial result\n",
    "    an2 = nn*np.sin(aa*np.pi/180)            # End result\n",
    "    \n",
    "    return an1, an2"
   ]
  },
  {
   "cell_type": "code",
   "execution_count": null,
   "metadata": {},
   "outputs": [],
   "source": [
    "an1, an2 = lightray(0,-0.8,90,20,0.001)\n",
    "print(\"an1=\", an1, \", an2=\", an2)"
   ]
  },
  {
   "cell_type": "markdown",
   "metadata": {},
   "source": [
    "Из возвращенных значений мы видим, что закон Снелла все еще выполняется на этом пути. Следовательно, дифракция для непостоянного n может быть интерпретирована как множество бесконечно малых шагов преломления.\n",
    "\n",
    "Выше мы выбрали начальные значения таким образом, чтобы луч света был захвачен внутри волокна. При других начальных значениях световой луч может выйти из волокна, как показано ниже."
   ]
  },
  {
   "cell_type": "code",
   "execution_count": null,
   "metadata": {},
   "outputs": [],
   "source": [
    "lightray(0,-0.8,45,5,0.001);"
   ]
  },
  {
   "cell_type": "code",
   "execution_count": null,
   "metadata": {},
   "outputs": [],
   "source": []
  }
 ],
 "metadata": {
  "kernelspec": {
   "display_name": "Python 3",
   "language": "python",
   "name": "python3"
  },
  "language_info": {
   "codemirror_mode": {
    "name": "ipython",
    "version": 3
   },
   "file_extension": ".py",
   "mimetype": "text/x-python",
   "name": "python",
   "nbconvert_exporter": "python",
   "pygments_lexer": "ipython3",
   "version": "3.7.4"
  }
 },
 "nbformat": 4,
 "nbformat_minor": 1
}
