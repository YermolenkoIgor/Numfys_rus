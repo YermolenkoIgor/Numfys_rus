{
 "cells": [
  {
   "cell_type": "markdown",
   "metadata": {},
   "source": [
    "<style>\n",
    "@import url(https://www.numfys.net/static/css/nbstyle.css);\n",
    "</style>\n",
    "<a href=\"https://www.numfys.net\"><img class=\"logo\" /></a>\n",
    "\n",
    "# Гибридные изображения. Эйнштейн-Монро\n",
    "\n",
    "### Examples - Astrophysics\n",
    "<section class=\"post-meta\">\n",
    "By Jonas Tjemsland, Andreas Krogen, Håkon Ånes and Jon Andreas Støvneng\n",
    "</section>\n",
    "Last edited: March 22nd 2018 \n",
    "___"
   ]
  },
  {
   "cell_type": "markdown",
   "metadata": {},
   "source": [
    "## Вступление\n",
    "\n",
    "Глядя на изображение ниже, кого вы видите? Знаменитого физика Альберта Эйнштейна или популярный секс-символ 1950-х годов Мэрилин Монро?\n",
    "\n",
    "С небольшого расстояния можно увидеть четкое изображение Эйнштейна, и только размытое искажение намекает на наличие наложенного изображения. Но при взгляде издалека или прищурившись, мельчайшие детали Эйнштейна размываются, и появляется  лицо Монро! Обратите также внимание, что если зритель близорук, он может видеть Монро на нормальном расстоянии обзора.\n",
    "\n",
    "<img src=\"images/einstein-monroe.png\" width=\"300\">\n",
    "\n",
    "**Рисунок 1:** За этим великим человеком стоит красивая женщина [4].\n",
    "\n",
    "Изображение является одним из самых известных примеров так называемого \"гибридного изображения\". Оно создается путем объединения двух изображений, одно из которых фильтруется фильтром низких частот, а другое - фильтром высоких частот [2]. Эта концепция основана на том, как мы, люди, обрабатываем визуальный ввод. Схема создания изображений с помощью этой оптической иллюзии была разработана Од Оливой из Массачусетского технологического института и Филиппом Г. Шинсом из Университета Глазго.\n",
    "\n",
    "Одним из физических объяснений этого эффекта является пространственное разрешение наших глаз, оцениваемое по критерию Рэлея, $\\Delta l_{min} = 1,22\\lambda R/D$ [1]. Здесь $D$ - диаметр апертуры объектива, $\\lambda$ - длина волны света, а $R$ - расстояние до объекта или изображения. В качестве примера пусть $R=25\\mathrm{cm}$ (идеальное расстояние считывания), $D\\approx4\\mathrm{mm}$ (диаметр зрачков в наших глазах) и $\\lambda=550\\mathrm{nm}$ (середина видимого спектра). Затем самые мелкие детали, которые мы можем разрешить на изображении, - это $\\Delta l_{min} \\approx$ 0.04 мм. Худшее разрешение, т.e. увеличение $\\Delta l_{min}$ достигается увеличением расстояния до изображения $R$ или прищуриванием и, таким образом, уменьшением $D$. Следовательно, более тонкие детали Эйнштейна не улавливаются, когда $\\Delta l_{min}$ увеличивается, и образ Монро имеет приоритет.\n",
    "\n",
    "Используя инструменты, представленные в нашей записной книжке *[Фильтрация изображений с использованием Фурье Transform](https://nbviewer.jupyter.org/url/www.numfys.net/media/notebooks/image_filtering_using_fourier_transform.ipynb)*, должно позволить легко проанализировать концепцию гибридных изображений. В этом блокноте мы пытаемся использовать фильтр низких и высоких частот для извлечения экстрактов Монро и Эйнштейна соответственно. Ближе к концу мы создаем свой собственный, упрощенный гибридный образ!\n",
    "\n",
    "Мы начинаем с импорта пакетов, установки параметров рисунка и определения функций, определенных в вышеупомянутом блокноте по фильтрации изображений."
   ]
  },
  {
   "cell_type": "code",
   "execution_count": null,
   "metadata": {},
   "outputs": [],
   "source": [
    "import matplotlib.pyplot as plt\n",
    "import numpy as np\n",
    "import scipy.fftpack as fft\n",
    "from skimage import io # used to read images from url\n",
    "import warnings\n",
    "warnings.filterwarnings(\"ignore\")\n",
    "\n",
    "def FFT(image):\n",
    "    \"\"\" Compute the 2-dimensional discrete Fourier Transform of an image\n",
    "    and shift the zero-frequency component to the center of the spectrum.\n",
    "    \n",
    "    Parameters:\n",
    "        image: array-like, shape (m, n), can be complex. Image being transformed.\n",
    "    Returns: complex ndarray, shape (m, n). Frequency spectrum.\n",
    "    \"\"\"\n",
    "    return np.fft.fftshift(np.fft.fft2(image))\n",
    "\n",
    "def IFFT(spectrum):\n",
    "    \"\"\" Shift the zero-frequency components to the edges of the spectrum and \n",
    "    compute the inverse 2-dimensional discrete Fourier Transform of an image.\n",
    "    \n",
    "    Parameters:\n",
    "        image: array-like, shape (m, n), can be complex. Spectrum being transformed.\n",
    "    Returns: complex ndarray, shape (m, n). Spacial domain.\n",
    "    \"\"\"\n",
    "    return np.fft.ifft2(np.fft.fftshift(spectrum))\n",
    "\n",
    "def filter_spectrum(spectrum, filter_type=None, val=50):\n",
    "    \"\"\" Filter the spectrum of an image using a gaussian high pass or low pass filter.\n",
    "    \n",
    "    Parameters:\n",
    "        spectrum:    array-like, shape (m, n), can be complex. Spectrum being filtered.\n",
    "        filter_type: string. Filter name, {'gaussian_highpass', 'gaussian_lowpass'}.\n",
    "        val:         float. Filter parameter.\n",
    "    Returns:         complex 2d-array, shape (m,n). Filtered spectrum.\n",
    "    \"\"\"\n",
    "    m, n = np.shape(spectrum)\n",
    "    x, y = np.meshgrid(np.arange(m), np.arange(n))\n",
    "    R2 = np.transpose((x - m/2)**2 + (y - n/2)**2)\n",
    "    if (filter_type == 'gaussian_highpass'):\n",
    "        return spectrum*(1 - np.exp(-val*R2))\n",
    "    elif (filter_type == 'gaussian_lowpass'):\n",
    "        return spectrum*np.exp(-val*R2)\n",
    "    elif (filter_type != None):\n",
    "        raise ValueError('%s is not a valid filter!' % filter_type)\n",
    "    return spectrum\n",
    "\n",
    "def normalise(image):\n",
    "    \"\"\" Normalise an image such that the minimal pixel value becomes 0 and the maximum \n",
    "    pixel value becomes 1. Only the real value of the image is used in case of \n",
    "    numerical rounding errors during the Fourier Transforms.\n",
    "    \n",
    "    Parameters:\n",
    "        image: array-like, shape (m, n), can be complex. Image being transformed.\n",
    "    Returns: real 2d-array(). Normalised image.\n",
    "    \"\"\"\n",
    "    image = np.real(image)\n",
    "    return (image - np.min(image))/(np.max(image) - np.min(image))"
   ]
  },
  {
   "cell_type": "markdown",
   "metadata": {},
   "source": [
    "Давайте импортируем изображение Эйнштейна-Монро, выполним преобразование Фурье, чтобы получить частотный спектр, а затем визуализируем результат."
   ]
  },
  {
   "cell_type": "code",
   "execution_count": null,
   "metadata": {},
   "outputs": [],
   "source": [
    "# Import image, originally downloaded from [3]\n",
    "img = io.imread('https://www.numfys.net/media/notebooks/images/einstein-monroe.png',\n",
    "                as_grey=True)\n",
    "\n",
    "# Compute the frequency spectrum\n",
    "spec = FFT(img)\n",
    "\n",
    "# Plot the result\n",
    "plt.subplot(121)\n",
    "plt.imshow(img, cmap='gray')\n",
    "plt.subplot(122)\n",
    "plt.imshow(np.log(abs(spec)), cmap='gray');"
   ]
  },
  {
   "cell_type": "markdown",
   "metadata": {},
   "source": [
    "Теперь все готово для фильтрации изображения! Мы хотим отфильтровать так, чтобы был виден только один из двух человек. Имейте в виду, что полученные изображения будут иметь более низкое качество, чем исходные изображения (почему?).\n",
    "\n",
    "## Извлечение частот. Высокие = Эйнштейн, низкие = Монро\n",
    "\n",
    "Теперь мы используем фильтр высоких частот Гаусса, чтобы исключить низкие частоты, чтобы получить Эйнштейна, и фильтр низких частот Гаусса, чтобы исключить высокие частоты, чтобы получить Монро. После попыток с различными исключающими значениями мы получаем изображения, на которых Эйнштейна и Монро можно увидеть отдельно."
   ]
  },
  {
   "cell_type": "code",
   "execution_count": null,
   "metadata": {},
   "outputs": [],
   "source": [
    "# Filter spectra\n",
    "filtered_spec_einstein = filter_spectrum(spec, filter_type='gaussian_highpass', val=0.001)\n",
    "filtered_spec_monroe = filter_spectrum(spec, filter_type='gaussian_lowpass', val=0.01)\n",
    "\n",
    "# Transform into filtered images\n",
    "filtered_img_einstein = np.real(IFFT(filtered_spec_einstein))\n",
    "filtered_img_monroe = np.real(IFFT(filtered_spec_monroe))\n",
    "\n",
    "# Plot result\n",
    "plt.subplot(121)\n",
    "plt.imshow(filtered_img_einstein, cmap='gray');\n",
    "plt.subplot(122)\n",
    "plt.imshow(filtered_img_monroe, cmap='gray');"
   ]
  },
  {
   "cell_type": "markdown",
   "metadata": {},
   "source": [
    "## Создайте свой собственный гибридный образ\n",
    "\n",
    "Пришло время *создать* гибридный образ! Мы будем использовать образ Леонарда Нимоя в роли Спока [5] и Уильяма Шатнера в роли Джеймса Т. Кирка [6] из \"Звездного пути\". Обратите внимание, что изображения должны быть правильно выровнены для достижения наилучшего эффекта оптической иллюзии. Некоторые дополнительные советы описаны в статье [гибридные изображения]( http://cvcl.mit.edu/hybrid/OlivaTorralb_Hybrid_Siggraph06.pdf) Од Олива, Антонио Торральба и Филипп Г. Шинс с 2008 года. Мы начинаем с импорта изображений и их визуализации."
   ]
  },
  {
   "cell_type": "code",
   "execution_count": null,
   "metadata": {},
   "outputs": [],
   "source": [
    "spock = io.imread('https://www.numfys.net/media/notebooks/images/spock.jpg', True)\n",
    "kirk = io.imread('https://www.numfys.net/media/notebooks/images/kirk.jpg', True)\n",
    "plt.subplot(121)\n",
    "plt.imshow(spock, cmap='gray')\n",
    "plt.subplot(122)\n",
    "plt.imshow(kirk, cmap='gray');"
   ]
  },
  {
   "cell_type": "markdown",
   "metadata": {},
   "source": [
    "Теперь мы фильтруем изображения. Пусть Спок будет отфильтрован на высоких частотах, а Кирк - на низких. Поиграйте с параметрами!"
   ]
  },
  {
   "cell_type": "code",
   "execution_count": null,
   "metadata": {},
   "outputs": [],
   "source": [
    "# Filter Spock\n",
    "spock_spec = FFT(spock)\n",
    "filtered_spock_spec = filter_spectrum(spock_spec, filter_type='gaussian_highpass', val=0.001)\n",
    "filtered_spock = np.real(IFFT(filtered_spock_spec))\n",
    "\n",
    "# Filter Kirk\n",
    "kirk_spec = FFT(kirk)\n",
    "filtered_kirk_spec = filter_spectrum(kirk_spec, filter_type='gaussian_lowpass', val=0.005)\n",
    "filtered_kirk = np.real(IFFT(filtered_kirk_spec))\n",
    "\n",
    "# Plot the result\n",
    "plt.subplot(121)\n",
    "plt.imshow(filtered_spock, cmap='gray')\n",
    "plt.subplot(122)\n",
    "plt.imshow(filtered_kirk, cmap='gray');"
   ]
  },
  {
   "cell_type": "markdown",
   "metadata": {},
   "source": [
    "Теперь мы нормализуем изображения, складываем их вместе и строим график результата. И у нас есть свой гибридный образ!"
   ]
  },
  {
   "cell_type": "code",
   "execution_count": null,
   "metadata": {},
   "outputs": [],
   "source": [
    "# Normalise the individual images\n",
    "filtered_spock = normalise(filtered_spock)\n",
    "filtered_kirk = normalise(filtered_kirk)\n",
    "\n",
    "# Create the hybrid image\n",
    "spock_kirk_hybrid = filtered_spock + filtered_kirk\n",
    "\n",
    "# Plot the result\n",
    "plt.imshow(spock_kirk_hybrid, cmap='gray');"
   ]
  },
  {
   "cell_type": "markdown",
   "metadata": {},
   "source": [
    "## Дальнейшая работа и улучшения\n",
    "\n",
    "* Как такое проделать для цветного изображения?\n",
    "* Можно ли добавить более двух изображений в гибридное изображение?\n",
    "* Существуют ли какие-либо приложения для гибридных изображений (например, рекламные ролики)?"
   ]
  },
  {
   "cell_type": "markdown",
   "metadata": {},
   "source": [
    "## Resources\n",
    "\n",
    "[1] Wikipedia. *Angular resolution* https://en.wikipedia.org/wiki/Angular_resolution, 10-25-106 [acquired 11-08-2016]\n",
    "\n",
    "[2] Aude Oliva, Antonio Torralba, Philippe. G. Schyns. *Hybrid Images*, http://cvcl.mit.edu/hybrid/OlivaTorralb_Hybrid_Siggraph06.pdf, 2008 [aquired 10-29-2016]    \n",
    "\n",
    "[3] Wikipedia. *Hybrid image*, https://en.wikipedia.org/wiki/Hybrid_image, 10-26-2007 [aquired 10-28-2016]   \n",
    "\n",
    "### Pictures:\n",
    "\n",
    "[4] Gregory T. Huang: Einstein-Monroe, https://www.newscientist.com/article/mg19325971-600-hybrid-images-now-you-see-them/?DCMP=ILC-Top5&;href=images, 03-28-2007 [aquired 10-28-2016]  \n",
    "\n",
    "[5] NBC television: Leonard Nimoy as Spock, https://commons.wikimedia.org/wiki/File:Leonard_Nimoy_as_Spock_1967.jpg, 1967 [aquired 10-28-2016]  \n",
    "\n",
    "[6] NBC television: William shatner as James T. Kirk, https://commons.wikimedia.org/wiki/File:Star_Trek_William_Shatner.JPG, 1967 [aquired 10-28-2016]"
   ]
  }
 ],
 "metadata": {
  "anaconda-cloud": {},
  "kernelspec": {
   "display_name": "Python 3",
   "language": "python",
   "name": "python3"
  },
  "language_info": {
   "codemirror_mode": {
    "name": "ipython",
    "version": 3
   },
   "file_extension": ".py",
   "mimetype": "text/x-python",
   "name": "python",
   "nbconvert_exporter": "python",
   "pygments_lexer": "ipython3",
   "version": "3.7.4"
  }
 },
 "nbformat": 4,
 "nbformat_minor": 1
}
