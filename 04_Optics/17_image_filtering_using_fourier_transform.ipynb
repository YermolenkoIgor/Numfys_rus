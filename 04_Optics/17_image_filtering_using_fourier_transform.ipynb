{
 "cells": [
  {
   "cell_type": "markdown",
   "metadata": {},
   "source": [
    "<style>\n",
    "@import url(https://www.numfys.net/static/css/nbstyle.css);\n",
    "</style>\n",
    "<a href=\"https://www.numfys.net\"><img class=\"logo\" /></a>\n",
    "\n",
    "# Фильтрация изображений с использованием дискретного преобразования Фурье\n",
    "\n",
    "### Examples - Optics\n",
    "<section class=\"post-meta\">\n",
    "By Jonas Tjemsland, Håkon Ånes, Andreas Krogen and Jon Andreas Støvneng\n",
    "</section>\n",
    "<section class=\"post-meta\">\n",
    "Edited by Thorvald Ballestad, Jenny Lunde, Sondre Duna Lundemo (2021)\n",
    "</section>\n",
    "Last edited: February 17th 2021\n",
    "\n",
    "___"
   ]
  },
  {
   "cell_type": "markdown",
   "metadata": {},
   "source": [
    "## Вступление\n",
    "\n",
    "В этом блокноте мы обсудим двумерное преобразование Фурье (FT) и используем его для фильтрации изображений. Теория, лежащая в основе ДПФ, уже обсуждается в блокноте *[Discrete Fourier Transform and Fast Fourier Transform](https://nbviewer.jupyter.org/url/www.numfys.net/media/notebooks/discrete_fourier_transform.ipynb)*, и одномерное БПФ используется для фильтрации звуковых файлов в ноутбуке *[Simple Sound Filtering using Discrete Fourier Transform](https://nbviewer.jupyter.org/url/www.numfys.net/media/notebooks/simple_sound_filtering.ipynb)*. Если вы хотите получить более глубокое математическое и физическое понимание используемых концепций, мы отсылаем вас к этим записным книжкам или к одной из ссылок в нижней части этой записной книжки. Помните, что мы можем интерпретировать преобразование Фурье пространственной области (здесь изображения) как частотную область или частотный спектр. Для простоты мы будем использовать изображения в сером масштабе, но это можно легко обобщить."
   ]
  },
  {
   "cell_type": "code",
   "execution_count": null,
   "metadata": {},
   "outputs": [],
   "source": [
    "import warnings\n",
    "\n",
    "import matplotlib.pyplot as plt\n",
    "import numpy as np\n",
    "import scipy.fftpack as fft\n",
    "from skimage import io\n",
    "\n",
    "%matplotlib inline\n",
    "\n",
    "# Taking the logarithm of zero in visualising the spectrum gives warnings,\n",
    "# hence we disable them\n",
    "warnings.filterwarnings(\"ignore\")"
   ]
  },
  {
   "cell_type": "markdown",
   "metadata": {},
   "source": [
    "## Преобразование Фурье изображения\n",
    "\n",
    "Чтобы упростить и минимизировать реализацию кода, мы создаем функцию для визуализации изображения и соответствующего ему спектра в частотной области. Обратите внимание, что мы строим логарифм абсолютного значения, как мы делали в вышеупомянутой тетради по фильтрации звука."
   ]
  },
  {
   "cell_type": "code",
   "execution_count": null,
   "metadata": {},
   "outputs": [],
   "source": [
    "def visualise(image, spectrum, title=\"\", title_img=\"\", title_spec=\"\", cmap=\"gray\"):\n",
    "    \"\"\"Visualise an image and its corresponding frequency spectrum in one figure.\n",
    "\n",
    "    Parameters:\n",
    "        image: array-like, as in plt.imshow(). Image.\n",
    "        spectrum: array-like, as in plt.imshow(). Frequency spectrum.\n",
    "        title: string. Figure title. Optional.\n",
    "        title_img. string. Image subtitle. Optional.\n",
    "        title_spec. string. Spectrum subtitle. Optional.\n",
    "        cmap: `~matplotlib.colors.Colormap`. Color map. Optional.\n",
    "    \"\"\"\n",
    "    plt.figure(figsize=(18, 5))\n",
    "    plt.subplot(121)\n",
    "    plt.imshow(image, cmap=cmap)\n",
    "    plt.title(title_img)\n",
    "    plt.subplot(122)\n",
    "    plt.imshow(np.log(abs(spectrum)), cmap=cmap)\n",
    "    plt.title(title_spec)\n",
    "    plt.suptitle(title)\n",
    "    plt.show()"
   ]
  },
  {
   "cell_type": "markdown",
   "metadata": {},
   "source": [
    "Кроме того, мы создаем две функции для вычисления преобразования Фурье и обратного преобразования Фурье изображения. Обратите внимание, что эти функции также смещают квадранты, так что низкие частоты собираются в середине спектра, а частота увеличивается с расстоянием от центра. Это соответствует большинству учебных пособий в Интернете. Однако это не является строго необходимым."
   ]
  },
  {
   "cell_type": "code",
   "execution_count": null,
   "metadata": {},
   "outputs": [],
   "source": [
    "def FFT(image):\n",
    "    \"\"\"Compute the 2D discrete Fast Fourier Transform of an image\n",
    "    and shift the zero-frequency component to the center of the spectrum.\n",
    "\n",
    "    Parameters:\n",
    "        image: array-like, shape (m,n), can be complex.\n",
    "    Returns: complex ndarray, shape (m,n). Frequency spectrum.\n",
    "    \"\"\"\n",
    "    return np.fft.fftshift(np.fft.fft2(image))\n",
    "\n",
    "\n",
    "def IFFT(spectrum):\n",
    "    \"\"\"Shift the zero-frequency component to the edges of the spectrum and\n",
    "    compute the inverse 2D discrete Fast Fourier Transform of an image.\n",
    "\n",
    "    Parameters:\n",
    "        spectrum: array-like, shape (m,n), can be complex.\n",
    "    Returns: complex ndarray, shape (m,n). Spacial domain.\n",
    "    \"\"\"\n",
    "    image = np.fft.ifft2(np.fft.ifftshift(spectrum))\n",
    "    return image"
   ]
  },
  {
   "cell_type": "markdown",
   "metadata": {},
   "source": [
    "Давайте возьмем ПФ изображения и построим график результата."
   ]
  },
  {
   "cell_type": "code",
   "execution_count": null,
   "metadata": {},
   "outputs": [],
   "source": [
    "img = io.imread(\"https://www.numfys.net/media/notebooks/images/dog.jpg\", as_gray=True)\n",
    "\n",
    "# You may also play around with these images: (last tested March 22nd 2018)\n",
    "# img = io.imread('https://upload.wikimedia.org/wikipedia/commons/5/50/Albert_Einstein_%28Nobel%29.png',True)\n",
    "# img = io.imread('https://upload.wikimedia.org/wikipedia/en/4/42/Richard_Feynman_Nobel.jpg',True)\n",
    "# img = io.imread('https://upload.wikimedia.org/wikipedia/commons/c/cf/Dirac_4.jpg',True)\n",
    "# img = io.imread('https://upload.wikimedia.org/wikipedia/commons/7/73/Stephen_Hawking_in_Cambridge.jpg',True)\n",
    "\n",
    "spec = FFT(img)\n",
    "visualise(img, spec, title_img=\"Input image\", title_spec=\"Spectrum\")"
   ]
  },
  {
   "cell_type": "markdown",
   "metadata": {},
   "source": [
    "## Фильтрация\n",
    "\n",
    "Существует бесконечное количество различных фильтров, которые можно использовать в частотной области для фильтрации исходного изображения. Мы реализуем фильтры, которые отфильтровывают низкие и высокие частоты в фильтре высоких и низких частот соответственно. В обоих случаях используется идеальный фильтр и фильтр Гаусса.\n",
    "\n",
    "Предположим, что рассматриваемое изображение имеет $n$ пикселей по горизонтали ($x$-направление) и $m$ пикселей по вертикали ($y$-направление). Пусть $x=0,1,...,n-1$ и $y=0,1,..,m-1$ определяют квадратную решетку $x \\times y$. Теперь обозначим частотный спектр как $\\mathcal F$, идеальные фильтры как $I_\\text{lowpass}$ и $I_\\text{highpass}$, а гауссовы фильтры как $G_\\text{lowpass}$ и $G_\\text{highpass}$, каждый из которых определен на решетке $x \\times y$. Мы определяем эти фильтры таким образом, что отфильтрованный спектр задается произведением *Адамара* (поэлементное матричное произведение) $\\mathcal F\\circ I$ и $\\mathcal F\\circ G$.\n",
    "\n",
    "$r=\\sqrt{(x-n/2)^2+(y-m/2)^2}\\geq0$ - расстояние от центра спектра. Рассматриваемые нами фильтры зависят только от одного параметра $\\xi\\in \\mathbb{R}^+$. В этой нотации идеальные фильтры задаются\n",
    "\n",
    "$$\n",
    "I_\\text{lowpass}=\\begin{cases}\n",
    "1,& \\text{for } r\\leq\\xi,\\\\\n",
    "0,& \\text{for } r>\\xi,\n",
    "\\end{cases}\n",
    "\\quad \\text{and} \\quad\n",
    "I_\\text{highpass}=\\begin{cases}\n",
    "1,& \\text{for } r\\geq\\xi,\\\\\n",
    "0,& \\text{for } r<\\xi,\n",
    "\\end{cases}\n",
    "$$\n",
    "\n",
    "и гауссовы фильтры задаются\n",
    "\n",
    "$$\n",
    "G_\\text{lowpass}=e^{-\\xi r^2}\n",
    "\\quad \\text{and} \\quad\n",
    "G_\\text{highpass}=1-e^{-\\xi r^2}.\n",
    "$$"
   ]
  },
  {
   "cell_type": "code",
   "execution_count": null,
   "metadata": {},
   "outputs": [],
   "source": [
    "def filter_spectrum(spectrum, filter_type=None, val=50):\n",
    "    \"\"\"Фильтрует спектр изображения с помощью одного из фильтров, определенных в приведенном выше тексте.\n",
    "\n",
    "    Parameters:\n",
    "        spectrum:    array-like, shape (m, n), can be complex. Spectrum being filtered.\n",
    "        filter_type: string. Filter name,\n",
    "                     {'lowpass', 'highpass', 'gaussian_highpass', 'gaussian_lowpass'}.\n",
    "        val:         float. Filter parameter.\n",
    "    Returns: complex ndarray, shape (m, n). Filtered spectrum.\n",
    "    \"\"\"\n",
    "    n, m = np.shape(spectrum)\n",
    "    y, x = np.meshgrid(np.arange(1, m + 1), np.arange(1, n + 1))\n",
    "    R2 = (x - n / 2) ** 2 + (y - m / 2) ** 2\n",
    "    if filter_type == \"lowpass\":\n",
    "        return spectrum * (R2 <= val ** 2)\n",
    "    elif filter_type == \"highpass\":\n",
    "        return spectrum * (R2 >= val ** 2)\n",
    "    elif filter_type == \"gaussian_highpass\":\n",
    "        return spectrum * (1 - np.exp(-val * R2))\n",
    "    elif filter_type == \"gaussian_lowpass\":\n",
    "        return spectrum * np.exp(-val * R2)\n",
    "    elif filter_type != None:\n",
    "        raise ValueError(\"%s is not a valid filter!\" % (filter_type))\n",
    "    return spectrum"
   ]
  },
  {
   "cell_type": "markdown",
   "metadata": {},
   "source": [
    "Теперь мы используем эти фильтры на частотном спектре и обратные преобразования Фурье для получения отфильтрованных изображений. Обратите внимание, что изображения, отфильтрованные с помощью гауссовых фильтров, несколько более гладкие, чем изображения, отфильтрованные с помощью идеальных фильтров.\n",
    "\n",
    "\n",
    "Поиграйте с фрагментами кода!"
   ]
  },
  {
   "cell_type": "markdown",
   "metadata": {},
   "source": [
    "### Низкочастотный фильтр"
   ]
  },
  {
   "cell_type": "code",
   "execution_count": null,
   "metadata": {},
   "outputs": [],
   "source": [
    "filtered_spec = filter_spectrum(spec, \"lowpass\", 40)\n",
    "filtered_img = np.real(IFFT(filtered_spec))\n",
    "visualise(filtered_img, filtered_spec, title=\"Ideal lowpass filtering\")"
   ]
  },
  {
   "cell_type": "code",
   "execution_count": null,
   "metadata": {},
   "outputs": [],
   "source": [
    "filtered_spec = filter_spectrum(spec, \"gaussian_lowpass\", 0.001)\n",
    "filtered_img = np.real(IFFT(filtered_spec))\n",
    "visualise(filtered_img, filtered_spec, title=\"Gaussian lowpass filtering\")"
   ]
  },
  {
   "cell_type": "markdown",
   "metadata": {},
   "source": [
    "### Высокочастотный"
   ]
  },
  {
   "cell_type": "code",
   "execution_count": null,
   "metadata": {},
   "outputs": [],
   "source": [
    "filtered_spec = filter_spectrum(spec, \"highpass\", 10)\n",
    "filtered_img = np.real(IFFT(filtered_spec))\n",
    "visualise(filtered_img, filtered_spec, title=\"Ideal highpass filtering\")"
   ]
  },
  {
   "cell_type": "code",
   "execution_count": null,
   "metadata": {},
   "outputs": [],
   "source": [
    "filtered_spec = filter_spectrum(spec, \"gaussian_highpass\", 0.01)\n",
    "filtered_img = np.real(IFFT(filtered_spec))\n",
    "visualise(filtered_img, filtered_spec, title=\"Gaussian highpass filtering\")"
   ]
  },
  {
   "cell_type": "markdown",
   "metadata": {},
   "source": [
    "## Отфильтровывание специфических паттернов и шума\n",
    "\n",
    "Принципы, представленные в этой записной книжке, могут быть легко применены при фильтрации изображений, точно так же, как одномерные преобразования Фурье использовались для фильтрации звуковых файлов в вышеупомянутой записной книжке по фильтрации звука. В двух следующих примерах мы включаем изображение с некоторыми шумовыми паттернами. Эти изображения преобразуются Фурье в частотную область. Любые аномалии удаляются, и мы получаем отфильтрованное изображение, преобразуясь обратно в пространственную область."
   ]
  },
  {
   "cell_type": "markdown",
   "metadata": {},
   "source": [
    "### Пример 1"
   ]
  },
  {
   "cell_type": "code",
   "execution_count": null,
   "metadata": {},
   "outputs": [],
   "source": [
    "img = io.imread(\"https://www.numfys.net/media/notebooks/images/dog_noise1.jpg\", True)\n",
    "spec = FFT(img)\n",
    "visualise(img, spec, title_img=\"Noisy image\", title_spec=\"Unfiltered spectrum\")"
   ]
  },
  {
   "cell_type": "code",
   "execution_count": null,
   "metadata": {},
   "outputs": [],
   "source": [
    "# Create a filter which filters out the circular anomaly\n",
    "n, m = np.shape(img)\n",
    "y, x = np.meshgrid(np.arange(m), np.arange(n))\n",
    "R2 = (x - n / 2) ** 2 + (y - m / 2) ** 2\n",
    "filtered_spec = spec * (R2 <= 100 ** 2) + spec * (R2 >= 130 ** 2)\n",
    "filtered_img = np.real(IFFT(filtered_spec))\n",
    "\n",
    "# Visualise result\n",
    "visualise(\n",
    "    filtered_img,\n",
    "    filtered_spec,\n",
    "    title_img=\"Filtered image\",\n",
    "    title_spec=\"Filtered spectrum\",\n",
    ")"
   ]
  },
  {
   "cell_type": "markdown",
   "metadata": {},
   "source": [
    "### Пример 2"
   ]
  },
  {
   "cell_type": "code",
   "execution_count": null,
   "metadata": {},
   "outputs": [],
   "source": [
    "img = io.imread(\"https://www.numfys.net/media/notebooks/images/dog_noise2.jpg\", True)\n",
    "spec = FFT(img)\n",
    "visualise(img, spec, title_img=\"Noisy image\", title_spec=\"Unfiltered spectrum\")"
   ]
  },
  {
   "cell_type": "code",
   "execution_count": null,
   "metadata": {},
   "outputs": [],
   "source": [
    "# Create a filter which filters out the anomaly on the axes (+)\n",
    "n, m = np.shape(img)\n",
    "y, x = np.meshgrid(np.arange(m), np.arange(n))\n",
    "filtered_spec = spec * (x <= n / 2 - 1) + spec * (x >= n / 2 + 1)\n",
    "filtered_spec = filtered_spec * (y <= m / 2 - 1) + filtered_spec * (y >= m / 2 + 1)\n",
    "filtered_img = np.real(IFFT(filtered_spec))\n",
    "\n",
    "# Visualise result\n",
    "visualise(\n",
    "    filtered_img,\n",
    "    filtered_spec,\n",
    "    title_img=\"Filtered image\",\n",
    "    title_spec=\"Filtered spectrum\",\n",
    ")"
   ]
  },
  {
   "cell_type": "markdown",
   "metadata": {},
   "source": [
    "# Реализация на основе классов\n",
    "\n",
    "Мы в NumFys недавно написали руководство по [объектно-ориентированному программированию(ООП) на Python](https://nbviewer.jupyter.org/urls/www.numfys.net/media/notebooks/classes_in_Python.ipynb).\n",
    "ООП - это мощная парадигма, которая, безусловно, имеет свое место в численном программировании.\n",
    "В нашей записной книжке по [нейронным сетям](https://nbviewer.jupyter.org/urls/www.numfys.net/media/notebooks/ML_from_scratch_tekst.ipynb) мы использовали структуру на основе классов, чтобы поддерживать чистоту базы кода.\n",
    "Однако этот блокнот довольно сложен и демонстрирует только некоторые особенности ООП.\n",
    "Мы надеемся, что наблюдение за фильтрацией изображений, реализованной как в парадигме, основанной на функциях, так и с использованием подхода, основанного на классах, поможет вам в разработке мышления для разработки ООП.\n",
    "\n",
    "Сначала мы создаем класс `Filter`, который будет служить нашим базовым классом.\n",
    "Никогда не создавалось никаких экземпляров этого класса;\n",
    "для тех, кто знаком с ООП на других языках, мы рассматриваем этот класс как абстрактный или виртуальный класс.\n",
    "Все фильтры, реализованные выше, имеют то общее, что они выполняют некоторое преобразование спектра, преобразование фурье, изображения.\n",
    "Поэтому мы создаем класс `SpectrumFilter`, который является подклассом `Filter`, и реализуем каждый из фильтров спектра как подкласс.\n",
    "Причина добавления `SpectrumFilter` вместо обычного использования `Filter` заключается в том, что мы в демонстрационных целях хотим добавить еще несколько фильтров, которые не основаны на спектре."
   ]
  },
  {
   "cell_type": "code",
   "execution_count": null,
   "metadata": {},
   "outputs": [],
   "source": [
    "class Filter:\n",
    "    \"\"\"Abstract class for a filter.\n",
    "\n",
    "    Subclasses must implement the `render` method.\"\"\"\n",
    "\n",
    "    def __init__(self, val=1):\n",
    "        # Val is some parameter used by the filter.\n",
    "        # Its specific meaning varies between filters.\n",
    "        self.val = val\n",
    "\n",
    "    def render(self, image):\n",
    "        \"\"\"Applies the filter to `image`.\"\"\"\n",
    "        return image\n",
    "\n",
    "    def visualize(\n",
    "        self, title=\"\", title_img=\"\", title_spec=\"\", cmap=\"gray\", figsize=(18, 5)\n",
    "    ):\n",
    "        assert hasattr(self, \"image\"), \"The filter has not rendered any image!\"\n",
    "        if not hasattr(self, \"spectrum\"):\n",
    "            self.spectrum = FFT(self.image)\n",
    "\n",
    "        plt.figure(figsize=figsize)\n",
    "        plt.subplot(121)\n",
    "        plt.imshow(self.image, cmap=cmap, vmin=0, vmax=1)\n",
    "        plt.title(title_img)\n",
    "        plt.xticks([])\n",
    "        plt.yticks([])\n",
    "\n",
    "        plt.subplot(122)\n",
    "        plt.imshow(np.log(abs(self.spectrum)), cmap=cmap)\n",
    "        plt.title(title_spec)\n",
    "        plt.xticks([])\n",
    "        plt.yticks([])\n",
    "\n",
    "        plt.suptitle(title)\n",
    "        plt.show()\n",
    "\n",
    "    def render_and_visualize(self, image, **kwargs):\n",
    "        \"\"\"Convenience function for rendering and visualizing.\"\"\"\n",
    "        self.render(image)\n",
    "        self.visualize(**kwargs)\n",
    "        return self.image\n",
    "\n",
    "    def __call__(self, img):\n",
    "        return self.render_and_visualize(img)\n",
    "\n",
    "\n",
    "class SpectrumFilter(Filter):\n",
    "    \"\"\"Abstract class for a spectrum filter.\n",
    "    A spectrum filter does some transformation to the spectrum (FT) of the image.\"\"\"\n",
    "\n",
    "    def spectrum_criterion(self, R2, val):\n",
    "        pass\n",
    "\n",
    "    def render(self, image):\n",
    "        spectrum = FFT(image)\n",
    "        n, m = np.shape(spectrum)\n",
    "        y, x = np.meshgrid(np.arange(1, m + 1), np.arange(1, n + 1))\n",
    "        R2 = (x - n / 2) ** 2 + (y - m / 2) ** 2\n",
    "        spectrum *= self.spectrum_criterion(R2)\n",
    "\n",
    "        # Store spectrum and image\n",
    "        self.spectrum = spectrum\n",
    "        self.image = np.real(IFFT(spectrum))\n",
    "        # Rescale image to be within 0 1\n",
    "        a, b = np.min(self.image), np.max(self.image)\n",
    "        self.image = (self.image - a) / (b - a)\n",
    "        return self.image\n",
    "\n",
    "\n",
    "class HighpassSpectrumFilter(SpectrumFilter):\n",
    "    def spectrum_criterion(self, R2):\n",
    "        return R2 >= self.val ** 2\n",
    "\n",
    "\n",
    "class LowpassSpectrumFilter(SpectrumFilter):\n",
    "    def spectrum_criterion(self, R2):\n",
    "        return R2 <= self.val ** 2\n",
    "\n",
    "\n",
    "class GaussianHighpassSpectrumFilter(SpectrumFilter):\n",
    "    def spectrum_criterion(self, R2):\n",
    "        return 1 - np.exp(-self.val * R2)\n",
    "\n",
    "\n",
    "class GaussianLowpassSpectrumFilter(SpectrumFilter):\n",
    "    def spectrum_criterion(self, R2):\n",
    "        return np.exp(-self.val * R2)\n",
    "\n",
    "\n",
    "class CircularSpectrumFilter(SpectrumFilter):\n",
    "    def __init__(self, r1, r2, include=False):\n",
    "        self.r1, self.r2 = sorted([r1, r2])\n",
    "        self.include = include\n",
    "\n",
    "    def spectrum_criterion(self, R2):\n",
    "        # r1 and r2 defines a disc, where r1 < r2.\n",
    "        on_disc = np.logical_and(R2 >= self.r1 ** 2, R2 <= self.r2 ** 2)\n",
    "        # If include is True, keep the disc and filter out everything else.\n",
    "        # Else, filter out the disc.\n",
    "        if self.include:\n",
    "            return on_disc\n",
    "        else:\n",
    "            return np.logical_not(on_disc)"
   ]
  },
  {
   "cell_type": "code",
   "execution_count": null,
   "metadata": {},
   "outputs": [],
   "source": [
    "# You may also play around with these images: (last tested January 22nd 2021)\n",
    "# img = io.imread('https://upload.wikimedia.org/wikipedia/commons/5/50/Albert_Einstein_%28Nobel%29.png',True)\n",
    "img = io.imread(\n",
    "    \"https://upload.wikimedia.org/wikipedia/en/4/42/Richard_Feynman_Nobel.jpg\", True\n",
    ")\n",
    "# img = io.imread('https://www.numfys.net/media/notebooks/images/dog.jpg', as_gray=True)\n",
    "# img = io.imread('https://upload.wikimedia.org/wikipedia/commons/c/cf/Dirac_4.jpg',True)\n",
    "# img = io.imread('https://upload.wikimedia.org/wikipedia/commons/7/73/Stephen_Hawking_in_Cambridge.jpg',True)"
   ]
  },
  {
   "cell_type": "code",
   "execution_count": null,
   "metadata": {},
   "outputs": [],
   "source": [
    "ghp_filter = GaussianHighpassSpectrumFilter(0.005)\n",
    "hp_filter = HighpassSpectrumFilter(10)\n",
    "\n",
    "ghp_filter.render_and_visualize(img)\n",
    "hp_filter.render_and_visualize(img);"
   ]
  },
  {
   "cell_type": "code",
   "execution_count": null,
   "metadata": {},
   "outputs": [],
   "source": [
    "glp_filter = GaussianLowpassSpectrumFilter(0.005)\n",
    "lp_filter = LowpassSpectrumFilter(10)\n",
    "\n",
    "glp_filter.render_and_visualize(img)\n",
    "# We use the __call__ method.\n",
    "lp_filter(img);"
   ]
  },
  {
   "cell_type": "code",
   "execution_count": null,
   "metadata": {},
   "outputs": [],
   "source": [
    "circular_filter = CircularSpectrumFilter(100, 130)\n",
    "img_w_noise = io.imread(\n",
    "    \"https://www.numfys.net/media/notebooks/images/dog_noise1.jpg\", True\n",
    ")\n",
    "circular_filter(img_w_noise);"
   ]
  },
  {
   "cell_type": "markdown",
   "metadata": {},
   "source": [
    "Одним из преимуществ нашего подхода, основанного на классе, является то, что расширение нашего оборудования является простым.\n",
    "Мы создаем два новых типа фильтров, чтобы продемонстрировать расширяемость нашей системы."
   ]
  },
  {
   "cell_type": "code",
   "execution_count": null,
   "metadata": {},
   "outputs": [],
   "source": [
    "class ContrastFilter(Filter):\n",
    "    \"\"\"A very naive implmentation of a contrast filter.\"\"\"\n",
    "\n",
    "    def render(self, image):\n",
    "        x = self.val\n",
    "        self.image = np.clip(image * x + 0.5 * (1 - x), 0, 1)\n",
    "        return self.image\n",
    "\n",
    "\n",
    "class CombineFilter(Filter):\n",
    "    \"\"\"A filter which executes an arbitrary amount of other filters in sequence.\"\"\"\n",
    "\n",
    "    def __init__(self, filter_1, filter_2, *args):\n",
    "        self.filters = [filter_1, filter_2, *args]\n",
    "\n",
    "    def render(self, image):\n",
    "        self.image = image\n",
    "        for filter in self.filters:\n",
    "            self.image = filter.render(self.image)\n",
    "        return self.image\n",
    "\n",
    "    def render_and_visualize_step(self, image):\n",
    "        self.image = image\n",
    "        self.spectrum = FFT(image)\n",
    "        self.visualize()\n",
    "        for filter in self.filters:\n",
    "            print(filter)\n",
    "            self.image = filter.render_and_visualize(self.image)\n",
    "        return self.image\n",
    "    \n",
    "    def __add__(self, other_filter):\n",
    "        self.filters.append(other_filter)\n",
    "        return self\n",
    "\n",
    "\n",
    "def __add__(self, other_filter):\n",
    "    return CombineFilter(self, other_filter)\n",
    "\n",
    "\n",
    "setattr(Filter, \"__add__\", __add__)"
   ]
  },
  {
   "cell_type": "code",
   "execution_count": null,
   "metadata": {},
   "outputs": [],
   "source": [
    "cf = ContrastFilter(1.5)\n",
    "cf(img);"
   ]
  },
  {
   "cell_type": "code",
   "execution_count": null,
   "metadata": {},
   "outputs": [],
   "source": [
    "blur_contrast = CombineFilter(glp_filter, cf)\n",
    "blur_contrast_2 = glp_filter + cf  # The same as above, but using overridden operators.\n",
    "\n",
    "blur_contrast(img)\n",
    "blur_contrast_2(img);"
   ]
  },
  {
   "cell_type": "markdown",
   "metadata": {},
   "source": [
    "Наконец, посмотрите, понимаете ли вы, основываясь на следующем коде, почему у `CombineFilter` иной `__add__` метод, чем у остальных фильтров."
   ]
  },
  {
   "cell_type": "code",
   "execution_count": null,
   "metadata": {},
   "outputs": [],
   "source": [
    "(glp_filter + cf + circular_filter)(img)\n",
    "# Uncomment to see each step performed.\n",
    "# (cf + circular_filter + glp_filter).render_and_visualize_step(img)\n",
    "(cf + circular_filter + glp_filter)(img);"
   ]
  },
  {
   "cell_type": "markdown",
   "metadata": {},
   "source": [
    "## Дальнейшая работа и улучшения\n",
    "\n",
    "+ Сделайте то же в цвете."
   ]
  },
  {
   "cell_type": "markdown",
   "metadata": {},
   "source": [
    "### Further reading\n",
    "\n",
    "All of them acquired 10-28-2016.\n",
    "\n",
    "* Robert Fisher, Simon Perkins, Ashley Walker and Erik Wolfart: Fourier Transform, http://homepages.inf.ed.ac.uk/rbf/HIPR2/fourier.htm, 2000.\n",
    "* Paul Bourke: Image Filtering in the Frequency Domain, http://paulbourke.net/miscellaneous/imagefilter/, 1998.\n",
    "* Steven Lehar: An Intuitive Explanation of Fourier Theory, http://cns-alumni.bu.edu/~slehar/fourier/fourier.html.\n",
    "\n",
    "Multi-dimensional image processing using scipy: https://docs.scipy.org/doc/scipy-0.18.1/reference/ndimage.html"
   ]
  }
 ],
 "metadata": {
  "jupytext": {
   "formats": "ipynb,md"
  },
  "kernelspec": {
   "display_name": "Python 3",
   "language": "python",
   "name": "python3"
  },
  "language_info": {
   "codemirror_mode": {
    "name": "ipython",
    "version": 3
   },
   "file_extension": ".py",
   "mimetype": "text/x-python",
   "name": "python",
   "nbconvert_exporter": "python",
   "pygments_lexer": "ipython3",
   "version": "3.7.4"
  }
 },
 "nbformat": 4,
 "nbformat_minor": 4
}
